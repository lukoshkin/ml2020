{
 "cells": [
  {
   "cell_type": "markdown",
   "metadata": {},
   "source": [
    "# Home Assignment No. 2: Part 2 (Theory)"
   ]
  },
  {
   "cell_type": "markdown",
   "metadata": {},
   "source": [
    "In this part of the homework you are to solve several simple theoretical problems related to machine learning algorithms.\n",
    "* For every separate problem you can get only 0 points or maximal points for this problem. There are **NO INTERMEDIATE scores**.\n",
    "* Your solution must me **COMPLETE**, i.e. contain all required formulas/proofs/detailed explanations.\n",
    "* You must write your solution for any problem right after the words **YOUR SOLUTION**. Attaching pictures of your handwriting is allowed, but **highly discouraged**.\n",
    "## $\\LaTeX$ in Jupyter\n",
    "Jupyter has constantly improving $\\LaTeX$ support. Below are the basic methods to\n",
    "write **neat, tidy, and well typeset** equations in your notebooks:\n",
    "* to write an **inline** equation use \n",
    "```markdown\n",
    "$ you latex equation here $\n",
    "```\n",
    "* to write an equation, that is **displayed on a separate line** use \n",
    "```markdown\n",
    "$$ you latex equation here $$\n",
    "```\n",
    "* to write a **block of equations** use \n",
    "```markdown\n",
    "\\begin{align}\n",
    "    left-hand-side\n",
    "        &= right-hand-side on line 1\n",
    "        \\\\\n",
    "        &= right-hand-side on line 2\n",
    "        \\\\\n",
    "        &= right-hand-side on the last line\n",
    "\\end{align}\n",
    "```\n",
    "The **ampersand** (`&`) aligns the equations horizontally and the **double backslash**\n",
    "(`\\\\`) creates a new line."
   ]
  },
  {
   "cell_type": "markdown",
   "metadata": {},
   "source": [
    "# Task1. Bayesian methods (1 point)"
   ]
  },
  {
   "cell_type": "markdown",
   "metadata": {},
   "source": [
    "For a dataset $D =(X,y) =\\{(x_i,y_i)\\}^m_{i=1}$, $x_i \\in \\mathbb{R}^d$, $y_i\\in\\mathbb{R}$ it is known,that \n",
    "$$y_i = w^T x_i + \\epsilon$$\n",
    "where $\\epsilon \\sim N(0,\\sigma^2)$, $w  \\sim N(0,\\alpha I)$ . Suppose that $X^T X =I$, where $I$ is the identity matrix. Derive MAP estimation for $w$."
   ]
  },
  {
   "cell_type": "markdown",
   "metadata": {},
   "source": [
    "### Your solution"
   ]
  },
  {
   "cell_type": "markdown",
   "metadata": {},
   "source": [
    "$$\\begin{gather}\n",
    "    w^* = \\arg\\max_w\\log \\big[p(y|w)p(w)\\big]\\\\\n",
    "    p(y|w) = \\frac{1}{\\sqrt{2\\pi\\sigma^2}}\\prod_i\\exp\\left[\n",
    "    -\\frac{1}{2}\\left(\\frac{y_i - w^\\top x_i}{\\sigma}\\right)^2\\right]\\\\\n",
    "    p(w) = \\frac{1}{(2\\pi\\alpha^2)^{\\frac{d}{2}}}\\exp\\left(-\\frac{\\|w\\|^2}{2\\alpha^2}\\right)\n",
    "\\end{gather}$$\n",
    "\n",
    "$$\n",
    "    w^* = \\arg\\min_w\\left[\\frac{1}{2\\sigma^2}\\sum_i (y_i - w^\\top x_i)^2\n",
    "    + \\frac{\\|w\\|^2}{2\\alpha^2}\\right]\n",
    "$$\n",
    "\n",
    "In the last expression, the terms independent of $w$ were omitted  \n",
    "Rewrite the sum as inner product\n",
    "\n",
    "$$\n",
    "    w^* = \\arg\\min_w \\left[\\frac{1}{2\\sigma^2}\\|Y - Xw\\|^2 + \\frac{\\|w\\|^2}{2\\alpha^2}\\right]\n",
    "$$\n",
    "\n",
    "Zero gradient is necessary and sufficient optimum condition in the convex problem\n",
    "\n",
    "$$\\begin{gather}\n",
    "    -\\frac{1}{\\sigma^2}X^\\top(Y-Xw) + \\frac{w}{\\alpha^2} = 0\\\\\n",
    "    X^\\top Y = \\left(X^\\top X + \\frac{\\sigma^2}{\\alpha^2}I\\right)w\n",
    "\\end{gather}$$\n",
    "\n",
    "$$\n",
    "    \\left(X^\\top X + \\frac{\\sigma^2}{\\alpha^2}I\\right)^{-1}X^\\top Y = w^*\n",
    "$$\n",
    "\n",
    "Given that $X^\\top X$, we have\n",
    "\n",
    "$$\n",
    "   w^* = \\frac{\\alpha^2}{\\alpha^2 + \\sigma^2}X^\\top Y\n",
    "$$"
   ]
  },
  {
   "cell_type": "code",
   "execution_count": null,
   "metadata": {},
   "outputs": [],
   "source": []
  },
  {
   "cell_type": "markdown",
   "metadata": {},
   "source": [
    "# Task 2. Gaussian Processes 1 (1 point)"
   ]
  },
  {
   "cell_type": "markdown",
   "metadata": {},
   "source": [
    "Let $\\sigma_n(\\mathbf{x}_*)$ be a predictive variance at point $\\mathbf{x}_*$ of a Gaussian Process $f_n$ with zero mean and covariance $k(\\cdot,\\cdot)$ that was built using first $n$ training points.\n",
    "Prove that for $\\forall \\mathbf{x}_*$ it holds\n",
    "$$\n",
    "    \\sigma_{n}(\\mathbf{x}_*) \\leq \\sigma_{n-1}(\\mathbf{x}_*).\n",
    "$$"
   ]
  },
  {
   "cell_type": "markdown",
   "metadata": {},
   "source": [
    "### Your solution"
   ]
  },
  {
   "cell_type": "markdown",
   "metadata": {},
   "source": [
    "### Maksim Velikanov's solution\n",
    "From the lecture about GP we have the formula(p. 25):\n",
    "$$\n",
    "\\sigma_n(x_*)^2 = k_{**} - \\mathbf{k}_{*}^{(n) \\, T} \\left[\\mathbf{K}^{(n)} + \\sigma^2 I^{(n)}\\right]^{-1}\\mathbf{k}_*^{(n)}\n",
    "$$\n",
    "Since $k_{**}$ doesn't depend on $n$, we only need to show that\n",
    "$$\n",
    "\\mathbf{k}_{*}^{(n) \\, T} \\left[\\mathbf{K}^{(n)} + \\sigma^2 I^{(n)}\\right]^{-1}\\mathbf{k}_*^{(n)} \\geq \\mathbf{k}_{*}^{(n-1) \\, T} \\left[\\mathbf{K}^{(n-1)} + \\sigma^2 I^{(n-1)}\\right]^{-1}\\mathbf{k}_*^{(n-1)}\n",
    "$$\n",
    "Now let's use matrix inversion formulas for block matrices, which were used in p. 24 of the lecture(implicitly). To prove the required inequality, we will choose blocks corresponding to the the first $n-1$ training points, and the $n$'th point. \n",
    "$$\n",
    "\\mathbf{k}_{*}^{(n)} = \n",
    "\\begin{bmatrix}\n",
    "\\mathbf{k}_{*}^{(n-1)} \\\\\n",
    "k_{*n}\n",
    "\\end{bmatrix}\n",
    "$$\n",
    "\n",
    "$$\n",
    "\\mathbf{K}^{(n)} + \\sigma^2 I^{(n)} = \n",
    "\\begin{bmatrix}\n",
    "\\mathbf{K}^{(n-1)} + \\sigma^2 I^{(n-1)} & \\mathbf{k}^{(n-1)}_n \\\\\n",
    "\\mathbf{k}^{(n-1) \\, T}_n & k_{nn} + \\sigma^2\n",
    "\\end{bmatrix}\n",
    "$$\n",
    "Now we use inversion formulas for this block matrix. For convinience let's denote $\\left[\\mathbf{K}^{(n)} + \\sigma^2 I^{(n)}\\right]^{-1} = \\mathbf{A}^{(n)}$ and $1 \\, / \\, \\left(k_{nn} - \\mathbf{k}^{(n-1) \\, T}_n \\mathbf{A}^{(n-1)} \\mathbf{k}^{(n-1)}_n\\right) = S_n$\n",
    "$$\n",
    "\\left[\\mathbf{K}^{(n)} + \\sigma^2 I^{(n)}\\right]^{-1} \\equiv \\mathbf{A}^{(n)} = \n",
    "\\begin{bmatrix}\n",
    "\\mathbf{A}^{(n-1)} + \\mathbf{A}^{(n-1)}\\mathbf{k}^{(n-1)}_n S_n \\mathbf{k}^{(n-1) \\, T}_n\\mathbf{A}^{(n-1)} & -\\mathbf{A}^{(n-1)}\\mathbf{k}^{(n-1)}_n S_n \\\\\n",
    "- S_n \\mathbf{k}^{(n-1) \\, T}_n\\mathbf{A}^{(n-1)} & S_n\n",
    "\\end{bmatrix}\n",
    "$$\n",
    "Now let's substitute this result\n",
    "$$\n",
    "\\begin{multline}\n",
    "\\mathbf{k}_{*}^{(n) \\, T} \\left[\\mathbf{K}^{(n)} + \\sigma^2 I^{(n)}\\right]^{-1}\\mathbf{k}_*^{(n)} = \n",
    "\\begin{bmatrix}\n",
    "\\mathbf{k}_{*}^{(n-1)} \\\\\n",
    "k_{*n}\n",
    "\\end{bmatrix} ^T\n",
    "\\begin{bmatrix}\n",
    "\\mathbf{A}^{(n-1)} + \\mathbf{A}^{(n-1)}\\mathbf{k}^{(n-1)}_n S_n \\mathbf{k}^{(n-1) \\, T}_n\\mathbf{A}^{(n-1)} & -\\mathbf{A}^{(n-1)}\\mathbf{k}^{(n-1)}_n S_n \\\\\n",
    "- S_n \\mathbf{k}^{(n-1) \\, T}_n\\mathbf{A}^{(n-1)} & S_n\n",
    "\\end{bmatrix}\n",
    "\\begin{bmatrix}\n",
    "\\mathbf{k}_{*}^{(n-1)} \\\\\n",
    "k_{*n}\n",
    "\\end{bmatrix} = \\\\\n",
    "= \\mathbf{k}_{*}^{(n-1) \\, T} \\left[\\mathbf{K}^{(n-1)} + \\sigma^2 I^{(n-1)}\\right]^{-1}\\mathbf{k}_*^{(n-1)} + S_n \\left(  \\mathbf{k}_{*}^{(n-1) \\, T} \\mathbf{A}^{(n-1)}\\mathbf{k}^{(n-1)}_n \\mathbf{k}^{(n-1) \\, T}_n\\mathbf{A}^{(n-1)} \\mathbf{k}_{*}^{(n-1)} - \\mathbf{k}_{*}^{(n-1) \\, T} \\mathbf{A}^{(n-1)}\\mathbf{k}^{(n-1)}_n k_{*n} - k_{*n} \\mathbf{k}^{(n-1) \\, T}_n\\mathbf{A}^{(n-1)} \\mathbf{k}_{*}^{(n-1)}+ k_{*n} k_{*n}\\right)\n",
    "\\end{multline}\n",
    "$$\n",
    "We note that $\\mathbf{k}_{*}^{(n-1) \\, T} \\mathbf{A}^{(n-1)}\\mathbf{k}^{(n-1)}_n$ is actually a scalar, and, due to simmetricity of $\\mathbf{A}^{(n-1)}$, we have $\\mathbf{k}_{*}^{(n-1) \\, T} \\mathbf{A}^{(n-1)}\\mathbf{k}^{(n-1)}_n = \\mathbf{k}^{(n-1) \\, T}_n\\mathbf{A}^{(n-1)} \\mathbf{k}_{*}^{(n-1)}$. Using this we rewrite the last formula\n",
    "$$\n",
    "\\mathbf{k}_{*}^{(n) \\, T} \\left[\\mathbf{K}^{(n)} + \\sigma^2 I^{(n)}\\right]^{-1}\\mathbf{k}_*^{(n)} = \\mathbf{k}_{*}^{(n-1) \\, T} \\left[\\mathbf{K}^{(n-1)} + \\sigma^2 I^{(n-1)}\\right]^{-1}\\mathbf{k}_*^{(n-1)} + S_n \\left( \\mathbf{k}_{*}^{(n-1) \\, T} \\mathbf{A}^{(n-1)}\\mathbf{k}^{(n-1)}_n - k_{*n}\\right)^2\n",
    "$$\n",
    "Finally, we note that $S_n = \\frac{\\det\\left[\\mathbf{K}^{(n-1)} + \\sigma^2 I^{(n-1)}\\right]}{\\det\\left[\\mathbf{K}^{(n)} + \\sigma^2 I^{(n)} \\right]} \\geq 0$ as a ratio of determinants of positive definite matrices. Therefore\n",
    "$$\n",
    "\\sigma_{n-1}(x_*)^2 - \\sigma_n(x_*)^2 = S_n \\left( \\mathbf{k}_{*}^{(n-1) \\, T} \\mathbf{A}^{(n-1)}\\mathbf{k}^{(n-1)}_n - k_{*n}\\right)^2 \\geq 0\n",
    "$$"
   ]
  },
  {
   "cell_type": "code",
   "execution_count": null,
   "metadata": {},
   "outputs": [],
   "source": []
  },
  {
   "cell_type": "markdown",
   "metadata": {},
   "source": [
    "# Task 3. Gaussian Processes 2 (1 point)"
   ]
  },
  {
   "cell_type": "markdown",
   "metadata": {},
   "source": [
    "Consider you have gaussian distribution on $\\mathbb R$ with zero mean and differentiable by arguments covariation funtion $k(x, \\tilde{x})$. Get an expression for the correlation between the implementation of a Gaussian process  $y(x) ∼ GP (0, k(x, x ^{\\prime}))$ and its derivative $\\frac{\\partial y(\\tilde x)}{\\partial \\tilde x}$ ."
   ]
  },
  {
   "cell_type": "markdown",
   "metadata": {},
   "source": [
    "### Your solution"
   ]
  },
  {
   "cell_type": "markdown",
   "metadata": {},
   "source": [
    "Zero mean GP:\n",
    "$$\\begin{gather}\n",
    "    \\qquad k(x,x') = \\mathbb E\\left[\\big(y(x) - \\mathbb E[y(x)]\\big)\n",
    "    \\big( y(x') - \\mathbb E[y(x')]\\big)\\right] = \\mathbb E[y(x)y(x')]\\\\\n",
    "    \\sigma^2(x) = k(x,x) = \\mathbb E[y^2(x)]\n",
    "\\end{gather}$$\n",
    "\n",
    "By definition, correlation is:\n",
    "$$\n",
    "    \\mathrm{corr}(y, \\partial_{\\tilde x} y) = \\frac{\n",
    "    \\mathbb E[y\\partial_{\\tilde x} y] - \\mathbb E[y]\\mathbb E[\\partial_{\\tilde x} y]}\n",
    "    {\\sqrt{\\mathbb E[y^2] - \\mathbb E[y]^2}\n",
    "    \\sqrt{\\mathbb E[(\\partial_{\\tilde x} y)^2] - \\mathbb E[\\partial_{\\tilde x} y]^2}}\n",
    "$$\n",
    "\n",
    "Gaussian integral converges, hence we can swap differentiation and integration:\n",
    "\n",
    "$$\\begin{gather}\n",
    "    \\mathbb E[\\partial_{\\tilde x} y] = \\partial_{\\tilde x}\\mathbb E[y] = 0\\\\\n",
    "    \\mathbb E[y(x)\\partial_{\\tilde x} y(\\tilde x)]\n",
    "    = \\partial_{\\tilde x}\\mathbb E[y(x)y(\\tilde x)] = \\partial_{\\tilde x}k(x,\\tilde x)\n",
    "\\end{gather}$$\n",
    "\n",
    "In the last equation we used independence of $y(x)$ from $\\tilde x$\n",
    "\n",
    "Represent square derivative as follows:\n",
    "$$\n",
    "    (\\partial_{\\tilde x} y)^2 = \\partial_x y\\;\\big|_{x = \\tilde x} \\cdot\\partial_{\\tilde x} y\n",
    "$$\n",
    "\n",
    "Then,\n",
    "$$\n",
    "    \\mathbb E[(\\partial_{\\tilde x}y)^2] = \\partial_x\\partial_{\\tilde x } k(x,\\tilde x)\\;\\big|_{x=\\tilde x}\n",
    "$$\n",
    "\n",
    "Ultimately, we have:\n",
    "\n",
    "$$\n",
    "    \\mathrm{corr}(x, x') = \\frac{\\partial_{x'}k(x,x')}{\\sqrt{k(x,x)\\cdot\\partial_x\\partial_{x'}k(x, x')\\;\\big|_{x=x'}}}\n",
    "$$"
   ]
  },
  {
   "cell_type": "code",
   "execution_count": null,
   "metadata": {},
   "outputs": [],
   "source": []
  },
  {
   "cell_type": "markdown",
   "metadata": {},
   "source": [
    "# Task 4. Kernel theory (1 point)"
   ]
  },
  {
   "cell_type": "markdown",
   "metadata": {},
   "source": [
    "Let $K(x, x'):\\mathcal{X}\\times \\mathcal{X}\\rightarrow \\mathbb{R}$ be a PDS kernel,\n",
    "and $\\phi\\colon \\mathcal{X} \\to \\mathcal{H}$ its <b>unknown </b> feature mapping. For $x,x'\\in\\mathcal{X}$ derive the formula for the **distance** between $\n",
    "\\phi(x)$ and $\\phi(x')$ in $\\mathcal{H}$.\n",
    " "
   ]
  },
  {
   "cell_type": "markdown",
   "metadata": {},
   "source": [
    "### Your solution"
   ]
  },
  {
   "cell_type": "markdown",
   "metadata": {},
   "source": [
    "Since $K(x,x')$ is a p.d. kernel, iff $K(x,x') = \\langle\\phi(x),\\phi(x')\\rangle$.  \n",
    "Here $\\phi:\\mathcal X\\to\\mathcal H$ is a mapping from original feature space to some Hilbert space.  \n",
    "\n",
    "Define distance via inner product \n",
    "$d(x, x')\\triangleq\\langle\\phi(x)-\\phi(x'),\\phi(x)-\\phi(x')\\rangle^\\frac{1}{2}$\n",
    "\n",
    "Then,\n",
    "$$\n",
    "    d(x,x') = \\left(\\langle\\phi(x),\\phi(x)\\rangle\n",
    "    - 2\\langle\\phi(x),\\phi(x')\\rangle\n",
    "    + \\langle\\phi(x'),\\phi(x')\\rangle\\right)^\\frac{1}{2}\n",
    "$$\n",
    "\n",
    "And\n",
    "$$\n",
    "    d(x,x') = \\sqrt{K(x,x) - 2K(x,x') + K(x',x')\\rangle}\n",
    "$$"
   ]
  },
  {
   "cell_type": "code",
   "execution_count": null,
   "metadata": {},
   "outputs": [],
   "source": []
  },
  {
   "cell_type": "markdown",
   "metadata": {},
   "source": [
    "# Task 5. Naive Gradient Boosting Regression (1 points)"
   ]
  },
  {
   "cell_type": "markdown",
   "metadata": {},
   "source": [
    "You are given a regression dataset, consisting of 5 samples with 1-dimensional feature vector $X$ and scalar target vector $y \\in \\mathbb{R}$:\n",
    "\n",
    "|  x   |  y   | \n",
    "|:----:|:----:| \n",
    "|  10  |  1   | \n",
    "|  32  |  9   | \n",
    "|  46  |  13  | \n",
    "|  54  |  16  | \n",
    "|  63  |  23  | \n",
    "\n",
    "In this task you are asked to implement **3 steps of Gradient Boosting Regression** with decision tree stumps as the learners $h_0, h_1, h_2$. \n",
    "\n",
    "In order to complete this task:\n",
    "1. Refer to the slides on naive boosting for regression in **Lecture 8**.\n",
    "2. Assume that the initial model $f_0$ is the mean of the target vector $y$\n",
    "3. According to the algorithm on the boosting approach for regression from **1.**, compute the residuals\n",
    "4. Manually, find a suitable split among the $x_i$ for each decision tree weak model $h_t(X)$, which minimizes the loss function:\n",
    "\n",
    "$$L_{\\text{split_i}} = \\frac{\\text{Var}_{left\\_split}*N_{1} + \\text{Var}_{right\\_split}*N_{2}}{N_{1}+N_{2}}$$\n",
    "\n",
    "where  $\\text{Var}$ is the variance of the values contained in each leaf, $N_1$ is the number of target values $y$ in the left leaf, $N_{2}$ - in the right leaf\n",
    "\n",
    "5. Perform the Gradient Boosting step on the ensemble model $f_t$ with the resulting decision tree stump predictions (assume that the learning rate $lr=1.0$).\n",
    "\n",
    "**Note on Decision Tree Stumps:** A decision tree stump is a decision tree, which consists only of the root and its immediate leaves. In case of this task, at each iteration you are asked to consider 5 different variants of the decision tree stumps $h_t^i$ - one variant for each of the split candidates $x_i$. You should choose the variant that minimizes the loss written above. The two leaves of the tree are formed according to the rule:\n",
    "\n",
    "```python\n",
    "if x_i < split:\n",
    "    target_value -> left leaf\n",
    "elif x_i >= split:\n",
    "    target_value -> right leaf\n",
    "```\n",
    "**HINT:** Think about what should be `target_value` equal to in case of Gradient Boosting Regression.\n",
    "\n",
    "The prediction of decision tree stump $h_t(x_i)$ is the mean of the values of the according leaf.\n",
    "\n"
   ]
  },
  {
   "cell_type": "markdown",
   "metadata": {},
   "source": [
    "**The task**:\n",
    "\n",
    "* Fill in the table - round the values of table up to the second digit after decimal point:\n",
    "\n",
    "\n",
    "|   x  |   y  |$f_0$|$$y - f_0$$|$L$|$h_0$|$f_1$|$$y-f_1$$|$L$|$h_1$|$f_2$|$$y - f_2$$|$L$|$h_2$|$F_3$|\n",
    "|------|------|-----|-----------|---|-----|-----|---------|---|-----|-----|-----------|---|-----|-----|\n",
    "|  10  |  1   |  0  |    0      | 0 |  0  |  0  |    0    | 0 |  0  |  0  |    0      | 0 |  0  |  0  | \n",
    "|  32  |  9   |  0  |    0      | 0 |  0  |  0  |    0    | 0 |  0  |  0  |    0      | 0 |  0  |  0  |\n",
    "|  46  |  13  |  0  |    0      | 0 |  0  |  0  |    0    | 0 |  0  |  0  |    0      | 0 |  0  |  0  |\n",
    "|  54  |  16  |  0  |    0      | 0 |  0  |  0  |    0    | 0 |  0  |  0  |    0      | 0 |  0  |  0  |\n",
    "|  63  |  23  |  0  |    0      | 0 |  0  |  0  |    0    | 0 |  0  |  0  |    0      | 0 |  0  |  0  |\n",
    "\n",
    "\n",
    "where $L$ is the loss, calculated by the formula for decision tree stumps above, for each of the 5 split variants of the decision tree stump at each iteration\n",
    "* Write down the splits (the feature values) you have found for each of the tree stumps\n",
    "\n",
    "* Insert the predictions of the full ensemble model and the split values, you have achieved after 3 iterations into the plotting cell below (**COPY AND PASTE** the last column from the table above and the splits list to the plotting cell below, instead of **#your solution**):"
   ]
  },
  {
   "cell_type": "code",
   "execution_count": 1,
   "metadata": {},
   "outputs": [],
   "source": [
    "import numpy as np\n",
    "import matplotlib.pyplot as plt\n",
    "\n",
    "from itertools import groupby\n",
    "from statistics import mean, pvariance"
   ]
  },
  {
   "cell_type": "code",
   "execution_count": 17,
   "metadata": {},
   "outputs": [],
   "source": [
    "def plot_tree(x,F,stumps):\n",
    "    x_range = np.arange(np.min(x), np.max(x)+1)\n",
    "    x_r = []\n",
    "    f_r = []\n",
    "    stmps = [0] + stumps + [np.inf]\n",
    "    for st in range(1,len(stmps)):\n",
    "        x_r.extend([list(group) for k, group in groupby(x_range, lambda x: x<stmps[st] and x>=stmps[st-1]) if k])\n",
    "        f_r.append([f_i for f_i,x_ii in zip(F,x) if x_ii<stmps[st] and x_ii>=stmps[st-1]])\n",
    "    F_to_plot = []\n",
    "    for ft in range(len(f_r)):\n",
    "        #assert len(f_r) == len(x_r)\n",
    "        if len(f_r[ft]) == 1:\n",
    "            F_to_plot.extend([f_r[ft][0]]*len(x_r[ft]))\n",
    "        elif len(f_r[ft]) > 1:\n",
    "            F_to_plot.extend([mean(f_r[ft])]*len(x_r[ft]))\n",
    "    return x_range, F_to_plot"
   ]
  },
  {
   "cell_type": "markdown",
   "metadata": {},
   "source": [
    "### Maksim Velikanov's Solution\n",
    "(provide you here unchanged, author spelling saved)\n",
    "\n",
    "---\n",
    "Since i am afraid i may misunderstand the way i have to fill the table, this is how i understood it.\n",
    "On t'th iteration:\n",
    "* On $i$'th position of $L$ column i put the loss of $h_t$ if the split is chosen at $x_i$\n",
    "* On $i$'th position of $h_t$ column i put the prediction of the learner $h_t$ with optimal split at point $x_i$\n",
    "* For $y-f_t$ and $f_{t+1}$ columns i use optimized models from $t$'th and $(t+1)$'th iterations "
   ]
  },
  {
   "cell_type": "code",
   "execution_count": 8,
   "metadata": {},
   "outputs": [],
   "source": [
    "def my_var(data): #statistics.pvariance doesn't allow empty data\n",
    "    if len(data) > 0:\n",
    "        return pvariance(data)\n",
    "    else:\n",
    "        return 0\n",
    "def my_mean(data): #statistics.mean doesn't allow empty data\n",
    "    if len(data) > 0:\n",
    "        return mean(data)\n",
    "    else:\n",
    "        return 0\n",
    "def make_iteration(target, m):\n",
    "    L = np.zeros(m)\n",
    "    for i in range(m):\n",
    "        L[i] = (my_var(target[:i]) * i + my_var(target[i:]) * (m-i)) / m\n",
    "    i_opt = np.argmin(L)\n",
    "    predictions = np.zeros(m)\n",
    "    for i in range(m):\n",
    "        if i < i_opt:\n",
    "            predictions[i] = my_mean(target[:i_opt])\n",
    "        else:\n",
    "            predictions[i] = my_mean(target[i_opt:])\n",
    "    return L, i_opt, predictions"
   ]
  },
  {
   "cell_type": "code",
   "execution_count": 9,
   "metadata": {},
   "outputs": [
    {
     "name": "stdout",
     "output_type": "stream",
     "text": [
      "[12.4 12.4 12.4 12.4 12.4]\n",
      "2\n",
      "[-11.4  -3.4   0.6   3.6  10.6]\n",
      "[53.44 20.95 16.93 19.83 25.35]\n",
      "[-7.4  -7.4   4.93  4.93  4.93]\n",
      "[ 5.    5.   17.33 17.33 17.33]\n"
     ]
    }
   ],
   "source": [
    "#cell for first iteration\n",
    "y = np.array([1, 9, 13, 16, 23])\n",
    "f0 = y.mean() * np.ones(5)\n",
    "res0 = y - f0\n",
    "L0, i_opt_0, predictions0 = make_iteration(res0, 5)\n",
    "f1 = f0 + predictions0\n",
    "print(np.around(f0,decimals=2))\n",
    "print(\n",
    "    i_opt_0,np.around(res0,decimals=2),\n",
    "    np.around(L0,decimals=2),\n",
    "    np.around(predictions0,decimals=2), \n",
    "    np.around(f1,decimals=2), sep='\\n')"
   ]
  },
  {
   "cell_type": "code",
   "execution_count": 10,
   "metadata": {},
   "outputs": [
    {
     "name": "stdout",
     "output_type": "stream",
     "text": [
      "4\n",
      "[-4.    4.   -4.33 -1.33  5.67]\n",
      "[16.93 12.93 16.93 13.8   8.91]\n",
      "[-1.42 -1.42 -1.42 -1.42  5.67]\n",
      "[ 3.58  3.58 15.92 15.92 23.  ]\n"
     ]
    }
   ],
   "source": [
    "#cell for second iteration\n",
    "res1 = y - f1\n",
    "L1, i_opt_1, predictions1 = make_iteration(res1, 5)\n",
    "f2 = f1 + predictions1\n",
    "print(\n",
    "    i_opt_1,np.around(res1,decimals=2),\n",
    "    np.around(L1,decimals=2),\n",
    "    np.around(predictions1,decimals=2),\n",
    "    np.around(f2,decimals=2), sep='\\n')"
   ]
  },
  {
   "cell_type": "code",
   "execution_count": 11,
   "metadata": {},
   "outputs": [
    {
     "name": "stdout",
     "output_type": "stream",
     "text": [
      "1\n",
      "[-2.58  5.42 -2.92  0.08  0.  ]\n",
      "[8.91 7.24 7.57 8.9  8.91]\n",
      "[-2.58  0.65  0.65  0.65  0.65]\n",
      "[ 1.    4.23 16.56 16.56 23.65]\n"
     ]
    }
   ],
   "source": [
    "#cell for third iteration\n",
    "res2 = y - f2\n",
    "L2, i_opt_2, predictions2 = make_iteration(res2, 5)\n",
    "f3 = f2 + predictions2\n",
    "print(\n",
    "    i_opt_2,np.around(res2,decimals=2),\n",
    "    np.around(L2,decimals=2),\n",
    "    np.around(predictions2,decimals=2),\n",
    "    np.around(f3,decimals=2), sep='\\n')"
   ]
  },
  {
   "cell_type": "markdown",
   "metadata": {},
   "source": [
    "## PLOTTING CELL##"
   ]
  },
  {
   "cell_type": "code",
   "execution_count": 19,
   "metadata": {},
   "outputs": [
    {
     "name": "stdout",
     "output_type": "stream",
     "text": [
      "[1.0, 1.0, 1.0, 1.0, 1.0, 1.0, 1.0, 1.0, 1.0, 1.0, 1.0, 1.0, 1.0, 1.0, 1.0, 1.0, 1.0, 1.0, 1.0, 1.0, 1.0, 1.0, 4.23, 4.23, 4.23, 4.23, 4.23, 4.23, 4.23, 4.23, 4.23, 4.23, 4.23, 4.23, 4.23, 4.23, 16.56, 16.56, 16.56, 16.56, 16.56, 16.56, 16.56, 16.56, 16.56, 16.56, 16.56, 16.56, 16.56, 16.56, 16.56, 16.56, 16.56, 23.65]\n"
     ]
    },
    {
     "data": {
      "image/png": "[encoded data removed]",
      "text/plain": [
       "<Figure size 720x432 with 1 Axes>"
      ]
     },
     "metadata": {
      "needs_background": "light"
     },
     "output_type": "display_data"
    }
   ],
   "source": [
    "x = [10,32,46,54,63]\n",
    "y = [1, 9, 13, 16, 23]\n",
    "\n",
    "#note that the order of F(x_i) should be corresponding to the order of x_i in the table\n",
    "\n",
    "############ INSERT YOUR SOLUTION HERE###############\n",
    "F3 = [1., 4.23, 16.56, 16.56, 23.65]\n",
    "splits = [46, 63, 32]\n",
    "\n",
    "x_range, boosted_F_plot = plot_tree(\n",
    "    x, F3, stumps = list(np.sort(splits)))\n",
    "print(boosted_F_plot)\n",
    "fig, ax = plt.subplots(1,1, figsize=(10,6))\n",
    "ax.scatter(x,y, label = 'original')\n",
    "ax.scatter(x, F3, label = 'predicted')\n",
    "ax.plot(\n",
    "    x_range,boosted_F_plot, '--',\n",
    "    linewidth=2, label = 'composite function')\n",
    "plt.legend()\n",
    "plt.show()"
   ]
  },
  {
   "cell_type": "markdown",
   "metadata": {},
   "source": [
    "# Task 6. AdaBoost (1 point)"
   ]
  },
  {
   "cell_type": "markdown",
   "metadata": {},
   "source": [
    "For each of the following cases,explain how AdaBoost, as given in **Lecture 7**, will treat a weak hypothesis $h_t$ with weighted error $N_t(h_t , w_t )$. Also, in each case, explain why this behavior takes place.\n",
    "1. $N_t = \\frac{1}{2}$\n",
    "2. $N_t > \\frac{1}{2}$\n",
    "3. $N_t = 0$"
   ]
  },
  {
   "cell_type": "markdown",
   "metadata": {},
   "source": [
    "### Your solution"
   ]
  },
  {
   "cell_type": "markdown",
   "metadata": {},
   "source": [
    "1. The error functional $\\tilde R(f_{t+1}) = \\tilde R(f_t)$ does not change. So, the algorithm is indifferent to adding a new classifier, since it does not improve the total loss anyhow. And $h_t$ won't be added. Especially, if the regularization term (on model complexity) is included.\n",
    "\n",
    "2. Considering such estimator, AdaBoost will be able to decrease total error by maximizing $N_t$. So, $h_t$ will be added, which will lead to deterioration of the current results (worsen ensemble expressiveness)\n",
    "\n",
    "3. This case is similar to the first one in the sense that the error functional does not change. But now $h_t$ is superior to what we have already ensembled. So, AdaBoost is better to take only $h_t$, since it outbids any other hypothesis.\n"
   ]
  },
  {
   "cell_type": "code",
   "execution_count": null,
   "metadata": {},
   "outputs": [],
   "source": []
  }
 ],
 "metadata": {
  "kernelspec": {
   "display_name": "Python 3",
   "language": "python",
   "name": "python3"
  },
  "language_info": {
   "codemirror_mode": {
    "name": "ipython",
    "version": 3
   },
   "file_extension": ".py",
   "mimetype": "text/x-python",
   "name": "python",
   "nbconvert_exporter": "python",
   "pygments_lexer": "ipython3",
   "version": "3.8.1"
  }
 },
 "nbformat": 4,
 "nbformat_minor": 2
}
