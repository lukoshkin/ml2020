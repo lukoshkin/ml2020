{
  "nbformat": 4,
  "nbformat_minor": 0,
  "metadata": {
    "accelerator": "GPU",
    "colab": {
      "name": "Testing.ipynb",
      "provenance": []
    },
    "kernelspec": {
      "name": "python3",
      "display_name": "Python 3"
    },
    "language_info": {
      "codemirror_mode": {
        "name": "ipython",
        "version": 3
      },
      "file_extension": ".py",
      "mimetype": "text/x-python",
      "name": "python",
      "nbconvert_exporter": "python",
      "pygments_lexer": "ipython3",
      "version": "3.8.1"
    },
    "toc": {
      "base_numbering": 1,
      "nav_menu": {},
      "number_sections": true,
      "sideBar": true,
      "skip_h1_title": false,
      "title_cell": "Table of Contents",
      "title_sidebar": "Contents",
      "toc_cell": false,
      "toc_position": {},
      "toc_section_display": true,
      "toc_window_display": false
    }
  },
  "cells": [
    {
      "cell_type": "code",
      "metadata": {
        "id": "5Jyqiza674-d",
        "colab_type": "code",
        "colab": {
          "base_uri": "https://localhost:8080/",
          "height": 151
        },
        "outputId": "dfad05c0-04e1-45c7-8f6b-49e83e6e72c4"
      },
      "source": [
        "!git clone https://github.com/lukoshkin/ml2020.git\n",
        "!mv ml2020/project/src/* .\n",
        "!mv ml2020/project/multivar_time_series .\n",
        "!rm ml2020 -rf"
      ],
      "execution_count": 1,
      "outputs": [
        {
          "output_type": "stream",
          "text": [
            "Cloning into 'ml2020'...\n",
            "remote: Enumerating objects: 34, done.\u001b[K\n",
            "remote: Counting objects:   2% (1/34)\u001b[K\rremote: Counting objects:   5% (2/34)\u001b[K\rremote: Counting objects:   8% (3/34)\u001b[K\rremote: Counting objects:  11% (4/34)\u001b[K\rremote: Counting objects:  14% (5/34)\u001b[K\rremote: Counting objects:  17% (6/34)\u001b[K\rremote: Counting objects:  20% (7/34)\u001b[K\rremote: Counting objects:  23% (8/34)\u001b[K\rremote: Counting objects:  26% (9/34)\u001b[K\rremote: Counting objects:  29% (10/34)\u001b[K\rremote: Counting objects:  32% (11/34)\u001b[K\rremote: Counting objects:  35% (12/34)\u001b[K\rremote: Counting objects:  38% (13/34)\u001b[K\rremote: Counting objects:  41% (14/34)\u001b[K\rremote: Counting objects:  44% (15/34)\u001b[K\rremote: Counting objects:  47% (16/34)\u001b[K\rremote: Counting objects:  50% (17/34)\u001b[K\rremote: Counting objects:  52% (18/34)\u001b[K\rremote: Counting objects:  55% (19/34)\u001b[K\rremote: Counting objects:  58% (20/34)\u001b[K\rremote: Counting objects:  61% (21/34)\u001b[K\rremote: Counting objects:  64% (22/34)\u001b[K\rremote: Counting objects:  67% (23/34)\u001b[K\rremote: Counting objects:  70% (24/34)\u001b[K\rremote: Counting objects:  73% (25/34)\u001b[K\rremote: Counting objects:  76% (26/34)\u001b[K\rremote: Counting objects:  79% (27/34)\u001b[K\rremote: Counting objects:  82% (28/34)\u001b[K\rremote: Counting objects:  85% (29/34)\u001b[K\rremote: Counting objects:  88% (30/34)\u001b[K\rremote: Counting objects:  91% (31/34)\u001b[K\rremote: Counting objects:  94% (32/34)\u001b[K\rremote: Counting objects:  97% (33/34)\u001b[K\rremote: Counting objects: 100% (34/34)\u001b[K\rremote: Counting objects: 100% (34/34), done.\u001b[K\n",
            "remote: Compressing objects: 100% (20/20), done.\u001b[K\n",
            "remote: Total 143 (delta 17), reused 31 (delta 14), pack-reused 109\u001b[K\n",
            "Receiving objects: 100% (143/143), 52.85 MiB | 25.12 MiB/s, done.\n",
            "Resolving deltas: 100% (57/57), done.\n",
            "ml2020\tsample_data\n"
          ],
          "name": "stdout"
        }
      ]
    },
    {
      "cell_type": "markdown",
      "metadata": {
        "id": "Rm40C2Lo73N9",
        "colab_type": "text"
      },
      "source": [
        "Persistence Landscapes in Data Augmentation\n",
        "---"
      ]
    },
    {
      "cell_type": "markdown",
      "metadata": {
        "id": "KQcvBkY673N-",
        "colab_type": "text"
      },
      "source": [
        "***Initialization cells***"
      ]
    },
    {
      "cell_type": "code",
      "metadata": {
        "colab_type": "code",
        "id": "TG4rfYAODADx",
        "colab": {
          "base_uri": "https://localhost:8080/",
          "height": 1000
        },
        "outputId": "ca0f2c05-41b1-4c0c-d0a1-bb2b11bb7e47"
      },
      "source": [
        "import copy\n",
        "import numpy as np\n",
        "import pandas as pd\n",
        "\n",
        "from pathlib import Path\n",
        "from sklearn.metrics import accuracy_score\n",
        "\n",
        "import torch\n",
        "import torch.nn as nn\n",
        "import torch.optim as optim\n",
        "from torch.utils.data import Dataset, DataLoader\n",
        "\n",
        "%matplotlib inline\n",
        "import matplotlib.pyplot as plt\n",
        "\n",
        "![ -z \"$(pip list | grep 'sktime')\" ] && pip install sktime\n",
        "from sktime.utils.load_data import load_from_arff_to_dataframe\n",
        "from nets import *\n",
        "\n",
        "# for Maks' imports\n",
        "![ -z \"$(pip list | grep 'giotto-tda')\" ] && pip install giotto-tda\n",
        "from tda_tools import *"
      ],
      "execution_count": 3,
      "outputs": [
        {
          "output_type": "stream",
          "text": [
            "Collecting sktime\n",
            "\u001b[?25l  Downloading https://files.pythonhosted.org/packages/74/aa/a8709883f270fad7052c0f618aa7fe2001d35bb2c12d68317beb65c7789f/sktime-0.3.0.tar.gz (5.0MB)\n",
            "\u001b[K     |████████████████████████████████| 5.0MB 8.5MB/s \n",
            "\u001b[?25hRequirement already satisfied: numpy>=1.16.0 in /usr/local/lib/python3.6/dist-packages (from sktime) (1.18.2)\n",
            "Requirement already satisfied: scipy>=1.2.0 in /usr/local/lib/python3.6/dist-packages (from sktime) (1.4.1)\n",
            "Requirement already satisfied: scikit-learn>=0.21.0 in /usr/local/lib/python3.6/dist-packages (from sktime) (0.22.2.post1)\n",
            "Requirement already satisfied: pandas>=0.23.0 in /usr/local/lib/python3.6/dist-packages (from sktime) (1.0.3)\n",
            "Requirement already satisfied: joblib in /usr/local/lib/python3.6/dist-packages (from sktime) (0.14.1)\n",
            "Collecting scikit-posthocs>=0.5.0\n",
            "  Downloading https://files.pythonhosted.org/packages/3b/b8/8a9769c7a286070f74fbc56bcede507680210010ce0887c70112e70ced5a/scikit_posthocs-0.6.4-py3-none-any.whl\n",
            "Requirement already satisfied: statsmodels>=0.9.0 in /usr/local/lib/python3.6/dist-packages (from sktime) (0.10.2)\n",
            "Requirement already satisfied: pytz>=2017.2 in /usr/local/lib/python3.6/dist-packages (from pandas>=0.23.0->sktime) (2018.9)\n",
            "Requirement already satisfied: python-dateutil>=2.6.1 in /usr/local/lib/python3.6/dist-packages (from pandas>=0.23.0->sktime) (2.8.1)\n",
            "Requirement already satisfied: matplotlib in /usr/local/lib/python3.6/dist-packages (from scikit-posthocs>=0.5.0->sktime) (3.2.1)\n",
            "Requirement already satisfied: seaborn in /usr/local/lib/python3.6/dist-packages (from scikit-posthocs>=0.5.0->sktime) (0.10.0)\n",
            "Requirement already satisfied: patsy>=0.4.0 in /usr/local/lib/python3.6/dist-packages (from statsmodels>=0.9.0->sktime) (0.5.1)\n",
            "Requirement already satisfied: six>=1.5 in /usr/local/lib/python3.6/dist-packages (from python-dateutil>=2.6.1->pandas>=0.23.0->sktime) (1.12.0)\n",
            "Requirement already satisfied: pyparsing!=2.0.4,!=2.1.2,!=2.1.6,>=2.0.1 in /usr/local/lib/python3.6/dist-packages (from matplotlib->scikit-posthocs>=0.5.0->sktime) (2.4.6)\n",
            "Requirement already satisfied: cycler>=0.10 in /usr/local/lib/python3.6/dist-packages (from matplotlib->scikit-posthocs>=0.5.0->sktime) (0.10.0)\n",
            "Requirement already satisfied: kiwisolver>=1.0.1 in /usr/local/lib/python3.6/dist-packages (from matplotlib->scikit-posthocs>=0.5.0->sktime) (1.2.0)\n",
            "Building wheels for collected packages: sktime\n",
            "  Building wheel for sktime (setup.py) ... \u001b[?25l\u001b[?25hdone\n",
            "  Created wheel for sktime: filename=sktime-0.3.0-cp36-cp36m-linux_x86_64.whl size=3299846 sha256=3a5ada25a8539a69aef1586408d599b896e33e467d3a3b83e85b613fd825bf64\n",
            "  Stored in directory: /root/.cache/pip/wheels/92/5a/c2/859f666f521c12e592cf689e8e2ebff32d74d0416b74dad213\n",
            "Successfully built sktime\n",
            "Installing collected packages: scikit-posthocs, sktime\n",
            "Successfully installed scikit-posthocs-0.6.4 sktime-0.3.0\n",
            "Collecting giotto-tda\n",
            "\u001b[?25l  Downloading https://files.pythonhosted.org/packages/9b/82/c4527db4326115256e3bf4c82d5641dc7bc3c339a0d9a225adcbb9df3176/giotto_tda-0.2.1-cp36-cp36m-manylinux2010_x86_64.whl (1.4MB)\n",
            "\u001b[K     |████████████████████████████████| 1.4MB 7.8MB/s \n",
            "\u001b[?25hCollecting python-igraph>=0.7.1.post6\n",
            "\u001b[?25l  Downloading https://files.pythonhosted.org/packages/f3/23/2959ac50ac7a3d8c28602a752075abd21025767fc32d4587fb35ae273d22/python_igraph-0.8.0-cp36-cp36m-manylinux2010_x86_64.whl (3.2MB)\n",
            "\u001b[K     |████████████████████████████████| 3.2MB 35.4MB/s \n",
            "\u001b[?25hRequirement already satisfied: numpy>=1.17.0 in /usr/local/lib/python3.6/dist-packages (from giotto-tda) (1.18.2)\n",
            "Requirement already satisfied: joblib>=0.13 in /usr/local/lib/python3.6/dist-packages (from giotto-tda) (0.14.1)\n",
            "Requirement already satisfied: scikit-learn>=0.22.0 in /usr/local/lib/python3.6/dist-packages (from giotto-tda) (0.22.2.post1)\n",
            "Requirement already satisfied: ipywidgets>=7.5.1 in /usr/local/lib/python3.6/dist-packages (from giotto-tda) (7.5.1)\n",
            "Requirement already satisfied: scipy>=0.17.0 in /usr/local/lib/python3.6/dist-packages (from giotto-tda) (1.4.1)\n",
            "Requirement already satisfied: plotly>=4.4.1 in /usr/local/lib/python3.6/dist-packages (from giotto-tda) (4.4.1)\n",
            "Requirement already satisfied: matplotlib>=3.0.3 in /usr/local/lib/python3.6/dist-packages (from giotto-tda) (3.2.1)\n",
            "Collecting texttable>=1.6.2\n",
            "  Downloading https://files.pythonhosted.org/packages/ec/b1/8a1c659ce288bf771d5b1c7cae318ada466f73bd0e16df8d86f27a2a3ee7/texttable-1.6.2-py2.py3-none-any.whl\n",
            "Requirement already satisfied: ipykernel>=4.5.1 in /usr/local/lib/python3.6/dist-packages (from ipywidgets>=7.5.1->giotto-tda) (4.6.1)\n",
            "Requirement already satisfied: ipython>=4.0.0; python_version >= \"3.3\" in /usr/local/lib/python3.6/dist-packages (from ipywidgets>=7.5.1->giotto-tda) (5.5.0)\n",
            "Requirement already satisfied: traitlets>=4.3.1 in /usr/local/lib/python3.6/dist-packages (from ipywidgets>=7.5.1->giotto-tda) (4.3.3)\n",
            "Requirement already satisfied: widgetsnbextension~=3.5.0 in /usr/local/lib/python3.6/dist-packages (from ipywidgets>=7.5.1->giotto-tda) (3.5.1)\n",
            "Requirement already satisfied: nbformat>=4.2.0 in /usr/local/lib/python3.6/dist-packages (from ipywidgets>=7.5.1->giotto-tda) (5.0.5)\n",
            "Requirement already satisfied: six in /usr/local/lib/python3.6/dist-packages (from plotly>=4.4.1->giotto-tda) (1.12.0)\n",
            "Requirement already satisfied: retrying>=1.3.3 in /usr/local/lib/python3.6/dist-packages (from plotly>=4.4.1->giotto-tda) (1.3.3)\n",
            "Requirement already satisfied: pyparsing!=2.0.4,!=2.1.2,!=2.1.6,>=2.0.1 in /usr/local/lib/python3.6/dist-packages (from matplotlib>=3.0.3->giotto-tda) (2.4.6)\n",
            "Requirement already satisfied: kiwisolver>=1.0.1 in /usr/local/lib/python3.6/dist-packages (from matplotlib>=3.0.3->giotto-tda) (1.2.0)\n",
            "Requirement already satisfied: cycler>=0.10 in /usr/local/lib/python3.6/dist-packages (from matplotlib>=3.0.3->giotto-tda) (0.10.0)\n",
            "Requirement already satisfied: python-dateutil>=2.1 in /usr/local/lib/python3.6/dist-packages (from matplotlib>=3.0.3->giotto-tda) (2.8.1)\n",
            "Requirement already satisfied: tornado>=4.0 in /usr/local/lib/python3.6/dist-packages (from ipykernel>=4.5.1->ipywidgets>=7.5.1->giotto-tda) (4.5.3)\n",
            "Requirement already satisfied: jupyter-client in /usr/local/lib/python3.6/dist-packages (from ipykernel>=4.5.1->ipywidgets>=7.5.1->giotto-tda) (5.3.4)\n",
            "Requirement already satisfied: pexpect; sys_platform != \"win32\" in /usr/local/lib/python3.6/dist-packages (from ipython>=4.0.0; python_version >= \"3.3\"->ipywidgets>=7.5.1->giotto-tda) (4.8.0)\n",
            "Requirement already satisfied: setuptools>=18.5 in /usr/local/lib/python3.6/dist-packages (from ipython>=4.0.0; python_version >= \"3.3\"->ipywidgets>=7.5.1->giotto-tda) (46.1.3)\n",
            "Requirement already satisfied: pygments in /usr/local/lib/python3.6/dist-packages (from ipython>=4.0.0; python_version >= \"3.3\"->ipywidgets>=7.5.1->giotto-tda) (2.1.3)\n",
            "Requirement already satisfied: decorator in /usr/local/lib/python3.6/dist-packages (from ipython>=4.0.0; python_version >= \"3.3\"->ipywidgets>=7.5.1->giotto-tda) (4.4.2)\n",
            "Requirement already satisfied: pickleshare in /usr/local/lib/python3.6/dist-packages (from ipython>=4.0.0; python_version >= \"3.3\"->ipywidgets>=7.5.1->giotto-tda) (0.7.5)\n",
            "Requirement already satisfied: prompt-toolkit<2.0.0,>=1.0.4 in /usr/local/lib/python3.6/dist-packages (from ipython>=4.0.0; python_version >= \"3.3\"->ipywidgets>=7.5.1->giotto-tda) (1.0.18)\n",
            "Requirement already satisfied: simplegeneric>0.8 in /usr/local/lib/python3.6/dist-packages (from ipython>=4.0.0; python_version >= \"3.3\"->ipywidgets>=7.5.1->giotto-tda) (0.8.1)\n",
            "Requirement already satisfied: ipython-genutils in /usr/local/lib/python3.6/dist-packages (from traitlets>=4.3.1->ipywidgets>=7.5.1->giotto-tda) (0.2.0)\n",
            "Requirement already satisfied: notebook>=4.4.1 in /usr/local/lib/python3.6/dist-packages (from widgetsnbextension~=3.5.0->ipywidgets>=7.5.1->giotto-tda) (5.2.2)\n",
            "Requirement already satisfied: jsonschema!=2.5.0,>=2.4 in /usr/local/lib/python3.6/dist-packages (from nbformat>=4.2.0->ipywidgets>=7.5.1->giotto-tda) (2.6.0)\n",
            "Requirement already satisfied: jupyter-core in /usr/local/lib/python3.6/dist-packages (from nbformat>=4.2.0->ipywidgets>=7.5.1->giotto-tda) (4.6.3)\n",
            "Requirement already satisfied: pyzmq>=13 in /usr/local/lib/python3.6/dist-packages (from jupyter-client->ipykernel>=4.5.1->ipywidgets>=7.5.1->giotto-tda) (17.0.0)\n",
            "Requirement already satisfied: ptyprocess>=0.5 in /usr/local/lib/python3.6/dist-packages (from pexpect; sys_platform != \"win32\"->ipython>=4.0.0; python_version >= \"3.3\"->ipywidgets>=7.5.1->giotto-tda) (0.6.0)\n",
            "Requirement already satisfied: wcwidth in /usr/local/lib/python3.6/dist-packages (from prompt-toolkit<2.0.0,>=1.0.4->ipython>=4.0.0; python_version >= \"3.3\"->ipywidgets>=7.5.1->giotto-tda) (0.1.9)\n",
            "Requirement already satisfied: terminado>=0.3.3; sys_platform != \"win32\" in /usr/local/lib/python3.6/dist-packages (from notebook>=4.4.1->widgetsnbextension~=3.5.0->ipywidgets>=7.5.1->giotto-tda) (0.8.3)\n",
            "Requirement already satisfied: jinja2 in /usr/local/lib/python3.6/dist-packages (from notebook>=4.4.1->widgetsnbextension~=3.5.0->ipywidgets>=7.5.1->giotto-tda) (2.11.1)\n",
            "Requirement already satisfied: nbconvert in /usr/local/lib/python3.6/dist-packages (from notebook>=4.4.1->widgetsnbextension~=3.5.0->ipywidgets>=7.5.1->giotto-tda) (5.6.1)\n",
            "Requirement already satisfied: MarkupSafe>=0.23 in /usr/local/lib/python3.6/dist-packages (from jinja2->notebook>=4.4.1->widgetsnbextension~=3.5.0->ipywidgets>=7.5.1->giotto-tda) (1.1.1)\n",
            "Requirement already satisfied: pandocfilters>=1.4.1 in /usr/local/lib/python3.6/dist-packages (from nbconvert->notebook>=4.4.1->widgetsnbextension~=3.5.0->ipywidgets>=7.5.1->giotto-tda) (1.4.2)\n",
            "Requirement already satisfied: bleach in /usr/local/lib/python3.6/dist-packages (from nbconvert->notebook>=4.4.1->widgetsnbextension~=3.5.0->ipywidgets>=7.5.1->giotto-tda) (3.1.4)\n",
            "Requirement already satisfied: defusedxml in /usr/local/lib/python3.6/dist-packages (from nbconvert->notebook>=4.4.1->widgetsnbextension~=3.5.0->ipywidgets>=7.5.1->giotto-tda) (0.6.0)\n",
            "Requirement already satisfied: mistune<2,>=0.8.1 in /usr/local/lib/python3.6/dist-packages (from nbconvert->notebook>=4.4.1->widgetsnbextension~=3.5.0->ipywidgets>=7.5.1->giotto-tda) (0.8.4)\n",
            "Requirement already satisfied: testpath in /usr/local/lib/python3.6/dist-packages (from nbconvert->notebook>=4.4.1->widgetsnbextension~=3.5.0->ipywidgets>=7.5.1->giotto-tda) (0.4.4)\n",
            "Requirement already satisfied: entrypoints>=0.2.2 in /usr/local/lib/python3.6/dist-packages (from nbconvert->notebook>=4.4.1->widgetsnbextension~=3.5.0->ipywidgets>=7.5.1->giotto-tda) (0.3)\n",
            "Requirement already satisfied: webencodings in /usr/local/lib/python3.6/dist-packages (from bleach->nbconvert->notebook>=4.4.1->widgetsnbextension~=3.5.0->ipywidgets>=7.5.1->giotto-tda) (0.5.1)\n",
            "Installing collected packages: texttable, python-igraph, giotto-tda\n",
            "Successfully installed giotto-tda-0.2.1 python-igraph-0.8.0 texttable-1.6.2\n"
          ],
          "name": "stdout"
        }
      ]
    },
    {
      "cell_type": "code",
      "metadata": {
        "colab_type": "code",
        "id": "ny2iCBxeDAE_",
        "colab": {}
      },
      "source": [
        "mode = 'cnn'  # better not to change to rnn, since cnn is superior\n",
        "              # mode affects only autoencoder choice and its dataloader\n",
        "    \n",
        "device = torch.device(\n",
        "    'cuda' if torch.cuda.is_available() else 'cpu')\n",
        "\n",
        "# Choose which data to upload: univariate or multivariate\n",
        "multivariate = False\n",
        "dataset_name = 'Coffee'\n",
        "\n",
        "# multivariate = True\n",
        "# dataset_name = 'HandMovementDirection'"
      ],
      "execution_count": 0,
      "outputs": []
    },
    {
      "cell_type": "code",
      "metadata": {
        "id": "gGFjDR1y73OH",
        "colab_type": "code",
        "colab": {}
      },
      "source": [
        "def get_batches(X_train, y_train=None, batch_size=3, mode='rnn'):\n",
        "    if mode == 'rnn':\n",
        "        ids = torch.randperm(X_train.size(1))\n",
        "        if y_train is None:\n",
        "            for bx in X_train[:,ids].chunk(batch_size, 1):\n",
        "                yield bx\n",
        "        else:\n",
        "            for bx,by in zip(\n",
        "                X_train[:,ids].chunk(batch_size, 1),\n",
        "                y_train[ids].chunk(batch_size)):\n",
        "                yield bx,by\n",
        "    elif mode == 'cnn':\n",
        "        ids = torch.randperm(len(X_train))\n",
        "        if y_train is None:\n",
        "            for bx in X_train[ids].chunk(batch_size):\n",
        "                yield bx\n",
        "        else:\n",
        "            for bx,by in zip(\n",
        "                X_train[ids].chunk(batch_size),\n",
        "                y_train[ids].chunk(batch_size)):\n",
        "                yield bx,by\n",
        "    else:\n",
        "        raise TypeError(\"arg type must be 'cnn' or 'rnn'\")"
      ],
      "execution_count": 0,
      "outputs": []
    },
    {
      "cell_type": "markdown",
      "metadata": {
        "colab_type": "text",
        "id": "xiUw1FPnDAD5"
      },
      "source": [
        "# Preprocessing Part"
      ]
    },
    {
      "cell_type": "markdown",
      "metadata": {
        "id": "G_7UMHKN73OM",
        "colab_type": "text"
      },
      "source": [
        "## Univariate Data"
      ]
    },
    {
      "cell_type": "markdown",
      "metadata": {
        "colab_type": "text",
        "id": "7xA4bpK3DAD8"
      },
      "source": [
        "### Data Loading"
      ]
    },
    {
      "cell_type": "code",
      "metadata": {
        "colab_type": "code",
        "id": "aUSTon1UDAD9",
        "outputId": "7afc3408-f4c3-4d9a-9034-3967fdfb94e9",
        "colab": {
          "base_uri": "https://localhost:8080/",
          "height": 1000
        }
      },
      "source": [
        "out = None\n",
        "if not multivariate:\n",
        "    # Install and import of https://pypi.org/project/uea-ucr-datasets/\n",
        "    ![ -z \"$(pip list | grep 'Cython')\" ] && pip install Cython\n",
        "    ![ -z \"$(pip list | grep 'uea-ucr-datasets')\" ] && pip install uea-ucr-datasets\n",
        "\n",
        "    data_dir = Path('../data')\n",
        "    data_dir.mkdir(exist_ok=True)\n",
        "    %env UEA_UCR_DATA_DIR={data_dir}\n",
        "    import uea_ucr_datasets as ucr_ds\n",
        "\n",
        "\n",
        "    # Download univariate dataset (preprocessed by sktime)\n",
        "    url = ('http://www.timeseriesclassification.com/'\n",
        "           'Downloads/Archives/Univariate2018_ts.zip')\n",
        "    if not (data_dir/'archive.zip').exists():\n",
        "        !wget -O {data_dir}/archive.zip {url}\n",
        "\n",
        "\n",
        "    # Extract files from the archive\n",
        "    num_files = !ls {data_dir} | wc -l\n",
        "    print(data_dir)\n",
        "    if int(num_files[0]) < 129:\n",
        "        print('not all dataset are present')\n",
        "        !unzip -qn {data_dir}/archive.zip -d {data_dir}\n",
        "        !mv -n {data_dir}/Univariate_ts/* {data_dir}\n",
        "        !rm {data_dir}/Univariate_ts -rf\n",
        "\n",
        "\n",
        "    # Data Description\n",
        "    print('Printing the description of the selected dataset')\n",
        "    !head -8 {data_dir}/{dataset_name}/{'%s_TRAIN.ts' % dataset_name}\n",
        "\n",
        "    ds_train= ucr_ds.Dataset(dataset_name, train=True)\n",
        "    ds_test = ucr_ds.Dataset(dataset_name, train=False)\n",
        "    print('\\nData content (partial display):')\n",
        "    print('-------------------------------')\n",
        "    print('time-series labels')\n",
        "    print(ds_train.data_y)\n",
        "    print('\\ntable with sequences')\n",
        "    out = ds_train.data_x.head()\n",
        "    emb_size = 1\n",
        "out"
      ],
      "execution_count": 6,
      "outputs": [
        {
          "output_type": "stream",
          "text": [
            "Collecting uea-ucr-datasets\n",
            "  Downloading https://files.pythonhosted.org/packages/ac/ac/7af83993eefc6ae290e87d516a59f9c0b49237ea5d7c9b71ca58ba266a54/uea_ucr_datasets-0.1.2-py3-none-any.whl\n",
            "Requirement already satisfied: sktime<0.4,>=0.3 in /usr/local/lib/python3.6/dist-packages (from uea-ucr-datasets) (0.3.0)\n",
            "Requirement already satisfied: pandas>=0.23.0 in /usr/local/lib/python3.6/dist-packages (from sktime<0.4,>=0.3->uea-ucr-datasets) (1.0.3)\n",
            "Requirement already satisfied: numpy>=1.16.0 in /usr/local/lib/python3.6/dist-packages (from sktime<0.4,>=0.3->uea-ucr-datasets) (1.18.2)\n",
            "Requirement already satisfied: statsmodels>=0.9.0 in /usr/local/lib/python3.6/dist-packages (from sktime<0.4,>=0.3->uea-ucr-datasets) (0.10.2)\n",
            "Requirement already satisfied: scipy>=1.2.0 in /usr/local/lib/python3.6/dist-packages (from sktime<0.4,>=0.3->uea-ucr-datasets) (1.4.1)\n",
            "Requirement already satisfied: scikit-learn>=0.21.0 in /usr/local/lib/python3.6/dist-packages (from sktime<0.4,>=0.3->uea-ucr-datasets) (0.22.2.post1)\n",
            "Requirement already satisfied: joblib in /usr/local/lib/python3.6/dist-packages (from sktime<0.4,>=0.3->uea-ucr-datasets) (0.14.1)\n",
            "Requirement already satisfied: scikit-posthocs>=0.5.0 in /usr/local/lib/python3.6/dist-packages (from sktime<0.4,>=0.3->uea-ucr-datasets) (0.6.4)\n",
            "Requirement already satisfied: pytz>=2017.2 in /usr/local/lib/python3.6/dist-packages (from pandas>=0.23.0->sktime<0.4,>=0.3->uea-ucr-datasets) (2018.9)\n",
            "Requirement already satisfied: python-dateutil>=2.6.1 in /usr/local/lib/python3.6/dist-packages (from pandas>=0.23.0->sktime<0.4,>=0.3->uea-ucr-datasets) (2.8.1)\n",
            "Requirement already satisfied: patsy>=0.4.0 in /usr/local/lib/python3.6/dist-packages (from statsmodels>=0.9.0->sktime<0.4,>=0.3->uea-ucr-datasets) (0.5.1)\n",
            "Requirement already satisfied: matplotlib in /usr/local/lib/python3.6/dist-packages (from scikit-posthocs>=0.5.0->sktime<0.4,>=0.3->uea-ucr-datasets) (3.2.1)\n",
            "Requirement already satisfied: seaborn in /usr/local/lib/python3.6/dist-packages (from scikit-posthocs>=0.5.0->sktime<0.4,>=0.3->uea-ucr-datasets) (0.10.0)\n",
            "Requirement already satisfied: six>=1.5 in /usr/local/lib/python3.6/dist-packages (from python-dateutil>=2.6.1->pandas>=0.23.0->sktime<0.4,>=0.3->uea-ucr-datasets) (1.12.0)\n",
            "Requirement already satisfied: pyparsing!=2.0.4,!=2.1.2,!=2.1.6,>=2.0.1 in /usr/local/lib/python3.6/dist-packages (from matplotlib->scikit-posthocs>=0.5.0->sktime<0.4,>=0.3->uea-ucr-datasets) (2.4.6)\n",
            "Requirement already satisfied: kiwisolver>=1.0.1 in /usr/local/lib/python3.6/dist-packages (from matplotlib->scikit-posthocs>=0.5.0->sktime<0.4,>=0.3->uea-ucr-datasets) (1.2.0)\n",
            "Requirement already satisfied: cycler>=0.10 in /usr/local/lib/python3.6/dist-packages (from matplotlib->scikit-posthocs>=0.5.0->sktime<0.4,>=0.3->uea-ucr-datasets) (0.10.0)\n",
            "Installing collected packages: uea-ucr-datasets\n",
            "Successfully installed uea-ucr-datasets-0.1.2\n",
            "env: UEA_UCR_DATA_DIR=../data\n",
            "--2020-04-09 22:16:15--  http://www.timeseriesclassification.com/Downloads/Archives/Univariate2018_ts.zip\n",
            "Resolving www.timeseriesclassification.com (www.timeseriesclassification.com)... 109.123.71.232\n",
            "Connecting to www.timeseriesclassification.com (www.timeseriesclassification.com)|109.123.71.232|:80... connected.\n",
            "HTTP request sent, awaiting response... 200 OK\n",
            "Length: 258228919 (246M) [application/zip]\n",
            "Saving to: ‘../data/archive.zip’\n",
            "\n",
            "../data/archive.zip 100%[===================>] 246.27M  18.7MB/s    in 13s     \n",
            "\n",
            "2020-04-09 22:16:28 (19.7 MB/s) - ‘../data/archive.zip’ saved [258228919/258228919]\n",
            "\n",
            "../data\n",
            "not all dataset are present\n",
            "Printing the description of the selected dataset\n",
            "#\"FoodFood spectrographs are used in chemometrics to classify food types, a task that has obvious applications in food safety and quality assurance. The coffee data set is a two class problem to distinguish between Robusta and Aribica coffee beans. Further information can be found in the original paper Briandet et al. Discrimination of Arabica and Robusta in Instant Coffee by Fourier Transform Infrared Spectroscopy and Chemometrics J. Agricultural and Food Chemistry, 44 (1), 1996. The data was first used in the time series classification literature in Bagnall et al. Transformation Based Ensembles for Time Series Classification, SDM 2012.\n",
            "@problemName Coffee\n",
            "@timeStamps false\n",
            "@missing false\n",
            "@univariate true\n",
            "@equalLength true\n",
            "@seriesLength 286\n",
            "@classLabel true 0 1\n",
            "\n",
            "Data content (partial display):\n",
            "-------------------------------\n",
            "time-series labels\n",
            "['0' '0' '0' '0' '0' '0' '0' '0' '0' '0' '0' '0' '0' '0' '1' '1' '1' '1'\n",
            " '1' '1' '1' '1' '1' '1' '1' '1' '1' '1']\n",
            "\n",
            "table with sequences\n"
          ],
          "name": "stdout"
        },
        {
          "output_type": "execute_result",
          "data": {
            "text/html": [
              "<div>\n",
              "<style scoped>\n",
              "    .dataframe tbody tr th:only-of-type {\n",
              "        vertical-align: middle;\n",
              "    }\n",
              "\n",
              "    .dataframe tbody tr th {\n",
              "        vertical-align: top;\n",
              "    }\n",
              "\n",
              "    .dataframe thead th {\n",
              "        text-align: right;\n",
              "    }\n",
              "</style>\n",
              "<table border=\"1\" class=\"dataframe\">\n",
              "  <thead>\n",
              "    <tr style=\"text-align: right;\">\n",
              "      <th></th>\n",
              "      <th>dim_0</th>\n",
              "    </tr>\n",
              "  </thead>\n",
              "  <tbody>\n",
              "    <tr>\n",
              "      <th>0</th>\n",
              "      <td>0     -0.518419\n",
              "1     -0.485884\n",
              "2     -0.50500...</td>\n",
              "    </tr>\n",
              "    <tr>\n",
              "      <th>1</th>\n",
              "      <td>0     -0.548462\n",
              "1     -0.533681\n",
              "2     -0.51472...</td>\n",
              "    </tr>\n",
              "    <tr>\n",
              "      <th>2</th>\n",
              "      <td>0     -0.472634\n",
              "1     -0.415546\n",
              "2     -0.35992...</td>\n",
              "    </tr>\n",
              "    <tr>\n",
              "      <th>3</th>\n",
              "      <td>0     -0.509521\n",
              "1     -0.484218\n",
              "2     -0.47795...</td>\n",
              "    </tr>\n",
              "    <tr>\n",
              "      <th>4</th>\n",
              "      <td>0     -0.563427\n",
              "1     -0.533896\n",
              "2     -0.54382...</td>\n",
              "    </tr>\n",
              "  </tbody>\n",
              "</table>\n",
              "</div>"
            ],
            "text/plain": [
              "                                               dim_0\n",
              "0  0     -0.518419\n",
              "1     -0.485884\n",
              "2     -0.50500...\n",
              "1  0     -0.548462\n",
              "1     -0.533681\n",
              "2     -0.51472...\n",
              "2  0     -0.472634\n",
              "1     -0.415546\n",
              "2     -0.35992...\n",
              "3  0     -0.509521\n",
              "1     -0.484218\n",
              "2     -0.47795...\n",
              "4  0     -0.563427\n",
              "1     -0.533896\n",
              "2     -0.54382..."
            ]
          },
          "metadata": {
            "tags": []
          },
          "execution_count": 6
        }
      ]
    },
    {
      "cell_type": "markdown",
      "metadata": {
        "id": "YZpmAv3_73OS",
        "colab_type": "text"
      },
      "source": [
        "---"
      ]
    },
    {
      "cell_type": "markdown",
      "metadata": {
        "id": "qqB6LKo273OS",
        "colab_type": "text"
      },
      "source": [
        "### Data unpacking"
      ]
    },
    {
      "cell_type": "markdown",
      "metadata": {
        "colab_type": "text",
        "id": "lBi-3xHeDAE-"
      },
      "source": [
        "Since the dataset is small, we can load the whole data and slice it into chunks"
      ]
    },
    {
      "cell_type": "code",
      "metadata": {
        "colab_type": "code",
        "id": "WRZ6x9Nb73OU",
        "colab": {}
      },
      "source": [
        "if not multivariate:\n",
        "    X = []\n",
        "    for v in ds_train.data_x.values: X.append(v[0])\n",
        "    seq_length = len(v[0])\n",
        "    \n",
        "    if mode == 'rnn':\n",
        "        X_train = torch.Tensor(X).permute(1,0)[...,None]\n",
        "        y_train = torch.LongTensor(pd.factorize(ds_train.data_y)[0])\n",
        "    else:\n",
        "        X_train = torch.Tensor(X)[:,None]\n",
        "        y_train = torch.LongTensor(pd.factorize(ds_train.data_y)[0])\n",
        "    X_train, y_train = X_train.to(device), y_train.to(device)\n",
        "    \n",
        "    n_classes = len(torch.unique(y_train))\n",
        "\n",
        "    X = []\n",
        "    for v in ds_test.data_x.values: X.append(v[0])\n",
        "    if mode == 'rnn':\n",
        "        X_test = torch.Tensor(X).permute(1,0)[...,None]\n",
        "        y_test = torch.LongTensor(pd.factorize(ds_test.data_y)[0])\n",
        "    else:\n",
        "        X_test = torch.Tensor(X)[:,None]\n",
        "        y_test = torch.LongTensor(pd.factorize(ds_test.data_y)[0])\n",
        "    X_test, y_test = X_test.to(device), y_test.to(device)"
      ],
      "execution_count": 0,
      "outputs": []
    },
    {
      "cell_type": "markdown",
      "metadata": {
        "deletable": false,
        "editable": false,
        "run_control": {
          "frozen": true
        },
        "id": "pjKtR0fh73OY",
        "colab_type": "text"
      },
      "source": [
        "## Multivariate Data"
      ]
    },
    {
      "cell_type": "markdown",
      "metadata": {
        "deletable": false,
        "editable": false,
        "run_control": {
          "frozen": true
        },
        "id": "UPlONuUN73OY",
        "colab_type": "text"
      },
      "source": [
        "Loading all datasets is a pretty heavy procedure.  \n",
        "So, we download just 2-3 datasets to a local directory and then hook up the right one by its name"
      ]
    },
    {
      "cell_type": "markdown",
      "metadata": {
        "deletable": false,
        "editable": false,
        "run_control": {
          "frozen": true
        },
        "id": "U-k9CgPF73OZ",
        "colab_type": "text"
      },
      "source": [
        "### Data unpacking"
      ]
    },
    {
      "cell_type": "code",
      "metadata": {
        "id": "N4dGp6Pk73Oa",
        "colab_type": "code",
        "colab": {}
      },
      "source": [
        "out = None\n",
        "if multivariate:\n",
        "    folder = Path('../multivar_time_series')\n",
        "    X_train_raw, y_train_raw = load_from_arff_to_dataframe(\n",
        "        folder/dataset_name/f'{dataset_name}_TRAIN.arff')\n",
        "    X_test_raw, y_test_raw = load_from_arff_to_dataframe(\n",
        "        folder/dataset_name/f'{dataset_name}_TEST.arff')\n",
        "\n",
        "    print(f'\\nShape of the training dataset: {X_train_raw.shape}')\n",
        "    emb_size = X_train_raw.shape[1]\n",
        "    out = X_train_raw.head()\n",
        "out"
      ],
      "execution_count": 0,
      "outputs": []
    },
    {
      "cell_type": "code",
      "metadata": {
        "colab_type": "code",
        "id": "apdIjixf73Od",
        "colab": {}
      },
      "source": [
        "if multivariate:\n",
        "    X = []\n",
        "    for v in X_train_raw.values:\n",
        "        X_k = []\n",
        "        for i in range(emb_size):\n",
        "            X_k.append(v[i])\n",
        "        X.append(X_k)\n",
        "        \n",
        "    seq_length = len(v[0])\n",
        "    if mode == 'rnn':\n",
        "        X_train = torch.Tensor(X).permute(2,0,1)\n",
        "        y_train = torch.LongTensor(pd.factorize(y_train_raw)[0])\n",
        "    else:\n",
        "        X_train = torch.Tensor(X)\n",
        "        y_train = torch.LongTensor(pd.factorize(y_train_raw)[0])\n",
        "    X_train, y_train = X_train.to(device), y_train.to(device)\n",
        "    \n",
        "    n_classes = len(torch.unique(y_train))\n",
        "\n",
        "    X = []\n",
        "    for v in X_test_raw.values:\n",
        "        X_k = []\n",
        "        for i in range(emb_size):\n",
        "            X_k.append(v[i])\n",
        "        X.append(X_k)\n",
        "        \n",
        "    if mode == 'rnn':\n",
        "        X_test = torch.Tensor(X).permute(2,0,1)\n",
        "        y_test = torch.LongTensor(pd.factorize(y_test_raw)[0])\n",
        "    else:\n",
        "        X_test = torch.Tensor(X)\n",
        "        y_test = torch.LongTensor(pd.factorize(y_test_raw)[0])\n",
        "    X_test, y_test = X_test.to(device), y_test.to(device)"
      ],
      "execution_count": 0,
      "outputs": []
    },
    {
      "cell_type": "markdown",
      "metadata": {
        "id": "UCU4gYoI73Og",
        "colab_type": "text"
      },
      "source": [
        "## Reducing Dataset"
      ]
    },
    {
      "cell_type": "code",
      "metadata": {
        "id": "g8ca8Bf573Oh",
        "colab_type": "code",
        "colab": {}
      },
      "source": [
        "# if you choose more balanced ids, then\n",
        "# the the load on the balancing step\n",
        "# in the intra/extra-polation procedure will be mitigated\n",
        "# Definitely use it if you are going to exclude\n",
        "# the balancing step from the augmentation part\n",
        "\n",
        "more_balanced_choice = True\n",
        "\n",
        "if more_balanced_choice:\n",
        "    cnts = y_train.bincount()\n",
        "    inv_cnts = 1./cnts.float()\n",
        "    inv_cnts /= inv_cnts.sum()\n",
        "    \n",
        "    probs = torch.empty(len(y_train))\n",
        "    for i, weight in enumerate(inv_cnts):\n",
        "        probs[y_train == i] = weight\n",
        "else:\n",
        "    probs = torch.ones(len(y_train))\n",
        "\n",
        "# select randomly 30% of all samples from the dataset\n",
        "share = 1.\n",
        "\n",
        "red_ids = torch.multinomial(probs, int(share*len(y_train)))\n",
        "X_red = X_train[red_ids]\n",
        "y_red = y_train[red_ids]"
      ],
      "execution_count": 0,
      "outputs": []
    },
    {
      "cell_type": "markdown",
      "metadata": {
        "id": "hTrFX_Lk73Ok",
        "colab_type": "text"
      },
      "source": [
        "## Extracting persistence landscapes"
      ]
    },
    {
      "cell_type": "code",
      "metadata": {
        "id": "1hRhlIAm73Ol",
        "colab_type": "code",
        "colab": {}
      },
      "source": [
        "# Maks' cell\n",
        "\n",
        "# With greed search for the best embedding dimension and time delay\n",
        "\n",
        "X_for_landscapes = X_red.transpose(2,1).cpu()\n",
        "y_for_landscapes = y_red.cpu()\n",
        "\n",
        "n_layers = 1\n",
        "n_steps = 100\n",
        "max_time_delay = 10 #maximum time delay for the search\n",
        "max_dim = 10 #maximum embedding dimension for the search\n",
        "\n",
        "kNN_scores = np.zeros((max_dim - 2,max_time_delay - 2))\n",
        "for time_delay in range(2, max_time_delay):\n",
        "    for dim in range(2, max_dim):\n",
        "        point_clouds = Takens_Embedding_torch(X_for_landscapes, d=dim, delay=time_delay)\n",
        "        diagrams, diagrams_np, VR_persistence = get_diagrams_torch(point_clouds)\n",
        "        landscapes, max_scale = get_landscapes_torch(diagrams, n_layers, n_steps)\n",
        "        pairwise_distances = landscapes_distances(landscapes, max_scale)\n",
        "        matching_matrix = y_for_landscapes.numpy()[:, np.newaxis] == y_for_landscapes.numpy()[np.newaxis, :]\n",
        "        kNN_scores[dim - 2, time_delay - 2] = get_kNN_score_torch(pairwise_distances, matching_matrix=matching_matrix)\n",
        "        #print(\"({}, {}, {})\".format(dim, time_delay, kNN_scores[dim - 2, time_delay - 2]), end=' ')\n",
        "\n",
        "embedding_dim_optimal, time_delay_optimal = np.unravel_index(np.argmax(kNN_scores, axis=None), kNN_scores.shape)\n",
        "embedding_dim_optimal += 2\n",
        "time_delay_optimal += 2\n",
        "print(\"Optimal embedding dimension: {}\\nOptimal time delay: {}\".format(embedding_dim_optimal, time_delay_optimal))\n",
        "        \n",
        "fig = plt.figure(figsize = (10,5))\n",
        "y, x = np.mgrid[slice(2, max_dim, 1.0),slice(2, max_time_delay, 1.0)]\n",
        "plt.pcolormesh(x, y, (kNN_scores>0.95) * kNN_scores)\n",
        "plt.colorbar()\n",
        "plt.xlabel(\"Time delay\")\n",
        "plt.ylabel(\"Embedding dimension\")\n",
        "plt.title(dataset_name + \" dataset. Embedding parameters with highst kNN score\")\n",
        "plt.savefig(dataset_name + ' parameters.jpg')\n",
        "plt.show()"
      ],
      "execution_count": 0,
      "outputs": []
    },
    {
      "cell_type": "code",
      "metadata": {
        "id": "u6IhqR3673Op",
        "colab_type": "code",
        "colab": {
          "base_uri": "https://localhost:8080/",
          "height": 84
        },
        "outputId": "9bcf9f57-44f2-4451-a458-bb44ce5b5985"
      },
      "source": [
        "# Maks' cell\n",
        "# The same but without greed search\n",
        "\n",
        "# Tunable hyperparameters\n",
        "n_layers = 1    # this value seems fine and easy, better don't change it\n",
        "n_steps = 100   \n",
        "embedding_dim = 3 #use here either precomputed values, or found in the next cell \n",
        "time_delay = 3    #use here either precomputed values, or found in the next cell \n",
        "\n",
        "# Extracting train landscapes\n",
        "X_for_landscapes = X_red.transpose(2,1).cpu()\n",
        "y_for_landscapes = y_red.cpu()\n",
        "\n",
        "point_clouds = Takens_Embedding_torch(X_for_landscapes, d=embedding_dim, delay=time_delay)\n",
        "diagrams, diagrams_np, VR_persistence = get_diagrams_torch(point_clouds)\n",
        "landscapes, max_scale = get_landscapes_torch(diagrams, n_layers, n_steps)\n",
        "\n",
        "pairwise_distances = landscapes_distances(landscapes, max_scale)\n",
        "matching_matrix = y_for_landscapes.numpy()[:, np.newaxis] == y_for_landscapes.numpy()[np.newaxis, :]\n",
        "kNN_score = get_kNN_score_torch(pairwise_distances, matching_matrix=matching_matrix)\n",
        "\n",
        "print(\"Point_clouds shape:\", point_clouds.size())\n",
        "print(\"Diagrams shape:\", diagrams.size())\n",
        "print(\"Landscapes shape:\", landscapes.size())\n",
        "print(\"kNN score:\", kNN_score)\n",
        "\n",
        "land_shape = tuple(landscapes.shape[1:])\n",
        "landscapes_train = landscapes.to(device)"
      ],
      "execution_count": 270,
      "outputs": [
        {
          "output_type": "stream",
          "text": [
            "Point_clouds shape: torch.Size([28, 280, 3])\n",
            "Diagrams shape: torch.Size([28, 2, 334, 2])\n",
            "Landscapes shape: torch.Size([28, 2, 1, 100])\n",
            "kNN score: 1.0\n"
          ],
          "name": "stdout"
        }
      ]
    },
    {
      "cell_type": "code",
      "metadata": {
        "id": "ZZWL6hJ473Os",
        "colab_type": "code",
        "colab": {}
      },
      "source": [
        "# Maks' cell\n",
        "\n",
        "X_for_landscapes = X_test.transpose(2,1).cpu()\n",
        "y_for_landscapes = y_test.cpu()\n",
        "\n",
        "point_clouds = Takens_Embedding_torch(X_for_landscapes, d=embedding_dim, delay=time_delay)\n",
        "diagrams, diagrams_np, VR_persistence = get_diagrams_torch(point_clouds)\n",
        "landscapes, max_scale = get_landscapes_torch(diagrams, n_layers, n_steps)\n",
        "\n",
        "pairwise_distances = landscapes_distances(landscapes, max_scale)\n",
        "matching_matrix = y_for_landscapes.numpy()[:, np.newaxis] == y_for_landscapes.numpy()[np.newaxis, :]\n",
        "kNN_score = get_kNN_score_torch(pairwise_distances, matching_matrix=matching_matrix)\n",
        "\n",
        "landscapes_test = landscapes.to(device)"
      ],
      "execution_count": 0,
      "outputs": []
    },
    {
      "cell_type": "markdown",
      "metadata": {
        "id": "jTCBuZO973Ov",
        "colab_type": "text"
      },
      "source": [
        "# Network Training Procedures\n",
        "\n",
        "Here you need to define all hyperparameters to achieve sth worthwhile  \n",
        "For different datasets, they may take different values"
      ]
    },
    {
      "cell_type": "code",
      "metadata": {
        "id": "fenfwrtp73Ow",
        "colab_type": "code",
        "colab": {}
      },
      "source": [
        "# common variable names\n",
        "best_weights = None\n",
        "best_score = [float('inf')]\n",
        "train_history, test_history = [], []"
      ],
      "execution_count": 0,
      "outputs": []
    },
    {
      "cell_type": "markdown",
      "metadata": {
        "id": "xGLSuepN73Oy",
        "colab_type": "text"
      },
      "source": [
        "## Auto-encoder's train function"
      ]
    },
    {
      "cell_type": "code",
      "metadata": {
        "colab_type": "code",
        "id": "9oXqtx_YDAFX",
        "colab": {}
      },
      "source": [
        "# Autoencoder tunable hyperparameters:\n",
        "code_size = 100            # compression level\n",
        "channels = [32, 64, 64]        # number of neurons in hidden layers \n",
        "kernel_size = 46\n",
        "# last two are valid for 'cnn' only\n",
        "\n",
        "# Optimizer tunable hyperparameters:\n",
        "lr = 1e-4\n",
        "step = 2\n",
        "gamma = .999\n",
        "\n",
        "args_for_AE = (code_size, channels, kernel_size, lr, step, gamma)\n",
        "\n",
        "# Here you can choose the loss function\n",
        "MSE = nn.MSELoss()\n",
        "MAE = lambda X,Y: (X-Y).abs().mean()\n",
        "criterion_ae = MAE\n",
        "\n",
        "def reset_AE_trainables(\n",
        "    code_size, channels, kernel_size, lr, step, gamma, mode):\n",
        "    if mode == 'rnn':\n",
        "        ae = RNNSeqAE(emb_size, code_size, seq_length).to(device)\n",
        "        mode = 'cnn'\n",
        "    else:\n",
        "        ae = ConvSeqAE(\n",
        "            emb_size, code_size, seq_length,\n",
        "            channels, kernel_size).to(device)\n",
        "\n",
        "    opt_ae = optim.Adam(ae.parameters(), lr)\n",
        "    sch_ae = optim.lr_scheduler.StepLR(opt_ae, step, gamma)\n",
        "    return ae, opt_ae, sch_ae\n",
        "\n",
        "# Globally defined variables of the function 'train_*'\n",
        "ae, opt_ae, sch_ae = reset_AE_trainables(*args_for_AE, mode)\n",
        "\n",
        "# training procedure\n",
        "def train_ae(X_train, num_epochs, mode, verbose=True):\n",
        "    for epoch in range(num_epochs):\n",
        "        train_loss = []\n",
        "        for bx in get_batches(X_train, mode=mode):\n",
        "            opt_ae.zero_grad()\n",
        "            bx_rec = ae(bx)\n",
        "            loss = criterion_ae(bx_rec, bx)\n",
        "            loss.backward()\n",
        "            train_loss.append(loss.item())\n",
        "            opt_ae.step()\n",
        "        sch_ae.step()\n",
        "        train_history.append(np.mean(train_loss))\n",
        "        test_loss = criterion_ae(ae(X_test), X_test).item()\n",
        "        test_history.append(test_loss)\n",
        "        if verbose:\n",
        "            print(f'Epoch #{epoch}\\n------')\n",
        "            print(train_history[-1])\n",
        "            print(test_history[-1], '\\n')\n",
        "        if test_loss < best_score[0]:\n",
        "            best_score[0] = test_loss\n",
        "            best_weights = copy.deepcopy(ae.state_dict())"
      ],
      "execution_count": 0,
      "outputs": []
    },
    {
      "cell_type": "markdown",
      "metadata": {
        "id": "EYwVX9eq73O2",
        "colab_type": "text"
      },
      "source": [
        "## Classifier's train function"
      ]
    },
    {
      "cell_type": "code",
      "metadata": {
        "id": "0bv6r9bD73O3",
        "colab_type": "code",
        "colab": {}
      },
      "source": [
        "# Classifier tunable hyperparameters:\n",
        "channels = [2, 2]        # number of neurons in hidden layers \n",
        "kernel_size = 32\n",
        "\n",
        "# Optimizer tunable hyperparameters:\n",
        "lr = 1e-2\n",
        "step = 2\n",
        "gamma = .999\n",
        "\n",
        "args_for_CLF = (channels, kernel_size, lr, step, gamma)\n",
        "def reset_CLF_trainables(channels, kernel_size, lr, step, gamma):\n",
        "    clf = SeqClassifier(\n",
        "        emb_size, n_classes,\n",
        "        channels, kernel_size).to(device)\n",
        "    opt_clf = optim.Adam(clf.parameters(), lr)\n",
        "    sch_clf = optim.lr_scheduler.StepLR(opt_clf, step, gamma)\n",
        "    return clf, opt_clf, sch_clf\n",
        "\n",
        "# Globally defined variables of the function 'train_*'\n",
        "clf, opt_clf, sch_clf = reset_CLF_trainables(*args_for_CLF)\n",
        "criterion_clf = nn.CrossEntropyLoss()\n",
        "\n",
        "# training procedure\n",
        "def train_clf(X_train, y_train, num_epochs, mode, verbose=True):\n",
        "    for epoch in range(num_epochs):\n",
        "        train_loss = []\n",
        "        for bx,by in get_batches(X_train, y_train, mode=mode):\n",
        "            opt_clf.zero_grad()\n",
        "            y_pred = clf(bx)\n",
        "            loss = criterion_clf(y_pred, by)\n",
        "            loss.backward()\n",
        "            train_loss.append(loss.item())\n",
        "            opt_clf.step()\n",
        "        sch_clf.step()\n",
        "        train_history.append(np.mean(train_loss))\n",
        "        test_loss = criterion_clf(clf(X_test), y_test).item()\n",
        "        test_history.append(test_loss)\n",
        "        if verbose:\n",
        "            print(f'Epoch #{epoch}\\n------')\n",
        "            print(train_history[-1])\n",
        "            print(test_history[-1], '\\n')\n",
        "        if test_loss < best_score[0]:\n",
        "            best_score[0] = test_loss\n",
        "            best_weights = copy.deepcopy(clf.state_dict())"
      ],
      "execution_count": 0,
      "outputs": []
    },
    {
      "cell_type": "markdown",
      "metadata": {
        "id": "25t9-aks73O6",
        "colab_type": "text"
      },
      "source": [
        "## Landscape Inverse's train function"
      ]
    },
    {
      "cell_type": "code",
      "metadata": {
        "colab_type": "code",
        "id": "Z8lumEwt73O7",
        "colab": {}
      },
      "source": [
        "# Landscape Inverse tunable hyperparameters\n",
        "channels = [32, 64, 64]\n",
        "kernel_size = 46\n",
        "\n",
        "# Optimizer tunable hyperparameters\n",
        "lr = 1e-4\n",
        "step = 2\n",
        "gamma = .999\n",
        "\n",
        "args_for_PLI = (channels, kernel_size, lr, step, gamma)\n",
        "# Choose the loss function here\n",
        "MSE = nn.MSELoss()\n",
        "MAE = lambda X,Y: (X-Y).abs().mean()\n",
        "criterion_pli = MAE\n",
        "\n",
        "def reset_PLI_trainables(channels, kernel_size, lr, step, gamma):\n",
        "    pli = LandscapeInverse(\n",
        "        emb_size, land_shape,\n",
        "        seq_length, channels, kernel_size).to(device)\n",
        "    opt_pli = optim.Adam(pli.parameters(), lr)\n",
        "    sch_pli = optim.lr_scheduler.StepLR(opt_pli, step, gamma)\n",
        "    return pli, opt_pli, sch_pli\n",
        "\n",
        "# Globally defined variables of the function 'train_*'\n",
        "pli, opt_pli, sch_pli = reset_PLI_trainables(*args_for_PLI)\n",
        "\n",
        "# training procedure\n",
        "def train_pli(landscapes_train, num_epochs, mode, verbose=True):\n",
        "    train_ids = torch.arange(len(landscapes_train))\n",
        "    for epoch in range(num_epochs):\n",
        "        train_loss = []\n",
        "        for bx,ids in get_batches(landscapes_train, train_ids, mode=mode):\n",
        "            opt_pli.zero_grad()\n",
        "            bx_rec = pli(bx)\n",
        "            loss = criterion_pli(bx_rec, X_train[ids])\n",
        "            loss.backward()\n",
        "            train_loss.append(loss.item())\n",
        "            opt_pli.step()\n",
        "        sch_pli.step()\n",
        "        train_history.append(np.mean(train_loss))\n",
        "        test_loss = criterion_pli(pli(landscapes_test), X_test).item()\n",
        "        test_history.append(test_loss)\n",
        "        if verbose:\n",
        "            print(f'Epoch #{epoch}\\n------')\n",
        "            print(train_history[-1])\n",
        "            print(test_history[-1], '\\n')\n",
        "        if test_loss < best_score[0]:\n",
        "            best_score[0] = test_loss\n",
        "            best_weights = copy.deepcopy(pli.state_dict())"
      ],
      "execution_count": 0,
      "outputs": []
    },
    {
      "cell_type": "markdown",
      "metadata": {
        "id": "fSbluF9073O_",
        "colab_type": "text"
      },
      "source": [
        "## SAE with persistence landscapes' train function"
      ]
    },
    {
      "cell_type": "code",
      "metadata": {
        "id": "BODLYMq573O_",
        "colab_type": "code",
        "colab": {}
      },
      "source": [
        "# PLSAE Tunable parameters\n",
        "channels = [32, 64, 64]\n",
        "kernel_size = 28\n",
        "\n",
        "# Optimizer tunable parameters\n",
        "lr = 1e-4\n",
        "step = 2\n",
        "gamma = .999\n",
        "\n",
        "args_for_SLAE = (channels, kernel_size, lr, step, gamma)\n",
        "\n",
        "# Choose loss function here\n",
        "MSE = nn.MSELoss()\n",
        "MAE = lambda X,Y: (X-Y).abs().mean()\n",
        "criterion_slae = MAE\n",
        "\n",
        "def reset_SLAE_trainables(channels, kernel_size, lr, step, gamma):\n",
        "    slae = TDASAE(emb_size, code_size,\n",
        "                  seq_length, land_shape, channels, kernel_size).to(device)\n",
        "    opt_slae = optim.Adam(slae.parameters(), lr)\n",
        "    sch_slae = optim.lr_scheduler.StepLR(opt_slae, step, gamma)\n",
        "    return slae, opt_slae, sch_slae\n",
        "\n",
        "# Globally defined variables of the function 'train_*'\n",
        "slae, opt_slae, sch_slae = reset_SLAE_trainables(*args_for_SLAE)\n",
        "\n",
        "# training procedure\n",
        "def train_slae(X_train, num_epochs, mode, verbose=True):\n",
        "    train_ids = torch.arange(len(X_train))\n",
        "    for epoch in range(num_epochs):\n",
        "        train_loss = []\n",
        "        for bx,ids in get_batches(X_train, train_ids, mode=mode):\n",
        "            opt_slae.zero_grad()\n",
        "            bx_rec = slae(bx, landscapes_train[ids])\n",
        "            loss = criterion_slae(bx_rec, bx)\n",
        "            loss.backward()\n",
        "            train_loss.append(loss.item())\n",
        "            opt_slae.step()\n",
        "        sch_slae.step()\n",
        "        train_history.append(np.mean(train_loss))\n",
        "        test_loss = criterion_slae(slae(X_test, landscapes_test), X_test).item()\n",
        "        test_history.append(test_loss)\n",
        "        if verbose:\n",
        "            print(f'Epoch #{epoch}\\n------')\n",
        "            print(train_history[-1])\n",
        "            print(test_history[-1], '\\n')\n",
        "        if test_loss < best_score[0]:\n",
        "            best_score[0] = test_loss\n",
        "            best_weights = copy.deepcopy(slae.state_dict())"
      ],
      "execution_count": 0,
      "outputs": []
    },
    {
      "cell_type": "markdown",
      "metadata": {
        "id": "b9dd1uLY73PC",
        "colab_type": "text"
      },
      "source": [
        "## Other tools"
      ]
    },
    {
      "cell_type": "code",
      "metadata": {
        "id": "9od_6tEo73PD",
        "colab_type": "code",
        "colab": {}
      },
      "source": [
        "def clear_buffers(best_score, list1, list2):\n",
        "    best_score[0] = float('inf')\n",
        "    list1.clear(); list2.clear()"
      ],
      "execution_count": 0,
      "outputs": []
    },
    {
      "cell_type": "code",
      "metadata": {
        "id": "Tz1ze4RI73PF",
        "colab_type": "code",
        "colab": {}
      },
      "source": [
        "def oversampling(X, y, augments, k=3, sign=-1):\n",
        "    \"\"\"\n",
        "    X   array of shape (batch_size, code_length);\n",
        "        to apply to persistence landscape, you must \n",
        "        reshape it first\n",
        "    \n",
        "    sign = -1 -> intrapolation\n",
        "    sign = +1 -> extrapolation\n",
        "    \"\"\"\n",
        "    new_X, new_y = [], []\n",
        "    for lbl, m in enumerate(augments):\n",
        "        X_lbl = X[y==lbl]\n",
        "        m_ids = torch.multinomial(\n",
        "            torch.ones(len(X_lbl)), m, replacement=True)\n",
        "        lambda_ = X.new(m).uniform_(.3, .7)[:, None, None]\n",
        "        \n",
        "        mX_lbl = X_lbl[m_ids]\n",
        "        mk_ids = torch.norm(\n",
        "            X_lbl - mX_lbl[:,None], dim=2\n",
        "        ).topk(k, dim=1)[1]\n",
        "        \n",
        "        new_X.append(\n",
        "            (lambda_*sign*(mX_lbl[:,None]-X_lbl[mk_ids])\n",
        "             + mX_lbl[:,None]).flatten(0,1))\n",
        "        new_y.append(torch.tensor([lbl]*m*k))\n",
        "    return torch.cat(new_X), torch.cat(new_y)"
      ],
      "execution_count": 0,
      "outputs": []
    },
    {
      "cell_type": "markdown",
      "metadata": {
        "id": "GSLv4dJL73PI",
        "colab_type": "text"
      },
      "source": [
        "# Results Reproduction of DeVries and etc "
      ]
    },
    {
      "cell_type": "markdown",
      "metadata": {
        "id": "Hz4ayS4M73PI",
        "colab_type": "text"
      },
      "source": [
        "## Training autoencoder"
      ]
    },
    {
      "cell_type": "code",
      "metadata": {
        "id": "Arc1apKU73PJ",
        "colab_type": "code",
        "colab": {}
      },
      "source": [
        "best_weights = clear_buffers(best_score, train_history, test_history)\n",
        "ae, opt_ae, sch_ae = reset_AE_trainables(*args_for_AE, mode)"
      ],
      "execution_count": 0,
      "outputs": []
    },
    {
      "cell_type": "code",
      "metadata": {
        "colab_type": "code",
        "id": "bPE3BQ_UDAFd",
        "colab": {}
      },
      "source": [
        "train_ae(X_red, 300, mode, verbose=False)"
      ],
      "execution_count": 0,
      "outputs": []
    },
    {
      "cell_type": "code",
      "metadata": {
        "colab_type": "code",
        "id": "-AMDn-q6JDQf",
        "outputId": "0d0c2487-6d7b-4a1a-a326-9ac8d2fff606",
        "colab": {
          "base_uri": "https://localhost:8080/",
          "height": 298
        }
      },
      "source": [
        "plt.plot(train_history, label='train')\n",
        "plt.plot(test_history, label='test')\n",
        "plt.title(\"Autoencoder's losses\")\n",
        "print('best score:', best_score[0])\n",
        "plt.legend();"
      ],
      "execution_count": 322,
      "outputs": [
        {
          "output_type": "stream",
          "text": [
            "best score: 0.07382974028587341\n"
          ],
          "name": "stdout"
        },
        {
          "output_type": "display_data",
          "data": {
            "image/png": "[encoded data removed]",
            "text/plain": [
              "<Figure size 432x288 with 1 Axes>"
            ]
          },
          "metadata": {
            "tags": []
          }
        }
      ]
    },
    {
      "cell_type": "code",
      "metadata": {
        "colab_type": "code",
        "id": "e_jhyWNdDAFk",
        "outputId": "18ca37b4-a132-45e6-85eb-fae5f35f05a5",
        "scrolled": true,
        "colab": {
          "base_uri": "https://localhost:8080/",
          "height": 286
        }
      },
      "source": [
        "# Load best weights\n",
        "if best_weights:\n",
        "    ae.load_state_dict(best_weights)\n",
        "    \n",
        "# And check the reconstruction\n",
        "perm_ids = torch.randperm(X_test.size(1))\n",
        "ae(X_red[:,perm_ids]).squeeze(), X_red[:,perm_ids].squeeze()"
      ],
      "execution_count": 323,
      "outputs": [
        {
          "output_type": "execute_result",
          "data": {
            "text/plain": [
              "(tensor([[-0.4857, -0.5083, -0.5581,  ..., -1.8190, -1.8264, -1.8299],\n",
              "         [-0.4862, -0.5088, -0.5588,  ..., -1.8231, -1.8308, -1.8348],\n",
              "         [-0.4870, -0.5099, -0.5602,  ..., -1.8378, -1.8454, -1.8490],\n",
              "         ...,\n",
              "         [-0.4824, -0.5051, -0.5553,  ..., -1.8310, -1.8387, -1.8427],\n",
              "         [-0.4838, -0.5065, -0.5568,  ..., -1.8377, -1.8454, -1.8497],\n",
              "         [-0.4932, -0.5162, -0.5667,  ..., -1.8382, -1.8458, -1.8492]],\n",
              "        device='cuda:0', grad_fn=<SqueezeBackward0>),\n",
              " tensor([[-0.4606, -0.3692, -0.3541,  ..., -1.9940, -1.9970, -1.9993],\n",
              "         [-0.6730, -0.6527, -0.6448,  ..., -1.7388, -1.7402, -1.7417],\n",
              "         [-0.4181, -0.3537, -0.3623,  ..., -1.9930, -1.9954, -1.9975],\n",
              "         ...,\n",
              "         [-0.4073, -0.3826, -0.4409,  ..., -1.9310, -1.9328, -1.9341],\n",
              "         [-0.4726, -0.4155, -0.3599,  ..., -1.9891, -1.9907, -1.9923],\n",
              "         [-0.5918, -0.5710, -0.5900,  ..., -1.8737, -1.8753, -1.8771]],\n",
              "        device='cuda:0'))"
            ]
          },
          "metadata": {
            "tags": []
          },
          "execution_count": 323
        }
      ]
    },
    {
      "cell_type": "markdown",
      "metadata": {
        "id": "7MNlox0873PU",
        "colab_type": "text"
      },
      "source": [
        "## Training classifier on reduced dataset"
      ]
    },
    {
      "cell_type": "code",
      "metadata": {
        "id": "a6_6lv2R73PV",
        "colab_type": "code",
        "colab": {}
      },
      "source": [
        "best_weights = clear_buffers(best_score, train_history, test_history)\n",
        "clf, opt_clf, sch_clf = reset_CLF_trainables(*args_for_CLF)"
      ],
      "execution_count": 0,
      "outputs": []
    },
    {
      "cell_type": "code",
      "metadata": {
        "id": "f8z5OfaB73PX",
        "colab_type": "code",
        "colab": {}
      },
      "source": [
        "train_clf(X_red, y_red, 300, mode, verbose=False)"
      ],
      "execution_count": 0,
      "outputs": []
    },
    {
      "cell_type": "code",
      "metadata": {
        "colab_type": "code",
        "outputId": "800a2f89-1d38-4054-bff5-8e193bad4119",
        "id": "RBL3uNlK73Pa",
        "colab": {
          "base_uri": "https://localhost:8080/",
          "height": 281
        }
      },
      "source": [
        "plt.plot(train_history, label='train')\n",
        "plt.plot(test_history, label='test')\n",
        "plt.title(\"Classifier's losses on the reduced dataset\")\n",
        "plt.legend();"
      ],
      "execution_count": 326,
      "outputs": [
        {
          "output_type": "display_data",
          "data": {
            "image/png": "[encoded data removed]",
            "text/plain": [
              "<Figure size 432x288 with 1 Axes>"
            ]
          },
          "metadata": {
            "tags": []
          }
        }
      ]
    },
    {
      "cell_type": "code",
      "metadata": {
        "colab_type": "code",
        "id": "ZTHfp_Uz73Pc",
        "colab": {}
      },
      "source": [
        "# Load best weights\n",
        "if best_weights:\n",
        "    clf.load_state_dict(best_weights)"
      ],
      "execution_count": 0,
      "outputs": []
    },
    {
      "cell_type": "code",
      "metadata": {
        "id": "JgyQT_kp73Pg",
        "colab_type": "code",
        "colab": {
          "base_uri": "https://localhost:8080/",
          "height": 101
        },
        "outputId": "1a847ff2-f75e-478a-8148-06a2af902af2"
      },
      "source": [
        "y_pred = clf.predict(X_test).cpu()\n",
        "print('accuracy =', accuracy_score(y_test.cpu(), y_pred))\n",
        "y_test, y_pred"
      ],
      "execution_count": 328,
      "outputs": [
        {
          "output_type": "stream",
          "text": [
            "accuracy = 0.9642857142857143\n"
          ],
          "name": "stdout"
        },
        {
          "output_type": "execute_result",
          "data": {
            "text/plain": [
              "(tensor([0, 0, 0, 0, 0, 0, 0, 0, 0, 0, 0, 0, 0, 0, 0, 1, 1, 1, 1, 1, 1, 1, 1, 1,\n",
              "         1, 1, 1, 1], device='cuda:0'),\n",
              " tensor([0, 0, 0, 0, 0, 0, 0, 0, 0, 0, 0, 0, 0, 0, 0, 1, 1, 1, 1, 0, 1, 1, 1, 1,\n",
              "         1, 1, 1, 1]))"
            ]
          },
          "metadata": {
            "tags": []
          },
          "execution_count": 328
        }
      ]
    },
    {
      "cell_type": "markdown",
      "metadata": {
        "id": "XXOAr2ii73Pi",
        "colab_type": "text"
      },
      "source": [
        "## Applying transformations to extracted code"
      ]
    },
    {
      "cell_type": "code",
      "metadata": {
        "id": "FnC8A8qJ73Pj",
        "colab_type": "code",
        "colab": {}
      },
      "source": [
        "code = ae.enc(X_red).detach()\n",
        "X_augmented, y_augmented = [], []\n",
        "\n",
        "# Balance the number of class representators\n",
        "cnts = y_red.bincount()\n",
        "augments = cnts.max().item() - cnts\n",
        "if any(augments):\n",
        "    new_code, new_y = oversampling(code, y_red, augments)\n",
        "    new_X = ae.dec(new_code).detach()\n",
        "    X_augmented.append(new_X)\n",
        "    y_augmented.append(new_y)\n",
        "\n",
        "# Tunable hyperparameters\n",
        "k = 1\n",
        "M = 4  # chose M: <!! each class will grow by M !!>\n",
        "add_noise = False\n",
        "\n",
        "# Equal augmentation\n",
        "for sign in [-1, +1]:\n",
        "    augments = [M] * len(cnts)\n",
        "    new_code, new_y = oversampling(code, y_red, augments, k, sign)\n",
        "    new_X = ae.dec(new_code).detach()\n",
        "    X_augmented.append(new_X)\n",
        "    y_augmented.append(new_y)\n",
        "\n",
        "X_augmented, y_augmented = map(torch.cat, (X_augmented, y_augmented))"
      ],
      "execution_count": 0,
      "outputs": []
    },
    {
      "cell_type": "code",
      "metadata": {
        "id": "nj91_is073Pm",
        "colab_type": "code",
        "colab": {}
      },
      "source": [
        "# Data augmentation by adding gaussian noise\n",
        "\n",
        "# !! Take into consideration that noise here is being applied\n",
        "# to balanced and already augmented by inter/extra-polation dataset !!\n",
        "\n",
        "if add_noise:\n",
        "    code = ae.enc(X_augmented).detach()\n",
        "    new_code = code + .05*torch.randn_like(code)\n",
        "    X_augmented = torch.cat([X_augmented, ae.dec(new_code).detach()])\n",
        "    y_augmented = torch.cat([y_augmented, y_augmented])"
      ],
      "execution_count": 0,
      "outputs": []
    },
    {
      "cell_type": "code",
      "metadata": {
        "id": "oPmO8A8BOaFn",
        "colab_type": "code",
        "colab": {
          "base_uri": "https://localhost:8080/",
          "height": 34
        },
        "outputId": "8c10c9f6-f41f-46e2-fec8-a696cfeaffaf"
      },
      "source": [
        "X_augmented, y_augmented = X_augmented.to(device), y_augmented.to(device)\n",
        "X_augmented = torch.cat((X_red, X_augmented))\n",
        "y_augmented = torch.cat((y_red, y_augmented))\n",
        "print(len(y_augmented))"
      ],
      "execution_count": 331,
      "outputs": [
        {
          "output_type": "stream",
          "text": [
            "44\n"
          ],
          "name": "stdout"
        }
      ]
    },
    {
      "cell_type": "markdown",
      "metadata": {
        "id": "5TxpALu_73Po",
        "colab_type": "text"
      },
      "source": [
        "## Training classifier on augmented dataset (DeVries)"
      ]
    },
    {
      "cell_type": "code",
      "metadata": {
        "id": "PYw6O_Qs73Po",
        "colab_type": "code",
        "colab": {}
      },
      "source": [
        "best_weights = clear_buffers(best_score, train_history, test_history)\n",
        "clf, opt_clf, sch_clf = reset_CLF_trainables(*args_for_CLF)"
      ],
      "execution_count": 0,
      "outputs": []
    },
    {
      "cell_type": "code",
      "metadata": {
        "id": "b78opdyR73Pr",
        "colab_type": "code",
        "colab": {}
      },
      "source": [
        "train_clf(X_augmented, y_augmented, 300, mode, False)"
      ],
      "execution_count": 0,
      "outputs": []
    },
    {
      "cell_type": "code",
      "metadata": {
        "colab_type": "code",
        "outputId": "a1392363-0428-49fe-f30f-fe39afdb2cbf",
        "id": "4TS56tqB73Pt",
        "colab": {
          "base_uri": "https://localhost:8080/",
          "height": 281
        }
      },
      "source": [
        "plt.plot(train_history, label='train')\n",
        "plt.plot(test_history, label='test')\n",
        "plt.title(\"Classifier's losses on the augmented dataset\")\n",
        "print('best score:', best_score[0])\n",
        "plt.legend();"
      ],
      "execution_count": 334,
      "outputs": [
        {
          "output_type": "display_data",
          "data": {
            "image/png": "[encoded data removed]",
            "text/plain": [
              "<Figure size 432x288 with 1 Axes>"
            ]
          },
          "metadata": {
            "tags": []
          }
        }
      ]
    },
    {
      "cell_type": "code",
      "metadata": {
        "colab_type": "code",
        "id": "xFKn8mMJ73Pw",
        "colab": {}
      },
      "source": [
        "# Load best weights\n",
        "if best_weights:\n",
        "    clf.load_state_dict(best_weights)"
      ],
      "execution_count": 0,
      "outputs": []
    },
    {
      "cell_type": "code",
      "metadata": {
        "id": "51fqcfUi73Pz",
        "colab_type": "code",
        "colab": {
          "base_uri": "https://localhost:8080/",
          "height": 101
        },
        "outputId": "aacdcb2c-d628-43b0-94dd-74ecd750bb32"
      },
      "source": [
        "y_pred = clf.predict(X_test).cpu()\n",
        "print('accuracy =', accuracy_score(y_test.cpu(), y_pred))\n",
        "y_test, y_pred"
      ],
      "execution_count": 336,
      "outputs": [
        {
          "output_type": "stream",
          "text": [
            "accuracy = 0.8928571428571429\n"
          ],
          "name": "stdout"
        },
        {
          "output_type": "execute_result",
          "data": {
            "text/plain": [
              "(tensor([0, 0, 0, 0, 0, 0, 0, 0, 0, 0, 0, 0, 0, 0, 0, 1, 1, 1, 1, 1, 1, 1, 1, 1,\n",
              "         1, 1, 1, 1], device='cuda:0'),\n",
              " tensor([0, 0, 0, 0, 0, 0, 1, 0, 0, 0, 0, 0, 0, 0, 0, 1, 1, 1, 1, 0, 1, 1, 1, 1,\n",
              "         0, 1, 1, 1]))"
            ]
          },
          "metadata": {
            "tags": []
          },
          "execution_count": 336
        }
      ]
    },
    {
      "cell_type": "markdown",
      "metadata": {
        "id": "q7wQJ8Ts73P1",
        "colab_type": "text"
      },
      "source": [
        "# Augmentation with Persistence Landscapes"
      ]
    },
    {
      "cell_type": "markdown",
      "metadata": {
        "id": "p6Wo97X073P2",
        "colab_type": "text"
      },
      "source": [
        "## Scheme 1"
      ]
    },
    {
      "cell_type": "markdown",
      "metadata": {
        "id": "kgYxIxnF73P2",
        "colab_type": "text"
      },
      "source": [
        "### Training Landscape Inverse"
      ]
    },
    {
      "cell_type": "code",
      "metadata": {
        "id": "hGXUaGGv73P3",
        "colab_type": "code",
        "colab": {}
      },
      "source": [
        "best_weights = clear_buffers(best_score, train_history, test_history)\n",
        "pli, opt_pli, sch_pli = reset_PLI_trainables(*args_for_PLI)"
      ],
      "execution_count": 0,
      "outputs": []
    },
    {
      "cell_type": "code",
      "metadata": {
        "id": "pbu4FhVF73P7",
        "colab_type": "code",
        "colab": {}
      },
      "source": [
        "train_pli(landscapes_train, 800, mode, verbose=False)"
      ],
      "execution_count": 0,
      "outputs": []
    },
    {
      "cell_type": "code",
      "metadata": {
        "colab_type": "code",
        "outputId": "0a1bb85d-4310-40d7-d582-247bf137824d",
        "id": "1jf-BCsx73P-",
        "colab": {
          "base_uri": "https://localhost:8080/",
          "height": 298
        }
      },
      "source": [
        "plt.plot(train_history, label='train')\n",
        "plt.plot(test_history, label='test')\n",
        "plt.title(\"Landscape Inverse's losses\")\n",
        "print('best score:', best_score[0])\n",
        "plt.legend();"
      ],
      "execution_count": 339,
      "outputs": [
        {
          "output_type": "stream",
          "text": [
            "best score: 0.0930815115571022\n"
          ],
          "name": "stdout"
        },
        {
          "output_type": "display_data",
          "data": {
            "image/png": "[encoded data removed]",
            "text/plain": [
              "<Figure size 432x288 with 1 Axes>"
            ]
          },
          "metadata": {
            "tags": []
          }
        }
      ]
    },
    {
      "cell_type": "code",
      "metadata": {
        "colab_type": "code",
        "id": "wwaky68Q73QC",
        "colab": {}
      },
      "source": [
        "# Load best weights\n",
        "if best_weights:\n",
        "    pli.load_state_dict(best_weights)"
      ],
      "execution_count": 0,
      "outputs": []
    },
    {
      "cell_type": "markdown",
      "metadata": {
        "id": "hSCIXH8p73QG",
        "colab_type": "text"
      },
      "source": [
        "###  Applying transformations to persistence landscapes"
      ]
    },
    {
      "cell_type": "code",
      "metadata": {
        "id": "SOIjzTfY73QG",
        "colab_type": "code",
        "colab": {}
      },
      "source": [
        "code = landscapes_train.view(-1, np.prod(land_shape))\n",
        "X_augmented, y_augmented = [], []\n",
        "\n",
        "# Balance the number of class representators\n",
        "cnts = y_red.bincount()\n",
        "augments = cnts.max().item() - cnts\n",
        "if any(augments):\n",
        "    new_code, new_y = oversampling(code, y_red, augments)\n",
        "    new_X = pli(new_code.view(-1, *land_shape)).detach()\n",
        "    X_augmented.append(new_X)\n",
        "    y_augmented.append(new_y)\n",
        "\n",
        "# Tunable hyperparameters    \n",
        "k = 1\n",
        "M = 4  # chose M: <!! each class will grow by M !!>\n",
        "# Equal augmentation\n",
        "for sign in [-1, +1]:\n",
        "    augments = [M] * len(cnts)\n",
        "    new_code, new_y = oversampling(code, y_red, augments, k, sign)\n",
        "    new_X = pli(new_code.view(-1, *land_shape)).detach()\n",
        "    X_augmented.append(new_X)\n",
        "    y_augmented.append(new_y)\n",
        "\n",
        "X_augmented, y_augmented = map(torch.cat, (X_augmented, y_augmented))\n",
        "X_augmented, y_augmented = X_augmented.to(device), y_augmented.to(device)"
      ],
      "execution_count": 0,
      "outputs": []
    },
    {
      "cell_type": "code",
      "metadata": {
        "id": "Bjr5oi7KavS-",
        "colab_type": "code",
        "colab": {
          "base_uri": "https://localhost:8080/",
          "height": 34
        },
        "outputId": "4025efdd-d2e7-4397-becd-866953b5f418"
      },
      "source": [
        "X_augmented = torch.cat((X_red, X_augmented))\n",
        "y_augmented = torch.cat((y_red, y_augmented))\n",
        "print(len(y_augmented))"
      ],
      "execution_count": 342,
      "outputs": [
        {
          "output_type": "stream",
          "text": [
            "44\n"
          ],
          "name": "stdout"
        }
      ]
    },
    {
      "cell_type": "markdown",
      "metadata": {
        "id": "UjXEPoAv73QI",
        "colab_type": "text"
      },
      "source": [
        "### Training classifier on augmented dataset (Landscape Inverse)"
      ]
    },
    {
      "cell_type": "code",
      "metadata": {
        "id": "aXX9HHwL73QJ",
        "colab_type": "code",
        "colab": {}
      },
      "source": [
        "best_weights = clear_buffers(best_score, train_history, test_history)\n",
        "clf, opt_clf, sch_clf = reset_CLF_trainables(*args_for_CLF)"
      ],
      "execution_count": 0,
      "outputs": []
    },
    {
      "cell_type": "code",
      "metadata": {
        "id": "gfFmnDTy73QL",
        "colab_type": "code",
        "colab": {}
      },
      "source": [
        "train_clf(X_augmented, y_augmented, 300, mode, False)"
      ],
      "execution_count": 0,
      "outputs": []
    },
    {
      "cell_type": "code",
      "metadata": {
        "colab_type": "code",
        "outputId": "1367d798-2280-4e3a-93f8-be6fd5d899d4",
        "id": "ba4tfBg673QO",
        "colab": {
          "base_uri": "https://localhost:8080/",
          "height": 298
        }
      },
      "source": [
        "plt.plot(train_history, label='train')\n",
        "plt.plot(test_history, label='test')\n",
        "plt.title(\"Classifier's losses on the augmented dataset\")\n",
        "print('best score:', best_score[0])\n",
        "plt.legend();"
      ],
      "execution_count": 348,
      "outputs": [
        {
          "output_type": "stream",
          "text": [
            "best score: 0.13546818494796753\n"
          ],
          "name": "stdout"
        },
        {
          "output_type": "display_data",
          "data": {
            "image/png": "[encoded data removed]",
            "text/plain": [
              "<Figure size 432x288 with 1 Axes>"
            ]
          },
          "metadata": {
            "tags": []
          }
        }
      ]
    },
    {
      "cell_type": "code",
      "metadata": {
        "colab_type": "code",
        "id": "p8ACehHc73QQ",
        "colab": {}
      },
      "source": [
        "# Load best weights\n",
        "if best_weights:\n",
        "    clf.load_state_dict(best_weights)"
      ],
      "execution_count": 0,
      "outputs": []
    },
    {
      "cell_type": "code",
      "metadata": {
        "id": "2QNo5BFj73QS",
        "colab_type": "code",
        "colab": {
          "base_uri": "https://localhost:8080/",
          "height": 101
        },
        "outputId": "b554146a-5268-40b3-a9e9-dd55bd19728b"
      },
      "source": [
        "y_pred = clf.predict(X_test).cpu() \n",
        "print('accuracy =', accuracy_score(y_test.cpu(), y_pred))\n",
        "y_test, y_pred"
      ],
      "execution_count": 347,
      "outputs": [
        {
          "output_type": "stream",
          "text": [
            "accuracy = 0.9285714285714286\n"
          ],
          "name": "stdout"
        },
        {
          "output_type": "execute_result",
          "data": {
            "text/plain": [
              "(tensor([0, 0, 0, 0, 0, 0, 0, 0, 0, 0, 0, 0, 0, 0, 0, 1, 1, 1, 1, 1, 1, 1, 1, 1,\n",
              "         1, 1, 1, 1], device='cuda:0'),\n",
              " tensor([1, 0, 0, 0, 0, 0, 1, 0, 0, 0, 0, 0, 0, 0, 0, 1, 1, 1, 1, 1, 1, 1, 1, 1,\n",
              "         1, 1, 1, 1]))"
            ]
          },
          "metadata": {
            "tags": []
          },
          "execution_count": 347
        }
      ]
    },
    {
      "cell_type": "markdown",
      "metadata": {
        "id": "GPEs6eA273QU",
        "colab_type": "text"
      },
      "source": [
        "## Scheme 2"
      ]
    },
    {
      "cell_type": "markdown",
      "metadata": {
        "id": "rhWsZ_bm73QV",
        "colab_type": "text"
      },
      "source": [
        "### Training SAE with code/persistence landscapes concatenation"
      ]
    },
    {
      "cell_type": "code",
      "metadata": {
        "id": "kvdKa70v73QV",
        "colab_type": "code",
        "colab": {}
      },
      "source": [
        "best_weights = clear_buffers(best_score, train_history, test_history)\n",
        "slae, opt_slae, sch_slae = reset_SLAE_trainables(*args_for_SLAE)"
      ],
      "execution_count": 0,
      "outputs": []
    },
    {
      "cell_type": "code",
      "metadata": {
        "id": "dLOMM0Up73QY",
        "colab_type": "code",
        "colab": {},
        "outputId": "2ff3bf5f-0f4f-4560-a278-1883cbe6a22b"
      },
      "source": [
        "train_slae(X_train, 400, mode)"
      ],
      "execution_count": 0,
      "outputs": [
        {
          "output_type": "stream",
          "text": [
            "Epoch #0\n",
            "------\n",
            "0.841687003771464\n",
            "0.8316600322723389 \n",
            "\n"
          ],
          "name": "stdout"
        }
      ]
    },
    {
      "cell_type": "code",
      "metadata": {
        "colab_type": "code",
        "id": "cECaXKT-73Qb",
        "colab": {}
      },
      "source": [
        "plt.plot(train_history, label='train')\n",
        "plt.plot(test_history, label='test')\n",
        "plt.title(\"PLSAE's losses\")\n",
        "plt.legend();"
      ],
      "execution_count": 0,
      "outputs": []
    },
    {
      "cell_type": "code",
      "metadata": {
        "colab_type": "code",
        "id": "MFb2YEGb73Qe",
        "colab": {}
      },
      "source": [
        "# Load best weights\n",
        "if best_weights:\n",
        "    pli.load_state_dict(best_weights)"
      ],
      "execution_count": 0,
      "outputs": []
    },
    {
      "cell_type": "markdown",
      "metadata": {
        "id": "8dzZOs1Y73Qi",
        "colab_type": "text"
      },
      "source": [
        "###  Applying transformations to code, then stacking with persistence landscape"
      ]
    },
    {
      "cell_type": "code",
      "metadata": {
        "id": "JM0XiG6c73Qi",
        "colab_type": "code",
        "colab": {}
      },
      "source": [
        "# not implemented"
      ],
      "execution_count": 0,
      "outputs": []
    },
    {
      "cell_type": "markdown",
      "metadata": {
        "id": "2biDbxg_73Qm",
        "colab_type": "text"
      },
      "source": [
        "### Training classifier on augmented dataset (SAE + PL)"
      ]
    },
    {
      "cell_type": "code",
      "metadata": {
        "id": "OCN2xoPS73Qm",
        "colab_type": "code",
        "colab": {}
      },
      "source": [
        "best_weights = clear_buffers(best_score, train_history, test_history)\n",
        "clf, opt_clf, sch_clf = reset_CLF_trainables(*args_for_CLF)"
      ],
      "execution_count": 0,
      "outputs": []
    },
    {
      "cell_type": "code",
      "metadata": {
        "id": "TYpCem-473Qo",
        "colab_type": "code",
        "colab": {}
      },
      "source": [
        "train_clf(X_augmented, y_augmented, 30, mode, False)"
      ],
      "execution_count": 0,
      "outputs": []
    },
    {
      "cell_type": "code",
      "metadata": {
        "colab_type": "code",
        "id": "kAim_FTX73Qq",
        "colab": {}
      },
      "source": [
        "plt.plot(train_history, label='train')\n",
        "plt.plot(test_history, label='test')\n",
        "plt.title(\"Classifier's losses on the augmented dataset\")\n",
        "plt.legend();"
      ],
      "execution_count": 0,
      "outputs": []
    },
    {
      "cell_type": "code",
      "metadata": {
        "colab_type": "code",
        "id": "BTfZaF2q73Qs",
        "colab": {}
      },
      "source": [
        "# Load best weights\n",
        "if best_weights:\n",
        "    clf.load_state_dict(best_weights)"
      ],
      "execution_count": 0,
      "outputs": []
    },
    {
      "cell_type": "code",
      "metadata": {
        "id": "gsEgbLwL73Qv",
        "colab_type": "code",
        "colab": {}
      },
      "source": [
        "y_pred = clf.predict(X_test) \n",
        "print('accuracy =', accuracy_score(y_test, y_pred))\n",
        "y_test, y_pred"
      ],
      "execution_count": 0,
      "outputs": []
    },
    {
      "cell_type": "markdown",
      "metadata": {
        "id": "zdyG4Q3573Qy",
        "colab_type": "text"
      },
      "source": [
        "---"
      ]
    },
    {
      "cell_type": "code",
      "metadata": {
        "id": "awzUxUvf73Qz",
        "colab_type": "code",
        "colab": {}
      },
      "source": [
        ""
      ],
      "execution_count": 0,
      "outputs": []
    }
  ]
}