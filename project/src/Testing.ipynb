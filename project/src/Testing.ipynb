{
 "cells": [
  {
   "cell_type": "markdown",
   "metadata": {},
   "source": [
    "Persistence Landscapes in Data Augmentation\n",
    "---"
   ]
  },
  {
   "cell_type": "markdown",
   "metadata": {},
   "source": [
    "***Initialization cells***"
   ]
  },
  {
   "cell_type": "code",
   "execution_count": null,
   "metadata": {
    "colab": {},
    "colab_type": "code",
    "id": "TG4rfYAODADx"
   },
   "outputs": [],
   "source": [
    "import copy\n",
    "import numpy as np\n",
    "import pandas as pd\n",
    "\n",
    "from pathlib import Path\n",
    "from sklearn.metrics import accuracy_score\n",
    "\n",
    "import torch\n",
    "import torch.nn as nn\n",
    "import torch.optim as optim\n",
    "from torch.utils.data import Dataset, DataLoader\n",
    "\n",
    "%matplotlib inline\n",
    "import matplotlib.pyplot as plt\n",
    "\n",
    "![ -z \"$(pip list | grep 'sktime')\" ] && pip install sktime\n",
    "from sktime.utils.load_data import load_from_arff_to_dataframe\n",
    "from nets import *\n",
    "\n",
    "# for Maks' imports\n",
    "![ -z \"$(pip list | grep 'giotto-tda')\" ] && pip install giotto-tda\n",
    "from tda_tools import *"
   ]
  },
  {
   "cell_type": "code",
   "execution_count": 2,
   "metadata": {
    "colab": {},
    "colab_type": "code",
    "id": "ny2iCBxeDAE_"
   },
   "outputs": [],
   "source": [
    "mode = 'cnn'  # better not to change to rnn, since cnn is superior\n",
    "              # mode affects only autoencoder choice and its dataloader\n",
    "    \n",
    "device = torch.device(\n",
    "    'cuda' if torch.cuda.is_available() else 'cpu')\n",
    "\n",
    "# Choose which data to upload: univariate or multivariate\n",
    "multivariate = False\n",
    "dataset_name = 'Coffee'\n",
    "\n",
    "# multivariate = True\n",
    "# dataset_name = 'HandMovementDirection'"
   ]
  },
  {
   "cell_type": "code",
   "execution_count": 3,
   "metadata": {},
   "outputs": [],
   "source": [
    "def get_batches(X_train, y_train=None, batch_size=3, mode='rnn'):\n",
    "    if mode == 'rnn':\n",
    "        ids = torch.randperm(X_train.size(1))\n",
    "        if y_train is None:\n",
    "            for bx in X_train[:,ids].chunk(batch_size, 1):\n",
    "                yield bx\n",
    "        else:\n",
    "            for bx,by in zip(\n",
    "                X_train[:,ids].chunk(batch_size, 1),\n",
    "                y_train[ids].chunk(batch_size)):\n",
    "                yield bx,by\n",
    "    elif mode == 'cnn':\n",
    "        ids = torch.randperm(len(X_train))\n",
    "        if y_train is None:\n",
    "            for bx in X_train[ids].chunk(batch_size):\n",
    "                yield bx\n",
    "        else:\n",
    "            for bx,by in zip(\n",
    "                X_train[ids].chunk(batch_size),\n",
    "                y_train[ids].chunk(batch_size)):\n",
    "                yield bx,by\n",
    "    else:\n",
    "        raise TypeError(\"arg type must be 'cnn' or 'rnn'\")"
   ]
  },
  {
   "cell_type": "markdown",
   "metadata": {
    "colab_type": "text",
    "id": "xiUw1FPnDAD5"
   },
   "source": [
    "# Preprocessing Part"
   ]
  },
  {
   "cell_type": "markdown",
   "metadata": {},
   "source": [
    "## Univariate Data"
   ]
  },
  {
   "cell_type": "markdown",
   "metadata": {
    "colab_type": "text",
    "id": "7xA4bpK3DAD8"
   },
   "source": [
    "### Data Loading"
   ]
  },
  {
   "cell_type": "code",
   "execution_count": 40,
   "metadata": {
    "colab": {
     "base_uri": "https://localhost:8080/",
     "height": 34
    },
    "colab_type": "code",
    "id": "aUSTon1UDAD9",
    "outputId": "ca1e5b0c-f86d-41e1-8afe-15c6e48d13e4"
   },
   "outputs": [
    {
     "name": "stdout",
     "output_type": "stream",
     "text": [
      "env: UEA_UCR_DATA_DIR=../data\n",
      "Printing the description of the selected dataset\n",
      "#\"FoodFood spectrographs are used in chemometrics to classify food types, a task that has obvious applications in food safety and quality assurance. The coffee data set is a two class problem to distinguish between Robusta and Aribica coffee beans. Further information can be found in the original paper Briandet et al. Discrimination of Arabica and Robusta in Instant Coffee by Fourier Transform Infrared Spectroscopy and Chemometrics J. Agricultural and Food Chemistry, 44 (1), 1996. The data was first used in the time series classification literature in Bagnall et al. Transformation Based Ensembles for Time Series Classification, SDM 2012.\n",
      "@problemName Coffee\n",
      "@timeStamps false\n",
      "@missing false\n",
      "@univariate true\n",
      "@equalLength true\n",
      "@seriesLength 286\n",
      "@classLabel true 0 1\n",
      "\n",
      "Data content (partial display):\n",
      "-------------------------------\n",
      "time-series labels\n",
      "['0' '0' '0' '0' '0' '0' '0' '0' '0' '0' '0' '0' '0' '0' '1' '1' '1' '1'\n",
      " '1' '1' '1' '1' '1' '1' '1' '1' '1' '1']\n",
      "\n",
      "table with sequences\n"
     ]
    },
    {
     "data": {
      "text/html": [
       "<div>\n",
       "<style scoped>\n",
       "    .dataframe tbody tr th:only-of-type {\n",
       "        vertical-align: middle;\n",
       "    }\n",
       "\n",
       "    .dataframe tbody tr th {\n",
       "        vertical-align: top;\n",
       "    }\n",
       "\n",
       "    .dataframe thead th {\n",
       "        text-align: right;\n",
       "    }\n",
       "</style>\n",
       "<table border=\"1\" class=\"dataframe\">\n",
       "  <thead>\n",
       "    <tr style=\"text-align: right;\">\n",
       "      <th></th>\n",
       "      <th>dim_0</th>\n",
       "    </tr>\n",
       "  </thead>\n",
       "  <tbody>\n",
       "    <tr>\n",
       "      <th>0</th>\n",
       "      <td>0     -0.518419\n",
       "1     -0.485884\n",
       "2     -0.50500...</td>\n",
       "    </tr>\n",
       "    <tr>\n",
       "      <th>1</th>\n",
       "      <td>0     -0.548462\n",
       "1     -0.533681\n",
       "2     -0.51472...</td>\n",
       "    </tr>\n",
       "    <tr>\n",
       "      <th>2</th>\n",
       "      <td>0     -0.472634\n",
       "1     -0.415546\n",
       "2     -0.35992...</td>\n",
       "    </tr>\n",
       "    <tr>\n",
       "      <th>3</th>\n",
       "      <td>0     -0.509521\n",
       "1     -0.484218\n",
       "2     -0.47795...</td>\n",
       "    </tr>\n",
       "    <tr>\n",
       "      <th>4</th>\n",
       "      <td>0     -0.563427\n",
       "1     -0.533896\n",
       "2     -0.54382...</td>\n",
       "    </tr>\n",
       "  </tbody>\n",
       "</table>\n",
       "</div>"
      ],
      "text/plain": [
       "                                               dim_0\n",
       "0  0     -0.518419\n",
       "1     -0.485884\n",
       "2     -0.50500...\n",
       "1  0     -0.548462\n",
       "1     -0.533681\n",
       "2     -0.51472...\n",
       "2  0     -0.472634\n",
       "1     -0.415546\n",
       "2     -0.35992...\n",
       "3  0     -0.509521\n",
       "1     -0.484218\n",
       "2     -0.47795...\n",
       "4  0     -0.563427\n",
       "1     -0.533896\n",
       "2     -0.54382..."
      ]
     },
     "execution_count": 40,
     "metadata": {},
     "output_type": "execute_result"
    }
   ],
   "source": [
    "out = None\n",
    "if not multivariate:\n",
    "    # Install and import of https://pypi.org/project/uea-ucr-datasets/\n",
    "    ![ -z \"$(pip list | grep 'Cython')\" ] && pip install Cython\n",
    "    ![ -z \"$(pip list | grep 'uea-ucr-datasets')\" ] && pip install uea-ucr-datasets\n",
    "\n",
    "    data_dir = Path('../data')\n",
    "    data_dir.mkdir(exist_ok=True)\n",
    "    %env UEA_UCR_DATA_DIR={data_dir}\n",
    "    import uea_ucr_datasets as ucr_ds\n",
    "\n",
    "\n",
    "    # Download univariate dataset (preprocessed by sktime)\n",
    "    url = ('http://www.timeseriesclassification.com/'\n",
    "           'Downloads/Archives/Univariate2018_ts.zip')\n",
    "    if not (data_dir/'archive.zip').exists():\n",
    "        !wget -O {data_dir}/archive.zip {url}\n",
    "\n",
    "\n",
    "    # Extract files from the archive\n",
    "    num_files = !ls {data_dir} | wc -l\n",
    "    if int(num_files[0]) < 130:\n",
    "        print('not all dataset are present')\n",
    "        !unzip -qn {data_dir}/archive.zip -d {data_dir}\n",
    "        !mv -n {data_dir}/Univariate_ts/* {data_dir}\n",
    "        !rmdir {data_dir}/Univariate_ts 2> /dev/null\n",
    "\n",
    "\n",
    "    # Data Description\n",
    "    print('Printing the description of the selected dataset')\n",
    "    !head -8 {data_dir}/{dataset_name}/{'%s_TRAIN.ts' % dataset_name}\n",
    "\n",
    "    ds_train= ucr_ds.Dataset(dataset_name, train=True)\n",
    "    ds_test = ucr_ds.Dataset(dataset_name, train=False)\n",
    "    print('\\nData content (partial display):')\n",
    "    print('-------------------------------')\n",
    "    print('time-series labels')\n",
    "    print(ds_train.data_y)\n",
    "    print('\\ntable with sequences')\n",
    "    out = ds_train.data_x.head()\n",
    "    emb_size = 1\n",
    "out"
   ]
  },
  {
   "cell_type": "markdown",
   "metadata": {},
   "source": [
    "---"
   ]
  },
  {
   "cell_type": "markdown",
   "metadata": {},
   "source": [
    "### Data unpacking"
   ]
  },
  {
   "cell_type": "markdown",
   "metadata": {
    "colab_type": "text",
    "id": "lBi-3xHeDAE-"
   },
   "source": [
    "Since the dataset is small, we can load the whole data and slice it into chunks"
   ]
  },
  {
   "cell_type": "code",
   "execution_count": 30,
   "metadata": {
    "colab": {},
    "colab_type": "code",
    "id": "ny2iCBxeDAE_"
   },
   "outputs": [],
   "source": [
    "if not multivariate:\n",
    "    X = []\n",
    "    for v in ds_train.data_x.values: X.append(v[0])\n",
    "    seq_length = len(v[0])\n",
    "    \n",
    "    if mode == 'rnn':\n",
    "        X_train = torch.Tensor(X).permute(1,0)[...,None]\n",
    "        y_train = torch.LongTensor(ds_train.data_y.astype(int))\n",
    "    else:\n",
    "        X_train = torch.Tensor(X)[:,None]\n",
    "        y_train = torch.LongTensor(ds_train.data_y.astype(int))\n",
    "    X_train, y_train = X_train.to(device), y_train.to(device)\n",
    "    \n",
    "    n_classes = len(torch.unique(y_train))\n",
    "\n",
    "    X = []\n",
    "    for v in ds_test.data_x.values: X.append(v[0])\n",
    "    if mode == 'rnn':\n",
    "        X_test = torch.Tensor(X).permute(1,0)[...,None]\n",
    "        y_test = torch.LongTensor(ds_test.data_y.astype(int))\n",
    "    else:\n",
    "        X_test = torch.Tensor(X)[:,None]\n",
    "        y_test = torch.LongTensor(ds_test.data_y.astype(int))\n",
    "    X_test, y_test = X_test.to(device), y_test.to(device)"
   ]
  },
  {
   "cell_type": "markdown",
   "metadata": {},
   "source": [
    "## Multivariate Data"
   ]
  },
  {
   "cell_type": "markdown",
   "metadata": {},
   "source": [
    "Loading all datasets is a pretty heavy procedure.  \n",
    "So, we download just 2-3 datasets to a local directory and then hook up the right one by its name"
   ]
  },
  {
   "cell_type": "markdown",
   "metadata": {},
   "source": [
    "### Data unpacking"
   ]
  },
  {
   "cell_type": "code",
   "execution_count": 23,
   "metadata": {},
   "outputs": [
    {
     "name": "stdout",
     "output_type": "stream",
     "text": [
      "\n",
      "Shape of the training dataset: (160, 10)\n"
     ]
    },
    {
     "data": {
      "text/html": [
       "<div>\n",
       "<style scoped>\n",
       "    .dataframe tbody tr th:only-of-type {\n",
       "        vertical-align: middle;\n",
       "    }\n",
       "\n",
       "    .dataframe tbody tr th {\n",
       "        vertical-align: top;\n",
       "    }\n",
       "\n",
       "    .dataframe thead th {\n",
       "        text-align: right;\n",
       "    }\n",
       "</style>\n",
       "<table border=\"1\" class=\"dataframe\">\n",
       "  <thead>\n",
       "    <tr style=\"text-align: right;\">\n",
       "      <th></th>\n",
       "      <th>dim_0</th>\n",
       "      <th>dim_1</th>\n",
       "      <th>dim_2</th>\n",
       "      <th>dim_3</th>\n",
       "      <th>dim_4</th>\n",
       "      <th>dim_5</th>\n",
       "      <th>dim_6</th>\n",
       "      <th>dim_7</th>\n",
       "      <th>dim_8</th>\n",
       "      <th>dim_9</th>\n",
       "    </tr>\n",
       "  </thead>\n",
       "  <tbody>\n",
       "    <tr>\n",
       "      <th>0</th>\n",
       "      <td>0      152.472131\n",
       "1      151.149948\n",
       "2      133...</td>\n",
       "      <td>0      12.392351\n",
       "1      77.166998\n",
       "2      75.53...</td>\n",
       "      <td>0       18.801367\n",
       "1        7.669297\n",
       "2       20...</td>\n",
       "      <td>0      119.067984\n",
       "1       92.378960\n",
       "2       50...</td>\n",
       "      <td>0        9.371185\n",
       "1       28.596053\n",
       "2       33...</td>\n",
       "      <td>0      176.878290\n",
       "1      134.774572\n",
       "2       77...</td>\n",
       "      <td>0      187.217536\n",
       "1      181.612639\n",
       "2      143...</td>\n",
       "      <td>0      148.597142\n",
       "1       -7.859846\n",
       "2      -75...</td>\n",
       "      <td>0      192.406885\n",
       "1      123.777559\n",
       "2       37...</td>\n",
       "      <td>0      125.757108\n",
       "1      -38.720199\n",
       "2      -86...</td>\n",
       "    </tr>\n",
       "    <tr>\n",
       "      <th>1</th>\n",
       "      <td>0      -13.040644\n",
       "1       12.830811\n",
       "2       -3...</td>\n",
       "      <td>0       19.233769\n",
       "1       -4.991483\n",
       "2      -16...</td>\n",
       "      <td>0       66.933527\n",
       "1      124.618288\n",
       "2       98...</td>\n",
       "      <td>0      -35.137874\n",
       "1        1.701522\n",
       "2       25...</td>\n",
       "      <td>0       50.791490\n",
       "1      221.224243\n",
       "2      252...</td>\n",
       "      <td>0     -154.184133\n",
       "1      -26.774156\n",
       "2       45...</td>\n",
       "      <td>0       30.970773\n",
       "1      148.602671\n",
       "2      160...</td>\n",
       "      <td>0     -208.111167\n",
       "1     -192.617816\n",
       "2     -181...</td>\n",
       "      <td>0     -130.664900\n",
       "1      -63.905838\n",
       "2      -15...</td>\n",
       "      <td>0     -195.935521\n",
       "1      -19.472038\n",
       "2       56...</td>\n",
       "    </tr>\n",
       "    <tr>\n",
       "      <th>2</th>\n",
       "      <td>0      347.753571\n",
       "1      283.267749\n",
       "2      242...</td>\n",
       "      <td>0      197.774774\n",
       "1      150.099303\n",
       "2      117...</td>\n",
       "      <td>0       63.838660\n",
       "1       63.824220\n",
       "2       84...</td>\n",
       "      <td>0      245.984713\n",
       "1      162.896918\n",
       "2      108...</td>\n",
       "      <td>0      210.905239\n",
       "1      144.768204\n",
       "2       94...</td>\n",
       "      <td>0      280.506386\n",
       "1      206.246174\n",
       "2      170...</td>\n",
       "      <td>0      354.705629\n",
       "1      262.012640\n",
       "2      168...</td>\n",
       "      <td>0      223.814706\n",
       "1      122.452679\n",
       "2       65...</td>\n",
       "      <td>0      207.523094\n",
       "1      182.589754\n",
       "2      126...</td>\n",
       "      <td>0      303.975308\n",
       "1      168.434157\n",
       "2       65...</td>\n",
       "    </tr>\n",
       "    <tr>\n",
       "      <th>3</th>\n",
       "      <td>0     -233.910173\n",
       "1     -263.752715\n",
       "2     -250...</td>\n",
       "      <td>0     -187.467394\n",
       "1     -142.395013\n",
       "2     -135...</td>\n",
       "      <td>0      -86.571985\n",
       "1      -47.182563\n",
       "2       -6...</td>\n",
       "      <td>0     -184.676555\n",
       "1     -195.306612\n",
       "2     -141...</td>\n",
       "      <td>0     -108.266154\n",
       "1      124.377494\n",
       "2      200...</td>\n",
       "      <td>0     -231.688096\n",
       "1     -179.703892\n",
       "2      -97...</td>\n",
       "      <td>0     -262.399832\n",
       "1      -32.974744\n",
       "2       89...</td>\n",
       "      <td>0     -105.677538\n",
       "1       42.209137\n",
       "2      118...</td>\n",
       "      <td>0      -82.033333\n",
       "1      -67.506163\n",
       "2      -82...</td>\n",
       "      <td>0     -140.012384\n",
       "1        0.278821\n",
       "2       71...</td>\n",
       "    </tr>\n",
       "    <tr>\n",
       "      <th>4</th>\n",
       "      <td>0      109.304340\n",
       "1       64.749574\n",
       "2       25...</td>\n",
       "      <td>0      201.260745\n",
       "1       50.199130\n",
       "2      -39...</td>\n",
       "      <td>0       14.521665\n",
       "1      -88.523783\n",
       "2     -152...</td>\n",
       "      <td>0      195.652441\n",
       "1      196.864336\n",
       "2      165...</td>\n",
       "      <td>0      125.077312\n",
       "1        4.943108\n",
       "2      -43...</td>\n",
       "      <td>0      211.538165\n",
       "1      184.857103\n",
       "2      152...</td>\n",
       "      <td>0      238.791210\n",
       "1      170.498851\n",
       "2      137...</td>\n",
       "      <td>0       66.915634\n",
       "1      147.337646\n",
       "2      126...</td>\n",
       "      <td>0       69.283736\n",
       "1       88.357515\n",
       "2       67...</td>\n",
       "      <td>0      160.787868\n",
       "1      239.187795\n",
       "2      229...</td>\n",
       "    </tr>\n",
       "  </tbody>\n",
       "</table>\n",
       "</div>"
      ],
      "text/plain": [
       "                                               dim_0  \\\n",
       "0  0      152.472131\n",
       "1      151.149948\n",
       "2      133...   \n",
       "1  0      -13.040644\n",
       "1       12.830811\n",
       "2       -3...   \n",
       "2  0      347.753571\n",
       "1      283.267749\n",
       "2      242...   \n",
       "3  0     -233.910173\n",
       "1     -263.752715\n",
       "2     -250...   \n",
       "4  0      109.304340\n",
       "1       64.749574\n",
       "2       25...   \n",
       "\n",
       "                                               dim_1  \\\n",
       "0  0      12.392351\n",
       "1      77.166998\n",
       "2      75.53...   \n",
       "1  0       19.233769\n",
       "1       -4.991483\n",
       "2      -16...   \n",
       "2  0      197.774774\n",
       "1      150.099303\n",
       "2      117...   \n",
       "3  0     -187.467394\n",
       "1     -142.395013\n",
       "2     -135...   \n",
       "4  0      201.260745\n",
       "1       50.199130\n",
       "2      -39...   \n",
       "\n",
       "                                               dim_2  \\\n",
       "0  0       18.801367\n",
       "1        7.669297\n",
       "2       20...   \n",
       "1  0       66.933527\n",
       "1      124.618288\n",
       "2       98...   \n",
       "2  0       63.838660\n",
       "1       63.824220\n",
       "2       84...   \n",
       "3  0      -86.571985\n",
       "1      -47.182563\n",
       "2       -6...   \n",
       "4  0       14.521665\n",
       "1      -88.523783\n",
       "2     -152...   \n",
       "\n",
       "                                               dim_3  \\\n",
       "0  0      119.067984\n",
       "1       92.378960\n",
       "2       50...   \n",
       "1  0      -35.137874\n",
       "1        1.701522\n",
       "2       25...   \n",
       "2  0      245.984713\n",
       "1      162.896918\n",
       "2      108...   \n",
       "3  0     -184.676555\n",
       "1     -195.306612\n",
       "2     -141...   \n",
       "4  0      195.652441\n",
       "1      196.864336\n",
       "2      165...   \n",
       "\n",
       "                                               dim_4  \\\n",
       "0  0        9.371185\n",
       "1       28.596053\n",
       "2       33...   \n",
       "1  0       50.791490\n",
       "1      221.224243\n",
       "2      252...   \n",
       "2  0      210.905239\n",
       "1      144.768204\n",
       "2       94...   \n",
       "3  0     -108.266154\n",
       "1      124.377494\n",
       "2      200...   \n",
       "4  0      125.077312\n",
       "1        4.943108\n",
       "2      -43...   \n",
       "\n",
       "                                               dim_5  \\\n",
       "0  0      176.878290\n",
       "1      134.774572\n",
       "2       77...   \n",
       "1  0     -154.184133\n",
       "1      -26.774156\n",
       "2       45...   \n",
       "2  0      280.506386\n",
       "1      206.246174\n",
       "2      170...   \n",
       "3  0     -231.688096\n",
       "1     -179.703892\n",
       "2      -97...   \n",
       "4  0      211.538165\n",
       "1      184.857103\n",
       "2      152...   \n",
       "\n",
       "                                               dim_6  \\\n",
       "0  0      187.217536\n",
       "1      181.612639\n",
       "2      143...   \n",
       "1  0       30.970773\n",
       "1      148.602671\n",
       "2      160...   \n",
       "2  0      354.705629\n",
       "1      262.012640\n",
       "2      168...   \n",
       "3  0     -262.399832\n",
       "1      -32.974744\n",
       "2       89...   \n",
       "4  0      238.791210\n",
       "1      170.498851\n",
       "2      137...   \n",
       "\n",
       "                                               dim_7  \\\n",
       "0  0      148.597142\n",
       "1       -7.859846\n",
       "2      -75...   \n",
       "1  0     -208.111167\n",
       "1     -192.617816\n",
       "2     -181...   \n",
       "2  0      223.814706\n",
       "1      122.452679\n",
       "2       65...   \n",
       "3  0     -105.677538\n",
       "1       42.209137\n",
       "2      118...   \n",
       "4  0       66.915634\n",
       "1      147.337646\n",
       "2      126...   \n",
       "\n",
       "                                               dim_8  \\\n",
       "0  0      192.406885\n",
       "1      123.777559\n",
       "2       37...   \n",
       "1  0     -130.664900\n",
       "1      -63.905838\n",
       "2      -15...   \n",
       "2  0      207.523094\n",
       "1      182.589754\n",
       "2      126...   \n",
       "3  0      -82.033333\n",
       "1      -67.506163\n",
       "2      -82...   \n",
       "4  0       69.283736\n",
       "1       88.357515\n",
       "2       67...   \n",
       "\n",
       "                                               dim_9  \n",
       "0  0      125.757108\n",
       "1      -38.720199\n",
       "2      -86...  \n",
       "1  0     -195.935521\n",
       "1      -19.472038\n",
       "2       56...  \n",
       "2  0      303.975308\n",
       "1      168.434157\n",
       "2       65...  \n",
       "3  0     -140.012384\n",
       "1        0.278821\n",
       "2       71...  \n",
       "4  0      160.787868\n",
       "1      239.187795\n",
       "2      229...  "
      ]
     },
     "execution_count": 23,
     "metadata": {},
     "output_type": "execute_result"
    }
   ],
   "source": [
    "out = None\n",
    "if multivariate:\n",
    "    folder = Path('../multivar_time_series')\n",
    "    X_train_raw, y_train_raw = load_from_arff_to_dataframe(\n",
    "        folder/dataset_name/f'{dataset_name}_TRAIN.arff')\n",
    "    X_test_raw, y_test_raw = load_from_arff_to_dataframe(\n",
    "        folder/dataset_name/f'{dataset_name}_TEST.arff')\n",
    "\n",
    "    print(f'\\nShape of the training dataset: {X_train_raw.shape}')\n",
    "    emb_size = X_train_raw.shape[1]\n",
    "    out = X_train_raw.head()\n",
    "out"
   ]
  },
  {
   "cell_type": "code",
   "execution_count": 74,
   "metadata": {
    "colab": {},
    "colab_type": "code",
    "id": "ny2iCBxeDAE_"
   },
   "outputs": [],
   "source": [
    "if multivariate:\n",
    "    X = []\n",
    "    for v in X_train_raw.values:\n",
    "        X_k = []\n",
    "        for i in range(emb_size):\n",
    "            X_k.append(v[i])\n",
    "        X.append(X_k)\n",
    "        \n",
    "    seq_length = len(v[0])\n",
    "    if mode == 'rnn':\n",
    "        X_train = torch.Tensor(X).permute(2,0,1)\n",
    "        y_train = torch.LongTensor(pd.factorize(y_train_raw)[0])\n",
    "    else:\n",
    "        X_train = torch.Tensor(X)\n",
    "        y_train = torch.LongTensor(pd.factorize(y_train_raw)[0])\n",
    "    X_train, y_train = X_train.to(device), y_train.to(device)\n",
    "    \n",
    "    n_classes = len(torch.unique(y_train))\n",
    "\n",
    "    X = []\n",
    "    for v in X_test_raw.values:\n",
    "        X_k = []\n",
    "        for i in range(emb_size):\n",
    "            X_k.append(v[i])\n",
    "        X.append(X_k)\n",
    "        \n",
    "    if mode == 'rnn':\n",
    "        X_test = torch.Tensor(X).permute(2,0,1)\n",
    "        y_test = torch.LongTensor(pd.factorize(y_test_raw)[0])\n",
    "    else:\n",
    "        X_test = torch.Tensor(X)\n",
    "        y_test = torch.LongTensor(pd.factorize(y_test_raw)[0])\n",
    "    X_test, y_test = X_test.to(device), y_test.to(device)"
   ]
  },
  {
   "cell_type": "markdown",
   "metadata": {},
   "source": [
    "## Reducing Dataset"
   ]
  },
  {
   "cell_type": "code",
   "execution_count": 163,
   "metadata": {},
   "outputs": [],
   "source": [
    "# if you choose more balanced ids, then\n",
    "# the the load on the balancing step\n",
    "# in the intra/extra-polation procedure will be mitigated\n",
    "# Definitely use it if you are going to exclude\n",
    "# the balancing step from the augmentation part\n",
    "\n",
    "more_balanced_choice = True\n",
    "\n",
    "if more_balanced_choice:\n",
    "    y_train = torch.randint(2, (20,))\n",
    "    cnts = y_train.bincount()\n",
    "    inv_cnts = 1./cnts.float()\n",
    "    inv_cnts /= inv_cnts.sum()\n",
    "    \n",
    "    probs = torch.empty(len(y_train))\n",
    "    for i, weight in enumerate(inv_cnts):\n",
    "        probs[y_train == i] = weight\n",
    "else:\n",
    "    probs = torch.ones(len(y_train))\n",
    "\n",
    "# select randomly 30% of all samples from the dataset\n",
    "share = .3\n",
    "\n",
    "red_ids = torch.multinomial(probs, int(share*len(y_train)))\n",
    "X_red = X_train[red_ids]\n",
    "y_red = y_train[red_ids]"
   ]
  },
  {
   "cell_type": "markdown",
   "metadata": {},
   "source": [
    "## Extracting persistence landscapes"
   ]
  },
  {
   "cell_type": "code",
   "execution_count": null,
   "metadata": {},
   "outputs": [],
   "source": [
    "# Maks' cell\n",
    "# ----------\n",
    "# Tunable hyperparameters\n",
    "n_layers = 1\n",
    "n_steps = 120\n",
    "\n",
    "# Extracting test landscapes\n",
    "data_x=ds_train.data_x\n",
    "data_y=ds_train.data_y\n",
    "data_x = data_x.to_numpy()\n",
    "data_x = np.array([sample[0].to_list() for sample in data_x])\n",
    "data_torch = torch.FloatTensor(data_x)[:, :, None]\n",
    "print(np.shape(data_x), np.shape(data_y))\n",
    "\n",
    "point_clouds_torch = Takens_Embedding_torch(data_torch, d=3, delay=3)\n",
    "diagrams_torch, diagrams_np, VR_persistence = get_diagrams_torch(point_clouds_torch)\n",
    "landscapes_torch, max_scale = get_landscapes_torch(diagrams_torch, n_layers, n_steps)\n",
    "\n",
    "pairwise_distances = landscapes_distances(landscapes_torch, max_scale)\n",
    "matching_matrix = data_y[:, np.newaxis] == data_y[np.newaxis, :]\n",
    "kNN_score = get_kNN_score_torch(pairwise_distances, matching_matrix=matching_matrix)\n",
    "\n",
    "print(\"Point_clouds shape:\", point_clouds_torch.size())\n",
    "print(\"Diagrams shape:\", diagrams_torch.size())\n",
    "print(\"Landscapes shape:\", landscapes_torch.size())\n",
    "print(\"kNN score:\", kNN_score)\n",
    "\n",
    "land_shape = tuple(landscapes_torch.shape[1:])\n",
    "landscapes_train = landscapes_torch.to(device)"
   ]
  },
  {
   "cell_type": "code",
   "execution_count": null,
   "metadata": {},
   "outputs": [],
   "source": [
    "# Maks' cell\n",
    "# ----------\n",
    "\n",
    "# Extracting train landscapes\n",
    "data_x=ds_test.data_x\n",
    "data_y=ds_test.data_y\n",
    "data_x = data_x.to_numpy()\n",
    "data_x = np.array([sample[0].to_list() for sample in data_x])\n",
    "print(np.shape(data_x), np.shape(data_y))\n",
    "\n",
    "data_torch = torch.FloatTensor(data_x)[:, :, None]\n",
    "\n",
    "point_clouds_torch = Takens_Embedding_torch(data_torch, d=3, delay=3)\n",
    "diagrams_torch, diagrams_np, VR_persistence = get_diagrams_torch(point_clouds_torch)\n",
    "landscapes_torch, max_scale = get_landscapes_torch(diagrams_torch, n_layers, n_steps)\n",
    "\n",
    "pairwise_distances = landscapes_distances(landscapes_torch, max_scale)\n",
    "matching_matrix = data_y[:, np.newaxis] == data_y[np.newaxis, :]\n",
    "kNN_score = get_kNN_score_torch(pairwise_distances, matching_matrix=matching_matrix)\n",
    "\n",
    "print(\"Point_clouds shape: \", point_clouds_torch.size())\n",
    "print(\"Diagrams shape: \", diagrams_torch.size())\n",
    "print(\"Landscapes shape: \", landscapes_torch.size())\n",
    "print(\"kNN score: \", kNN_score)\n",
    "\n",
    "landscapes_test = landscapes_torch.to(device)"
   ]
  },
  {
   "cell_type": "markdown",
   "metadata": {},
   "source": [
    "# Network Training Procedures\n",
    "\n",
    "Here you need to define all hyperparameters to achieve sth worthwhile  \n",
    "For different datasets, they may take different values"
   ]
  },
  {
   "cell_type": "code",
   "execution_count": 118,
   "metadata": {},
   "outputs": [],
   "source": [
    "# common variable names\n",
    "best_weights = None\n",
    "best_score = [float('inf')]\n",
    "train_history, test_history = [], []"
   ]
  },
  {
   "cell_type": "markdown",
   "metadata": {},
   "source": [
    "## Auto-encoder's train function"
   ]
  },
  {
   "cell_type": "code",
   "execution_count": null,
   "metadata": {
    "colab": {},
    "colab_type": "code",
    "id": "9oXqtx_YDAFX"
   },
   "outputs": [],
   "source": [
    "# Autoencoder tunable hyperparameters:\n",
    "code_size = 100            # compression level\n",
    "channels = [32, 64]        # number of neurons in hidden layers \n",
    "kernel_size = 46\n",
    "# last two are valid for 'cnn' only\n",
    "\n",
    "# Optimizer tunable hyperparameters:\n",
    "lr = 1e-4\n",
    "step = 2\n",
    "gamma = .999\n",
    "\n",
    "# Here you can choose the loss function\n",
    "MSE = nn.MSELoss()\n",
    "MAE = lambda X,Y: (X-Y).abs().mean()\n",
    "criterion_ae = MAE\n",
    "\n",
    "# Globally defined variables of the function 'train_*'\n",
    "if mode == 'rnn':\n",
    "    ae = RNNSeqAE(emb_size, code_size, seq_length).to(device)\n",
    "    mode = 'cnn'\n",
    "else:\n",
    "    ae = ConvSeqAE(\n",
    "        emb_size, code_size, seq_length,\n",
    "        channels, kernel_size).to(device)\n",
    "    \n",
    "opt_ae = optim.Adam(ae.parameters(), lr)\n",
    "sch_ae = optim.lr_scheduler.StepLR(opt_ae, step, gamma)\n",
    "\n",
    "# training procedure\n",
    "def train_ae(X_train, num_epochs, mode, verbose=True):\n",
    "    for epoch in range(num_epochs):\n",
    "        train_loss = []\n",
    "        for bx in get_batches(X_train, mode=mode):\n",
    "            opt_ae.zero_grad()\n",
    "            bx_rec = ae(bx)\n",
    "            loss = criterion_ae(bx_rec, bx)\n",
    "            loss.backward()\n",
    "            train_loss.append(loss.item())\n",
    "            opt_ae.step()\n",
    "        sch_ae.step()\n",
    "        train_history.append(np.mean(train_loss))\n",
    "        test_loss = criterion_ae(ae(X_test), X_test).item()\n",
    "        test_history.append(test_loss)\n",
    "        if verbose:\n",
    "            print(f'Epoch #{epoch}\\n------')\n",
    "            print(train_history[-1])\n",
    "            print(test_history[-1], '\\n')\n",
    "        if test_loss < best_score[0]:\n",
    "            best_score[0] = test_loss\n",
    "            best_weights = copy.deepcopy(ae.state_dict())"
   ]
  },
  {
   "cell_type": "markdown",
   "metadata": {},
   "source": [
    "## Classifier's train function"
   ]
  },
  {
   "cell_type": "code",
   "execution_count": 36,
   "metadata": {},
   "outputs": [],
   "source": [
    "# Classifier tunable hyperparameters:\n",
    "channels = [2, 4, 8]        # number of neurons in hidden layers \n",
    "kernel_size = 7\n",
    "\n",
    "# Optimizer tunable hyperparameters:\n",
    "lr = 1e-2\n",
    "step = 2\n",
    "gamma = .999\n",
    "\n",
    "# Globally defined variables of the function 'train_*'\n",
    "clf = SeqClassifier(\n",
    "    emb_size, n_classes,\n",
    "    channels, kernel_size).to(device)\n",
    "opt_clf = optim.Adam(clf.parameters(), lr)\n",
    "sch_clf = optim.lr_scheduler.StepLR(opt_clf, step, gamma)\n",
    "criterion_clf = nn.CrossEntropyLoss()\n",
    "\n",
    "# training procedure\n",
    "def train_clf(X_train, y_train, num_epochs, mode, verbose=True):\n",
    "    for epoch in range(num_epochs):\n",
    "        train_loss = []\n",
    "        for bx,by in get_batches(X_train, y_train, mode=mode):\n",
    "            opt_clf.zero_grad()\n",
    "            y_pred = clf(bx)\n",
    "            loss = criterion_clf(y_pred, by)\n",
    "            loss.backward()\n",
    "            train_loss.append(loss.item())\n",
    "            opt_clf.step()\n",
    "        sch_clf.step()\n",
    "        train_history.append(np.mean(train_loss))\n",
    "        test_loss = criterion_clf(clf(X_test), y_test).item()\n",
    "        test_history.append(test_loss)\n",
    "        if verbose:\n",
    "            print(f'Epoch #{epoch}\\n------')\n",
    "            print(train_history[-1])\n",
    "            print(test_history[-1], '\\n')\n",
    "        if test_loss < best_score[0]:\n",
    "            best_score[0] = test_loss\n",
    "            best_weights = copy.deepcopy(clf.state_dict())"
   ]
  },
  {
   "cell_type": "markdown",
   "metadata": {},
   "source": [
    "## Landscape Inverse's train function"
   ]
  },
  {
   "cell_type": "code",
   "execution_count": 76,
   "metadata": {
    "colab": {},
    "colab_type": "code",
    "id": "9oXqtx_YDAFX"
   },
   "outputs": [],
   "source": [
    "# Landscape Inverse tunable hyperparameters\n",
    "channels = [32, 64]\n",
    "\n",
    "# Optimizer tunable hyperparameters\n",
    "lr = 1e-4\n",
    "step = 2\n",
    "gamma = .999\n",
    "\n",
    "# Choose the loss function here\n",
    "MSE = nn.MSELoss()\n",
    "MAE = lambda X,Y: (X-Y).abs().mean()\n",
    "criterion_pli = MAE\n",
    "\n",
    "# Globally defined variables of the function 'train_*'\n",
    "pli = LandscapeInverse(emb_size, land_shape, seq_length, channels)\n",
    "opt_pli = optim.Adam(pli.parameters(), lr)\n",
    "sch_pli = optim.lr_scheduler.StepLR(opt_pli, step, gamma)\n",
    "\n",
    "# training procedure\n",
    "def train_pli(landscapes_train, num_epochs, mode, verbose=True):\n",
    "    train_ids = torch.arange(len(landscapes_train))\n",
    "    for epoch in range(num_epochs):\n",
    "        train_loss = []\n",
    "        for bx,ids in get_batches(landscapes_train, train_ids, mode=mode):\n",
    "            opt_pli.zero_grad()\n",
    "            bx_rec = pli(bx)\n",
    "            loss = criterion_pli(bx_rec, X_train[ids])\n",
    "            loss.backward()\n",
    "            train_loss.append(loss.item())\n",
    "            opt_pli.step()\n",
    "        sch_pli.step()\n",
    "        train_history.append(np.mean(train_loss))\n",
    "        test_loss = criterion_pli(pli(landscapes_test), X_test).item()\n",
    "        test_history.append(test_loss)\n",
    "        if verbose:\n",
    "            print(f'Epoch #{epoch}\\n------')\n",
    "            print(train_history[-1])\n",
    "            print(test_history[-1], '\\n')\n",
    "        if test_loss < best_score[0]:\n",
    "            best_score[0] = test_loss\n",
    "            best_weights = copy.deepcopy(pli.state_dict())"
   ]
  },
  {
   "cell_type": "markdown",
   "metadata": {},
   "source": [
    "## SAE with persistence landscapes' train function"
   ]
  },
  {
   "cell_type": "code",
   "execution_count": null,
   "metadata": {},
   "outputs": [],
   "source": [
    "length = 286  # series length\n",
    "emb_size = 1  # dimensionality of series element\n",
    "code_size = 100  # compression level\n",
    "\n",
    "slae = TDASAE(emb_size, code_size, length, land_shape, [32, 64])\n",
    "opt_slae = optim.Adam(slae.parameters(), 1e-4)\n",
    "sch_slae = optim.lr_scheduler.StepLR(opt_slae, 2, .999)\n",
    "\n",
    "MSE = nn.MSELoss()\n",
    "MAE = lambda X,Y: (X-Y).abs().mean()\n",
    "criterion_slae = MAE\n",
    "\n",
    "# training procedure\n",
    "def train_slae(X_train, num_epochs, mode, verbose=True):\n",
    "    train_ids = torch.arange(len(X_train))\n",
    "    for epoch in range(num_epochs):\n",
    "        train_loss = []\n",
    "        for bx,ids in get_batches(X_train, train_ids, mode=mode):\n",
    "            opt_slae.zero_grad()\n",
    "            bx_rec = slae(bx, landscapes_train[ids])\n",
    "            loss = criterion_slae(bx_rec, bx)\n",
    "            loss.backward()\n",
    "            train_loss.append(loss.item())\n",
    "            opt_slae.step()\n",
    "        sch_slae.step()\n",
    "        train_history.append(np.mean(train_loss))\n",
    "        test_loss = criterion_slae(slae(X_test, landscapes_test), X_test).item()\n",
    "        test_history.append(test_loss)\n",
    "        if verbose:\n",
    "            print(f'Epoch #{epoch}\\n------')\n",
    "            print(train_history[-1])\n",
    "            print(test_history[-1], '\\n')\n",
    "        if test_loss < best_score[0]:\n",
    "            best_score[0] = test_loss\n",
    "            best_weights = copy.deepcopy(slae.state_dict())"
   ]
  },
  {
   "cell_type": "markdown",
   "metadata": {},
   "source": [
    "## Other tools"
   ]
  },
  {
   "cell_type": "code",
   "execution_count": 113,
   "metadata": {},
   "outputs": [],
   "source": [
    "def clear_buffers(best_score, list1, list2):\n",
    "    best_score[0] = float('inf')\n",
    "    list1.clear(); list2.clear()"
   ]
  },
  {
   "cell_type": "code",
   "execution_count": 167,
   "metadata": {},
   "outputs": [],
   "source": [
    "def oversampling(X, y, augments, k=3, sign=-1):\n",
    "    \"\"\"\n",
    "    X   array of shape (batch_size, code_length);\n",
    "        to apply to persistence landscape, you must \n",
    "        reshape it first\n",
    "    \n",
    "    sign = -1 -> intrapolation\n",
    "    sign = +1 -> extrapolation\n",
    "    \"\"\"\n",
    "    new_X, new_y = [], []\n",
    "    for lbl, m in enumerate(augments):\n",
    "        X_lbl = X[y==lbl]\n",
    "        m_ids = torch.multinomial(\n",
    "            torch.ones(len(X_lbl)), m, replacement=True)\n",
    "        lambda_ = X.new(m).uniform_(.3, .7)[:, None, None]\n",
    "        \n",
    "        mX_lbl = X_lbl[m_ids]\n",
    "        mk_ids = torch.norm(\n",
    "            X_lbl - mX_lbl[:,None], dim=2\n",
    "        ).topk(k, dim=1)[1]\n",
    "        \n",
    "        new_X.append(\n",
    "            (lambda_*sign*(mX_lbl[:,None]-X_lbl[mk_ids])\n",
    "             + mX_lbl[:,None]).flatten(0,1))\n",
    "        new_y.append(torch.tensor([lbl]*m*k))\n",
    "    return torch.cat(new_X), torch.cat(new_y)"
   ]
  },
  {
   "cell_type": "markdown",
   "metadata": {},
   "source": [
    "# Results Reproduction of DeVries and etc "
   ]
  },
  {
   "cell_type": "markdown",
   "metadata": {},
   "source": [
    "## Training autoencoder"
   ]
  },
  {
   "cell_type": "code",
   "execution_count": 116,
   "metadata": {},
   "outputs": [],
   "source": [
    "best_weights = clear_buffers(best_score, train_history, test_history)"
   ]
  },
  {
   "cell_type": "code",
   "execution_count": null,
   "metadata": {
    "colab": {
     "base_uri": "https://localhost:8080/",
     "height": 1000
    },
    "colab_type": "code",
    "id": "bPE3BQ_UDAFd",
    "outputId": "c3a5b0ef-6172-4bac-a683-87c32ecee97a"
   },
   "outputs": [],
   "source": [
    "train_ae(X_red, 100, mode, verbose=False)"
   ]
  },
  {
   "cell_type": "code",
   "execution_count": 160,
   "metadata": {
    "colab": {
     "base_uri": "https://localhost:8080/",
     "height": 265
    },
    "colab_type": "code",
    "id": "-AMDn-q6JDQf",
    "outputId": "6bb2221c-3b20-4c6b-8de8-ecca8a5dbee5"
   },
   "outputs": [
    {
     "data": {
      "image/png": "[encoded data removed]",
      "text/plain": [
       "<Figure size 432x288 with 1 Axes>"
      ]
     },
     "metadata": {
      "needs_background": "light"
     },
     "output_type": "display_data"
    }
   ],
   "source": [
    "plt.plot(train_history, label='train')\n",
    "plt.plot(test_history, label='test')\n",
    "plt.title(\"Autoencoder's Loss\")\n",
    "plt.legend();"
   ]
  },
  {
   "cell_type": "code",
   "execution_count": 27,
   "metadata": {
    "colab": {
     "base_uri": "https://localhost:8080/",
     "height": 289
    },
    "colab_type": "code",
    "id": "e_jhyWNdDAFk",
    "outputId": "3354e3a9-e217-4c5a-9d13-2e915df7f8b8",
    "scrolled": true
   },
   "outputs": [
    {
     "data": {
      "text/plain": [
       "(tensor([[-0.5871, -0.5939, -0.6055,  ..., -0.5989, -0.5627, -0.5252],\n",
       "         [-0.5540, -0.5606, -0.5718,  ..., -0.5654, -0.5305, -0.4943],\n",
       "         [-0.5494, -0.5570, -0.5701,  ..., -0.5626, -0.5221, -0.4801],\n",
       "         ...,\n",
       "         [-1.8614, -1.8478, -1.8245,  ..., -1.8378, -1.9100, -1.9847],\n",
       "         [-1.8533, -1.8388, -1.8140,  ..., -1.8282, -1.9050, -1.9846],\n",
       "         [-1.8330, -1.8193, -1.7956,  ..., -1.8091, -1.8822, -1.9580]],\n",
       "        grad_fn=<SqueezeBackward0>),\n",
       " tensor([[-0.5723, -0.6629, -0.6653,  ..., -0.5213, -0.5985, -0.6303],\n",
       "         [-0.5737, -0.6550, -0.6368,  ..., -0.4891, -0.5762, -0.5871],\n",
       "         [-0.6026, -0.6347, -0.6397,  ..., -0.5139, -0.6023, -0.5301],\n",
       "         ...,\n",
       "         [-1.8439, -1.8251, -1.7937,  ..., -1.8122, -1.9104, -2.0121],\n",
       "         [-1.8455, -1.8269, -1.7953,  ..., -1.8136, -1.9118, -2.0148],\n",
       "         [-1.8467, -1.8284, -1.7969,  ..., -1.8147, -1.9125, -2.0159]]))"
      ]
     },
     "execution_count": 27,
     "metadata": {},
     "output_type": "execute_result"
    }
   ],
   "source": [
    "# Load best weights\n",
    "if best_weights:\n",
    "    sae.load_state_dict(best_weights)\n",
    "    \n",
    "# And check the reconstruction\n",
    "perm_ids = torch.randperm(X_test.size(1))\n",
    "sae(X_red[:,perm_ids]).squeeze(), X_red[:,perm_ids].squeeze()"
   ]
  },
  {
   "cell_type": "markdown",
   "metadata": {},
   "source": [
    "## Training classifier on reduced dataset"
   ]
  },
  {
   "cell_type": "code",
   "execution_count": null,
   "metadata": {},
   "outputs": [],
   "source": [
    "train_clf(X_red, y_red, 30, mode, verbose=False)"
   ]
  },
  {
   "cell_type": "code",
   "execution_count": 160,
   "metadata": {
    "colab": {
     "base_uri": "https://localhost:8080/",
     "height": 265
    },
    "colab_type": "code",
    "id": "-AMDn-q6JDQf",
    "outputId": "6bb2221c-3b20-4c6b-8de8-ecca8a5dbee5"
   },
   "outputs": [
    {
     "data": {
      "image/png": "[encoded data removed]",
      "text/plain": [
       "<Figure size 432x288 with 1 Axes>"
      ]
     },
     "metadata": {
      "needs_background": "light"
     },
     "output_type": "display_data"
    }
   ],
   "source": [
    "plt.plot(train_history, label='train')\n",
    "plt.plot(test_history, label='test')\n",
    "plt.title(\"Classifier's Loss\")\n",
    "plt.legend();"
   ]
  },
  {
   "cell_type": "code",
   "execution_count": 40,
   "metadata": {},
   "outputs": [
    {
     "data": {
      "text/plain": [
       "(tensor([0, 0, 0, 0, 0, 0, 1, 0, 0, 0, 0, 0, 0, 0, 0, 1, 1, 1, 1, 1, 1, 1, 1, 1,\n",
       "         1, 1, 1, 1]),\n",
       " tensor([0, 0, 0, 0, 0, 0, 0, 0, 0, 0, 0, 0, 0, 0, 0, 1, 1, 1, 1, 1, 1, 1, 1, 1,\n",
       "         1, 1, 1, 1]))"
      ]
     },
     "execution_count": 40,
     "metadata": {},
     "output_type": "execute_result"
    }
   ],
   "source": [
    "y_pred = clf.predict(X_test) \n",
    "print('accuracy =', accuracy_score(y_test, y_pred))\n",
    "y_test, y_pred"
   ]
  },
  {
   "cell_type": "markdown",
   "metadata": {},
   "source": [
    "## Applying transformations to extracted code"
   ]
  },
  {
   "cell_type": "code",
   "execution_count": null,
   "metadata": {},
   "outputs": [],
   "source": [
    "code = sae.enc(X_train).detach()\n",
    "X_augmented, y_augmented = [], []\n",
    "\n",
    "# Balance the number of class representators\n",
    "cnts = y_train.bincount()\n",
    "augments = cnts.max().item() - cnts\n",
    "if any(augments):\n",
    "    new_code, new_y = oversampling(code, y_train, augments)\n",
    "    new_X = sae.dec(new_code).detach()\n",
    "    X_augmented.append(new_X)\n",
    "    y_augmented.append(new_y)\n",
    "    \n",
    "M = 10  # chose M: <!! each class will grow by M !!>\n",
    "# Equal augmentation\n",
    "augments = [M] * len(cnts)\n",
    "new_code, new_y = oversampling(code, y_train, augments)\n",
    "new_X = sae.dec(new_code).detach()\n",
    "X_augmented.append(new_X)\n",
    "y_augmented.append(new_y)\n",
    "\n",
    "X_augmented, y_augmented = map(torch.cat, (X_augmented, y_augmented))"
   ]
  },
  {
   "cell_type": "code",
   "execution_count": 159,
   "metadata": {},
   "outputs": [],
   "source": [
    "# Data augmentation by adding gaussian noise\n",
    "\n",
    "# !! Take into consideration that noise here is being applied\n",
    "# to balanced and already augmented by inter/extra-polation dataset !!\n",
    "\n",
    "code = sae.enc(X_augmented).detach()\n",
    "new_code = code + .05*torch.randn_like(code)\n",
    "X_augmented = torch.cat([X_augmented, sae.dec(new_code).detach()])\n",
    "y_augmented = torch.cat([y_augmented, y_augmented])"
   ]
  },
  {
   "cell_type": "markdown",
   "metadata": {},
   "source": [
    "## Training classifier on augmented dataset"
   ]
  },
  {
   "cell_type": "code",
   "execution_count": null,
   "metadata": {},
   "outputs": [],
   "source": [
    "train_clf(X_augmented, y_augmented, 30, mode, False)"
   ]
  },
  {
   "cell_type": "code",
   "execution_count": 160,
   "metadata": {
    "colab": {
     "base_uri": "https://localhost:8080/",
     "height": 265
    },
    "colab_type": "code",
    "id": "-AMDn-q6JDQf",
    "outputId": "6bb2221c-3b20-4c6b-8de8-ecca8a5dbee5"
   },
   "outputs": [
    {
     "data": {
      "image/png": "[encoded data removed]",
      "text/plain": [
       "<Figure size 432x288 with 1 Axes>"
      ]
     },
     "metadata": {
      "needs_background": "light"
     },
     "output_type": "display_data"
    }
   ],
   "source": [
    "plt.plot(train_history, label='train')\n",
    "plt.plot(test_history, label='test')\n",
    "plt.title(\"Classifier's Loss\")\n",
    "plt.legend();"
   ]
  },
  {
   "cell_type": "code",
   "execution_count": 40,
   "metadata": {},
   "outputs": [
    {
     "data": {
      "text/plain": [
       "(tensor([0, 0, 0, 0, 0, 0, 1, 0, 0, 0, 0, 0, 0, 0, 0, 1, 1, 1, 1, 1, 1, 1, 1, 1,\n",
       "         1, 1, 1, 1]),\n",
       " tensor([0, 0, 0, 0, 0, 0, 0, 0, 0, 0, 0, 0, 0, 0, 0, 1, 1, 1, 1, 1, 1, 1, 1, 1,\n",
       "         1, 1, 1, 1]))"
      ]
     },
     "execution_count": 40,
     "metadata": {},
     "output_type": "execute_result"
    }
   ],
   "source": [
    "y_pred = clf.predict(X_test) \n",
    "print('accuracy =', accuracy_score(y_test, y_pred))\n",
    "y_test, y_pred"
   ]
  },
  {
   "cell_type": "markdown",
   "metadata": {},
   "source": [
    "# Augmentation with Persistence Landscapes"
   ]
  },
  {
   "cell_type": "markdown",
   "metadata": {},
   "source": [
    "## Scheme 1"
   ]
  },
  {
   "cell_type": "code",
   "execution_count": 77,
   "metadata": {},
   "outputs": [
    {
     "name": "stdout",
     "output_type": "stream",
     "text": [
      "Epoch #0\n",
      "------\n",
      "0.827996551990509\n",
      "0.799287736415863 \n",
      "\n"
     ]
    }
   ],
   "source": [
    "train_pli(1, mode)"
   ]
  },
  {
   "cell_type": "markdown",
   "metadata": {},
   "source": [
    "## Scheme 2"
   ]
  },
  {
   "cell_type": "code",
   "execution_count": 147,
   "metadata": {},
   "outputs": [
    {
     "name": "stdout",
     "output_type": "stream",
     "text": [
      "Epoch #0\n",
      "------\n",
      "0.841687003771464\n",
      "0.8316600322723389 \n",
      "\n"
     ]
    }
   ],
   "source": [
    "train_slae(1, mode)"
   ]
  },
  {
   "cell_type": "markdown",
   "metadata": {},
   "source": [
    "---"
   ]
  },
  {
   "cell_type": "code",
   "execution_count": null,
   "metadata": {},
   "outputs": [],
   "source": []
  }
 ],
 "metadata": {
  "accelerator": "GPU",
  "colab": {
   "name": "Visualizaiton.ipynb",
   "provenance": []
  },
  "kernelspec": {
   "display_name": "Python 3",
   "language": "python",
   "name": "python3"
  },
  "language_info": {
   "codemirror_mode": {
    "name": "ipython",
    "version": 3
   },
   "file_extension": ".py",
   "mimetype": "text/x-python",
   "name": "python",
   "nbconvert_exporter": "python",
   "pygments_lexer": "ipython3",
   "version": "3.8.1"
  },
  "toc": {
   "base_numbering": 1,
   "nav_menu": {},
   "number_sections": true,
   "sideBar": true,
   "skip_h1_title": false,
   "title_cell": "Table of Contents",
   "title_sidebar": "Contents",
   "toc_cell": false,
   "toc_position": {},
   "toc_section_display": true,
   "toc_window_display": false
  }
 },
 "nbformat": 4,
 "nbformat_minor": 1
}
