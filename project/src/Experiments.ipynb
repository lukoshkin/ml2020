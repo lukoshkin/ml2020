{
  "nbformat": 4,
  "nbformat_minor": 0,
  "metadata": {
    "accelerator": "GPU",
    "colab": {
      "name": "Clean_colab.ipynb",
      "provenance": [],
      "collapsed_sections": []
    },
    "kernelspec": {
      "name": "python3",
      "display_name": "Python 3"
    },
    "language_info": {
      "codemirror_mode": {
        "name": "ipython",
        "version": 3
      },
      "file_extension": ".py",
      "mimetype": "text/x-python",
      "name": "python",
      "nbconvert_exporter": "python",
      "pygments_lexer": "ipython3",
      "version": "3.8.1"
    },
    "toc": {
      "base_numbering": 1,
      "nav_menu": {},
      "number_sections": true,
      "sideBar": true,
      "skip_h1_title": false,
      "title_cell": "Table of Contents",
      "title_sidebar": "Contents",
      "toc_cell": false,
      "toc_position": {},
      "toc_section_display": true,
      "toc_window_display": false
    },
    "widgets": {
      "application/vnd.jupyter.widget-state+json": {
        "2f6f3ac1444a4160b4c1fde6d29f1369": {
          "model_module": "@jupyter-widgets/controls",
          "model_name": "HBoxModel",
          "state": {
            "_view_name": "HBoxView",
            "_dom_classes": [],
            "_model_name": "HBoxModel",
            "_view_module": "@jupyter-widgets/controls",
            "_model_module_version": "1.5.0",
            "_view_count": null,
            "_view_module_version": "1.5.0",
            "box_style": "",
            "layout": "IPY_MODEL_1e33122a5b2c46cb9a024d1a4d45964b",
            "_model_module": "@jupyter-widgets/controls",
            "children": [
              "IPY_MODEL_9a0d09c5ac114fb4884c708e5a143784",
              "IPY_MODEL_e11692b182ab452db96e11415c4d7f9a"
            ]
          }
        },
        "1e33122a5b2c46cb9a024d1a4d45964b": {
          "model_module": "@jupyter-widgets/base",
          "model_name": "LayoutModel",
          "state": {
            "_view_name": "LayoutView",
            "grid_template_rows": null,
            "right": null,
            "justify_content": null,
            "_view_module": "@jupyter-widgets/base",
            "overflow": null,
            "_model_module_version": "1.2.0",
            "_view_count": null,
            "flex_flow": null,
            "width": null,
            "min_width": null,
            "border": null,
            "align_items": null,
            "bottom": null,
            "_model_module": "@jupyter-widgets/base",
            "top": null,
            "grid_column": null,
            "overflow_y": null,
            "overflow_x": null,
            "grid_auto_flow": null,
            "grid_area": null,
            "grid_template_columns": null,
            "flex": null,
            "_model_name": "LayoutModel",
            "justify_items": null,
            "grid_row": null,
            "max_height": null,
            "align_content": null,
            "visibility": null,
            "align_self": null,
            "height": null,
            "min_height": null,
            "padding": null,
            "grid_auto_rows": null,
            "grid_gap": null,
            "max_width": null,
            "order": null,
            "_view_module_version": "1.2.0",
            "grid_template_areas": null,
            "object_position": null,
            "object_fit": null,
            "grid_auto_columns": null,
            "margin": null,
            "display": null,
            "left": null
          }
        },
        "9a0d09c5ac114fb4884c708e5a143784": {
          "model_module": "@jupyter-widgets/controls",
          "model_name": "IntProgressModel",
          "state": {
            "_view_name": "ProgressView",
            "style": "IPY_MODEL_1dc0280327e1428797648b75a72b99b9",
            "_dom_classes": [],
            "description": "ae training: 100%",
            "_model_name": "IntProgressModel",
            "bar_style": "success",
            "max": 500,
            "_view_module": "@jupyter-widgets/controls",
            "_model_module_version": "1.5.0",
            "value": 500,
            "_view_count": null,
            "_view_module_version": "1.5.0",
            "orientation": "horizontal",
            "min": 0,
            "description_tooltip": null,
            "_model_module": "@jupyter-widgets/controls",
            "layout": "IPY_MODEL_d337bc608cd24259b3f4abd5b1face7d"
          }
        },
        "e11692b182ab452db96e11415c4d7f9a": {
          "model_module": "@jupyter-widgets/controls",
          "model_name": "HTMLModel",
          "state": {
            "_view_name": "HTMLView",
            "style": "IPY_MODEL_26fea1cb483d40518bbc6200a38fe17b",
            "_dom_classes": [],
            "description": "",
            "_model_name": "HTMLModel",
            "placeholder": "​",
            "_view_module": "@jupyter-widgets/controls",
            "_model_module_version": "1.5.0",
            "value": " 500/500 [01:40&lt;00:00,  4.98it/s]",
            "_view_count": null,
            "_view_module_version": "1.5.0",
            "description_tooltip": null,
            "_model_module": "@jupyter-widgets/controls",
            "layout": "IPY_MODEL_142ec67ceeeb4346a4dcd56f555d8e1f"
          }
        },
        "1dc0280327e1428797648b75a72b99b9": {
          "model_module": "@jupyter-widgets/controls",
          "model_name": "ProgressStyleModel",
          "state": {
            "_view_name": "StyleView",
            "_model_name": "ProgressStyleModel",
            "description_width": "initial",
            "_view_module": "@jupyter-widgets/base",
            "_model_module_version": "1.5.0",
            "_view_count": null,
            "_view_module_version": "1.2.0",
            "bar_color": null,
            "_model_module": "@jupyter-widgets/controls"
          }
        },
        "d337bc608cd24259b3f4abd5b1face7d": {
          "model_module": "@jupyter-widgets/base",
          "model_name": "LayoutModel",
          "state": {
            "_view_name": "LayoutView",
            "grid_template_rows": null,
            "right": null,
            "justify_content": null,
            "_view_module": "@jupyter-widgets/base",
            "overflow": null,
            "_model_module_version": "1.2.0",
            "_view_count": null,
            "flex_flow": null,
            "width": null,
            "min_width": null,
            "border": null,
            "align_items": null,
            "bottom": null,
            "_model_module": "@jupyter-widgets/base",
            "top": null,
            "grid_column": null,
            "overflow_y": null,
            "overflow_x": null,
            "grid_auto_flow": null,
            "grid_area": null,
            "grid_template_columns": null,
            "flex": null,
            "_model_name": "LayoutModel",
            "justify_items": null,
            "grid_row": null,
            "max_height": null,
            "align_content": null,
            "visibility": null,
            "align_self": null,
            "height": null,
            "min_height": null,
            "padding": null,
            "grid_auto_rows": null,
            "grid_gap": null,
            "max_width": null,
            "order": null,
            "_view_module_version": "1.2.0",
            "grid_template_areas": null,
            "object_position": null,
            "object_fit": null,
            "grid_auto_columns": null,
            "margin": null,
            "display": null,
            "left": null
          }
        },
        "26fea1cb483d40518bbc6200a38fe17b": {
          "model_module": "@jupyter-widgets/controls",
          "model_name": "DescriptionStyleModel",
          "state": {
            "_view_name": "StyleView",
            "_model_name": "DescriptionStyleModel",
            "description_width": "",
            "_view_module": "@jupyter-widgets/base",
            "_model_module_version": "1.5.0",
            "_view_count": null,
            "_view_module_version": "1.2.0",
            "_model_module": "@jupyter-widgets/controls"
          }
        },
        "142ec67ceeeb4346a4dcd56f555d8e1f": {
          "model_module": "@jupyter-widgets/base",
          "model_name": "LayoutModel",
          "state": {
            "_view_name": "LayoutView",
            "grid_template_rows": null,
            "right": null,
            "justify_content": null,
            "_view_module": "@jupyter-widgets/base",
            "overflow": null,
            "_model_module_version": "1.2.0",
            "_view_count": null,
            "flex_flow": null,
            "width": null,
            "min_width": null,
            "border": null,
            "align_items": null,
            "bottom": null,
            "_model_module": "@jupyter-widgets/base",
            "top": null,
            "grid_column": null,
            "overflow_y": null,
            "overflow_x": null,
            "grid_auto_flow": null,
            "grid_area": null,
            "grid_template_columns": null,
            "flex": null,
            "_model_name": "LayoutModel",
            "justify_items": null,
            "grid_row": null,
            "max_height": null,
            "align_content": null,
            "visibility": null,
            "align_self": null,
            "height": null,
            "min_height": null,
            "padding": null,
            "grid_auto_rows": null,
            "grid_gap": null,
            "max_width": null,
            "order": null,
            "_view_module_version": "1.2.0",
            "grid_template_areas": null,
            "object_position": null,
            "object_fit": null,
            "grid_auto_columns": null,
            "margin": null,
            "display": null,
            "left": null
          }
        },
        "6e5fc84a2b174056a7dc359b650a5c51": {
          "model_module": "@jupyter-widgets/controls",
          "model_name": "HBoxModel",
          "state": {
            "_view_name": "HBoxView",
            "_dom_classes": [],
            "_model_name": "HBoxModel",
            "_view_module": "@jupyter-widgets/controls",
            "_model_module_version": "1.5.0",
            "_view_count": null,
            "_view_module_version": "1.5.0",
            "box_style": "",
            "layout": "IPY_MODEL_4e4c3c22994540e9b00003a41bb9818a",
            "_model_module": "@jupyter-widgets/controls",
            "children": [
              "IPY_MODEL_9e000cebdf244b75b6085610ddd6306a",
              "IPY_MODEL_af8e9fe571d34f579d6a568e43b2c16b"
            ]
          }
        },
        "4e4c3c22994540e9b00003a41bb9818a": {
          "model_module": "@jupyter-widgets/base",
          "model_name": "LayoutModel",
          "state": {
            "_view_name": "LayoutView",
            "grid_template_rows": null,
            "right": null,
            "justify_content": null,
            "_view_module": "@jupyter-widgets/base",
            "overflow": null,
            "_model_module_version": "1.2.0",
            "_view_count": null,
            "flex_flow": null,
            "width": null,
            "min_width": null,
            "border": null,
            "align_items": null,
            "bottom": null,
            "_model_module": "@jupyter-widgets/base",
            "top": null,
            "grid_column": null,
            "overflow_y": null,
            "overflow_x": null,
            "grid_auto_flow": null,
            "grid_area": null,
            "grid_template_columns": null,
            "flex": null,
            "_model_name": "LayoutModel",
            "justify_items": null,
            "grid_row": null,
            "max_height": null,
            "align_content": null,
            "visibility": null,
            "align_self": null,
            "height": null,
            "min_height": null,
            "padding": null,
            "grid_auto_rows": null,
            "grid_gap": null,
            "max_width": null,
            "order": null,
            "_view_module_version": "1.2.0",
            "grid_template_areas": null,
            "object_position": null,
            "object_fit": null,
            "grid_auto_columns": null,
            "margin": null,
            "display": null,
            "left": null
          }
        },
        "9e000cebdf244b75b6085610ddd6306a": {
          "model_module": "@jupyter-widgets/controls",
          "model_name": "IntProgressModel",
          "state": {
            "_view_name": "ProgressView",
            "style": "IPY_MODEL_b32fedf969a34a019311e3f0b9e3cc41",
            "_dom_classes": [],
            "description": "clf training: 100%",
            "_model_name": "IntProgressModel",
            "bar_style": "success",
            "max": 500,
            "_view_module": "@jupyter-widgets/controls",
            "_model_module_version": "1.5.0",
            "value": 500,
            "_view_count": null,
            "_view_module_version": "1.5.0",
            "orientation": "horizontal",
            "min": 0,
            "description_tooltip": null,
            "_model_module": "@jupyter-widgets/controls",
            "layout": "IPY_MODEL_19e3e195b888401395eb2f387974bde9"
          }
        },
        "af8e9fe571d34f579d6a568e43b2c16b": {
          "model_module": "@jupyter-widgets/controls",
          "model_name": "HTMLModel",
          "state": {
            "_view_name": "HTMLView",
            "style": "IPY_MODEL_c0b1a9f928364443ac4c79295a557702",
            "_dom_classes": [],
            "description": "",
            "_model_name": "HTMLModel",
            "placeholder": "​",
            "_view_module": "@jupyter-widgets/controls",
            "_model_module_version": "1.5.0",
            "value": " 500/500 [00:07&lt;00:00, 63.45it/s]",
            "_view_count": null,
            "_view_module_version": "1.5.0",
            "description_tooltip": null,
            "_model_module": "@jupyter-widgets/controls",
            "layout": "IPY_MODEL_0dd519f4c84b46e8ae9037162183797c"
          }
        },
        "b32fedf969a34a019311e3f0b9e3cc41": {
          "model_module": "@jupyter-widgets/controls",
          "model_name": "ProgressStyleModel",
          "state": {
            "_view_name": "StyleView",
            "_model_name": "ProgressStyleModel",
            "description_width": "initial",
            "_view_module": "@jupyter-widgets/base",
            "_model_module_version": "1.5.0",
            "_view_count": null,
            "_view_module_version": "1.2.0",
            "bar_color": null,
            "_model_module": "@jupyter-widgets/controls"
          }
        },
        "19e3e195b888401395eb2f387974bde9": {
          "model_module": "@jupyter-widgets/base",
          "model_name": "LayoutModel",
          "state": {
            "_view_name": "LayoutView",
            "grid_template_rows": null,
            "right": null,
            "justify_content": null,
            "_view_module": "@jupyter-widgets/base",
            "overflow": null,
            "_model_module_version": "1.2.0",
            "_view_count": null,
            "flex_flow": null,
            "width": null,
            "min_width": null,
            "border": null,
            "align_items": null,
            "bottom": null,
            "_model_module": "@jupyter-widgets/base",
            "top": null,
            "grid_column": null,
            "overflow_y": null,
            "overflow_x": null,
            "grid_auto_flow": null,
            "grid_area": null,
            "grid_template_columns": null,
            "flex": null,
            "_model_name": "LayoutModel",
            "justify_items": null,
            "grid_row": null,
            "max_height": null,
            "align_content": null,
            "visibility": null,
            "align_self": null,
            "height": null,
            "min_height": null,
            "padding": null,
            "grid_auto_rows": null,
            "grid_gap": null,
            "max_width": null,
            "order": null,
            "_view_module_version": "1.2.0",
            "grid_template_areas": null,
            "object_position": null,
            "object_fit": null,
            "grid_auto_columns": null,
            "margin": null,
            "display": null,
            "left": null
          }
        },
        "c0b1a9f928364443ac4c79295a557702": {
          "model_module": "@jupyter-widgets/controls",
          "model_name": "DescriptionStyleModel",
          "state": {
            "_view_name": "StyleView",
            "_model_name": "DescriptionStyleModel",
            "description_width": "",
            "_view_module": "@jupyter-widgets/base",
            "_model_module_version": "1.5.0",
            "_view_count": null,
            "_view_module_version": "1.2.0",
            "_model_module": "@jupyter-widgets/controls"
          }
        },
        "0dd519f4c84b46e8ae9037162183797c": {
          "model_module": "@jupyter-widgets/base",
          "model_name": "LayoutModel",
          "state": {
            "_view_name": "LayoutView",
            "grid_template_rows": null,
            "right": null,
            "justify_content": null,
            "_view_module": "@jupyter-widgets/base",
            "overflow": null,
            "_model_module_version": "1.2.0",
            "_view_count": null,
            "flex_flow": null,
            "width": null,
            "min_width": null,
            "border": null,
            "align_items": null,
            "bottom": null,
            "_model_module": "@jupyter-widgets/base",
            "top": null,
            "grid_column": null,
            "overflow_y": null,
            "overflow_x": null,
            "grid_auto_flow": null,
            "grid_area": null,
            "grid_template_columns": null,
            "flex": null,
            "_model_name": "LayoutModel",
            "justify_items": null,
            "grid_row": null,
            "max_height": null,
            "align_content": null,
            "visibility": null,
            "align_self": null,
            "height": null,
            "min_height": null,
            "padding": null,
            "grid_auto_rows": null,
            "grid_gap": null,
            "max_width": null,
            "order": null,
            "_view_module_version": "1.2.0",
            "grid_template_areas": null,
            "object_position": null,
            "object_fit": null,
            "grid_auto_columns": null,
            "margin": null,
            "display": null,
            "left": null
          }
        },
        "7b0c201c33ef4dde929b42aee302da09": {
          "model_module": "@jupyter-widgets/controls",
          "model_name": "HBoxModel",
          "state": {
            "_view_name": "HBoxView",
            "_dom_classes": [],
            "_model_name": "HBoxModel",
            "_view_module": "@jupyter-widgets/controls",
            "_model_module_version": "1.5.0",
            "_view_count": null,
            "_view_module_version": "1.5.0",
            "box_style": "",
            "layout": "IPY_MODEL_34286f9b5e944015b503a0093df1d89e",
            "_model_module": "@jupyter-widgets/controls",
            "children": [
              "IPY_MODEL_0b5e9db36e554b72b30750970b6a3747",
              "IPY_MODEL_431df44c36044969aba7c7ea5a7d86fc"
            ]
          }
        },
        "34286f9b5e944015b503a0093df1d89e": {
          "model_module": "@jupyter-widgets/base",
          "model_name": "LayoutModel",
          "state": {
            "_view_name": "LayoutView",
            "grid_template_rows": null,
            "right": null,
            "justify_content": null,
            "_view_module": "@jupyter-widgets/base",
            "overflow": null,
            "_model_module_version": "1.2.0",
            "_view_count": null,
            "flex_flow": null,
            "width": null,
            "min_width": null,
            "border": null,
            "align_items": null,
            "bottom": null,
            "_model_module": "@jupyter-widgets/base",
            "top": null,
            "grid_column": null,
            "overflow_y": null,
            "overflow_x": null,
            "grid_auto_flow": null,
            "grid_area": null,
            "grid_template_columns": null,
            "flex": null,
            "_model_name": "LayoutModel",
            "justify_items": null,
            "grid_row": null,
            "max_height": null,
            "align_content": null,
            "visibility": null,
            "align_self": null,
            "height": null,
            "min_height": null,
            "padding": null,
            "grid_auto_rows": null,
            "grid_gap": null,
            "max_width": null,
            "order": null,
            "_view_module_version": "1.2.0",
            "grid_template_areas": null,
            "object_position": null,
            "object_fit": null,
            "grid_auto_columns": null,
            "margin": null,
            "display": null,
            "left": null
          }
        },
        "0b5e9db36e554b72b30750970b6a3747": {
          "model_module": "@jupyter-widgets/controls",
          "model_name": "IntProgressModel",
          "state": {
            "_view_name": "ProgressView",
            "style": "IPY_MODEL_5e7038f3a62c492694faf97591b8c5fa",
            "_dom_classes": [],
            "description": "clf training: 100%",
            "_model_name": "IntProgressModel",
            "bar_style": "success",
            "max": 1000,
            "_view_module": "@jupyter-widgets/controls",
            "_model_module_version": "1.5.0",
            "value": 1000,
            "_view_count": null,
            "_view_module_version": "1.5.0",
            "orientation": "horizontal",
            "min": 0,
            "description_tooltip": null,
            "_model_module": "@jupyter-widgets/controls",
            "layout": "IPY_MODEL_604eeab9b17d4543bd4ed8a2dda07c7f"
          }
        },
        "431df44c36044969aba7c7ea5a7d86fc": {
          "model_module": "@jupyter-widgets/controls",
          "model_name": "HTMLModel",
          "state": {
            "_view_name": "HTMLView",
            "style": "IPY_MODEL_3ddf24c77b73446ba3a4f284a56183ff",
            "_dom_classes": [],
            "description": "",
            "_model_name": "HTMLModel",
            "placeholder": "​",
            "_view_module": "@jupyter-widgets/controls",
            "_model_module_version": "1.5.0",
            "value": " 1000/1000 [04:31&lt;00:00,  3.69it/s]",
            "_view_count": null,
            "_view_module_version": "1.5.0",
            "description_tooltip": null,
            "_model_module": "@jupyter-widgets/controls",
            "layout": "IPY_MODEL_b5dcb0e1b3e3491bbe7e347910c8ea44"
          }
        },
        "5e7038f3a62c492694faf97591b8c5fa": {
          "model_module": "@jupyter-widgets/controls",
          "model_name": "ProgressStyleModel",
          "state": {
            "_view_name": "StyleView",
            "_model_name": "ProgressStyleModel",
            "description_width": "initial",
            "_view_module": "@jupyter-widgets/base",
            "_model_module_version": "1.5.0",
            "_view_count": null,
            "_view_module_version": "1.2.0",
            "bar_color": null,
            "_model_module": "@jupyter-widgets/controls"
          }
        },
        "604eeab9b17d4543bd4ed8a2dda07c7f": {
          "model_module": "@jupyter-widgets/base",
          "model_name": "LayoutModel",
          "state": {
            "_view_name": "LayoutView",
            "grid_template_rows": null,
            "right": null,
            "justify_content": null,
            "_view_module": "@jupyter-widgets/base",
            "overflow": null,
            "_model_module_version": "1.2.0",
            "_view_count": null,
            "flex_flow": null,
            "width": null,
            "min_width": null,
            "border": null,
            "align_items": null,
            "bottom": null,
            "_model_module": "@jupyter-widgets/base",
            "top": null,
            "grid_column": null,
            "overflow_y": null,
            "overflow_x": null,
            "grid_auto_flow": null,
            "grid_area": null,
            "grid_template_columns": null,
            "flex": null,
            "_model_name": "LayoutModel",
            "justify_items": null,
            "grid_row": null,
            "max_height": null,
            "align_content": null,
            "visibility": null,
            "align_self": null,
            "height": null,
            "min_height": null,
            "padding": null,
            "grid_auto_rows": null,
            "grid_gap": null,
            "max_width": null,
            "order": null,
            "_view_module_version": "1.2.0",
            "grid_template_areas": null,
            "object_position": null,
            "object_fit": null,
            "grid_auto_columns": null,
            "margin": null,
            "display": null,
            "left": null
          }
        },
        "3ddf24c77b73446ba3a4f284a56183ff": {
          "model_module": "@jupyter-widgets/controls",
          "model_name": "DescriptionStyleModel",
          "state": {
            "_view_name": "StyleView",
            "_model_name": "DescriptionStyleModel",
            "description_width": "",
            "_view_module": "@jupyter-widgets/base",
            "_model_module_version": "1.5.0",
            "_view_count": null,
            "_view_module_version": "1.2.0",
            "_model_module": "@jupyter-widgets/controls"
          }
        },
        "b5dcb0e1b3e3491bbe7e347910c8ea44": {
          "model_module": "@jupyter-widgets/base",
          "model_name": "LayoutModel",
          "state": {
            "_view_name": "LayoutView",
            "grid_template_rows": null,
            "right": null,
            "justify_content": null,
            "_view_module": "@jupyter-widgets/base",
            "overflow": null,
            "_model_module_version": "1.2.0",
            "_view_count": null,
            "flex_flow": null,
            "width": null,
            "min_width": null,
            "border": null,
            "align_items": null,
            "bottom": null,
            "_model_module": "@jupyter-widgets/base",
            "top": null,
            "grid_column": null,
            "overflow_y": null,
            "overflow_x": null,
            "grid_auto_flow": null,
            "grid_area": null,
            "grid_template_columns": null,
            "flex": null,
            "_model_name": "LayoutModel",
            "justify_items": null,
            "grid_row": null,
            "max_height": null,
            "align_content": null,
            "visibility": null,
            "align_self": null,
            "height": null,
            "min_height": null,
            "padding": null,
            "grid_auto_rows": null,
            "grid_gap": null,
            "max_width": null,
            "order": null,
            "_view_module_version": "1.2.0",
            "grid_template_areas": null,
            "object_position": null,
            "object_fit": null,
            "grid_auto_columns": null,
            "margin": null,
            "display": null,
            "left": null
          }
        },
        "fe7561408cc94652bcf0cb3950bb2032": {
          "model_module": "@jupyter-widgets/controls",
          "model_name": "HBoxModel",
          "state": {
            "_view_name": "HBoxView",
            "_dom_classes": [],
            "_model_name": "HBoxModel",
            "_view_module": "@jupyter-widgets/controls",
            "_model_module_version": "1.5.0",
            "_view_count": null,
            "_view_module_version": "1.5.0",
            "box_style": "",
            "layout": "IPY_MODEL_19e3a1cc4d3a402d9fc2b35903032597",
            "_model_module": "@jupyter-widgets/controls",
            "children": [
              "IPY_MODEL_fa6ddb9c33014bf2842f7f74afa8aa17",
              "IPY_MODEL_2f4d5ddc5c6b4b29ab2062ccf877f5e7"
            ]
          }
        },
        "19e3a1cc4d3a402d9fc2b35903032597": {
          "model_module": "@jupyter-widgets/base",
          "model_name": "LayoutModel",
          "state": {
            "_view_name": "LayoutView",
            "grid_template_rows": null,
            "right": null,
            "justify_content": null,
            "_view_module": "@jupyter-widgets/base",
            "overflow": null,
            "_model_module_version": "1.2.0",
            "_view_count": null,
            "flex_flow": null,
            "width": null,
            "min_width": null,
            "border": null,
            "align_items": null,
            "bottom": null,
            "_model_module": "@jupyter-widgets/base",
            "top": null,
            "grid_column": null,
            "overflow_y": null,
            "overflow_x": null,
            "grid_auto_flow": null,
            "grid_area": null,
            "grid_template_columns": null,
            "flex": null,
            "_model_name": "LayoutModel",
            "justify_items": null,
            "grid_row": null,
            "max_height": null,
            "align_content": null,
            "visibility": null,
            "align_self": null,
            "height": null,
            "min_height": null,
            "padding": null,
            "grid_auto_rows": null,
            "grid_gap": null,
            "max_width": null,
            "order": null,
            "_view_module_version": "1.2.0",
            "grid_template_areas": null,
            "object_position": null,
            "object_fit": null,
            "grid_auto_columns": null,
            "margin": null,
            "display": null,
            "left": null
          }
        },
        "fa6ddb9c33014bf2842f7f74afa8aa17": {
          "model_module": "@jupyter-widgets/controls",
          "model_name": "IntProgressModel",
          "state": {
            "_view_name": "ProgressView",
            "style": "IPY_MODEL_2a98fd7280a043f797286bf5b7180dec",
            "_dom_classes": [],
            "description": "pli training: 100%",
            "_model_name": "IntProgressModel",
            "bar_style": "success",
            "max": 1000,
            "_view_module": "@jupyter-widgets/controls",
            "_model_module_version": "1.5.0",
            "value": 1000,
            "_view_count": null,
            "_view_module_version": "1.5.0",
            "orientation": "horizontal",
            "min": 0,
            "description_tooltip": null,
            "_model_module": "@jupyter-widgets/controls",
            "layout": "IPY_MODEL_9c433dae25d449de9f62998706e0f8e5"
          }
        },
        "2f4d5ddc5c6b4b29ab2062ccf877f5e7": {
          "model_module": "@jupyter-widgets/controls",
          "model_name": "HTMLModel",
          "state": {
            "_view_name": "HTMLView",
            "style": "IPY_MODEL_a6ae8a8425e2421baf0c77d40b729f30",
            "_dom_classes": [],
            "description": "",
            "_model_name": "HTMLModel",
            "placeholder": "​",
            "_view_module": "@jupyter-widgets/controls",
            "_model_module_version": "1.5.0",
            "value": " 1000/1000 [04:15&lt;00:00,  3.91it/s]",
            "_view_count": null,
            "_view_module_version": "1.5.0",
            "description_tooltip": null,
            "_model_module": "@jupyter-widgets/controls",
            "layout": "IPY_MODEL_ce80cfa64a194b7aa4edb99d1a8ff5f9"
          }
        },
        "2a98fd7280a043f797286bf5b7180dec": {
          "model_module": "@jupyter-widgets/controls",
          "model_name": "ProgressStyleModel",
          "state": {
            "_view_name": "StyleView",
            "_model_name": "ProgressStyleModel",
            "description_width": "initial",
            "_view_module": "@jupyter-widgets/base",
            "_model_module_version": "1.5.0",
            "_view_count": null,
            "_view_module_version": "1.2.0",
            "bar_color": null,
            "_model_module": "@jupyter-widgets/controls"
          }
        },
        "9c433dae25d449de9f62998706e0f8e5": {
          "model_module": "@jupyter-widgets/base",
          "model_name": "LayoutModel",
          "state": {
            "_view_name": "LayoutView",
            "grid_template_rows": null,
            "right": null,
            "justify_content": null,
            "_view_module": "@jupyter-widgets/base",
            "overflow": null,
            "_model_module_version": "1.2.0",
            "_view_count": null,
            "flex_flow": null,
            "width": null,
            "min_width": null,
            "border": null,
            "align_items": null,
            "bottom": null,
            "_model_module": "@jupyter-widgets/base",
            "top": null,
            "grid_column": null,
            "overflow_y": null,
            "overflow_x": null,
            "grid_auto_flow": null,
            "grid_area": null,
            "grid_template_columns": null,
            "flex": null,
            "_model_name": "LayoutModel",
            "justify_items": null,
            "grid_row": null,
            "max_height": null,
            "align_content": null,
            "visibility": null,
            "align_self": null,
            "height": null,
            "min_height": null,
            "padding": null,
            "grid_auto_rows": null,
            "grid_gap": null,
            "max_width": null,
            "order": null,
            "_view_module_version": "1.2.0",
            "grid_template_areas": null,
            "object_position": null,
            "object_fit": null,
            "grid_auto_columns": null,
            "margin": null,
            "display": null,
            "left": null
          }
        },
        "a6ae8a8425e2421baf0c77d40b729f30": {
          "model_module": "@jupyter-widgets/controls",
          "model_name": "DescriptionStyleModel",
          "state": {
            "_view_name": "StyleView",
            "_model_name": "DescriptionStyleModel",
            "description_width": "",
            "_view_module": "@jupyter-widgets/base",
            "_model_module_version": "1.5.0",
            "_view_count": null,
            "_view_module_version": "1.2.0",
            "_model_module": "@jupyter-widgets/controls"
          }
        },
        "ce80cfa64a194b7aa4edb99d1a8ff5f9": {
          "model_module": "@jupyter-widgets/base",
          "model_name": "LayoutModel",
          "state": {
            "_view_name": "LayoutView",
            "grid_template_rows": null,
            "right": null,
            "justify_content": null,
            "_view_module": "@jupyter-widgets/base",
            "overflow": null,
            "_model_module_version": "1.2.0",
            "_view_count": null,
            "flex_flow": null,
            "width": null,
            "min_width": null,
            "border": null,
            "align_items": null,
            "bottom": null,
            "_model_module": "@jupyter-widgets/base",
            "top": null,
            "grid_column": null,
            "overflow_y": null,
            "overflow_x": null,
            "grid_auto_flow": null,
            "grid_area": null,
            "grid_template_columns": null,
            "flex": null,
            "_model_name": "LayoutModel",
            "justify_items": null,
            "grid_row": null,
            "max_height": null,
            "align_content": null,
            "visibility": null,
            "align_self": null,
            "height": null,
            "min_height": null,
            "padding": null,
            "grid_auto_rows": null,
            "grid_gap": null,
            "max_width": null,
            "order": null,
            "_view_module_version": "1.2.0",
            "grid_template_areas": null,
            "object_position": null,
            "object_fit": null,
            "grid_auto_columns": null,
            "margin": null,
            "display": null,
            "left": null
          }
        },
        "3e1fca902bf34c6aac26ae2953d4f769": {
          "model_module": "@jupyter-widgets/controls",
          "model_name": "HBoxModel",
          "state": {
            "_view_name": "HBoxView",
            "_dom_classes": [],
            "_model_name": "HBoxModel",
            "_view_module": "@jupyter-widgets/controls",
            "_model_module_version": "1.5.0",
            "_view_count": null,
            "_view_module_version": "1.5.0",
            "box_style": "",
            "layout": "IPY_MODEL_53b92d2026614d1fb0ea8bd5885f6f4b",
            "_model_module": "@jupyter-widgets/controls",
            "children": [
              "IPY_MODEL_86b4a0905af145b6a2549c324893ecc2",
              "IPY_MODEL_31e2230a187c4451b6926a8b380227df"
            ]
          }
        },
        "53b92d2026614d1fb0ea8bd5885f6f4b": {
          "model_module": "@jupyter-widgets/base",
          "model_name": "LayoutModel",
          "state": {
            "_view_name": "LayoutView",
            "grid_template_rows": null,
            "right": null,
            "justify_content": null,
            "_view_module": "@jupyter-widgets/base",
            "overflow": null,
            "_model_module_version": "1.2.0",
            "_view_count": null,
            "flex_flow": null,
            "width": null,
            "min_width": null,
            "border": null,
            "align_items": null,
            "bottom": null,
            "_model_module": "@jupyter-widgets/base",
            "top": null,
            "grid_column": null,
            "overflow_y": null,
            "overflow_x": null,
            "grid_auto_flow": null,
            "grid_area": null,
            "grid_template_columns": null,
            "flex": null,
            "_model_name": "LayoutModel",
            "justify_items": null,
            "grid_row": null,
            "max_height": null,
            "align_content": null,
            "visibility": null,
            "align_self": null,
            "height": null,
            "min_height": null,
            "padding": null,
            "grid_auto_rows": null,
            "grid_gap": null,
            "max_width": null,
            "order": null,
            "_view_module_version": "1.2.0",
            "grid_template_areas": null,
            "object_position": null,
            "object_fit": null,
            "grid_auto_columns": null,
            "margin": null,
            "display": null,
            "left": null
          }
        },
        "86b4a0905af145b6a2549c324893ecc2": {
          "model_module": "@jupyter-widgets/controls",
          "model_name": "IntProgressModel",
          "state": {
            "_view_name": "ProgressView",
            "style": "IPY_MODEL_799ca5b79d404fc397c729270ae956eb",
            "_dom_classes": [],
            "description": "clf training: 100%",
            "_model_name": "IntProgressModel",
            "bar_style": "success",
            "max": 1200,
            "_view_module": "@jupyter-widgets/controls",
            "_model_module_version": "1.5.0",
            "value": 1200,
            "_view_count": null,
            "_view_module_version": "1.5.0",
            "orientation": "horizontal",
            "min": 0,
            "description_tooltip": null,
            "_model_module": "@jupyter-widgets/controls",
            "layout": "IPY_MODEL_557042f299974fe48b78b02a02d98442"
          }
        },
        "31e2230a187c4451b6926a8b380227df": {
          "model_module": "@jupyter-widgets/controls",
          "model_name": "HTMLModel",
          "state": {
            "_view_name": "HTMLView",
            "style": "IPY_MODEL_90549da52b4a452c88ded6712a222821",
            "_dom_classes": [],
            "description": "",
            "_model_name": "HTMLModel",
            "placeholder": "​",
            "_view_module": "@jupyter-widgets/controls",
            "_model_module_version": "1.5.0",
            "value": " 1200/1200 [00:19&lt;00:00, 61.07it/s]",
            "_view_count": null,
            "_view_module_version": "1.5.0",
            "description_tooltip": null,
            "_model_module": "@jupyter-widgets/controls",
            "layout": "IPY_MODEL_2245c7d59fa145c7999df02760f20713"
          }
        },
        "799ca5b79d404fc397c729270ae956eb": {
          "model_module": "@jupyter-widgets/controls",
          "model_name": "ProgressStyleModel",
          "state": {
            "_view_name": "StyleView",
            "_model_name": "ProgressStyleModel",
            "description_width": "initial",
            "_view_module": "@jupyter-widgets/base",
            "_model_module_version": "1.5.0",
            "_view_count": null,
            "_view_module_version": "1.2.0",
            "bar_color": null,
            "_model_module": "@jupyter-widgets/controls"
          }
        },
        "557042f299974fe48b78b02a02d98442": {
          "model_module": "@jupyter-widgets/base",
          "model_name": "LayoutModel",
          "state": {
            "_view_name": "LayoutView",
            "grid_template_rows": null,
            "right": null,
            "justify_content": null,
            "_view_module": "@jupyter-widgets/base",
            "overflow": null,
            "_model_module_version": "1.2.0",
            "_view_count": null,
            "flex_flow": null,
            "width": null,
            "min_width": null,
            "border": null,
            "align_items": null,
            "bottom": null,
            "_model_module": "@jupyter-widgets/base",
            "top": null,
            "grid_column": null,
            "overflow_y": null,
            "overflow_x": null,
            "grid_auto_flow": null,
            "grid_area": null,
            "grid_template_columns": null,
            "flex": null,
            "_model_name": "LayoutModel",
            "justify_items": null,
            "grid_row": null,
            "max_height": null,
            "align_content": null,
            "visibility": null,
            "align_self": null,
            "height": null,
            "min_height": null,
            "padding": null,
            "grid_auto_rows": null,
            "grid_gap": null,
            "max_width": null,
            "order": null,
            "_view_module_version": "1.2.0",
            "grid_template_areas": null,
            "object_position": null,
            "object_fit": null,
            "grid_auto_columns": null,
            "margin": null,
            "display": null,
            "left": null
          }
        },
        "90549da52b4a452c88ded6712a222821": {
          "model_module": "@jupyter-widgets/controls",
          "model_name": "DescriptionStyleModel",
          "state": {
            "_view_name": "StyleView",
            "_model_name": "DescriptionStyleModel",
            "description_width": "",
            "_view_module": "@jupyter-widgets/base",
            "_model_module_version": "1.5.0",
            "_view_count": null,
            "_view_module_version": "1.2.0",
            "_model_module": "@jupyter-widgets/controls"
          }
        },
        "2245c7d59fa145c7999df02760f20713": {
          "model_module": "@jupyter-widgets/base",
          "model_name": "LayoutModel",
          "state": {
            "_view_name": "LayoutView",
            "grid_template_rows": null,
            "right": null,
            "justify_content": null,
            "_view_module": "@jupyter-widgets/base",
            "overflow": null,
            "_model_module_version": "1.2.0",
            "_view_count": null,
            "flex_flow": null,
            "width": null,
            "min_width": null,
            "border": null,
            "align_items": null,
            "bottom": null,
            "_model_module": "@jupyter-widgets/base",
            "top": null,
            "grid_column": null,
            "overflow_y": null,
            "overflow_x": null,
            "grid_auto_flow": null,
            "grid_area": null,
            "grid_template_columns": null,
            "flex": null,
            "_model_name": "LayoutModel",
            "justify_items": null,
            "grid_row": null,
            "max_height": null,
            "align_content": null,
            "visibility": null,
            "align_self": null,
            "height": null,
            "min_height": null,
            "padding": null,
            "grid_auto_rows": null,
            "grid_gap": null,
            "max_width": null,
            "order": null,
            "_view_module_version": "1.2.0",
            "grid_template_areas": null,
            "object_position": null,
            "object_fit": null,
            "grid_auto_columns": null,
            "margin": null,
            "display": null,
            "left": null
          }
        },
        "c5f4b964e0834269bbf76a9dca513629": {
          "model_module": "@jupyter-widgets/controls",
          "model_name": "HBoxModel",
          "state": {
            "_view_name": "HBoxView",
            "_dom_classes": [],
            "_model_name": "HBoxModel",
            "_view_module": "@jupyter-widgets/controls",
            "_model_module_version": "1.5.0",
            "_view_count": null,
            "_view_module_version": "1.5.0",
            "box_style": "",
            "layout": "IPY_MODEL_4b8031918b224abb9bb0eec87d671759",
            "_model_module": "@jupyter-widgets/controls",
            "children": [
              "IPY_MODEL_3d6b39c5d0f94c6d9317adb86ed1436b",
              "IPY_MODEL_e3b2ccc3552e40bab7a20ff5753950a1"
            ]
          }
        },
        "4b8031918b224abb9bb0eec87d671759": {
          "model_module": "@jupyter-widgets/base",
          "model_name": "LayoutModel",
          "state": {
            "_view_name": "LayoutView",
            "grid_template_rows": null,
            "right": null,
            "justify_content": null,
            "_view_module": "@jupyter-widgets/base",
            "overflow": null,
            "_model_module_version": "1.2.0",
            "_view_count": null,
            "flex_flow": null,
            "width": null,
            "min_width": null,
            "border": null,
            "align_items": null,
            "bottom": null,
            "_model_module": "@jupyter-widgets/base",
            "top": null,
            "grid_column": null,
            "overflow_y": null,
            "overflow_x": null,
            "grid_auto_flow": null,
            "grid_area": null,
            "grid_template_columns": null,
            "flex": null,
            "_model_name": "LayoutModel",
            "justify_items": null,
            "grid_row": null,
            "max_height": null,
            "align_content": null,
            "visibility": null,
            "align_self": null,
            "height": null,
            "min_height": null,
            "padding": null,
            "grid_auto_rows": null,
            "grid_gap": null,
            "max_width": null,
            "order": null,
            "_view_module_version": "1.2.0",
            "grid_template_areas": null,
            "object_position": null,
            "object_fit": null,
            "grid_auto_columns": null,
            "margin": null,
            "display": null,
            "left": null
          }
        },
        "3d6b39c5d0f94c6d9317adb86ed1436b": {
          "model_module": "@jupyter-widgets/controls",
          "model_name": "IntProgressModel",
          "state": {
            "_view_name": "ProgressView",
            "style": "IPY_MODEL_630cb59811054ec086861af0a64423e9",
            "_dom_classes": [],
            "description": "slae training: 100%",
            "_model_name": "IntProgressModel",
            "bar_style": "success",
            "max": 1000,
            "_view_module": "@jupyter-widgets/controls",
            "_model_module_version": "1.5.0",
            "value": 1000,
            "_view_count": null,
            "_view_module_version": "1.5.0",
            "orientation": "horizontal",
            "min": 0,
            "description_tooltip": null,
            "_model_module": "@jupyter-widgets/controls",
            "layout": "IPY_MODEL_ee7bf56ec72a4926bfc013e3cc5c8312"
          }
        },
        "e3b2ccc3552e40bab7a20ff5753950a1": {
          "model_module": "@jupyter-widgets/controls",
          "model_name": "HTMLModel",
          "state": {
            "_view_name": "HTMLView",
            "style": "IPY_MODEL_bb1b93e22dfe448481338da6cf4fd978",
            "_dom_classes": [],
            "description": "",
            "_model_name": "HTMLModel",
            "placeholder": "​",
            "_view_module": "@jupyter-widgets/controls",
            "_model_module_version": "1.5.0",
            "value": " 1000/1000 [05:00&lt;00:00,  3.33it/s]",
            "_view_count": null,
            "_view_module_version": "1.5.0",
            "description_tooltip": null,
            "_model_module": "@jupyter-widgets/controls",
            "layout": "IPY_MODEL_9bd20707b17d4cb2bfba6ba98412aec0"
          }
        },
        "630cb59811054ec086861af0a64423e9": {
          "model_module": "@jupyter-widgets/controls",
          "model_name": "ProgressStyleModel",
          "state": {
            "_view_name": "StyleView",
            "_model_name": "ProgressStyleModel",
            "description_width": "initial",
            "_view_module": "@jupyter-widgets/base",
            "_model_module_version": "1.5.0",
            "_view_count": null,
            "_view_module_version": "1.2.0",
            "bar_color": null,
            "_model_module": "@jupyter-widgets/controls"
          }
        },
        "ee7bf56ec72a4926bfc013e3cc5c8312": {
          "model_module": "@jupyter-widgets/base",
          "model_name": "LayoutModel",
          "state": {
            "_view_name": "LayoutView",
            "grid_template_rows": null,
            "right": null,
            "justify_content": null,
            "_view_module": "@jupyter-widgets/base",
            "overflow": null,
            "_model_module_version": "1.2.0",
            "_view_count": null,
            "flex_flow": null,
            "width": null,
            "min_width": null,
            "border": null,
            "align_items": null,
            "bottom": null,
            "_model_module": "@jupyter-widgets/base",
            "top": null,
            "grid_column": null,
            "overflow_y": null,
            "overflow_x": null,
            "grid_auto_flow": null,
            "grid_area": null,
            "grid_template_columns": null,
            "flex": null,
            "_model_name": "LayoutModel",
            "justify_items": null,
            "grid_row": null,
            "max_height": null,
            "align_content": null,
            "visibility": null,
            "align_self": null,
            "height": null,
            "min_height": null,
            "padding": null,
            "grid_auto_rows": null,
            "grid_gap": null,
            "max_width": null,
            "order": null,
            "_view_module_version": "1.2.0",
            "grid_template_areas": null,
            "object_position": null,
            "object_fit": null,
            "grid_auto_columns": null,
            "margin": null,
            "display": null,
            "left": null
          }
        },
        "bb1b93e22dfe448481338da6cf4fd978": {
          "model_module": "@jupyter-widgets/controls",
          "model_name": "DescriptionStyleModel",
          "state": {
            "_view_name": "StyleView",
            "_model_name": "DescriptionStyleModel",
            "description_width": "",
            "_view_module": "@jupyter-widgets/base",
            "_model_module_version": "1.5.0",
            "_view_count": null,
            "_view_module_version": "1.2.0",
            "_model_module": "@jupyter-widgets/controls"
          }
        },
        "9bd20707b17d4cb2bfba6ba98412aec0": {
          "model_module": "@jupyter-widgets/base",
          "model_name": "LayoutModel",
          "state": {
            "_view_name": "LayoutView",
            "grid_template_rows": null,
            "right": null,
            "justify_content": null,
            "_view_module": "@jupyter-widgets/base",
            "overflow": null,
            "_model_module_version": "1.2.0",
            "_view_count": null,
            "flex_flow": null,
            "width": null,
            "min_width": null,
            "border": null,
            "align_items": null,
            "bottom": null,
            "_model_module": "@jupyter-widgets/base",
            "top": null,
            "grid_column": null,
            "overflow_y": null,
            "overflow_x": null,
            "grid_auto_flow": null,
            "grid_area": null,
            "grid_template_columns": null,
            "flex": null,
            "_model_name": "LayoutModel",
            "justify_items": null,
            "grid_row": null,
            "max_height": null,
            "align_content": null,
            "visibility": null,
            "align_self": null,
            "height": null,
            "min_height": null,
            "padding": null,
            "grid_auto_rows": null,
            "grid_gap": null,
            "max_width": null,
            "order": null,
            "_view_module_version": "1.2.0",
            "grid_template_areas": null,
            "object_position": null,
            "object_fit": null,
            "grid_auto_columns": null,
            "margin": null,
            "display": null,
            "left": null
          }
        },
        "999c0cbc8e8a4ff4b65aa38cd8320fcf": {
          "model_module": "@jupyter-widgets/controls",
          "model_name": "HBoxModel",
          "state": {
            "_view_name": "HBoxView",
            "_dom_classes": [],
            "_model_name": "HBoxModel",
            "_view_module": "@jupyter-widgets/controls",
            "_model_module_version": "1.5.0",
            "_view_count": null,
            "_view_module_version": "1.5.0",
            "box_style": "",
            "layout": "IPY_MODEL_0a94674876f946eea77d78ed21924086",
            "_model_module": "@jupyter-widgets/controls",
            "children": [
              "IPY_MODEL_9ce1cdb35fdb40c48416c482124bb173",
              "IPY_MODEL_e58eadd6ed0e4aea8ad641e685586236"
            ]
          }
        },
        "0a94674876f946eea77d78ed21924086": {
          "model_module": "@jupyter-widgets/base",
          "model_name": "LayoutModel",
          "state": {
            "_view_name": "LayoutView",
            "grid_template_rows": null,
            "right": null,
            "justify_content": null,
            "_view_module": "@jupyter-widgets/base",
            "overflow": null,
            "_model_module_version": "1.2.0",
            "_view_count": null,
            "flex_flow": null,
            "width": null,
            "min_width": null,
            "border": null,
            "align_items": null,
            "bottom": null,
            "_model_module": "@jupyter-widgets/base",
            "top": null,
            "grid_column": null,
            "overflow_y": null,
            "overflow_x": null,
            "grid_auto_flow": null,
            "grid_area": null,
            "grid_template_columns": null,
            "flex": null,
            "_model_name": "LayoutModel",
            "justify_items": null,
            "grid_row": null,
            "max_height": null,
            "align_content": null,
            "visibility": null,
            "align_self": null,
            "height": null,
            "min_height": null,
            "padding": null,
            "grid_auto_rows": null,
            "grid_gap": null,
            "max_width": null,
            "order": null,
            "_view_module_version": "1.2.0",
            "grid_template_areas": null,
            "object_position": null,
            "object_fit": null,
            "grid_auto_columns": null,
            "margin": null,
            "display": null,
            "left": null
          }
        },
        "9ce1cdb35fdb40c48416c482124bb173": {
          "model_module": "@jupyter-widgets/controls",
          "model_name": "IntProgressModel",
          "state": {
            "_view_name": "ProgressView",
            "style": "IPY_MODEL_4903146fa0cf4031a59d7715f103a31e",
            "_dom_classes": [],
            "description": "clf training: 100%",
            "_model_name": "IntProgressModel",
            "bar_style": "success",
            "max": 1200,
            "_view_module": "@jupyter-widgets/controls",
            "_model_module_version": "1.5.0",
            "value": 1200,
            "_view_count": null,
            "_view_module_version": "1.5.0",
            "orientation": "horizontal",
            "min": 0,
            "description_tooltip": null,
            "_model_module": "@jupyter-widgets/controls",
            "layout": "IPY_MODEL_608baa3ec881434f91adddd03493f4fb"
          }
        },
        "e58eadd6ed0e4aea8ad641e685586236": {
          "model_module": "@jupyter-widgets/controls",
          "model_name": "HTMLModel",
          "state": {
            "_view_name": "HTMLView",
            "style": "IPY_MODEL_357cf1ca0b944214bd9b39c6e9b2db2b",
            "_dom_classes": [],
            "description": "",
            "_model_name": "HTMLModel",
            "placeholder": "​",
            "_view_module": "@jupyter-widgets/controls",
            "_model_module_version": "1.5.0",
            "value": " 1200/1200 [00:18&lt;00:00, 63.56it/s]",
            "_view_count": null,
            "_view_module_version": "1.5.0",
            "description_tooltip": null,
            "_model_module": "@jupyter-widgets/controls",
            "layout": "IPY_MODEL_1a16ccf65f8c4c3bbca2f525d3a0b4f0"
          }
        },
        "4903146fa0cf4031a59d7715f103a31e": {
          "model_module": "@jupyter-widgets/controls",
          "model_name": "ProgressStyleModel",
          "state": {
            "_view_name": "StyleView",
            "_model_name": "ProgressStyleModel",
            "description_width": "initial",
            "_view_module": "@jupyter-widgets/base",
            "_model_module_version": "1.5.0",
            "_view_count": null,
            "_view_module_version": "1.2.0",
            "bar_color": null,
            "_model_module": "@jupyter-widgets/controls"
          }
        },
        "608baa3ec881434f91adddd03493f4fb": {
          "model_module": "@jupyter-widgets/base",
          "model_name": "LayoutModel",
          "state": {
            "_view_name": "LayoutView",
            "grid_template_rows": null,
            "right": null,
            "justify_content": null,
            "_view_module": "@jupyter-widgets/base",
            "overflow": null,
            "_model_module_version": "1.2.0",
            "_view_count": null,
            "flex_flow": null,
            "width": null,
            "min_width": null,
            "border": null,
            "align_items": null,
            "bottom": null,
            "_model_module": "@jupyter-widgets/base",
            "top": null,
            "grid_column": null,
            "overflow_y": null,
            "overflow_x": null,
            "grid_auto_flow": null,
            "grid_area": null,
            "grid_template_columns": null,
            "flex": null,
            "_model_name": "LayoutModel",
            "justify_items": null,
            "grid_row": null,
            "max_height": null,
            "align_content": null,
            "visibility": null,
            "align_self": null,
            "height": null,
            "min_height": null,
            "padding": null,
            "grid_auto_rows": null,
            "grid_gap": null,
            "max_width": null,
            "order": null,
            "_view_module_version": "1.2.0",
            "grid_template_areas": null,
            "object_position": null,
            "object_fit": null,
            "grid_auto_columns": null,
            "margin": null,
            "display": null,
            "left": null
          }
        },
        "357cf1ca0b944214bd9b39c6e9b2db2b": {
          "model_module": "@jupyter-widgets/controls",
          "model_name": "DescriptionStyleModel",
          "state": {
            "_view_name": "StyleView",
            "_model_name": "DescriptionStyleModel",
            "description_width": "",
            "_view_module": "@jupyter-widgets/base",
            "_model_module_version": "1.5.0",
            "_view_count": null,
            "_view_module_version": "1.2.0",
            "_model_module": "@jupyter-widgets/controls"
          }
        },
        "1a16ccf65f8c4c3bbca2f525d3a0b4f0": {
          "model_module": "@jupyter-widgets/base",
          "model_name": "LayoutModel",
          "state": {
            "_view_name": "LayoutView",
            "grid_template_rows": null,
            "right": null,
            "justify_content": null,
            "_view_module": "@jupyter-widgets/base",
            "overflow": null,
            "_model_module_version": "1.2.0",
            "_view_count": null,
            "flex_flow": null,
            "width": null,
            "min_width": null,
            "border": null,
            "align_items": null,
            "bottom": null,
            "_model_module": "@jupyter-widgets/base",
            "top": null,
            "grid_column": null,
            "overflow_y": null,
            "overflow_x": null,
            "grid_auto_flow": null,
            "grid_area": null,
            "grid_template_columns": null,
            "flex": null,
            "_model_name": "LayoutModel",
            "justify_items": null,
            "grid_row": null,
            "max_height": null,
            "align_content": null,
            "visibility": null,
            "align_self": null,
            "height": null,
            "min_height": null,
            "padding": null,
            "grid_auto_rows": null,
            "grid_gap": null,
            "max_width": null,
            "order": null,
            "_view_module_version": "1.2.0",
            "grid_template_areas": null,
            "object_position": null,
            "object_fit": null,
            "grid_auto_columns": null,
            "margin": null,
            "display": null,
            "left": null
          }
        }
      }
    }
  },
  "cells": [
    {
      "cell_type": "code",
      "metadata": {
        "id": "5Jyqiza674-d",
        "colab_type": "code",
        "colab": {}
      },
      "source": [
        "if False:\n",
        "    !git clone https://github.com/lukoshkin/ml2020.git\n",
        "    !mv ml2020/project/src/* .\n",
        "    !mv ml2020/project/multivar_data.zip ..\n",
        "    !rm ml2020 -rf"
      ],
      "execution_count": 0,
      "outputs": []
    },
    {
      "cell_type": "markdown",
      "metadata": {
        "id": "Rm40C2Lo73N9",
        "colab_type": "text"
      },
      "source": [
        "Persistence Landscapes in Data Augmentation\n",
        "---"
      ]
    },
    {
      "cell_type": "markdown",
      "metadata": {
        "id": "KQcvBkY673N-",
        "colab_type": "text"
      },
      "source": [
        "***Initialization cells***"
      ]
    },
    {
      "cell_type": "code",
      "metadata": {
        "colab_type": "code",
        "id": "TG4rfYAODADx",
        "colab": {}
      },
      "source": [
        "import copy\n",
        "import numpy as np\n",
        "import pandas as pd\n",
        "\n",
        "from pathlib import Path\n",
        "from sklearn.metrics import accuracy_score\n",
        "\n",
        "import torch\n",
        "import torch.nn as nn\n",
        "import torch.optim as optim\n",
        "from torch.utils.data import Dataset, DataLoader\n",
        "\n",
        "%matplotlib inline\n",
        "import matplotlib.pyplot as plt\n",
        "from tqdm.notebook import tqdm\n",
        "\n",
        "![ -z \"$(pip list | grep 'sktime')\" ] && pip install sktime\n",
        "from sktime.utils.load_data import load_from_arff_to_dataframe\n",
        "from nets import *\n",
        "\n",
        "# for Maks' imports\n",
        "![ -z \"$(pip list | grep 'giotto-tda')\" ] && pip install giotto-tda\n",
        "from tda_tools import *"
      ],
      "execution_count": 0,
      "outputs": []
    },
    {
      "cell_type": "code",
      "metadata": {
        "colab_type": "code",
        "id": "ny2iCBxeDAE_",
        "colab": {}
      },
      "source": [
        "mode = 'cnn'  # better not to change to rnn, since cnn is superior\n",
        "              # mode affects only autoencoder choice and its dataloader\n",
        "    \n",
        "device = torch.device(\n",
        "    'cuda' if torch.cuda.is_available() else 'cpu')\n",
        "\n",
        "# Choose which data to upload: univariate or multivariate\n",
        "multivariate = True\n",
        "dataset_name = 'UWaveGestureLibrary'\n",
        "\n",
        "# multivariate = True\n",
        "# dataset_name = 'HandMovementDirection'"
      ],
      "execution_count": 0,
      "outputs": []
    },
    {
      "cell_type": "code",
      "metadata": {
        "id": "gGFjDR1y73OH",
        "colab_type": "code",
        "colab": {}
      },
      "source": [
        "def get_batches(X_train, y_train=None, batch_size=3, mode='rnn'):\n",
        "    if mode == 'rnn':\n",
        "        ids = torch.randperm(X_train.size(1))\n",
        "        if y_train is None:\n",
        "            for bx in X_train[:,ids].chunk(batch_size, 1):\n",
        "                yield bx\n",
        "        else:\n",
        "            for bx,by in zip(\n",
        "                X_train[:,ids].chunk(batch_size, 1),\n",
        "                y_train[ids].chunk(batch_size)):\n",
        "                yield bx,by\n",
        "    elif mode == 'cnn':\n",
        "        ids = torch.randperm(len(X_train))\n",
        "        if y_train is None:\n",
        "            for bx in X_train[ids].chunk(batch_size):\n",
        "                yield bx\n",
        "        else:\n",
        "            for bx,by in zip(\n",
        "                X_train[ids].chunk(batch_size),\n",
        "                y_train[ids].chunk(batch_size)):\n",
        "                yield bx,by\n",
        "    else:\n",
        "        raise TypeError(\"arg type must be 'cnn' or 'rnn'\")"
      ],
      "execution_count": 0,
      "outputs": []
    },
    {
      "cell_type": "markdown",
      "metadata": {
        "colab_type": "text",
        "id": "xiUw1FPnDAD5"
      },
      "source": [
        "# Preprocessing Part"
      ]
    },
    {
      "cell_type": "markdown",
      "metadata": {
        "id": "G_7UMHKN73OM",
        "colab_type": "text"
      },
      "source": [
        "## Univariate Data"
      ]
    },
    {
      "cell_type": "markdown",
      "metadata": {
        "colab_type": "text",
        "id": "7xA4bpK3DAD8"
      },
      "source": [
        "### Data Loading"
      ]
    },
    {
      "cell_type": "code",
      "metadata": {
        "colab_type": "code",
        "id": "aUSTon1UDAD9",
        "colab": {}
      },
      "source": [
        "out = None\n",
        "if not multivariate:\n",
        "    # Install and import of https://pypi.org/project/uea-ucr-datasets/\n",
        "    ![ -z \"$(pip list | grep 'Cython')\" ] && pip install Cython\n",
        "    ![ -z \"$(pip list | grep 'uea-ucr-datasets')\" ] && pip install uea-ucr-datasets\n",
        "\n",
        "    data_dir = Path('../data')\n",
        "    data_dir.mkdir(exist_ok=True)\n",
        "    %env UEA_UCR_DATA_DIR={data_dir}\n",
        "    import uea_ucr_datasets as ucr_ds\n",
        "\n",
        "\n",
        "    # Download univariate dataset (preprocessed by sktime)\n",
        "    url = ('http://www.timeseriesclassification.com/'\n",
        "           'Downloads/Archives/Univariate2018_ts.zip')\n",
        "    if not (data_dir/'archive.zip').exists():\n",
        "        !wget -O {data_dir}/archive.zip {url}\n",
        "\n",
        "\n",
        "    # Extract files from the archive\n",
        "    num_files = !ls {data_dir} | wc -l\n",
        "    print(data_dir)\n",
        "    if int(num_files[0]) < 129:\n",
        "        print('not all datasets are present')\n",
        "        !unzip -qn {data_dir}/archive.zip -d {data_dir}\n",
        "        !mv -n {data_dir}/Univariate_ts/* {data_dir}\n",
        "        !rm {data_dir}/Univariate_ts -rf\n",
        "\n",
        "\n",
        "    # Data Description\n",
        "    print('Printing the description of the selected dataset')\n",
        "    !head -8 {data_dir}/{dataset_name}/{'%s_TRAIN.ts' % dataset_name}\n",
        "\n",
        "    ds_train= ucr_ds.Dataset(dataset_name, train=True)\n",
        "    ds_test = ucr_ds.Dataset(dataset_name, train=False)\n",
        "    print('\\nData content (partial display):')\n",
        "    print('-------------------------------')\n",
        "    print('time-series labels')\n",
        "    print(ds_train.data_y)\n",
        "    print('\\ntable with sequences')\n",
        "    out = ds_train.data_x.head()\n",
        "    emb_size = 1\n",
        "out"
      ],
      "execution_count": 0,
      "outputs": []
    },
    {
      "cell_type": "markdown",
      "metadata": {
        "id": "YZpmAv3_73OS",
        "colab_type": "text"
      },
      "source": [
        "---"
      ]
    },
    {
      "cell_type": "markdown",
      "metadata": {
        "id": "qqB6LKo273OS",
        "colab_type": "text"
      },
      "source": [
        "### Data unpacking"
      ]
    },
    {
      "cell_type": "markdown",
      "metadata": {
        "colab_type": "text",
        "id": "lBi-3xHeDAE-"
      },
      "source": [
        "Since the dataset is small, we can load the whole data and slice it into chunks"
      ]
    },
    {
      "cell_type": "code",
      "metadata": {
        "colab_type": "code",
        "id": "WRZ6x9Nb73OU",
        "colab": {}
      },
      "source": [
        "if not multivariate:\n",
        "    X = []\n",
        "    for v in ds_train.data_x.values: X.append(v[0])\n",
        "    seq_length = len(v[0])\n",
        "    \n",
        "    if mode == 'rnn':\n",
        "        X_train = torch.Tensor(X).permute(1,0)[...,None]\n",
        "        y_train = torch.LongTensor(pd.factorize(ds_train.data_y)[0])\n",
        "    else:\n",
        "        X_train = torch.Tensor(X)[:,None]\n",
        "        y_train = torch.LongTensor(pd.factorize(ds_train.data_y)[0])\n",
        "    X_train, y_train = X_train.to(device), y_train.to(device)\n",
        "    \n",
        "    n_classes = len(torch.unique(y_train))\n",
        "\n",
        "    X = []\n",
        "    for v in ds_test.data_x.values: X.append(v[0])\n",
        "    if mode == 'rnn':\n",
        "        X_test = torch.Tensor(X).permute(1,0)[...,None]\n",
        "        y_test = torch.LongTensor(pd.factorize(ds_test.data_y)[0])\n",
        "    else:\n",
        "        X_test = torch.Tensor(X)[:,None]\n",
        "        y_test = torch.LongTensor(pd.factorize(ds_test.data_y)[0])\n",
        "    X_test, y_test = X_test.to(device), y_test.to(device)"
      ],
      "execution_count": 0,
      "outputs": []
    },
    {
      "cell_type": "markdown",
      "metadata": {
        "deletable": false,
        "editable": false,
        "run_control": {
          "frozen": true
        },
        "id": "pjKtR0fh73OY",
        "colab_type": "text"
      },
      "source": [
        "## Multivariate Data"
      ]
    },
    {
      "cell_type": "markdown",
      "metadata": {
        "deletable": false,
        "editable": false,
        "run_control": {
          "frozen": true
        },
        "id": "UPlONuUN73OY",
        "colab_type": "text"
      },
      "source": [
        "Loading all datasets is a pretty heavy procedure.  \n",
        "So, we download just 2-3 datasets to a local directory and then hook up the right one by its name"
      ]
    },
    {
      "cell_type": "markdown",
      "metadata": {
        "deletable": false,
        "editable": false,
        "run_control": {
          "frozen": true
        },
        "id": "U-k9CgPF73OZ",
        "colab_type": "text"
      },
      "source": [
        "### Data unpacking"
      ]
    },
    {
      "cell_type": "code",
      "metadata": {
        "id": "N4dGp6Pk73Oa",
        "colab_type": "code",
        "outputId": "88ffc4fa-13ba-42cc-a304-9ef27ea0db6c",
        "colab": {
          "base_uri": "https://localhost:8080/",
          "height": 229
        }
      },
      "source": [
        "out = None\n",
        "if multivariate:\n",
        "    !unzip -qn ../multivar_data.zip -d ..\n",
        "\n",
        "    folder = Path('../multivar_time_series')\n",
        "    X_train_raw, y_train_raw = load_from_arff_to_dataframe(\n",
        "        folder/dataset_name/f'{dataset_name}_TRAIN.arff')\n",
        "    X_test_raw, y_test_raw = load_from_arff_to_dataframe(\n",
        "        folder/dataset_name/f'{dataset_name}_TEST.arff')\n",
        "\n",
        "    print(f'\\nShape of the training dataset: {X_train_raw.shape}')\n",
        "    emb_size = X_train_raw.shape[1]\n",
        "    out = X_train_raw.head()\n",
        "out"
      ],
      "execution_count": 16,
      "outputs": [
        {
          "output_type": "stream",
          "text": [
            "\n",
            "Shape of the training dataset: (120, 3)\n"
          ],
          "name": "stdout"
        },
        {
          "output_type": "execute_result",
          "data": {
            "text/html": [
              "<div>\n",
              "<style scoped>\n",
              "    .dataframe tbody tr th:only-of-type {\n",
              "        vertical-align: middle;\n",
              "    }\n",
              "\n",
              "    .dataframe tbody tr th {\n",
              "        vertical-align: top;\n",
              "    }\n",
              "\n",
              "    .dataframe thead th {\n",
              "        text-align: right;\n",
              "    }\n",
              "</style>\n",
              "<table border=\"1\" class=\"dataframe\">\n",
              "  <thead>\n",
              "    <tr style=\"text-align: right;\">\n",
              "      <th></th>\n",
              "      <th>dim_0</th>\n",
              "      <th>dim_1</th>\n",
              "      <th>dim_2</th>\n",
              "    </tr>\n",
              "  </thead>\n",
              "  <tbody>\n",
              "    <tr>\n",
              "      <th>0</th>\n",
              "      <td>0      0.31745\n",
              "1      0.31745\n",
              "2      0.31745\n",
              "3...</td>\n",
              "      <td>0     -1.43450\n",
              "1     -1.43450\n",
              "2     -1.43450\n",
              "3...</td>\n",
              "      <td>0     -0.42612\n",
              "1     -0.42612\n",
              "2     -0.42612\n",
              "3...</td>\n",
              "    </tr>\n",
              "    <tr>\n",
              "      <th>1</th>\n",
              "      <td>0      0.013633\n",
              "1      0.013633\n",
              "2      0.01363...</td>\n",
              "      <td>0     -1.00840\n",
              "1     -1.00840\n",
              "2     -1.00840\n",
              "3...</td>\n",
              "      <td>0     -1.13980\n",
              "1     -1.13980\n",
              "2     -1.13980\n",
              "3...</td>\n",
              "    </tr>\n",
              "    <tr>\n",
              "      <th>2</th>\n",
              "      <td>0     -1.40750\n",
              "1     -1.40750\n",
              "2     -1.40750\n",
              "3...</td>\n",
              "      <td>0      0.69579\n",
              "1      0.69579\n",
              "2      0.69579\n",
              "3...</td>\n",
              "      <td>0     -1.10570\n",
              "1     -1.10570\n",
              "2     -1.10570\n",
              "3...</td>\n",
              "    </tr>\n",
              "    <tr>\n",
              "      <th>3</th>\n",
              "      <td>0     -0.044749\n",
              "1     -0.044749\n",
              "2     -0.04474...</td>\n",
              "      <td>0     -0.79333\n",
              "1     -0.79333\n",
              "2     -0.79333\n",
              "3...</td>\n",
              "      <td>0     -1.51220\n",
              "1     -1.51220\n",
              "2     -1.51220\n",
              "3...</td>\n",
              "    </tr>\n",
              "    <tr>\n",
              "      <th>4</th>\n",
              "      <td>0     -0.40006\n",
              "1     -0.40006\n",
              "2     -0.40006\n",
              "3...</td>\n",
              "      <td>0     -1.0945\n",
              "1     -1.0945\n",
              "2     -1.0945\n",
              "3   ...</td>\n",
              "      <td>0     -0.362550\n",
              "1     -0.362550\n",
              "2     -0.36255...</td>\n",
              "    </tr>\n",
              "  </tbody>\n",
              "</table>\n",
              "</div>"
            ],
            "text/plain": [
              "                                               dim_0  ...                                              dim_2\n",
              "0  0      0.31745\n",
              "1      0.31745\n",
              "2      0.31745\n",
              "3...  ...  0     -0.42612\n",
              "1     -0.42612\n",
              "2     -0.42612\n",
              "3...\n",
              "1  0      0.013633\n",
              "1      0.013633\n",
              "2      0.01363...  ...  0     -1.13980\n",
              "1     -1.13980\n",
              "2     -1.13980\n",
              "3...\n",
              "2  0     -1.40750\n",
              "1     -1.40750\n",
              "2     -1.40750\n",
              "3...  ...  0     -1.10570\n",
              "1     -1.10570\n",
              "2     -1.10570\n",
              "3...\n",
              "3  0     -0.044749\n",
              "1     -0.044749\n",
              "2     -0.04474...  ...  0     -1.51220\n",
              "1     -1.51220\n",
              "2     -1.51220\n",
              "3...\n",
              "4  0     -0.40006\n",
              "1     -0.40006\n",
              "2     -0.40006\n",
              "3...  ...  0     -0.362550\n",
              "1     -0.362550\n",
              "2     -0.36255...\n",
              "\n",
              "[5 rows x 3 columns]"
            ]
          },
          "metadata": {
            "tags": []
          },
          "execution_count": 16
        }
      ]
    },
    {
      "cell_type": "code",
      "metadata": {
        "colab_type": "code",
        "id": "apdIjixf73Od",
        "colab": {}
      },
      "source": [
        "if multivariate:\n",
        "    X = []\n",
        "    for v in X_train_raw.values:\n",
        "        X_k = []\n",
        "        for i in range(emb_size):\n",
        "            X_k.append(v[i])\n",
        "        X.append(X_k)\n",
        "        \n",
        "    seq_length = len(v[0])\n",
        "    if mode == 'rnn':\n",
        "        X_train = torch.Tensor(X).permute(2,0,1)\n",
        "        y_train = torch.LongTensor(pd.factorize(y_train_raw)[0])\n",
        "    else:\n",
        "        X_train = torch.Tensor(X)\n",
        "        y_train = torch.LongTensor(pd.factorize(y_train_raw)[0])\n",
        "    X_train, y_train = X_train.to(device), y_train.to(device)\n",
        "    \n",
        "    n_classes = len(torch.unique(y_train))\n",
        "\n",
        "    X = []\n",
        "    for v in X_test_raw.values:\n",
        "        X_k = []\n",
        "        for i in range(emb_size):\n",
        "            X_k.append(v[i])\n",
        "        X.append(X_k)\n",
        "        \n",
        "    if mode == 'rnn':\n",
        "        X_test = torch.Tensor(X).permute(2,0,1)\n",
        "        y_test = torch.LongTensor(pd.factorize(y_test_raw)[0])\n",
        "    else:\n",
        "        X_test = torch.Tensor(X)\n",
        "        y_test = torch.LongTensor(pd.factorize(y_test_raw)[0])\n",
        "    X_test, y_test = X_test.to(device), y_test.to(device)"
      ],
      "execution_count": 0,
      "outputs": []
    },
    {
      "cell_type": "markdown",
      "metadata": {
        "id": "UCU4gYoI73Og",
        "colab_type": "text"
      },
      "source": [
        "## Reducing Dataset"
      ]
    },
    {
      "cell_type": "code",
      "metadata": {
        "id": "g8ca8Bf573Oh",
        "colab_type": "code",
        "outputId": "6b878d59-378c-48a9-cd02-98a4a6095586",
        "colab": {
          "base_uri": "https://localhost:8080/",
          "height": 34
        }
      },
      "source": [
        "# if you choose more balanced ids, then\n",
        "# the the load on the balancing step\n",
        "# in the intra/extra-polation procedure will be mitigated\n",
        "# Definitely use it if you are going to exclude\n",
        "# the balancing step from the augmentation part\n",
        "\n",
        "more_balanced_choice = True\n",
        "\n",
        "if more_balanced_choice:\n",
        "    cnts = y_train.bincount()\n",
        "    inv_cnts = 1./cnts.float()\n",
        "    inv_cnts /= inv_cnts.sum()\n",
        "    \n",
        "    probs = torch.empty(len(y_train))\n",
        "    for i, weight in enumerate(inv_cnts):\n",
        "        probs[y_train == i] = weight\n",
        "else:\n",
        "    probs = torch.ones(len(y_train))\n",
        "\n",
        "# select randomly `share` of all samples from the dataset\n",
        "share = .5\n",
        "\n",
        "red_ids = torch.multinomial(probs, int(share*len(y_train)))\n",
        "X_red = X_train[red_ids]\n",
        "y_red = y_train[red_ids]\n",
        "print('# of samples in the dataset you are working with is', len(y_red))"
      ],
      "execution_count": 18,
      "outputs": [
        {
          "output_type": "stream",
          "text": [
            "# of samples in the dataset you are working with is 60\n"
          ],
          "name": "stdout"
        }
      ]
    },
    {
      "cell_type": "markdown",
      "metadata": {
        "id": "hTrFX_Lk73Ok",
        "colab_type": "text"
      },
      "source": [
        "## Extracting persistence landscapes"
      ]
    },
    {
      "cell_type": "code",
      "metadata": {
        "id": "1hRhlIAm73Ol",
        "colab_type": "code",
        "colab": {}
      },
      "source": [
        "# Maks' cell\n",
        "\n",
        "# With greed search for the best embedding dimension and time delay\n",
        "# TIME CONSMUING PROCEDURE\n",
        "if False:\n",
        "    X_for_landscapes = X_red.transpose(2,1).cpu()\n",
        "    y_for_landscapes = y_red.cpu()\n",
        "\n",
        "    n_layers = 1\n",
        "    n_steps = 100\n",
        "    max_time_delay = 10 #maximum time delay for the search\n",
        "    max_dim = 10 #maximum embedding dimension for the search\n",
        "\n",
        "    kNN_scores = np.zeros((max_dim - 2,max_time_delay - 2))\n",
        "    for time_delay in range(2, max_time_delay):\n",
        "        for dim in range(2, max_dim):\n",
        "            point_clouds = Takens_Embedding_torch(X_for_landscapes, d=dim, delay=time_delay)\n",
        "            diagrams, diagrams_np, VR_persistence = get_diagrams_torch(point_clouds)\n",
        "            landscapes, max_scale = get_landscapes_torch(diagrams, n_layers, n_steps)\n",
        "            pairwise_distances = landscapes_distances(landscapes, max_scale)\n",
        "            matching_matrix = y_for_landscapes.numpy()[:, np.newaxis] == y_for_landscapes.numpy()[np.newaxis, :]\n",
        "            kNN_scores[dim - 2, time_delay - 2] = get_kNN_score_torch(pairwise_distances, matching_matrix=matching_matrix)\n",
        "            #print(\"({}, {}, {})\".format(dim, time_delay, kNN_scores[dim - 2, time_delay - 2]), end=' ')\n",
        "\n",
        "    embedding_dim_optimal, time_delay_optimal = np.unravel_index(np.argmax(kNN_scores, axis=None), kNN_scores.shape)\n",
        "    embedding_dim_optimal += 2\n",
        "    time_delay_optimal += 2\n",
        "    print(\"Optimal embedding dimension: {}\\nOptimal time delay: {}\".format(embedding_dim_optimal, time_delay_optimal))\n",
        "            \n",
        "    fig = plt.figure(figsize = (10,5))\n",
        "    y, x = np.mgrid[slice(2, max_dim, 1.0),slice(2, max_time_delay, 1.0)]\n",
        "    plt.pcolormesh(x, y, (kNN_scores>0.95) * kNN_scores)\n",
        "    plt.colorbar()\n",
        "    plt.xlabel(\"Time delay\")\n",
        "    plt.ylabel(\"Embedding dimension\")\n",
        "    plt.title(dataset_name + \" dataset. Embedding parameters with highst kNN score\")\n",
        "    plt.savefig(dataset_name + ' parameters.jpg')\n",
        "    plt.show()"
      ],
      "execution_count": 0,
      "outputs": []
    },
    {
      "cell_type": "code",
      "metadata": {
        "id": "u6IhqR3673Op",
        "colab_type": "code",
        "outputId": "9db2f3fe-19f6-4c24-9120-f0409c87d1a6",
        "colab": {
          "base_uri": "https://localhost:8080/",
          "height": 84
        }
      },
      "source": [
        "# Maks' cell\n",
        "# The same but without greed search\n",
        "\n",
        "# Tunable hyperparameters\n",
        "n_layers = 1    # this value seems fine and easy, better don't change it\n",
        "n_steps = 100   \n",
        "embedding_dim = 2 # use here either precomputed values, or found in the previos cell \n",
        "time_delay = 2    # use here either precomputed values, or found in the previos cell \n",
        "\n",
        "# Extracting train landscapes\n",
        "X_for_landscapes = X_red.transpose(2,1).cpu()\n",
        "y_for_landscapes = y_red.cpu()\n",
        "\n",
        "point_clouds = Takens_Embedding_torch(X_for_landscapes, d=embedding_dim, delay=time_delay)\n",
        "diagrams, diagrams_np, VR_persistence = get_diagrams_torch(point_clouds)\n",
        "landscapes, max_scale = get_landscapes_torch(diagrams, n_layers, n_steps)\n",
        "\n",
        "pairwise_distances = landscapes_distances(landscapes, max_scale)\n",
        "matching_matrix = y_for_landscapes.numpy()[:, np.newaxis] == y_for_landscapes.numpy()[np.newaxis, :]\n",
        "kNN_score = get_kNN_score_torch(pairwise_distances, matching_matrix=matching_matrix)\n",
        "\n",
        "print(\"Point_clouds shape:\", point_clouds.size())\n",
        "print(\"Diagrams shape:\", diagrams.size())\n",
        "print(\"Landscapes shape:\", landscapes.size())\n",
        "print(\"kNN score:\", kNN_score)\n",
        "\n",
        "land_shape = tuple(landscapes.shape[1:])\n",
        "landscapes_train = landscapes.to(device)"
      ],
      "execution_count": 20,
      "outputs": [
        {
          "output_type": "stream",
          "text": [
            "Point_clouds shape: torch.Size([60, 313, 6])\n",
            "Diagrams shape: torch.Size([60, 2, 385, 2])\n",
            "Landscapes shape: torch.Size([60, 2, 1, 100])\n",
            "kNN score: 0.35\n"
          ],
          "name": "stdout"
        }
      ]
    },
    {
      "cell_type": "code",
      "metadata": {
        "id": "ZZWL6hJ473Os",
        "colab_type": "code",
        "colab": {}
      },
      "source": [
        "# Maks' cell\n",
        "\n",
        "X_for_landscapes = X_test.transpose(2,1).cpu()\n",
        "y_for_landscapes = y_test.cpu()\n",
        "\n",
        "point_clouds = Takens_Embedding_torch(X_for_landscapes, d=embedding_dim, delay=time_delay)\n",
        "diagrams, diagrams_np, VR_persistence = get_diagrams_torch(point_clouds)\n",
        "landscapes, max_scale = get_landscapes_torch(diagrams, n_layers, n_steps)\n",
        "\n",
        "pairwise_distances = landscapes_distances(landscapes, max_scale)\n",
        "matching_matrix = y_for_landscapes.numpy()[:, np.newaxis] == y_for_landscapes.numpy()[np.newaxis, :]\n",
        "kNN_score = get_kNN_score_torch(pairwise_distances, matching_matrix=matching_matrix)\n",
        "\n",
        "landscapes_test = landscapes.to(device)"
      ],
      "execution_count": 0,
      "outputs": []
    },
    {
      "cell_type": "markdown",
      "metadata": {
        "id": "jTCBuZO973Ov",
        "colab_type": "text"
      },
      "source": [
        "# Network Training Procedures\n",
        "\n",
        "Here you need to define all hyperparameters to achieve sth worthwhile  \n",
        "For different datasets, they may take different values"
      ]
    },
    {
      "cell_type": "code",
      "metadata": {
        "id": "fenfwrtp73Ow",
        "colab_type": "code",
        "colab": {}
      },
      "source": [
        "# common variable names\n",
        "best_weights = None\n",
        "best_score = [float('inf')]\n",
        "train_history, test_history = [], []"
      ],
      "execution_count": 0,
      "outputs": []
    },
    {
      "cell_type": "markdown",
      "metadata": {
        "id": "xGLSuepN73Oy",
        "colab_type": "text"
      },
      "source": [
        "## Auto-encoder's train function"
      ]
    },
    {
      "cell_type": "code",
      "metadata": {
        "colab_type": "code",
        "id": "9oXqtx_YDAFX",
        "colab": {}
      },
      "source": [
        "# Autoencoder tunable hyperparameters:\n",
        "code_size = 100            # compression level\n",
        "channels = [32, 64, 64]        # number of neurons in hidden layers \n",
        "kernel_size = 46\n",
        "# last two are valid for 'cnn' only\n",
        "\n",
        "# Optimizer tunable hyperparameters:\n",
        "lr = 1e-4\n",
        "step = 2\n",
        "gamma = .999\n",
        "\n",
        "args_for_AE = (code_size, channels, kernel_size, lr, step, gamma)\n",
        "\n",
        "# Here you can choose the loss function\n",
        "MSE = nn.MSELoss()\n",
        "MAE = lambda X,Y: (X-Y).abs().mean()\n",
        "criterion_ae = MAE\n",
        "\n",
        "def reset_AE_trainables(\n",
        "    code_size, channels, kernel_size, lr, step, gamma, mode):\n",
        "    if mode == 'rnn':\n",
        "        ae = RNNSeqAE(emb_size, code_size, seq_length).to(device)\n",
        "        mode = 'cnn'\n",
        "    else:\n",
        "        ae = ConvSeqAE(\n",
        "            emb_size, code_size, seq_length,\n",
        "            channels, kernel_size).to(device)\n",
        "\n",
        "    opt_ae = optim.Adam(ae.parameters(), lr)\n",
        "    sch_ae = optim.lr_scheduler.StepLR(opt_ae, step, gamma)\n",
        "    return ae, opt_ae, sch_ae\n",
        "\n",
        "# Globally defined variables of the function 'train_*'\n",
        "ae, opt_ae, sch_ae = reset_AE_trainables(*args_for_AE, mode)\n",
        "\n",
        "# training procedure\n",
        "def train_ae(X_train, num_epochs, mode, verbose=True):\n",
        "    pbar = tqdm(range(num_epochs), 'ae training')\n",
        "    for epoch in pbar:\n",
        "        train_loss = []\n",
        "        for bx in get_batches(X_train, mode=mode):\n",
        "            opt_ae.zero_grad()\n",
        "            bx_rec = ae(bx)\n",
        "            loss = criterion_ae(bx_rec, bx)\n",
        "            loss.backward()\n",
        "            train_loss.append(loss.item())\n",
        "            opt_ae.step()\n",
        "        sch_ae.step()\n",
        "        train_history.append(np.mean(train_loss))\n",
        "        test_loss = criterion_ae(ae(X_test), X_test).item()\n",
        "        test_history.append(test_loss)\n",
        "        if verbose:\n",
        "            print(f'Epoch #{epoch}\\n------')\n",
        "            print(train_history[-1])\n",
        "            print(test_history[-1], '\\n')\n",
        "        if test_loss < best_score[0]:\n",
        "            best_score[0] = test_loss\n",
        "            best_weights = copy.deepcopy(ae.state_dict())"
      ],
      "execution_count": 0,
      "outputs": []
    },
    {
      "cell_type": "markdown",
      "metadata": {
        "id": "EYwVX9eq73O2",
        "colab_type": "text"
      },
      "source": [
        "## Week classifier's train function"
      ]
    },
    {
      "cell_type": "code",
      "metadata": {
        "id": "0bv6r9bD73O3",
        "colab_type": "code",
        "colab": {}
      },
      "source": [
        "# Classifier tunable hyperparameters:\n",
        "channels = [2, 2]        # number of neurons in hidden layers \n",
        "kernel_size = 4\n",
        "\n",
        "# Optimizer tunable hyperparameters:\n",
        "lr = 1e-2\n",
        "step = 2\n",
        "gamma = .999\n",
        "\n",
        "args_for_CLF = (channels, kernel_size, lr, step, gamma)\n",
        "def reset_CLF_trainables(channels, kernel_size, lr, step, gamma):\n",
        "    clf = SeqClassifier(\n",
        "        emb_size, n_classes,\n",
        "        channels, kernel_size).to(device)\n",
        "    opt_clf = optim.Adam(clf.parameters(), lr)\n",
        "    sch_clf = optim.lr_scheduler.StepLR(opt_clf, step, gamma)\n",
        "    return clf, opt_clf, sch_clf\n",
        "\n",
        "# Globally defined variables of the function 'train_*'\n",
        "clf, opt_clf, sch_clf = reset_CLF_trainables(*args_for_CLF)\n",
        "criterion_clf = nn.CrossEntropyLoss()\n",
        "\n",
        "# training procedure\n",
        "def train_clf(X_train, y_train, num_epochs, mode, verbose=True):\n",
        "    pbar = tqdm(range(num_epochs), 'clf training')\n",
        "    for epoch in pbar:\n",
        "        train_loss = []\n",
        "        for bx,by in get_batches(X_train, y_train, mode=mode):\n",
        "            opt_clf.zero_grad()\n",
        "            y_pred = clf(bx)\n",
        "            loss = criterion_clf(y_pred, by)\n",
        "            loss.backward()\n",
        "            train_loss.append(loss.item())\n",
        "            opt_clf.step()\n",
        "        sch_clf.step()\n",
        "        train_history.append(np.mean(train_loss))\n",
        "        test_loss = criterion_clf(clf(X_test), y_test).item()\n",
        "        test_history.append(test_loss)\n",
        "        if verbose:\n",
        "            print(f'Epoch #{epoch}\\n------')\n",
        "            print(train_history[-1])\n",
        "            print(test_history[-1], '\\n')\n",
        "        if test_loss < best_score[0]:\n",
        "            best_score[0] = test_loss\n",
        "            best_weights = copy.deepcopy(clf.state_dict())"
      ],
      "execution_count": 0,
      "outputs": []
    },
    {
      "cell_type": "markdown",
      "metadata": {
        "id": "25t9-aks73O6",
        "colab_type": "text"
      },
      "source": [
        "## Landscape Inverse's train function"
      ]
    },
    {
      "cell_type": "code",
      "metadata": {
        "colab_type": "code",
        "id": "Z8lumEwt73O7",
        "colab": {}
      },
      "source": [
        "# Landscape Inverse tunable hyperparameters\n",
        "channels = [32, 64, 64]\n",
        "kernel_size = 46\n",
        "\n",
        "# Optimizer tunable hyperparameters\n",
        "lr = 1e-4\n",
        "step = 2\n",
        "gamma = .999\n",
        "\n",
        "args_for_PLI = (channels, kernel_size, lr, step, gamma)\n",
        "# Choose the loss function here\n",
        "MSE = nn.MSELoss()\n",
        "MAE = lambda X,Y: (X-Y).abs().mean()\n",
        "criterion_pli = MAE\n",
        "\n",
        "def reset_PLI_trainables(channels, kernel_size, lr, step, gamma):\n",
        "    pli = LandscapeInverse(\n",
        "        emb_size, land_shape,\n",
        "        seq_length, channels, kernel_size).to(device)\n",
        "    opt_pli = optim.Adam(pli.parameters(), lr)\n",
        "    sch_pli = optim.lr_scheduler.StepLR(opt_pli, step, gamma)\n",
        "    return pli, opt_pli, sch_pli\n",
        "\n",
        "# Globally defined variables of the function 'train_*'\n",
        "pli, opt_pli, sch_pli = reset_PLI_trainables(*args_for_PLI)\n",
        "\n",
        "# training procedure\n",
        "def train_pli(landscapes_train, num_epochs, mode, verbose=True):\n",
        "    train_ids = torch.arange(len(landscapes_train))\n",
        "    pbar = tqdm(range(num_epochs), 'pli training')\n",
        "    for epoch in pbar:\n",
        "        train_loss = []\n",
        "        for bx,ids in get_batches(landscapes_train, train_ids, mode=mode):\n",
        "            opt_pli.zero_grad()\n",
        "            bx_rec = pli(bx)\n",
        "            loss = criterion_pli(bx_rec, X_train[ids])\n",
        "            loss.backward()\n",
        "            train_loss.append(loss.item())\n",
        "            opt_pli.step()\n",
        "        sch_pli.step()\n",
        "        train_history.append(np.mean(train_loss))\n",
        "        test_loss = criterion_pli(pli(landscapes_test), X_test).item()\n",
        "        test_history.append(test_loss)\n",
        "        if verbose:\n",
        "            print(f'Epoch #{epoch}\\n------')\n",
        "            print(train_history[-1])\n",
        "            print(test_history[-1], '\\n')\n",
        "        if test_loss < best_score[0]:\n",
        "            best_score[0] = test_loss\n",
        "            best_weights = copy.deepcopy(pli.state_dict())"
      ],
      "execution_count": 0,
      "outputs": []
    },
    {
      "cell_type": "markdown",
      "metadata": {
        "id": "fSbluF9073O_",
        "colab_type": "text"
      },
      "source": [
        "## SAE with persistence landscapes' train function"
      ]
    },
    {
      "cell_type": "code",
      "metadata": {
        "id": "BODLYMq573O_",
        "colab_type": "code",
        "colab": {}
      },
      "source": [
        "# PLSAE Tunable parameters\n",
        "channels = [32, 64, 64]\n",
        "kernel_size = 46\n",
        "\n",
        "# Optimizer tunable parameters\n",
        "lr = 1e-4\n",
        "step = 2\n",
        "gamma = .999\n",
        "\n",
        "args_for_SLAE = (channels, kernel_size, lr, step, gamma)\n",
        "\n",
        "# Choose loss function here\n",
        "MSE = nn.MSELoss()\n",
        "MAE = lambda X,Y: (X-Y).abs().mean()\n",
        "criterion_slae = MAE\n",
        "\n",
        "def reset_SLAE_trainables(channels, kernel_size, lr, step, gamma):\n",
        "    slae = TDASAE(emb_size, code_size,\n",
        "                  seq_length, land_shape, channels, kernel_size).to(device)\n",
        "    opt_slae = optim.Adam(slae.parameters(), lr)\n",
        "    sch_slae = optim.lr_scheduler.StepLR(opt_slae, step, gamma)\n",
        "    return slae, opt_slae, sch_slae\n",
        "\n",
        "# Globally defined variables of the function 'train_*'\n",
        "slae, opt_slae, sch_slae = reset_SLAE_trainables(*args_for_SLAE)\n",
        "\n",
        "# training procedure\n",
        "def train_slae(X_train, num_epochs, mode, verbose=True):\n",
        "    train_ids = torch.arange(len(X_train))\n",
        "    pbar = tqdm(range(num_epochs), 'slae training')\n",
        "    for epoch in pbar:\n",
        "        train_loss = []\n",
        "        for bx,ids in get_batches(X_train, train_ids, mode=mode):\n",
        "            opt_slae.zero_grad()\n",
        "            bx_rec = slae(bx, landscapes_train[ids])\n",
        "            loss = criterion_slae(bx_rec, bx)\n",
        "            loss.backward()\n",
        "            train_loss.append(loss.item())\n",
        "            opt_slae.step()\n",
        "        sch_slae.step()\n",
        "        train_history.append(np.mean(train_loss))\n",
        "        test_loss = criterion_slae(slae(X_test, landscapes_test), X_test).item()\n",
        "        test_history.append(test_loss)\n",
        "        if verbose:\n",
        "            print(f'Epoch #{epoch}\\n------')\n",
        "            print(train_history[-1])\n",
        "            print(test_history[-1], '\\n')\n",
        "        if test_loss < best_score[0]:\n",
        "            best_score[0] = test_loss\n",
        "            best_weights = copy.deepcopy(slae.state_dict())"
      ],
      "execution_count": 0,
      "outputs": []
    },
    {
      "cell_type": "markdown",
      "metadata": {
        "id": "b9dd1uLY73PC",
        "colab_type": "text"
      },
      "source": [
        "## Other tools"
      ]
    },
    {
      "cell_type": "code",
      "metadata": {
        "id": "9od_6tEo73PD",
        "colab_type": "code",
        "colab": {}
      },
      "source": [
        "def clear_buffers(best_score, list1, list2):\n",
        "    best_score[0] = float('inf')\n",
        "    list1.clear(); list2.clear()"
      ],
      "execution_count": 0,
      "outputs": []
    },
    {
      "cell_type": "code",
      "metadata": {
        "id": "kHhIh1CSImri",
        "colab_type": "code",
        "colab": {}
      },
      "source": [
        "def oversampling(\n",
        "    X, y, augments, k=3, sign=-1,\n",
        "    lambda_lims=(.3, .7), replacement=False):\n",
        "    \"\"\"\n",
        "    Chooses randomly (num:)`augments[i]` objects from class `i`.\n",
        "    To every selected object chooses one from its `k` nearests in the class,\n",
        "    and makes interpolation or extrapolation between them\n",
        "    \n",
        "    Args:\n",
        "    ----\n",
        "    X   array of shape (batch_size, code_length);\n",
        "        to apply to persistence landscape, you must \n",
        "        reshape it first\n",
        "        \n",
        "    replacement    if replacement is False, then (num:)`augments[i]` samples\n",
        "                   are drawn without replacement. However, when `augments[i]`\n",
        "                   is less than the size of class `i` replacement is set\n",
        "                   to `True` for that class regardless of  what argument\n",
        "                   you provided\n",
        "    \n",
        "    sign = -1 -> intrapolation\n",
        "    sign = +1 -> extrapolation\n",
        "    \n",
        "    Interpolation/extrapolation coefficient is randomly chosen\n",
        "    from the interval `lambda_lims`\n",
        "    \"\"\"\n",
        "    new_X, new_y = [], []\n",
        "    for lbl, m in enumerate(augments):\n",
        "        if m == 0: continue\n",
        "        X_lbl = X[y==lbl]\n",
        "        n = len(X_lbl)\n",
        "        \n",
        "        if m > n: replacement = True\n",
        "        m_ids = torch.multinomial(\n",
        "            torch.ones(n), m, replacement)\n",
        "        mX_lbl = X_lbl[m_ids]\n",
        "            \n",
        "        if k > n:\n",
        "            print('Consider taking a different `k`.\\n'\n",
        "                  'The chosen one may be too big '\n",
        "                  'for the current dataset')\n",
        "            print(f'k: {k}\\t', f\"class #{lbl}'s size: {n}\")\n",
        "            k = min(k, n)\n",
        "            \n",
        "        dist_matrix = torch.norm(mX_lbl[:,None]-X_lbl, dim=2)\n",
        "        dist_matrix[torch.arange(m), m_ids] = float('inf')\n",
        "        \n",
        "        k_nearest = (-dist_matrix).topk(k, dim=1)[1]\n",
        "        k_ids = torch.multinomial(torch.ones(k_nearest.shape), 1)\n",
        "        mk_ids = k_nearest[torch.arange(m), k_ids.squeeze()]\n",
        "        \n",
        "        lambda_ = X.new(m).uniform_(*lambda_lims)[:, None]\n",
        "        new_X.append((lambda_*sign*(mX_lbl-X_lbl[mk_ids])+mX_lbl))\n",
        "        new_y.append(y.new_full((m,), lbl))\n",
        "        \n",
        "    return torch.cat(new_X), torch.cat(new_y)"
      ],
      "execution_count": 0,
      "outputs": []
    },
    {
      "cell_type": "markdown",
      "metadata": {
        "id": "GSLv4dJL73PI",
        "colab_type": "text"
      },
      "source": [
        "# Results Reproduction of DeVries and etc "
      ]
    },
    {
      "cell_type": "markdown",
      "metadata": {
        "id": "Hz4ayS4M73PI",
        "colab_type": "text"
      },
      "source": [
        "## Training autoencoder"
      ]
    },
    {
      "cell_type": "code",
      "metadata": {
        "id": "Arc1apKU73PJ",
        "colab_type": "code",
        "colab": {}
      },
      "source": [
        "best_weights = clear_buffers(best_score, train_history, test_history)\n",
        "ae, opt_ae, sch_ae = reset_AE_trainables(*args_for_AE, mode)"
      ],
      "execution_count": 0,
      "outputs": []
    },
    {
      "cell_type": "code",
      "metadata": {
        "colab_type": "code",
        "id": "bPE3BQ_UDAFd",
        "outputId": "12d7c5d8-dfc6-4456-f105-7ea1b19196df",
        "colab": {
          "base_uri": "https://localhost:8080/",
          "height": 66,
          "referenced_widgets": [
            "2f6f3ac1444a4160b4c1fde6d29f1369",
            "1e33122a5b2c46cb9a024d1a4d45964b",
            "9a0d09c5ac114fb4884c708e5a143784",
            "e11692b182ab452db96e11415c4d7f9a",
            "1dc0280327e1428797648b75a72b99b9",
            "d337bc608cd24259b3f4abd5b1face7d",
            "26fea1cb483d40518bbc6200a38fe17b",
            "142ec67ceeeb4346a4dcd56f555d8e1f"
          ]
        }
      },
      "source": [
        "train_ae(X_red, 500, mode, verbose=False)"
      ],
      "execution_count": 30,
      "outputs": [
        {
          "output_type": "display_data",
          "data": {
            "application/vnd.jupyter.widget-view+json": {
              "model_id": "2f6f3ac1444a4160b4c1fde6d29f1369",
              "version_minor": 0,
              "version_major": 2
            },
            "text/plain": [
              "HBox(children=(IntProgress(value=0, description='ae training', max=500, style=ProgressStyle(description_width=…"
            ]
          },
          "metadata": {
            "tags": []
          }
        },
        {
          "output_type": "stream",
          "text": [
            "\n"
          ],
          "name": "stdout"
        }
      ]
    },
    {
      "cell_type": "code",
      "metadata": {
        "colab_type": "code",
        "id": "-AMDn-q6JDQf",
        "outputId": "11645c08-8339-4c89-dbaf-92156c93301d",
        "colab": {
          "base_uri": "https://localhost:8080/",
          "height": 298
        }
      },
      "source": [
        "plt.plot(train_history, label='train')\n",
        "plt.plot(test_history, label='test')\n",
        "plt.title(\"Autoencoder's losses\")\n",
        "print('best score:', best_score[0])\n",
        "plt.legend();"
      ],
      "execution_count": 31,
      "outputs": [
        {
          "output_type": "stream",
          "text": [
            "best score: 0.46459218859672546\n"
          ],
          "name": "stdout"
        },
        {
          "output_type": "display_data",
          "data": {
            "image/png": "[encoded data removed]",
            "text/plain": [
              "<Figure size 432x288 with 1 Axes>"
            ]
          },
          "metadata": {
            "tags": [],
            "needs_background": "light"
          }
        }
      ]
    },
    {
      "cell_type": "code",
      "metadata": {
        "colab_type": "code",
        "id": "e_jhyWNdDAFk",
        "outputId": "b79615b7-f86e-4a3c-c54f-f050abe03be8",
        "scrolled": true,
        "colab": {
          "base_uri": "https://localhost:8080/",
          "height": 890
        }
      },
      "source": [
        "# Load best weights\n",
        "if best_weights:\n",
        "    ae.load_state_dict(best_weights)\n",
        "    \n",
        "# And check the reconstruction\n",
        "perm_ids = torch.randperm(X_test.size(1))\n",
        "ae(X_red[:,perm_ids]).squeeze(), X_red[:,perm_ids].squeeze()"
      ],
      "execution_count": 32,
      "outputs": [
        {
          "output_type": "execute_result",
          "data": {
            "text/plain": [
              "(tensor([[[ 0.5432,  0.5142,  0.4887,  ...,  0.3501,  0.3742,  0.4094],\n",
              "          [ 0.5762,  0.5607,  0.5543,  ...,  0.5770,  0.5730,  0.5879],\n",
              "          [ 0.0984,  0.0959,  0.1043,  ...,  0.3913,  0.3922,  0.3991]],\n",
              " \n",
              "         [[ 0.4770,  0.4521,  0.4230,  ...,  0.4846,  0.5183,  0.5772],\n",
              "          [ 0.7779,  0.7649,  0.7557,  ...,  0.0975,  0.1131,  0.1754],\n",
              "          [-0.0602, -0.0607, -0.0604,  ...,  0.3102,  0.3102,  0.2831]],\n",
              " \n",
              "         [[-0.7275, -0.7417, -0.7595,  ...,  0.4009,  0.4198,  0.3931],\n",
              "          [-1.0951, -1.1027, -1.1313,  ..., -0.8273, -0.8313, -0.8407],\n",
              "          [-0.0563, -0.0572, -0.0581,  ..., -0.2965, -0.2951, -0.2902]],\n",
              " \n",
              "         ...,\n",
              " \n",
              "         [[ 1.0575,  1.0374,  1.0250,  ...,  0.0675,  0.0619,  0.0588],\n",
              "          [ 0.2862,  0.2811,  0.2727,  ..., -0.3652, -0.3659, -0.3627],\n",
              "          [-0.1687, -0.1734, -0.1784,  ...,  0.3421,  0.3441,  0.3260]],\n",
              " \n",
              "         [[-0.1512, -0.1569, -0.1670,  ...,  0.5079,  0.5224,  0.5417],\n",
              "          [-0.0946, -0.0985, -0.1061,  ...,  0.3036,  0.2886,  0.2896],\n",
              "          [ 0.4130,  0.4206,  0.4437,  ...,  0.2962,  0.2921,  0.2932]],\n",
              " \n",
              "         [[ 1.5088,  1.4933,  1.4825,  ..., -0.0295, -0.0202, -0.0016],\n",
              "          [ 0.6486,  0.6486,  0.6573,  ...,  0.2946,  0.2956,  0.3679],\n",
              "          [-0.0577, -0.0577, -0.0574,  ...,  0.3294,  0.3430,  0.3507]]],\n",
              "        device='cuda:0', grad_fn=<SqueezeBackward0>),\n",
              " tensor([[[ 0.4910,  0.4910,  0.4910,  ..., -1.0999, -1.1338, -1.1731],\n",
              "          [ 0.2728,  0.2728,  0.2728,  ..., -0.3451, -0.3252, -0.3021],\n",
              "          [ 1.6875,  1.6875,  1.6875,  ...,  0.1640,  0.1877,  0.2114]],\n",
              " \n",
              "         [[ 0.6088,  0.6088,  0.6088,  ...,  0.5309,  0.4410,  0.3512],\n",
              "          [-0.1550, -0.1550, -0.1550,  ...,  0.0751,  0.0751,  0.0751],\n",
              "          [ 0.1450,  0.1450,  0.1450,  ..., -0.0477, -0.0477, -0.0477]],\n",
              " \n",
              "         [[-1.0084, -1.0084, -1.0084,  ...,  0.9506,  0.9133,  0.8759],\n",
              "          [-1.1398, -1.1398, -1.1398,  ...,  0.2553,  0.2553,  0.2553],\n",
              "          [ 0.0136,  0.0136,  0.0136,  ..., -0.3014, -0.2711, -0.2409]],\n",
              " \n",
              "         ...,\n",
              " \n",
              "         [[ 0.0230,  0.0230,  0.0230,  ...,  1.3062,  1.3424,  1.3785],\n",
              "          [ 0.5132,  0.5132,  0.5132,  ...,  0.3834,  0.3914,  0.3995],\n",
              "          [-0.8067, -0.8067, -0.8067,  ...,  0.7446,  0.7848,  0.8249]],\n",
              " \n",
              "         [[-0.0947, -0.0947, -0.0947,  ...,  0.1434,  0.1434,  0.1434],\n",
              "          [-0.7484, -0.7484, -0.7484,  ..., -0.2446, -0.2504, -0.2504],\n",
              "          [ 1.2207,  1.2207,  1.2207,  ..., -0.1777, -0.1777, -0.1777]],\n",
              " \n",
              "         [[ 0.3310,  0.3310,  0.3310,  ..., -0.8967, -0.9532, -1.0400],\n",
              "          [ 0.2194,  0.2194,  0.2194,  ..., -0.2442, -0.2562, -0.2562],\n",
              "          [ 1.0095,  1.0095,  1.0095,  ..., -0.1139, -0.0881, -0.0622]]],\n",
              "        device='cuda:0'))"
            ]
          },
          "metadata": {
            "tags": []
          },
          "execution_count": 32
        }
      ]
    },
    {
      "cell_type": "markdown",
      "metadata": {
        "id": "7MNlox0873PU",
        "colab_type": "text"
      },
      "source": [
        "## Training classifier on reduced dataset"
      ]
    },
    {
      "cell_type": "code",
      "metadata": {
        "id": "a6_6lv2R73PV",
        "colab_type": "code",
        "colab": {}
      },
      "source": [
        "best_weights = clear_buffers(best_score, train_history, test_history)\n",
        "clf, opt_clf, sch_clf = reset_CLF_trainables(*args_for_CLF)"
      ],
      "execution_count": 0,
      "outputs": []
    },
    {
      "cell_type": "code",
      "metadata": {
        "id": "f8z5OfaB73PX",
        "colab_type": "code",
        "outputId": "76a9a4ba-13a0-447a-b5cf-5d5969163912",
        "colab": {
          "base_uri": "https://localhost:8080/",
          "height": 66,
          "referenced_widgets": [
            "6e5fc84a2b174056a7dc359b650a5c51",
            "4e4c3c22994540e9b00003a41bb9818a",
            "9e000cebdf244b75b6085610ddd6306a",
            "af8e9fe571d34f579d6a568e43b2c16b",
            "b32fedf969a34a019311e3f0b9e3cc41",
            "19e3e195b888401395eb2f387974bde9",
            "c0b1a9f928364443ac4c79295a557702",
            "0dd519f4c84b46e8ae9037162183797c"
          ]
        }
      },
      "source": [
        "train_clf(X_red, y_red, 500, mode, verbose=False)"
      ],
      "execution_count": 34,
      "outputs": [
        {
          "output_type": "display_data",
          "data": {
            "application/vnd.jupyter.widget-view+json": {
              "model_id": "6e5fc84a2b174056a7dc359b650a5c51",
              "version_minor": 0,
              "version_major": 2
            },
            "text/plain": [
              "HBox(children=(IntProgress(value=0, description='clf training', max=500, style=ProgressStyle(description_width…"
            ]
          },
          "metadata": {
            "tags": []
          }
        },
        {
          "output_type": "stream",
          "text": [
            "\n"
          ],
          "name": "stdout"
        }
      ]
    },
    {
      "cell_type": "code",
      "metadata": {
        "colab_type": "code",
        "outputId": "c71b5370-1f10-486c-9681-f2f3781ebde0",
        "id": "RBL3uNlK73Pa",
        "colab": {
          "base_uri": "https://localhost:8080/",
          "height": 298
        }
      },
      "source": [
        "plt.plot(train_history, label='train')\n",
        "plt.plot(test_history, label='test')\n",
        "plt.title(\"Classifier's losses on the reduced dataset\")\n",
        "print('best score:', best_score[0])\n",
        "plt.legend();"
      ],
      "execution_count": 35,
      "outputs": [
        {
          "output_type": "stream",
          "text": [
            "best score: 2.0398058891296387\n"
          ],
          "name": "stdout"
        },
        {
          "output_type": "display_data",
          "data": {
            "image/png": "[encoded data removed]",
            "text/plain": [
              "<Figure size 432x288 with 1 Axes>"
            ]
          },
          "metadata": {
            "tags": [],
            "needs_background": "light"
          }
        }
      ]
    },
    {
      "cell_type": "code",
      "metadata": {
        "colab_type": "code",
        "id": "ZTHfp_Uz73Pc",
        "colab": {}
      },
      "source": [
        "# Load best weights\n",
        "if best_weights:\n",
        "    clf.load_state_dict(best_weights)"
      ],
      "execution_count": 0,
      "outputs": []
    },
    {
      "cell_type": "code",
      "metadata": {
        "id": "JgyQT_kp73Pg",
        "colab_type": "code",
        "outputId": "e484ee34-8b6c-46a8-b50e-92baf1c9c66e",
        "colab": {
          "base_uri": "https://localhost:8080/",
          "height": 504
        }
      },
      "source": [
        "y_pred = clf.predict(X_test)\n",
        "print('accuracy =', accuracy_score(y_test.cpu(), y_pred))\n",
        "y_test, y_pred"
      ],
      "execution_count": 37,
      "outputs": [
        {
          "output_type": "stream",
          "text": [
            "accuracy = 0.31875\n"
          ],
          "name": "stdout"
        },
        {
          "output_type": "execute_result",
          "data": {
            "text/plain": [
              "(tensor([0, 0, 0, 0, 0, 0, 0, 0, 0, 0, 0, 0, 0, 0, 0, 0, 0, 0, 0, 0, 0, 0, 0, 0,\n",
              "         0, 0, 0, 0, 0, 0, 0, 0, 0, 0, 0, 0, 0, 0, 0, 0, 1, 1, 1, 1, 1, 1, 1, 1,\n",
              "         1, 1, 1, 1, 1, 1, 1, 1, 1, 1, 1, 1, 1, 1, 1, 1, 1, 1, 1, 1, 1, 1, 1, 1,\n",
              "         1, 1, 1, 1, 1, 1, 1, 1, 2, 2, 2, 2, 2, 2, 2, 2, 2, 2, 2, 2, 2, 2, 2, 2,\n",
              "         2, 2, 2, 2, 2, 2, 2, 2, 2, 2, 2, 2, 2, 2, 2, 2, 2, 2, 2, 2, 2, 2, 2, 2,\n",
              "         3, 3, 3, 3, 3, 3, 3, 3, 3, 3, 3, 3, 3, 3, 3, 3, 3, 3, 3, 3, 3, 3, 3, 3,\n",
              "         3, 3, 3, 3, 3, 3, 3, 3, 3, 3, 3, 3, 3, 3, 3, 3, 4, 4, 4, 4, 4, 4, 4, 4,\n",
              "         4, 4, 4, 4, 4, 4, 4, 4, 4, 4, 4, 4, 4, 4, 4, 4, 4, 4, 4, 4, 4, 4, 4, 4,\n",
              "         4, 4, 4, 4, 4, 4, 4, 4, 5, 5, 5, 5, 5, 5, 5, 5, 5, 5, 5, 5, 5, 5, 5, 5,\n",
              "         5, 5, 5, 5, 5, 5, 5, 5, 5, 5, 5, 5, 5, 5, 5, 5, 5, 5, 5, 5, 5, 5, 5, 5,\n",
              "         6, 6, 6, 6, 6, 6, 6, 6, 6, 6, 6, 6, 6, 6, 6, 6, 6, 6, 6, 6, 6, 6, 6, 6,\n",
              "         6, 6, 6, 6, 6, 6, 6, 6, 6, 6, 6, 6, 6, 6, 6, 6, 7, 7, 7, 7, 7, 7, 7, 7,\n",
              "         7, 7, 7, 7, 7, 7, 7, 7, 7, 7, 7, 7, 7, 7, 7, 7, 7, 7, 7, 7, 7, 7, 7, 7,\n",
              "         7, 7, 7, 7, 7, 7, 7, 7], device='cuda:0'),\n",
              " tensor([0, 2, 2, 6, 5, 6, 0, 3, 3, 3, 7, 0, 0, 7, 3, 2, 6, 5, 6, 7, 0, 3, 2, 5,\n",
              "         0, 0, 5, 5, 0, 6, 0, 0, 2, 6, 0, 5, 5, 5, 3, 5, 1, 1, 5, 1, 1, 1, 1, 6,\n",
              "         7, 1, 1, 4, 4, 1, 1, 6, 6, 4, 1, 1, 6, 6, 4, 6, 1, 7, 1, 4, 1, 6, 4, 1,\n",
              "         4, 6, 4, 4, 3, 4, 1, 1, 2, 3, 2, 2, 6, 2, 2, 0, 0, 2, 3, 3, 2, 2, 6, 2,\n",
              "         2, 7, 4, 2, 2, 2, 2, 0, 3, 2, 2, 7, 3, 7, 2, 2, 2, 0, 2, 2, 2, 2, 2, 2,\n",
              "         3, 3, 7, 5, 2, 2, 6, 7, 4, 5, 6, 7, 0, 2, 7, 2, 7, 7, 7, 7, 0, 2, 7, 2,\n",
              "         2, 7, 7, 3, 0, 2, 7, 7, 2, 7, 6, 4, 7, 2, 2, 0, 6, 7, 5, 6, 6, 0, 7, 7,\n",
              "         1, 7, 4, 3, 7, 7, 5, 6, 7, 7, 6, 7, 7, 7, 3, 5, 3, 6, 4, 0, 3, 7, 6, 4,\n",
              "         4, 7, 6, 0, 7, 5, 6, 7, 4, 2, 6, 6, 0, 4, 7, 5, 7, 5, 6, 4, 6, 5, 7, 5,\n",
              "         5, 6, 6, 6, 4, 6, 2, 5, 3, 6, 5, 5, 2, 2, 2, 7, 5, 6, 6, 2, 6, 6, 6, 3,\n",
              "         4, 6, 6, 7, 7, 5, 7, 6, 6, 3, 6, 7, 6, 4, 7, 5, 4, 6, 6, 6, 2, 7, 3, 2,\n",
              "         7, 6, 5, 0, 7, 6, 7, 5, 4, 2, 6, 2, 6, 7, 6, 7, 2, 7, 4, 3, 4, 2, 2, 7,\n",
              "         3, 7, 4, 7, 2, 6, 2, 7, 3, 7, 3, 7, 7, 7, 7, 7, 7, 2, 2, 7, 2, 3, 7, 2,\n",
              "         7, 7, 7, 7, 4, 2, 6, 4]))"
            ]
          },
          "metadata": {
            "tags": []
          },
          "execution_count": 37
        }
      ]
    },
    {
      "cell_type": "markdown",
      "metadata": {
        "id": "XXOAr2ii73Pi",
        "colab_type": "text"
      },
      "source": [
        "## Applying transformations to extracted code"
      ]
    },
    {
      "cell_type": "code",
      "metadata": {
        "id": "FnC8A8qJ73Pj",
        "colab_type": "code",
        "outputId": "75954728-6180-4dd3-bb23-27a410e88ba7",
        "colab": {
          "base_uri": "https://localhost:8080/",
          "height": 34
        }
      },
      "source": [
        "code = ae.enc(X_red).detach()\n",
        "X_augmented, y_augmented = [], []\n",
        "\n",
        "# Tunable hyperparameters\n",
        "k = 3\n",
        "M = 4  # chose M: <!! each class will grow by M in \"equal augm.\" !!>\n",
        "noise_aug = False\n",
        "sigma = .05\n",
        "\n",
        "# Balance the number of class representators\n",
        "cnts = y_red.bincount()\n",
        "augments = (cnts.max().item() - cnts).tolist()\n",
        "if any(augments):\n",
        "    new_code, new_y = oversampling(code, y_red, augments, k)\n",
        "    new_X = ae.dec(new_code).detach()\n",
        "    X_augmented.append(new_X)\n",
        "    y_augmented.append(new_y)\n",
        "\n",
        "# Equal augmentation\n",
        "augments = [M] * len(cnts)\n",
        "for sign in [-1, +1]:\n",
        "    new_code, new_y = oversampling(code, y_red, augments, k, sign)\n",
        "    new_X = ae.dec(new_code).detach()\n",
        "    X_augmented.append(new_X)\n",
        "    y_augmented.append(new_y)\n",
        "\n",
        "if noise_aug:\n",
        "    new_code = code + sigma*torch.randn_like(code)\n",
        "    X_augmented.append(ae.dec(new_code).detach())\n",
        "    y_augmented.append(y_red)\n",
        "\n",
        "X_augmented, y_augmented = map(torch.cat, (X_augmented, y_augmented))\n",
        "X_augmented = torch.cat((X_red, X_augmented))\n",
        "y_augmented = torch.cat((y_red, y_augmented))\n",
        "print('# of samples in augmented dataset:', len(y_augmented))"
      ],
      "execution_count": 38,
      "outputs": [
        {
          "output_type": "stream",
          "text": [
            "# of samples in augmented dataset: 144\n"
          ],
          "name": "stdout"
        }
      ]
    },
    {
      "cell_type": "markdown",
      "metadata": {
        "id": "5TxpALu_73Po",
        "colab_type": "text"
      },
      "source": [
        "## Training classifier on augmented dataset (DeVries)"
      ]
    },
    {
      "cell_type": "code",
      "metadata": {
        "id": "PYw6O_Qs73Po",
        "colab_type": "code",
        "colab": {}
      },
      "source": [
        "best_weights = clear_buffers(best_score, train_history, test_history)\n",
        "clf, opt_clf, sch_clf = reset_CLF_trainables(*args_for_CLF)"
      ],
      "execution_count": 0,
      "outputs": []
    },
    {
      "cell_type": "code",
      "metadata": {
        "id": "b78opdyR73Pr",
        "colab_type": "code",
        "outputId": "0aaf2756-f818-453a-8bb7-a200fa0b9e15",
        "colab": {
          "base_uri": "https://localhost:8080/",
          "height": 66,
          "referenced_widgets": [
            "7b0c201c33ef4dde929b42aee302da09",
            "34286f9b5e944015b503a0093df1d89e",
            "0b5e9db36e554b72b30750970b6a3747",
            "431df44c36044969aba7c7ea5a7d86fc",
            "5e7038f3a62c492694faf97591b8c5fa",
            "604eeab9b17d4543bd4ed8a2dda07c7f",
            "3ddf24c77b73446ba3a4f284a56183ff",
            "b5dcb0e1b3e3491bbe7e347910c8ea44"
          ]
        }
      },
      "source": [
        "train_clf(X_augmented, y_augmented, 1000, mode, False)"
      ],
      "execution_count": 40,
      "outputs": [
        {
          "output_type": "display_data",
          "data": {
            "application/vnd.jupyter.widget-view+json": {
              "model_id": "7b0c201c33ef4dde929b42aee302da09",
              "version_minor": 0,
              "version_major": 2
            },
            "text/plain": [
              "HBox(children=(IntProgress(value=0, description='clf training', max=1000, style=ProgressStyle(description_widt…"
            ]
          },
          "metadata": {
            "tags": []
          }
        },
        {
          "output_type": "stream",
          "text": [
            "\n"
          ],
          "name": "stdout"
        }
      ]
    },
    {
      "cell_type": "code",
      "metadata": {
        "colab_type": "code",
        "outputId": "c7e95e26-62b0-4a41-c847-56e2c4c8afd1",
        "id": "4TS56tqB73Pt",
        "colab": {
          "base_uri": "https://localhost:8080/",
          "height": 298
        }
      },
      "source": [
        "plt.plot(train_history, label='train')\n",
        "plt.plot(test_history, label='test')\n",
        "plt.title(\"Classifier's losses on the augmented dataset\")\n",
        "print('best score:', best_score[0])\n",
        "plt.legend();"
      ],
      "execution_count": 41,
      "outputs": [
        {
          "output_type": "stream",
          "text": [
            "best score: 1.9992046356201172\n"
          ],
          "name": "stdout"
        },
        {
          "output_type": "display_data",
          "data": {
            "image/png": "[encoded data removed]",
            "text/plain": [
              "<Figure size 432x288 with 1 Axes>"
            ]
          },
          "metadata": {
            "tags": [],
            "needs_background": "light"
          }
        }
      ]
    },
    {
      "cell_type": "code",
      "metadata": {
        "colab_type": "code",
        "id": "xFKn8mMJ73Pw",
        "colab": {}
      },
      "source": [
        "# Load best weights\n",
        "if best_weights:\n",
        "    clf.load_state_dict(best_weights)"
      ],
      "execution_count": 0,
      "outputs": []
    },
    {
      "cell_type": "code",
      "metadata": {
        "id": "51fqcfUi73Pz",
        "colab_type": "code",
        "outputId": "f9452ecd-9057-42c4-b721-b73101900c16",
        "colab": {
          "base_uri": "https://localhost:8080/",
          "height": 504
        }
      },
      "source": [
        "y_pred = clf.predict(X_test)\n",
        "print('accuracy =', accuracy_score(y_test.cpu(), y_pred))\n",
        "y_test, y_pred"
      ],
      "execution_count": 43,
      "outputs": [
        {
          "output_type": "stream",
          "text": [
            "accuracy = 0.315625\n"
          ],
          "name": "stdout"
        },
        {
          "output_type": "execute_result",
          "data": {
            "text/plain": [
              "(tensor([0, 0, 0, 0, 0, 0, 0, 0, 0, 0, 0, 0, 0, 0, 0, 0, 0, 0, 0, 0, 0, 0, 0, 0,\n",
              "         0, 0, 0, 0, 0, 0, 0, 0, 0, 0, 0, 0, 0, 0, 0, 0, 1, 1, 1, 1, 1, 1, 1, 1,\n",
              "         1, 1, 1, 1, 1, 1, 1, 1, 1, 1, 1, 1, 1, 1, 1, 1, 1, 1, 1, 1, 1, 1, 1, 1,\n",
              "         1, 1, 1, 1, 1, 1, 1, 1, 2, 2, 2, 2, 2, 2, 2, 2, 2, 2, 2, 2, 2, 2, 2, 2,\n",
              "         2, 2, 2, 2, 2, 2, 2, 2, 2, 2, 2, 2, 2, 2, 2, 2, 2, 2, 2, 2, 2, 2, 2, 2,\n",
              "         3, 3, 3, 3, 3, 3, 3, 3, 3, 3, 3, 3, 3, 3, 3, 3, 3, 3, 3, 3, 3, 3, 3, 3,\n",
              "         3, 3, 3, 3, 3, 3, 3, 3, 3, 3, 3, 3, 3, 3, 3, 3, 4, 4, 4, 4, 4, 4, 4, 4,\n",
              "         4, 4, 4, 4, 4, 4, 4, 4, 4, 4, 4, 4, 4, 4, 4, 4, 4, 4, 4, 4, 4, 4, 4, 4,\n",
              "         4, 4, 4, 4, 4, 4, 4, 4, 5, 5, 5, 5, 5, 5, 5, 5, 5, 5, 5, 5, 5, 5, 5, 5,\n",
              "         5, 5, 5, 5, 5, 5, 5, 5, 5, 5, 5, 5, 5, 5, 5, 5, 5, 5, 5, 5, 5, 5, 5, 5,\n",
              "         6, 6, 6, 6, 6, 6, 6, 6, 6, 6, 6, 6, 6, 6, 6, 6, 6, 6, 6, 6, 6, 6, 6, 6,\n",
              "         6, 6, 6, 6, 6, 6, 6, 6, 6, 6, 6, 6, 6, 6, 6, 6, 7, 7, 7, 7, 7, 7, 7, 7,\n",
              "         7, 7, 7, 7, 7, 7, 7, 7, 7, 7, 7, 7, 7, 7, 7, 7, 7, 7, 7, 7, 7, 7, 7, 7,\n",
              "         7, 7, 7, 7, 7, 7, 7, 7], device='cuda:0'),\n",
              " tensor([0, 6, 5, 7, 0, 6, 1, 0, 0, 0, 4, 6, 0, 0, 6, 0, 0, 0, 6, 7, 5, 6, 2, 0,\n",
              "         0, 0, 7, 0, 3, 6, 0, 0, 0, 4, 5, 0, 6, 6, 6, 6, 1, 1, 0, 1, 1, 1, 7, 7,\n",
              "         1, 1, 1, 1, 1, 1, 7, 7, 3, 1, 1, 1, 1, 7, 6, 7, 7, 1, 1, 1, 1, 2, 1, 1,\n",
              "         1, 6, 7, 1, 1, 1, 1, 1, 5, 3, 3, 5, 5, 3, 3, 5, 5, 3, 5, 0, 0, 6, 6, 3,\n",
              "         5, 6, 4, 3, 6, 2, 2, 5, 5, 6, 5, 1, 6, 3, 3, 5, 6, 5, 5, 3, 4, 3, 3, 3,\n",
              "         6, 3, 4, 5, 3, 3, 1, 4, 4, 6, 6, 6, 3, 3, 7, 3, 6, 4, 6, 4, 3, 3, 1, 3,\n",
              "         5, 6, 3, 5, 5, 0, 6, 1, 3, 4, 0, 6, 1, 3, 3, 6, 7, 4, 5, 5, 2, 0, 4, 6,\n",
              "         6, 4, 4, 5, 4, 4, 2, 5, 2, 4, 5, 3, 3, 6, 5, 2, 6, 5, 4, 6, 2, 7, 5, 3,\n",
              "         4, 4, 6, 3, 5, 2, 4, 6, 6, 4, 6, 6, 0, 7, 6, 2, 1, 5, 5, 6, 6, 7, 6, 7,\n",
              "         0, 6, 3, 2, 6, 2, 6, 5, 0, 3, 5, 5, 6, 6, 6, 3, 5, 7, 5, 6, 4, 5, 6, 6,\n",
              "         6, 0, 0, 6, 6, 6, 6, 0, 0, 0, 5, 6, 6, 1, 5, 6, 4, 6, 5, 0, 6, 4, 4, 6,\n",
              "         4, 0, 4, 0, 4, 6, 6, 0, 4, 0, 5, 6, 6, 4, 0, 6, 5, 4, 4, 5, 1, 5, 6, 1,\n",
              "         5, 2, 7, 7, 0, 4, 4, 4, 2, 7, 7, 6, 7, 4, 6, 4, 6, 2, 2, 4, 5, 6, 4, 5,\n",
              "         4, 6, 4, 1, 7, 2, 6, 1]))"
            ]
          },
          "metadata": {
            "tags": []
          },
          "execution_count": 43
        }
      ]
    },
    {
      "cell_type": "markdown",
      "metadata": {
        "id": "q7wQJ8Ts73P1",
        "colab_type": "text"
      },
      "source": [
        "# Augmentation with Persistence Landscapes"
      ]
    },
    {
      "cell_type": "markdown",
      "metadata": {
        "id": "p6Wo97X073P2",
        "colab_type": "text"
      },
      "source": [
        "## Scheme 1"
      ]
    },
    {
      "cell_type": "markdown",
      "metadata": {
        "id": "kgYxIxnF73P2",
        "colab_type": "text"
      },
      "source": [
        "### Training Landscape Inverse"
      ]
    },
    {
      "cell_type": "code",
      "metadata": {
        "id": "hGXUaGGv73P3",
        "colab_type": "code",
        "colab": {}
      },
      "source": [
        "best_weights = clear_buffers(best_score, train_history, test_history)\n",
        "pli, opt_pli, sch_pli = reset_PLI_trainables(*args_for_PLI)"
      ],
      "execution_count": 0,
      "outputs": []
    },
    {
      "cell_type": "code",
      "metadata": {
        "id": "pbu4FhVF73P7",
        "colab_type": "code",
        "outputId": "f119414a-d619-4384-dff0-455ca960ed04",
        "colab": {
          "base_uri": "https://localhost:8080/",
          "height": 66,
          "referenced_widgets": [
            "fe7561408cc94652bcf0cb3950bb2032",
            "19e3a1cc4d3a402d9fc2b35903032597",
            "fa6ddb9c33014bf2842f7f74afa8aa17",
            "2f4d5ddc5c6b4b29ab2062ccf877f5e7",
            "2a98fd7280a043f797286bf5b7180dec",
            "9c433dae25d449de9f62998706e0f8e5",
            "a6ae8a8425e2421baf0c77d40b729f30",
            "ce80cfa64a194b7aa4edb99d1a8ff5f9"
          ]
        }
      },
      "source": [
        "train_pli(landscapes_train, 1000, mode, verbose=False)"
      ],
      "execution_count": 45,
      "outputs": [
        {
          "output_type": "display_data",
          "data": {
            "application/vnd.jupyter.widget-view+json": {
              "model_id": "fe7561408cc94652bcf0cb3950bb2032",
              "version_minor": 0,
              "version_major": 2
            },
            "text/plain": [
              "HBox(children=(IntProgress(value=0, description='pli training', max=1000, style=ProgressStyle(description_widt…"
            ]
          },
          "metadata": {
            "tags": []
          }
        },
        {
          "output_type": "stream",
          "text": [
            "\n"
          ],
          "name": "stdout"
        }
      ]
    },
    {
      "cell_type": "code",
      "metadata": {
        "colab_type": "code",
        "outputId": "92c472ae-6ac2-4310-bbd5-5d38ddcd957e",
        "id": "1jf-BCsx73P-",
        "colab": {
          "base_uri": "https://localhost:8080/",
          "height": 298
        }
      },
      "source": [
        "plt.plot(train_history, label='train')\n",
        "plt.plot(test_history, label='test')\n",
        "plt.title(\"Landscape Inverse's losses\")\n",
        "print('best score:', best_score[0])\n",
        "plt.legend();"
      ],
      "execution_count": 46,
      "outputs": [
        {
          "output_type": "stream",
          "text": [
            "best score: 0.8407729268074036\n"
          ],
          "name": "stdout"
        },
        {
          "output_type": "display_data",
          "data": {
            "image/png": "[encoded data removed]",
            "text/plain": [
              "<Figure size 432x288 with 1 Axes>"
            ]
          },
          "metadata": {
            "tags": [],
            "needs_background": "light"
          }
        }
      ]
    },
    {
      "cell_type": "code",
      "metadata": {
        "colab_type": "code",
        "id": "wwaky68Q73QC",
        "colab": {}
      },
      "source": [
        "# Load best weights\n",
        "if best_weights:\n",
        "    pli.load_state_dict(best_weights)"
      ],
      "execution_count": 0,
      "outputs": []
    },
    {
      "cell_type": "markdown",
      "metadata": {
        "id": "hSCIXH8p73QG",
        "colab_type": "text"
      },
      "source": [
        "###  Applying transformations to persistence landscapes"
      ]
    },
    {
      "cell_type": "code",
      "metadata": {
        "id": "mmxoLJQ0roCn",
        "colab_type": "code",
        "outputId": "11f9f00a-1ca3-477a-ef4a-1b31b84e76d4",
        "colab": {
          "base_uri": "https://localhost:8080/",
          "height": 34
        }
      },
      "source": [
        "y_augmented.device"
      ],
      "execution_count": 48,
      "outputs": [
        {
          "output_type": "execute_result",
          "data": {
            "text/plain": [
              "device(type='cuda', index=0)"
            ]
          },
          "metadata": {
            "tags": []
          },
          "execution_count": 48
        }
      ]
    },
    {
      "cell_type": "code",
      "metadata": {
        "id": "SOIjzTfY73QG",
        "colab_type": "code",
        "outputId": "084d705d-3dad-48a7-a2e4-4b067b80f424",
        "colab": {
          "base_uri": "https://localhost:8080/",
          "height": 34
        }
      },
      "source": [
        "code = landscapes_train.flatten(1)\n",
        "X_augmented, y_augmented = [], []\n",
        "\n",
        "# Tunable hyperparameters\n",
        "k = 3\n",
        "M = 4  # chose M: <!! each class will grow by M in \"equal augm.\" !!>\n",
        "noise_aug = False\n",
        "sigma  # noise std\n",
        "\n",
        "# Balance the number of class representators\n",
        "cnts = y_red.bincount()\n",
        "augments = (cnts.max().item() - cnts).tolist()\n",
        "if any(augments):\n",
        "    new_code, new_y = oversampling(code, y_red, augments, k)\n",
        "    new_X = pli(new_code.view(-1, *land_shape)).detach()\n",
        "    X_augmented.append(new_X)\n",
        "    y_augmented.append(new_y)\n",
        "\n",
        "# Equal augmentation\n",
        "augments = [M] * len(cnts)\n",
        "for sign in [-1, +1]:\n",
        "    new_code, new_y = oversampling(code, y_red, augments, k, sign)\n",
        "    new_X = pli(new_code.view(-1, *land_shape)).detach()\n",
        "    X_augmented.append(new_X)\n",
        "    y_augmented.append(new_y)\n",
        "\n",
        "if noise_aug:\n",
        "    new_code = code + sigma*torch.randn_like(code)\n",
        "    X_augmented.append(pli(new_code.view(-1, *land_shape)).detach())\n",
        "    y_augmented.append(y_red)\n",
        "\n",
        "X_augmented, y_augmented = map(torch.cat, (X_augmented, y_augmented))\n",
        "X_augmented = torch.cat((X_red, X_augmented))\n",
        "y_augmented = torch.cat((y_red, y_augmented))\n",
        "print('# of samples in augmented dataset:', len(y_augmented))"
      ],
      "execution_count": 49,
      "outputs": [
        {
          "output_type": "stream",
          "text": [
            "# of samples in augmented dataset: 144\n"
          ],
          "name": "stdout"
        }
      ]
    },
    {
      "cell_type": "markdown",
      "metadata": {
        "id": "UjXEPoAv73QI",
        "colab_type": "text"
      },
      "source": [
        "### Training classifier on augmented dataset (Landscape Inverse)"
      ]
    },
    {
      "cell_type": "code",
      "metadata": {
        "id": "aXX9HHwL73QJ",
        "colab_type": "code",
        "colab": {}
      },
      "source": [
        "best_weights = clear_buffers(best_score, train_history, test_history)\n",
        "clf, opt_clf, sch_clf = reset_CLF_trainables(*args_for_CLF)"
      ],
      "execution_count": 0,
      "outputs": []
    },
    {
      "cell_type": "code",
      "metadata": {
        "id": "gfFmnDTy73QL",
        "colab_type": "code",
        "outputId": "85fa19ca-37e9-48f7-8e71-e439ffd33c92",
        "colab": {
          "base_uri": "https://localhost:8080/",
          "height": 66,
          "referenced_widgets": [
            "3e1fca902bf34c6aac26ae2953d4f769",
            "53b92d2026614d1fb0ea8bd5885f6f4b",
            "86b4a0905af145b6a2549c324893ecc2",
            "31e2230a187c4451b6926a8b380227df",
            "799ca5b79d404fc397c729270ae956eb",
            "557042f299974fe48b78b02a02d98442",
            "90549da52b4a452c88ded6712a222821",
            "2245c7d59fa145c7999df02760f20713"
          ]
        }
      },
      "source": [
        "train_clf(X_augmented, y_augmented, 1200, mode, False)"
      ],
      "execution_count": 51,
      "outputs": [
        {
          "output_type": "display_data",
          "data": {
            "application/vnd.jupyter.widget-view+json": {
              "model_id": "3e1fca902bf34c6aac26ae2953d4f769",
              "version_minor": 0,
              "version_major": 2
            },
            "text/plain": [
              "HBox(children=(IntProgress(value=0, description='clf training', max=1200, style=ProgressStyle(description_widt…"
            ]
          },
          "metadata": {
            "tags": []
          }
        },
        {
          "output_type": "stream",
          "text": [
            "\n"
          ],
          "name": "stdout"
        }
      ]
    },
    {
      "cell_type": "code",
      "metadata": {
        "colab_type": "code",
        "outputId": "98bd9fde-7d37-428e-ccf6-3a354302d3a2",
        "id": "ba4tfBg673QO",
        "colab": {
          "base_uri": "https://localhost:8080/",
          "height": 298
        }
      },
      "source": [
        "plt.plot(train_history, label='train')\n",
        "plt.plot(test_history, label='test')\n",
        "plt.title(\"Classifier's losses on the augmented dataset\")\n",
        "print('best score:', best_score[0])\n",
        "plt.legend();"
      ],
      "execution_count": 52,
      "outputs": [
        {
          "output_type": "stream",
          "text": [
            "best score: 1.991182565689087\n"
          ],
          "name": "stdout"
        },
        {
          "output_type": "display_data",
          "data": {
            "image/png": "[encoded data removed]",
            "text/plain": [
              "<Figure size 432x288 with 1 Axes>"
            ]
          },
          "metadata": {
            "tags": [],
            "needs_background": "light"
          }
        }
      ]
    },
    {
      "cell_type": "code",
      "metadata": {
        "colab_type": "code",
        "id": "p8ACehHc73QQ",
        "colab": {}
      },
      "source": [
        "# Load best weights\n",
        "if best_weights:\n",
        "    clf.load_state_dict(best_weights)"
      ],
      "execution_count": 0,
      "outputs": []
    },
    {
      "cell_type": "code",
      "metadata": {
        "id": "2QNo5BFj73QS",
        "colab_type": "code",
        "outputId": "30fdce9c-055c-40eb-bef5-9873042394f4",
        "colab": {
          "base_uri": "https://localhost:8080/",
          "height": 504
        }
      },
      "source": [
        "y_pred = clf.predict(X_test) \n",
        "print('accuracy =', accuracy_score(y_test.cpu(), y_pred))\n",
        "y_test, y_pred"
      ],
      "execution_count": 54,
      "outputs": [
        {
          "output_type": "stream",
          "text": [
            "accuracy = 0.34375\n"
          ],
          "name": "stdout"
        },
        {
          "output_type": "execute_result",
          "data": {
            "text/plain": [
              "(tensor([0, 0, 0, 0, 0, 0, 0, 0, 0, 0, 0, 0, 0, 0, 0, 0, 0, 0, 0, 0, 0, 0, 0, 0,\n",
              "         0, 0, 0, 0, 0, 0, 0, 0, 0, 0, 0, 0, 0, 0, 0, 0, 1, 1, 1, 1, 1, 1, 1, 1,\n",
              "         1, 1, 1, 1, 1, 1, 1, 1, 1, 1, 1, 1, 1, 1, 1, 1, 1, 1, 1, 1, 1, 1, 1, 1,\n",
              "         1, 1, 1, 1, 1, 1, 1, 1, 2, 2, 2, 2, 2, 2, 2, 2, 2, 2, 2, 2, 2, 2, 2, 2,\n",
              "         2, 2, 2, 2, 2, 2, 2, 2, 2, 2, 2, 2, 2, 2, 2, 2, 2, 2, 2, 2, 2, 2, 2, 2,\n",
              "         3, 3, 3, 3, 3, 3, 3, 3, 3, 3, 3, 3, 3, 3, 3, 3, 3, 3, 3, 3, 3, 3, 3, 3,\n",
              "         3, 3, 3, 3, 3, 3, 3, 3, 3, 3, 3, 3, 3, 3, 3, 3, 4, 4, 4, 4, 4, 4, 4, 4,\n",
              "         4, 4, 4, 4, 4, 4, 4, 4, 4, 4, 4, 4, 4, 4, 4, 4, 4, 4, 4, 4, 4, 4, 4, 4,\n",
              "         4, 4, 4, 4, 4, 4, 4, 4, 5, 5, 5, 5, 5, 5, 5, 5, 5, 5, 5, 5, 5, 5, 5, 5,\n",
              "         5, 5, 5, 5, 5, 5, 5, 5, 5, 5, 5, 5, 5, 5, 5, 5, 5, 5, 5, 5, 5, 5, 5, 5,\n",
              "         6, 6, 6, 6, 6, 6, 6, 6, 6, 6, 6, 6, 6, 6, 6, 6, 6, 6, 6, 6, 6, 6, 6, 6,\n",
              "         6, 6, 6, 6, 6, 6, 6, 6, 6, 6, 6, 6, 6, 6, 6, 6, 7, 7, 7, 7, 7, 7, 7, 7,\n",
              "         7, 7, 7, 7, 7, 7, 7, 7, 7, 7, 7, 7, 7, 7, 7, 7, 7, 7, 7, 7, 7, 7, 7, 7,\n",
              "         7, 7, 7, 7, 7, 7, 7, 7], device='cuda:0'),\n",
              " tensor([0, 0, 0, 5, 0, 5, 0, 0, 0, 0, 0, 5, 0, 0, 5, 0, 0, 0, 5, 5, 0, 5, 0, 0,\n",
              "         0, 0, 0, 0, 0, 0, 5, 0, 0, 0, 5, 5, 0, 0, 0, 5, 3, 4, 3, 7, 1, 1, 3, 2,\n",
              "         3, 3, 1, 3, 4, 3, 4, 2, 4, 3, 3, 3, 4, 2, 4, 3, 4, 4, 4, 4, 4, 3, 3, 4,\n",
              "         6, 3, 6, 3, 4, 6, 1, 1, 2, 2, 2, 7, 3, 4, 2, 4, 7, 5, 3, 2, 4, 0, 2, 4,\n",
              "         2, 0, 0, 2, 7, 2, 4, 4, 4, 2, 7, 2, 2, 4, 2, 4, 0, 7, 4, 2, 2, 1, 4, 2,\n",
              "         1, 0, 1, 5, 0, 0, 1, 1, 0, 2, 2, 4, 5, 0, 4, 0, 3, 3, 1, 0, 5, 0, 6, 5,\n",
              "         0, 6, 0, 4, 0, 0, 0, 7, 5, 4, 5, 0, 6, 0, 6, 5, 4, 2, 4, 4, 4, 0, 2, 2,\n",
              "         4, 5, 4, 2, 2, 4, 6, 4, 5, 0, 4, 7, 4, 2, 2, 2, 7, 4, 3, 2, 2, 2, 4, 4,\n",
              "         1, 4, 4, 4, 3, 2, 2, 4, 0, 5, 5, 5, 4, 5, 0, 0, 0, 0, 5, 0, 5, 5, 2, 2,\n",
              "         5, 5, 5, 5, 5, 5, 0, 5, 2, 5, 5, 0, 0, 0, 0, 5, 5, 7, 5, 2, 5, 5, 2, 5,\n",
              "         4, 5, 4, 6, 4, 3, 4, 1, 4, 0, 3, 4, 0, 0, 3, 0, 3, 4, 4, 4, 0, 6, 0, 4,\n",
              "         4, 4, 0, 5, 4, 3, 4, 0, 4, 4, 4, 7, 2, 4, 6, 4, 7, 4, 3, 7, 5, 0, 2, 4,\n",
              "         7, 2, 4, 2, 5, 4, 2, 7, 0, 7, 7, 7, 2, 4, 4, 7, 2, 7, 0, 7, 2, 3, 7, 7,\n",
              "         4, 2, 2, 7, 7, 2, 7, 7]))"
            ]
          },
          "metadata": {
            "tags": []
          },
          "execution_count": 54
        }
      ]
    },
    {
      "cell_type": "markdown",
      "metadata": {
        "id": "GPEs6eA273QU",
        "colab_type": "text"
      },
      "source": [
        "## Scheme 2"
      ]
    },
    {
      "cell_type": "markdown",
      "metadata": {
        "id": "rhWsZ_bm73QV",
        "colab_type": "text"
      },
      "source": [
        "### Training SAE with code/persistence landscapes concatenation"
      ]
    },
    {
      "cell_type": "code",
      "metadata": {
        "id": "kvdKa70v73QV",
        "colab_type": "code",
        "colab": {}
      },
      "source": [
        "best_weights = clear_buffers(best_score, train_history, test_history)\n",
        "slae, opt_slae, sch_slae = reset_SLAE_trainables(*args_for_SLAE)"
      ],
      "execution_count": 0,
      "outputs": []
    },
    {
      "cell_type": "code",
      "metadata": {
        "id": "dLOMM0Up73QY",
        "colab_type": "code",
        "outputId": "d72e985f-b7f7-4206-e20a-a3efdee3df61",
        "colab": {
          "base_uri": "https://localhost:8080/",
          "height": 66,
          "referenced_widgets": [
            "c5f4b964e0834269bbf76a9dca513629",
            "4b8031918b224abb9bb0eec87d671759",
            "3d6b39c5d0f94c6d9317adb86ed1436b",
            "e3b2ccc3552e40bab7a20ff5753950a1",
            "630cb59811054ec086861af0a64423e9",
            "ee7bf56ec72a4926bfc013e3cc5c8312",
            "bb1b93e22dfe448481338da6cf4fd978",
            "9bd20707b17d4cb2bfba6ba98412aec0"
          ]
        }
      },
      "source": [
        "train_slae(X_red, 1000, mode, verbose=False)"
      ],
      "execution_count": 56,
      "outputs": [
        {
          "output_type": "display_data",
          "data": {
            "application/vnd.jupyter.widget-view+json": {
              "model_id": "c5f4b964e0834269bbf76a9dca513629",
              "version_minor": 0,
              "version_major": 2
            },
            "text/plain": [
              "HBox(children=(IntProgress(value=0, description='slae training', max=1000, style=ProgressStyle(description_wid…"
            ]
          },
          "metadata": {
            "tags": []
          }
        },
        {
          "output_type": "stream",
          "text": [
            "\n"
          ],
          "name": "stdout"
        }
      ]
    },
    {
      "cell_type": "code",
      "metadata": {
        "colab_type": "code",
        "id": "cECaXKT-73Qb",
        "outputId": "0df55e27-3a00-40b9-cc53-83765c75cb06",
        "colab": {
          "base_uri": "https://localhost:8080/",
          "height": 298
        }
      },
      "source": [
        "plt.plot(train_history, label='train')\n",
        "plt.plot(test_history, label='test')\n",
        "print('best score:', best_score[0])\n",
        "plt.title(\"PLSAE's losses\")\n",
        "plt.legend();"
      ],
      "execution_count": 57,
      "outputs": [
        {
          "output_type": "stream",
          "text": [
            "best score: 0.4759901762008667\n"
          ],
          "name": "stdout"
        },
        {
          "output_type": "display_data",
          "data": {
            "image/png": "[encoded data removed]",
            "text/plain": [
              "<Figure size 432x288 with 1 Axes>"
            ]
          },
          "metadata": {
            "tags": [],
            "needs_background": "light"
          }
        }
      ]
    },
    {
      "cell_type": "code",
      "metadata": {
        "colab_type": "code",
        "id": "MFb2YEGb73Qe",
        "colab": {}
      },
      "source": [
        "# Load best weights\n",
        "if best_weights:\n",
        "    pli.load_state_dict(best_weights)"
      ],
      "execution_count": 0,
      "outputs": []
    },
    {
      "cell_type": "markdown",
      "metadata": {
        "id": "8dzZOs1Y73Qi",
        "colab_type": "text"
      },
      "source": [
        "###  Applying transformations to stacked code and landscape"
      ]
    },
    {
      "cell_type": "code",
      "metadata": {
        "id": "JM0XiG6c73Qi",
        "colab_type": "code",
        "outputId": "de3c5834-af35-4db6-f081-ffc0da0218bf",
        "colab": {
          "base_uri": "https://localhost:8080/",
          "height": 34
        }
      },
      "source": [
        "code = slae.enc(X_red).detach()\n",
        "split_sizes = [code.size(1), np.prod(land_shape)]\n",
        "stacked_code = torch.cat([code, landscapes_train.flatten(1)], 1)\n",
        "\n",
        "X_augmented, y_augmented = [], []\n",
        "\n",
        "# Tunable hyperparameters\n",
        "k = 3\n",
        "M = 4  # chose M: <!! each class will grow by M in \"equal augm.\" !!>\n",
        "noise_aug = False\n",
        "\n",
        "# Balance the number of class representatives\n",
        "cnts = y_red.bincount()\n",
        "augments = (cnts.max().item() - cnts).tolist()\n",
        "if any(augments):\n",
        "    new_code, new_y = oversampling(stacked_code, y_red, augments, k)\n",
        "    new_code, new_landscapes = new_code.split(split_sizes, 1)\n",
        "    new_X = slae.dec(new_code, new_landscapes.view(-1,*land_shape)).detach()\n",
        "    X_augmented.append(new_X)\n",
        "    y_augmented.append(new_y)\n",
        "\n",
        "# Equal augmentation\n",
        "augments = [M] * len(cnts)\n",
        "for sign in [-1, +1]:\n",
        "    new_code, new_y = oversampling(stacked_code, y_red, augments, k, sign)\n",
        "    new_code, new_landscapes = new_code.split(split_sizes, 1)\n",
        "    new_X = slae.dec(new_code, new_landscapes.view(-1,*land_shape)).detach()\n",
        "    X_augmented.append(new_X)\n",
        "    y_augmented.append(new_y)\n",
        "\n",
        "if noise_aug:\n",
        "    new_code = code + sigma*torch.randn_like(code)\n",
        "    new_landscapes = (landscapes_train \n",
        "                      + sigma*torch.randn_like(landscapes_train))\n",
        "    X_augmented.append(\n",
        "        slae.dec(new_code, new_landscapes.view(-1,*land_shape)).detach())\n",
        "    y_augmented.append(y_red)\n",
        "\n",
        "X_augmented, y_augmented = map(torch.cat, (X_augmented, y_augmented))\n",
        "X_augmented = torch.cat((X_red, X_augmented))\n",
        "y_augmented = torch.cat((y_red, y_augmented))\n",
        "print('# of samples in augmented dataset:', len(y_augmented))"
      ],
      "execution_count": 59,
      "outputs": [
        {
          "output_type": "stream",
          "text": [
            "# of samples in augmented dataset: 144\n"
          ],
          "name": "stdout"
        }
      ]
    },
    {
      "cell_type": "markdown",
      "metadata": {
        "id": "2biDbxg_73Qm",
        "colab_type": "text"
      },
      "source": [
        "### Training classifier on augmented dataset (SAE + PL)"
      ]
    },
    {
      "cell_type": "code",
      "metadata": {
        "id": "OCN2xoPS73Qm",
        "colab_type": "code",
        "colab": {}
      },
      "source": [
        "best_weights = clear_buffers(best_score, train_history, test_history)\n",
        "clf, opt_clf, sch_clf = reset_CLF_trainables(*args_for_CLF)"
      ],
      "execution_count": 0,
      "outputs": []
    },
    {
      "cell_type": "code",
      "metadata": {
        "id": "TYpCem-473Qo",
        "colab_type": "code",
        "outputId": "ed67a7ad-7854-4e80-a4a5-0e76cc3bf7ff",
        "colab": {
          "base_uri": "https://localhost:8080/",
          "height": 66,
          "referenced_widgets": [
            "999c0cbc8e8a4ff4b65aa38cd8320fcf",
            "0a94674876f946eea77d78ed21924086",
            "9ce1cdb35fdb40c48416c482124bb173",
            "e58eadd6ed0e4aea8ad641e685586236",
            "4903146fa0cf4031a59d7715f103a31e",
            "608baa3ec881434f91adddd03493f4fb",
            "357cf1ca0b944214bd9b39c6e9b2db2b",
            "1a16ccf65f8c4c3bbca2f525d3a0b4f0"
          ]
        }
      },
      "source": [
        "train_clf(X_augmented, y_augmented, 1200, mode, False)"
      ],
      "execution_count": 61,
      "outputs": [
        {
          "output_type": "display_data",
          "data": {
            "application/vnd.jupyter.widget-view+json": {
              "model_id": "999c0cbc8e8a4ff4b65aa38cd8320fcf",
              "version_minor": 0,
              "version_major": 2
            },
            "text/plain": [
              "HBox(children=(IntProgress(value=0, description='clf training', max=1200, style=ProgressStyle(description_widt…"
            ]
          },
          "metadata": {
            "tags": []
          }
        },
        {
          "output_type": "stream",
          "text": [
            "\n"
          ],
          "name": "stdout"
        }
      ]
    },
    {
      "cell_type": "code",
      "metadata": {
        "colab_type": "code",
        "id": "kAim_FTX73Qq",
        "outputId": "790006dc-0e71-4054-8b3b-2a8a26354f38",
        "colab": {
          "base_uri": "https://localhost:8080/",
          "height": 281
        }
      },
      "source": [
        "plt.plot(train_history, label='train')\n",
        "plt.plot(test_history, label='test')\n",
        "plt.title(\"Classifier's losses on the augmented dataset\")\n",
        "plt.legend();"
      ],
      "execution_count": 62,
      "outputs": [
        {
          "output_type": "display_data",
          "data": {
            "image/png": "[encoded data removed]",
            "text/plain": [
              "<Figure size 432x288 with 1 Axes>"
            ]
          },
          "metadata": {
            "tags": [],
            "needs_background": "light"
          }
        }
      ]
    },
    {
      "cell_type": "code",
      "metadata": {
        "colab_type": "code",
        "id": "BTfZaF2q73Qs",
        "colab": {}
      },
      "source": [
        "# Load best weights\n",
        "if best_weights:\n",
        "    clf.load_state_dict(best_weights)"
      ],
      "execution_count": 0,
      "outputs": []
    },
    {
      "cell_type": "code",
      "metadata": {
        "id": "gsEgbLwL73Qv",
        "colab_type": "code",
        "outputId": "a2dab558-6378-47ee-a4ce-1a99feb5022f",
        "colab": {
          "base_uri": "https://localhost:8080/",
          "height": 504
        }
      },
      "source": [
        "y_pred = clf.predict(X_test) \n",
        "print('accuracy =', accuracy_score(y_test.cpu(), y_pred))\n",
        "y_test, y_pred"
      ],
      "execution_count": 64,
      "outputs": [
        {
          "output_type": "stream",
          "text": [
            "accuracy = 0.2625\n"
          ],
          "name": "stdout"
        },
        {
          "output_type": "execute_result",
          "data": {
            "text/plain": [
              "(tensor([0, 0, 0, 0, 0, 0, 0, 0, 0, 0, 0, 0, 0, 0, 0, 0, 0, 0, 0, 0, 0, 0, 0, 0,\n",
              "         0, 0, 0, 0, 0, 0, 0, 0, 0, 0, 0, 0, 0, 0, 0, 0, 1, 1, 1, 1, 1, 1, 1, 1,\n",
              "         1, 1, 1, 1, 1, 1, 1, 1, 1, 1, 1, 1, 1, 1, 1, 1, 1, 1, 1, 1, 1, 1, 1, 1,\n",
              "         1, 1, 1, 1, 1, 1, 1, 1, 2, 2, 2, 2, 2, 2, 2, 2, 2, 2, 2, 2, 2, 2, 2, 2,\n",
              "         2, 2, 2, 2, 2, 2, 2, 2, 2, 2, 2, 2, 2, 2, 2, 2, 2, 2, 2, 2, 2, 2, 2, 2,\n",
              "         3, 3, 3, 3, 3, 3, 3, 3, 3, 3, 3, 3, 3, 3, 3, 3, 3, 3, 3, 3, 3, 3, 3, 3,\n",
              "         3, 3, 3, 3, 3, 3, 3, 3, 3, 3, 3, 3, 3, 3, 3, 3, 4, 4, 4, 4, 4, 4, 4, 4,\n",
              "         4, 4, 4, 4, 4, 4, 4, 4, 4, 4, 4, 4, 4, 4, 4, 4, 4, 4, 4, 4, 4, 4, 4, 4,\n",
              "         4, 4, 4, 4, 4, 4, 4, 4, 5, 5, 5, 5, 5, 5, 5, 5, 5, 5, 5, 5, 5, 5, 5, 5,\n",
              "         5, 5, 5, 5, 5, 5, 5, 5, 5, 5, 5, 5, 5, 5, 5, 5, 5, 5, 5, 5, 5, 5, 5, 5,\n",
              "         6, 6, 6, 6, 6, 6, 6, 6, 6, 6, 6, 6, 6, 6, 6, 6, 6, 6, 6, 6, 6, 6, 6, 6,\n",
              "         6, 6, 6, 6, 6, 6, 6, 6, 6, 6, 6, 6, 6, 6, 6, 6, 7, 7, 7, 7, 7, 7, 7, 7,\n",
              "         7, 7, 7, 7, 7, 7, 7, 7, 7, 7, 7, 7, 7, 7, 7, 7, 7, 7, 7, 7, 7, 7, 7, 7,\n",
              "         7, 7, 7, 7, 7, 7, 7, 7], device='cuda:0'),\n",
              " tensor([4, 6, 6, 6, 1, 1, 6, 4, 4, 1, 0, 7, 6, 4, 1, 0, 1, 0, 4, 5, 1, 0, 0, 0,\n",
              "         6, 1, 1, 4, 6, 4, 4, 0, 0, 0, 2, 6, 0, 0, 7, 6, 4, 4, 0, 1, 6, 6, 1, 0,\n",
              "         1, 1, 4, 6, 1, 6, 4, 4, 1, 4, 4, 6, 4, 1, 1, 1, 0, 4, 4, 1, 1, 1, 6, 0,\n",
              "         1, 1, 0, 6, 6, 6, 4, 6, 0, 5, 3, 2, 3, 3, 3, 2, 0, 3, 2, 1, 1, 7, 4, 3,\n",
              "         3, 4, 4, 3, 6, 2, 3, 3, 2, 4, 6, 4, 5, 3, 2, 5, 1, 5, 3, 3, 5, 3, 3, 3,\n",
              "         6, 0, 7, 3, 3, 3, 0, 7, 4, 0, 1, 4, 3, 3, 0, 3, 4, 7, 7, 4, 6, 3, 7, 3,\n",
              "         2, 4, 3, 1, 6, 0, 4, 4, 3, 7, 6, 0, 4, 3, 3, 2, 5, 7, 0, 2, 2, 0, 7, 4,\n",
              "         4, 7, 4, 6, 7, 4, 5, 1, 5, 4, 3, 1, 1, 5, 0, 0, 1, 3, 1, 1, 5, 4, 3, 5,\n",
              "         4, 7, 1, 3, 5, 2, 4, 1, 4, 4, 6, 2, 2, 6, 4, 6, 4, 6, 6, 4, 1, 0, 1, 1,\n",
              "         1, 1, 5, 1, 4, 0, 4, 6, 7, 5, 5, 6, 7, 7, 4, 0, 2, 1, 7, 7, 5, 5, 1, 6,\n",
              "         0, 0, 1, 0, 0, 6, 1, 6, 5, 2, 1, 0, 1, 6, 6, 6, 0, 1, 1, 1, 6, 1, 1, 0,\n",
              "         1, 6, 1, 0, 6, 6, 0, 1, 0, 0, 1, 0, 4, 6, 1, 0, 7, 7, 4, 7, 4, 1, 7, 4,\n",
              "         7, 1, 4, 4, 1, 4, 4, 7, 1, 4, 7, 7, 1, 7, 7, 4, 7, 7, 5, 7, 5, 4, 4, 7,\n",
              "         1, 4, 7, 4, 5, 7, 7, 7]))"
            ]
          },
          "metadata": {
            "tags": []
          },
          "execution_count": 64
        }
      ]
    },
    {
      "cell_type": "markdown",
      "metadata": {
        "id": "zdyG4Q3573Qy",
        "colab_type": "text"
      },
      "source": [
        "---"
      ]
    }
  ]
}