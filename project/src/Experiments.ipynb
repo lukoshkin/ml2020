{
 "cells": [
  {
   "cell_type": "code",
   "execution_count": 0,
   "metadata": {
    "colab": {},
    "colab_type": "code",
    "id": "5Jyqiza674-d"
   },
   "outputs": [],
   "source": [
    "if False:\n",
    "    !git clone https://github.com/lukoshkin/ml2020.git\n",
    "    !mv ml2020/project/src/* .\n",
    "    !mv ml2020/project/multivar_data.zip ..\n",
    "    !rm ml2020 -rf"
   ]
  },
  {
   "cell_type": "markdown",
   "metadata": {
    "colab_type": "text",
    "id": "Rm40C2Lo73N9"
   },
   "source": [
    "Persistence Landscapes in Data Augmentation\n",
    "---"
   ]
  },
  {
   "cell_type": "markdown",
   "metadata": {
    "colab_type": "text",
    "id": "KQcvBkY673N-"
   },
   "source": [
    "***Initialization cells***"
   ]
  },
  {
   "cell_type": "code",
   "execution_count": 0,
   "metadata": {
    "colab": {},
    "colab_type": "code",
    "id": "TG4rfYAODADx"
   },
   "outputs": [],
   "source": [
    "import copy\n",
    "import numpy as np\n",
    "import pandas as pd\n",
    "\n",
    "from pathlib import Path\n",
    "from sklearn.metrics import accuracy_score\n",
    "\n",
    "import torch\n",
    "import torch.nn as nn\n",
    "import torch.optim as optim\n",
    "from torch.utils.data import Dataset, DataLoader\n",
    "\n",
    "%matplotlib inline\n",
    "import matplotlib.pyplot as plt\n",
    "from tqdm.notebook import tqdm\n",
    "\n",
    "![ -z \"$(pip list | grep 'sktime')\" ] && pip install sktime\n",
    "from sktime.utils.load_data import load_from_arff_to_dataframe\n",
    "from nets import *\n",
    "\n",
    "# for Maks' imports\n",
    "![ -z \"$(pip list | grep 'giotto-tda')\" ] && pip install giotto-tda\n",
    "from tda_tools import *"
   ]
  },
  {
   "cell_type": "code",
   "execution_count": 0,
   "metadata": {
    "colab": {},
    "colab_type": "code",
    "id": "ny2iCBxeDAE_"
   },
   "outputs": [],
   "source": [
    "mode = 'cnn'  # better not to change to rnn, since cnn is superior\n",
    "              # mode affects only autoencoder choice and its dataloader\n",
    "    \n",
    "device = torch.device(\n",
    "    'cuda' if torch.cuda.is_available() else 'cpu')\n",
    "\n",
    "# Choose which data to upload: univariate or multivariate\n",
    "multivariate = False\n",
    "dataset_name = 'Coffee'\n",
    "\n",
    "# multivariate = True\n",
    "# dataset_name = 'HandMovementDirection'"
   ]
  },
  {
   "cell_type": "code",
   "execution_count": 0,
   "metadata": {
    "colab": {},
    "colab_type": "code",
    "id": "gGFjDR1y73OH"
   },
   "outputs": [],
   "source": [
    "def get_batches(X_train, y_train=None, batch_size=3, mode='rnn'):\n",
    "    if mode == 'rnn':\n",
    "        ids = torch.randperm(X_train.size(1))\n",
    "        if y_train is None:\n",
    "            for bx in X_train[:,ids].chunk(batch_size, 1):\n",
    "                yield bx\n",
    "        else:\n",
    "            for bx,by in zip(\n",
    "                X_train[:,ids].chunk(batch_size, 1),\n",
    "                y_train[ids].chunk(batch_size)):\n",
    "                yield bx,by\n",
    "    elif mode == 'cnn':\n",
    "        ids = torch.randperm(len(X_train))\n",
    "        if y_train is None:\n",
    "            for bx in X_train[ids].chunk(batch_size):\n",
    "                yield bx\n",
    "        else:\n",
    "            for bx,by in zip(\n",
    "                X_train[ids].chunk(batch_size),\n",
    "                y_train[ids].chunk(batch_size)):\n",
    "                yield bx,by\n",
    "    else:\n",
    "        raise TypeError(\"arg type must be 'cnn' or 'rnn'\")"
   ]
  },
  {
   "cell_type": "markdown",
   "metadata": {
    "colab_type": "text",
    "id": "xiUw1FPnDAD5"
   },
   "source": [
    "# Preprocessing Part"
   ]
  },
  {
   "cell_type": "markdown",
   "metadata": {
    "colab_type": "text",
    "id": "G_7UMHKN73OM"
   },
   "source": [
    "## Univariate Data"
   ]
  },
  {
   "cell_type": "markdown",
   "metadata": {
    "colab_type": "text",
    "id": "7xA4bpK3DAD8"
   },
   "source": [
    "### Data Loading"
   ]
  },
  {
   "cell_type": "code",
   "execution_count": 1108,
   "metadata": {
    "colab": {
     "base_uri": "https://localhost:8080/",
     "height": 534
    },
    "colab_type": "code",
    "id": "aUSTon1UDAD9",
    "outputId": "52a78ce2-65e5-4574-a359-521cd6c7136d"
   },
   "outputs": [
    {
     "name": "stdout",
     "output_type": "stream",
     "text": [
      "env: UEA_UCR_DATA_DIR=../data\n",
      "../data\n",
      "Printing the description of the selected dataset\n",
      "#\"FoodFood spectrographs are used in chemometrics to classify food types, a task that has obvious applications in food safety and quality assurance. The coffee data set is a two class problem to distinguish between Robusta and Aribica coffee beans. Further information can be found in the original paper Briandet et al. Discrimination of Arabica and Robusta in Instant Coffee by Fourier Transform Infrared Spectroscopy and Chemometrics J. Agricultural and Food Chemistry, 44 (1), 1996. The data was first used in the time series classification literature in Bagnall et al. Transformation Based Ensembles for Time Series Classification, SDM 2012.\n",
      "@problemName Coffee\n",
      "@timeStamps false\n",
      "@missing false\n",
      "@univariate true\n",
      "@equalLength true\n",
      "@seriesLength 286\n",
      "@classLabel true 0 1\n",
      "\n",
      "Data content (partial display):\n",
      "-------------------------------\n",
      "time-series labels\n",
      "['0' '0' '0' '0' '0' '0' '0' '0' '0' '0' '0' '0' '0' '0' '1' '1' '1' '1'\n",
      " '1' '1' '1' '1' '1' '1' '1' '1' '1' '1']\n",
      "\n",
      "table with sequences\n"
     ]
    },
    {
     "data": {
      "text/html": [
       "<div>\n",
       "<style scoped>\n",
       "    .dataframe tbody tr th:only-of-type {\n",
       "        vertical-align: middle;\n",
       "    }\n",
       "\n",
       "    .dataframe tbody tr th {\n",
       "        vertical-align: top;\n",
       "    }\n",
       "\n",
       "    .dataframe thead th {\n",
       "        text-align: right;\n",
       "    }\n",
       "</style>\n",
       "<table border=\"1\" class=\"dataframe\">\n",
       "  <thead>\n",
       "    <tr style=\"text-align: right;\">\n",
       "      <th></th>\n",
       "      <th>dim_0</th>\n",
       "    </tr>\n",
       "  </thead>\n",
       "  <tbody>\n",
       "    <tr>\n",
       "      <th>0</th>\n",
       "      <td>0     -0.518419\n",
       "1     -0.485884\n",
       "2     -0.50500...</td>\n",
       "    </tr>\n",
       "    <tr>\n",
       "      <th>1</th>\n",
       "      <td>0     -0.548462\n",
       "1     -0.533681\n",
       "2     -0.51472...</td>\n",
       "    </tr>\n",
       "    <tr>\n",
       "      <th>2</th>\n",
       "      <td>0     -0.472634\n",
       "1     -0.415546\n",
       "2     -0.35992...</td>\n",
       "    </tr>\n",
       "    <tr>\n",
       "      <th>3</th>\n",
       "      <td>0     -0.509521\n",
       "1     -0.484218\n",
       "2     -0.47795...</td>\n",
       "    </tr>\n",
       "    <tr>\n",
       "      <th>4</th>\n",
       "      <td>0     -0.563427\n",
       "1     -0.533896\n",
       "2     -0.54382...</td>\n",
       "    </tr>\n",
       "  </tbody>\n",
       "</table>\n",
       "</div>"
      ],
      "text/plain": [
       "                                               dim_0\n",
       "0  0     -0.518419\n",
       "1     -0.485884\n",
       "2     -0.50500...\n",
       "1  0     -0.548462\n",
       "1     -0.533681\n",
       "2     -0.51472...\n",
       "2  0     -0.472634\n",
       "1     -0.415546\n",
       "2     -0.35992...\n",
       "3  0     -0.509521\n",
       "1     -0.484218\n",
       "2     -0.47795...\n",
       "4  0     -0.563427\n",
       "1     -0.533896\n",
       "2     -0.54382..."
      ]
     },
     "execution_count": 1108,
     "metadata": {
      "tags": []
     },
     "output_type": "execute_result"
    }
   ],
   "source": [
    "out = None\n",
    "if not multivariate:\n",
    "    # Install and import of https://pypi.org/project/uea-ucr-datasets/\n",
    "    ![ -z \"$(pip list | grep 'Cython')\" ] && pip install Cython\n",
    "    ![ -z \"$(pip list | grep 'uea-ucr-datasets')\" ] && pip install uea-ucr-datasets\n",
    "\n",
    "    data_dir = Path('../data')\n",
    "    data_dir.mkdir(exist_ok=True)\n",
    "    %env UEA_UCR_DATA_DIR={data_dir}\n",
    "    import uea_ucr_datasets as ucr_ds\n",
    "\n",
    "\n",
    "    # Download univariate dataset (preprocessed by sktime)\n",
    "    url = ('http://www.timeseriesclassification.com/'\n",
    "           'Downloads/Archives/Univariate2018_ts.zip')\n",
    "    if not (data_dir/'archive.zip').exists():\n",
    "        !wget -O {data_dir}/archive.zip {url}\n",
    "\n",
    "\n",
    "    # Extract files from the archive\n",
    "    num_files = !ls {data_dir} | wc -l\n",
    "    print(data_dir)\n",
    "    if int(num_files[0]) < 129:\n",
    "        print('not all datasets are present')\n",
    "        !unzip -qn {data_dir}/archive.zip -d {data_dir}\n",
    "        !mv -n {data_dir}/Univariate_ts/* {data_dir}\n",
    "        !rm {data_dir}/Univariate_ts -rf\n",
    "\n",
    "\n",
    "    # Data Description\n",
    "    print('Printing the description of the selected dataset')\n",
    "    !head -8 {data_dir}/{dataset_name}/{'%s_TRAIN.ts' % dataset_name}\n",
    "\n",
    "    ds_train= ucr_ds.Dataset(dataset_name, train=True)\n",
    "    ds_test = ucr_ds.Dataset(dataset_name, train=False)\n",
    "    print('\\nData content (partial display):')\n",
    "    print('-------------------------------')\n",
    "    print('time-series labels')\n",
    "    print(ds_train.data_y)\n",
    "    print('\\ntable with sequences')\n",
    "    out = ds_train.data_x.head()\n",
    "    emb_size = 1\n",
    "out"
   ]
  },
  {
   "cell_type": "markdown",
   "metadata": {
    "colab_type": "text",
    "id": "YZpmAv3_73OS"
   },
   "source": [
    "---"
   ]
  },
  {
   "cell_type": "markdown",
   "metadata": {
    "colab_type": "text",
    "id": "qqB6LKo273OS"
   },
   "source": [
    "### Data unpacking"
   ]
  },
  {
   "cell_type": "markdown",
   "metadata": {
    "colab_type": "text",
    "id": "lBi-3xHeDAE-"
   },
   "source": [
    "Since the dataset is small, we can load the whole data and slice it into chunks"
   ]
  },
  {
   "cell_type": "code",
   "execution_count": 0,
   "metadata": {
    "colab": {},
    "colab_type": "code",
    "id": "WRZ6x9Nb73OU"
   },
   "outputs": [],
   "source": [
    "if not multivariate:\n",
    "    X = []\n",
    "    for v in ds_train.data_x.values: X.append(v[0])\n",
    "    seq_length = len(v[0])\n",
    "    \n",
    "    if mode == 'rnn':\n",
    "        X_train = torch.Tensor(X).permute(1,0)[...,None]\n",
    "        y_train = torch.LongTensor(pd.factorize(ds_train.data_y)[0])\n",
    "    else:\n",
    "        X_train = torch.Tensor(X)[:,None]\n",
    "        y_train = torch.LongTensor(pd.factorize(ds_train.data_y)[0])\n",
    "    X_train, y_train = X_train.to(device), y_train.to(device)\n",
    "    \n",
    "    n_classes = len(torch.unique(y_train))\n",
    "\n",
    "    X = []\n",
    "    for v in ds_test.data_x.values: X.append(v[0])\n",
    "    if mode == 'rnn':\n",
    "        X_test = torch.Tensor(X).permute(1,0)[...,None]\n",
    "        y_test = torch.LongTensor(pd.factorize(ds_test.data_y)[0])\n",
    "    else:\n",
    "        X_test = torch.Tensor(X)[:,None]\n",
    "        y_test = torch.LongTensor(pd.factorize(ds_test.data_y)[0])\n",
    "    X_test, y_test = X_test.to(device), y_test.to(device)"
   ]
  },
  {
   "cell_type": "markdown",
   "metadata": {
    "colab_type": "text",
    "deletable": false,
    "editable": false,
    "id": "pjKtR0fh73OY",
    "run_control": {
     "frozen": true
    }
   },
   "source": [
    "## Multivariate Data"
   ]
  },
  {
   "cell_type": "markdown",
   "metadata": {
    "colab_type": "text",
    "deletable": false,
    "editable": false,
    "id": "UPlONuUN73OY",
    "run_control": {
     "frozen": true
    }
   },
   "source": [
    "Loading all datasets is a pretty heavy procedure.  \n",
    "So, we download just 2-3 datasets to a local directory and then hook up the right one by its name"
   ]
  },
  {
   "cell_type": "markdown",
   "metadata": {
    "colab_type": "text",
    "deletable": false,
    "editable": false,
    "id": "U-k9CgPF73OZ",
    "run_control": {
     "frozen": true
    }
   },
   "source": [
    "### Data unpacking"
   ]
  },
  {
   "cell_type": "code",
   "execution_count": 0,
   "metadata": {
    "colab": {},
    "colab_type": "code",
    "id": "N4dGp6Pk73Oa"
   },
   "outputs": [],
   "source": [
    "out = None\n",
    "if multivariate:\n",
    "    !unzip -qn ../multivar_data.zip -d ..\n",
    "\n",
    "    folder = Path('../multivar_time_series')\n",
    "    X_train_raw, y_train_raw = load_from_arff_to_dataframe(\n",
    "        folder/dataset_name/f'{dataset_name}_TRAIN.arff')\n",
    "    X_test_raw, y_test_raw = load_from_arff_to_dataframe(\n",
    "        folder/dataset_name/f'{dataset_name}_TEST.arff')\n",
    "\n",
    "    print(f'\\nShape of the training dataset: {X_train_raw.shape}')\n",
    "    emb_size = X_train_raw.shape[1]\n",
    "    out = X_train_raw.head()\n",
    "out"
   ]
  },
  {
   "cell_type": "code",
   "execution_count": 0,
   "metadata": {
    "colab": {},
    "colab_type": "code",
    "id": "apdIjixf73Od"
   },
   "outputs": [],
   "source": [
    "if multivariate:\n",
    "    X = []\n",
    "    for v in X_train_raw.values:\n",
    "        X_k = []\n",
    "        for i in range(emb_size):\n",
    "            X_k.append(v[i])\n",
    "        X.append(X_k)\n",
    "        \n",
    "    seq_length = len(v[0])\n",
    "    if mode == 'rnn':\n",
    "        X_train = torch.Tensor(X).permute(2,0,1)\n",
    "        y_train = torch.LongTensor(pd.factorize(y_train_raw)[0])\n",
    "    else:\n",
    "        X_train = torch.Tensor(X)\n",
    "        y_train = torch.LongTensor(pd.factorize(y_train_raw)[0])\n",
    "    X_train, y_train = X_train.to(device), y_train.to(device)\n",
    "    \n",
    "    n_classes = len(torch.unique(y_train))\n",
    "\n",
    "    X = []\n",
    "    for v in X_test_raw.values:\n",
    "        X_k = []\n",
    "        for i in range(emb_size):\n",
    "            X_k.append(v[i])\n",
    "        X.append(X_k)\n",
    "        \n",
    "    if mode == 'rnn':\n",
    "        X_test = torch.Tensor(X).permute(2,0,1)\n",
    "        y_test = torch.LongTensor(pd.factorize(y_test_raw)[0])\n",
    "    else:\n",
    "        X_test = torch.Tensor(X)\n",
    "        y_test = torch.LongTensor(pd.factorize(y_test_raw)[0])\n",
    "    X_test, y_test = X_test.to(device), y_test.to(device)"
   ]
  },
  {
   "cell_type": "markdown",
   "metadata": {
    "colab_type": "text",
    "id": "UCU4gYoI73Og"
   },
   "source": [
    "## Reducing Dataset"
   ]
  },
  {
   "cell_type": "code",
   "execution_count": 1112,
   "metadata": {
    "colab": {
     "base_uri": "https://localhost:8080/",
     "height": 34
    },
    "colab_type": "code",
    "id": "g8ca8Bf573Oh",
    "outputId": "fadcce8a-1ebf-4fe6-f3d7-931e9760280a"
   },
   "outputs": [
    {
     "name": "stdout",
     "output_type": "stream",
     "text": [
      "# of samples in the dataset you are working with is 8\n"
     ]
    }
   ],
   "source": [
    "# if you choose more balanced ids, then\n",
    "# the the load on the balancing step\n",
    "# in the intra/extra-polation procedure will be mitigated\n",
    "# Definitely use it if you are going to exclude\n",
    "# the balancing step from the augmentation part\n",
    "\n",
    "more_balanced_choice = True\n",
    "\n",
    "if more_balanced_choice:\n",
    "    cnts = y_train.bincount()\n",
    "    inv_cnts = 1./cnts.float()\n",
    "    inv_cnts /= inv_cnts.sum()\n",
    "    \n",
    "    probs = torch.empty(len(y_train))\n",
    "    for i, weight in enumerate(inv_cnts):\n",
    "        probs[y_train == i] = weight\n",
    "else:\n",
    "    probs = torch.ones(len(y_train))\n",
    "\n",
    "# select randomly `share` of all samples from the dataset\n",
    "share = .3\n",
    "\n",
    "red_ids = torch.multinomial(probs, int(share*len(y_train)))\n",
    "X_red = X_train[red_ids]\n",
    "y_red = y_train[red_ids]\n",
    "print('# of samples in the dataset you are working with is', len(y_red))"
   ]
  },
  {
   "cell_type": "markdown",
   "metadata": {
    "colab_type": "text",
    "id": "hTrFX_Lk73Ok"
   },
   "source": [
    "## Extracting persistence landscapes"
   ]
  },
  {
   "cell_type": "code",
   "execution_count": 0,
   "metadata": {
    "colab": {},
    "colab_type": "code",
    "id": "1hRhlIAm73Ol"
   },
   "outputs": [],
   "source": [
    "# Maks' cell\n",
    "\n",
    "# With greed search for the best embedding dimension and time delay\n",
    "# TIME CONSMUING PROCEDURE\n",
    "if False:\n",
    "    X_for_landscapes = X_red.transpose(2,1).cpu()\n",
    "    y_for_landscapes = y_red.cpu()\n",
    "\n",
    "    n_layers = 1\n",
    "    n_steps = 100\n",
    "    max_time_delay = 10 #maximum time delay for the search\n",
    "    max_dim = 10 #maximum embedding dimension for the search\n",
    "\n",
    "    kNN_scores = np.zeros((max_dim - 2,max_time_delay - 2))\n",
    "    for time_delay in range(2, max_time_delay):\n",
    "        for dim in range(2, max_dim):\n",
    "            point_clouds = Takens_Embedding_torch(X_for_landscapes, d=dim, delay=time_delay)\n",
    "            diagrams, diagrams_np, VR_persistence = get_diagrams_torch(point_clouds)\n",
    "            landscapes, max_scale = get_landscapes_torch(diagrams, n_layers, n_steps)\n",
    "            pairwise_distances = landscapes_distances(landscapes, max_scale)\n",
    "            matching_matrix = y_for_landscapes.numpy()[:, np.newaxis] == y_for_landscapes.numpy()[np.newaxis, :]\n",
    "            kNN_scores[dim - 2, time_delay - 2] = get_kNN_score_torch(pairwise_distances, matching_matrix=matching_matrix)\n",
    "            #print(\"({}, {}, {})\".format(dim, time_delay, kNN_scores[dim - 2, time_delay - 2]), end=' ')\n",
    "\n",
    "    embedding_dim_optimal, time_delay_optimal = np.unravel_index(np.argmax(kNN_scores, axis=None), kNN_scores.shape)\n",
    "    embedding_dim_optimal += 2\n",
    "    time_delay_optimal += 2\n",
    "    print(\"Optimal embedding dimension: {}\\nOptimal time delay: {}\".format(embedding_dim_optimal, time_delay_optimal))\n",
    "            \n",
    "    fig = plt.figure(figsize = (10,5))\n",
    "    y, x = np.mgrid[slice(2, max_dim, 1.0),slice(2, max_time_delay, 1.0)]\n",
    "    plt.pcolormesh(x, y, (kNN_scores>0.95) * kNN_scores)\n",
    "    plt.colorbar()\n",
    "    plt.xlabel(\"Time delay\")\n",
    "    plt.ylabel(\"Embedding dimension\")\n",
    "    plt.title(dataset_name + \" dataset. Embedding parameters with highst kNN score\")\n",
    "    plt.savefig(dataset_name + ' parameters.jpg')\n",
    "    plt.show()"
   ]
  },
  {
   "cell_type": "code",
   "execution_count": 1114,
   "metadata": {
    "colab": {
     "base_uri": "https://localhost:8080/",
     "height": 84
    },
    "colab_type": "code",
    "id": "u6IhqR3673Op",
    "outputId": "389756f1-ebb5-4bba-f8a4-9d8278b424ad"
   },
   "outputs": [
    {
     "name": "stdout",
     "output_type": "stream",
     "text": [
      "Point_clouds shape: torch.Size([8, 284, 2])\n",
      "Diagrams shape: torch.Size([8, 2, 327, 2])\n",
      "Landscapes shape: torch.Size([8, 2, 1, 100])\n",
      "kNN score: 0.8125\n"
     ]
    }
   ],
   "source": [
    "# Maks' cell\n",
    "# The same but without greed search\n",
    "\n",
    "# Tunable hyperparameters\n",
    "n_layers = 1    # this value seems fine and easy, better don't change it\n",
    "n_steps = 100   \n",
    "embedding_dim = 2 # use here either precomputed values, or found in the previos cell \n",
    "time_delay = 2    # use here either precomputed values, or found in the previos cell \n",
    "\n",
    "# Extracting train landscapes\n",
    "X_for_landscapes = X_red.transpose(2,1).cpu()\n",
    "y_for_landscapes = y_red.cpu()\n",
    "\n",
    "point_clouds = Takens_Embedding_torch(X_for_landscapes, d=embedding_dim, delay=time_delay)\n",
    "diagrams, diagrams_np, VR_persistence = get_diagrams_torch(point_clouds)\n",
    "landscapes, max_scale = get_landscapes_torch(diagrams, n_layers, n_steps)\n",
    "\n",
    "pairwise_distances = landscapes_distances(landscapes, max_scale)\n",
    "matching_matrix = y_for_landscapes.numpy()[:, np.newaxis] == y_for_landscapes.numpy()[np.newaxis, :]\n",
    "kNN_score = get_kNN_score_torch(pairwise_distances, matching_matrix=matching_matrix)\n",
    "\n",
    "print(\"Point_clouds shape:\", point_clouds.size())\n",
    "print(\"Diagrams shape:\", diagrams.size())\n",
    "print(\"Landscapes shape:\", landscapes.size())\n",
    "print(\"kNN score:\", kNN_score)\n",
    "\n",
    "land_shape = tuple(landscapes.shape[1:])\n",
    "landscapes_train = landscapes.to(device)"
   ]
  },
  {
   "cell_type": "code",
   "execution_count": 0,
   "metadata": {
    "colab": {},
    "colab_type": "code",
    "id": "ZZWL6hJ473Os"
   },
   "outputs": [],
   "source": [
    "# Maks' cell\n",
    "\n",
    "X_for_landscapes = X_test.transpose(2,1).cpu()\n",
    "y_for_landscapes = y_test.cpu()\n",
    "\n",
    "point_clouds = Takens_Embedding_torch(X_for_landscapes, d=embedding_dim, delay=time_delay)\n",
    "diagrams, diagrams_np, VR_persistence = get_diagrams_torch(point_clouds)\n",
    "landscapes, max_scale = get_landscapes_torch(diagrams, n_layers, n_steps)\n",
    "\n",
    "pairwise_distances = landscapes_distances(landscapes, max_scale)\n",
    "matching_matrix = y_for_landscapes.numpy()[:, np.newaxis] == y_for_landscapes.numpy()[np.newaxis, :]\n",
    "kNN_score = get_kNN_score_torch(pairwise_distances, matching_matrix=matching_matrix)\n",
    "\n",
    "landscapes_test = landscapes.to(device)"
   ]
  },
  {
   "cell_type": "markdown",
   "metadata": {
    "colab_type": "text",
    "id": "jTCBuZO973Ov"
   },
   "source": [
    "# Network Training Procedures\n",
    "\n",
    "Here you need to define all hyperparameters to achieve sth worthwhile  \n",
    "For different datasets, they may take different values"
   ]
  },
  {
   "cell_type": "code",
   "execution_count": 0,
   "metadata": {
    "colab": {},
    "colab_type": "code",
    "id": "fenfwrtp73Ow"
   },
   "outputs": [],
   "source": [
    "# common variable names\n",
    "best_weights = None\n",
    "best_score = [float('inf')]\n",
    "train_history, test_history = [], []"
   ]
  },
  {
   "cell_type": "markdown",
   "metadata": {
    "colab_type": "text",
    "id": "0C7e7VP2qMhG"
   },
   "source": [
    "Useful statistics when bulding networks (to choose appropriate hyperparameters)"
   ]
  },
  {
   "cell_type": "code",
   "execution_count": 1117,
   "metadata": {
    "colab": {
     "base_uri": "https://localhost:8080/",
     "height": 84
    },
    "colab_type": "code",
    "id": "GymGG1gBp5zl",
    "outputId": "18e290b5-906c-476e-e8fd-57b107e17481"
   },
   "outputs": [
    {
     "name": "stdout",
     "output_type": "stream",
     "text": [
      "1\n",
      "286\n",
      "(2, 1, 100)\n",
      "torch.Size([8, 1, 286])\n"
     ]
    }
   ],
   "source": [
    "print(emb_size)\n",
    "print(seq_length)\n",
    "print(land_shape)\n",
    "print(X_red.shape)"
   ]
  },
  {
   "cell_type": "markdown",
   "metadata": {
    "colab_type": "text",
    "id": "xGLSuepN73Oy"
   },
   "source": [
    "## Auto-encoder's train function"
   ]
  },
  {
   "cell_type": "code",
   "execution_count": 0,
   "metadata": {
    "colab": {},
    "colab_type": "code",
    "id": "9oXqtx_YDAFX"
   },
   "outputs": [],
   "source": [
    "# Autoencoder tunable hyperparameters:\n",
    "code_size = 100            # compression level\n",
    "channels = [32, 64, 64]        # number of neurons in hidden layers \n",
    "kernel_size = 46\n",
    "# last two are valid for 'cnn' only\n",
    "\n",
    "# Optimizer tunable hyperparameters:\n",
    "lr = 1e-4\n",
    "step = 2\n",
    "gamma = .999\n",
    "\n",
    "args_for_AE = (code_size, channels, kernel_size, lr, step, gamma)\n",
    "\n",
    "# Here you can choose the loss function\n",
    "MSE = nn.MSELoss()\n",
    "MAE = lambda X,Y: (X-Y).abs().mean()\n",
    "criterion_ae = MAE\n",
    "\n",
    "def reset_AE_trainables(\n",
    "    code_size, channels, kernel_size, lr, step, gamma, mode):\n",
    "    if mode == 'rnn':\n",
    "        ae = RNNSeqAE(emb_size, code_size, seq_length).to(device)\n",
    "        mode = 'cnn'\n",
    "    else:\n",
    "        ae = ConvSeqAE(\n",
    "            emb_size, code_size, seq_length,\n",
    "            channels, kernel_size).to(device)\n",
    "\n",
    "    opt_ae = optim.Adam(ae.parameters(), lr)\n",
    "    sch_ae = optim.lr_scheduler.StepLR(opt_ae, step, gamma)\n",
    "    return ae, opt_ae, sch_ae\n",
    "\n",
    "# Globally defined variables of the function 'train_*'\n",
    "ae, opt_ae, sch_ae = reset_AE_trainables(*args_for_AE, mode)\n",
    "\n",
    "# training procedure\n",
    "def train_ae(X_train, num_epochs, mode, verbose=True):\n",
    "    pbar = tqdm(range(num_epochs), 'ae training')\n",
    "    for epoch in pbar:\n",
    "        train_loss = []\n",
    "        for bx in get_batches(X_train, mode=mode):\n",
    "            opt_ae.zero_grad()\n",
    "            bx_rec = ae(bx)\n",
    "            loss = criterion_ae(bx_rec, bx)\n",
    "            loss.backward()\n",
    "            train_loss.append(loss.item())\n",
    "            opt_ae.step()\n",
    "        sch_ae.step()\n",
    "        train_history.append(np.mean(train_loss))\n",
    "        test_loss = criterion_ae(ae(X_test), X_test).item()\n",
    "        test_history.append(test_loss)\n",
    "        if verbose:\n",
    "            print(f'Epoch #{epoch}\\n------')\n",
    "            print(train_history[-1])\n",
    "            print(test_history[-1], '\\n')\n",
    "        if test_loss < best_score[0]:\n",
    "            best_score[0] = test_loss\n",
    "            best_weights = copy.deepcopy(ae.state_dict())"
   ]
  },
  {
   "cell_type": "markdown",
   "metadata": {
    "colab_type": "text",
    "id": "EYwVX9eq73O2"
   },
   "source": [
    "## Weak classifier's train function"
   ]
  },
  {
   "cell_type": "code",
   "execution_count": 0,
   "metadata": {
    "colab": {},
    "colab_type": "code",
    "id": "0bv6r9bD73O3"
   },
   "outputs": [],
   "source": [
    "# Classifier tunable hyperparameters:\n",
    "channels = [6]        # number of neurons in hidden layers \n",
    "kernel_size = 3\n",
    "\n",
    "# Optimizer tunable hyperparameters:\n",
    "lr = 1e-2\n",
    "step = 2\n",
    "gamma = .999\n",
    "\n",
    "args_for_CLF = (channels, kernel_size, lr, step, gamma)\n",
    "def reset_CLF_trainables(channels, kernel_size, lr, step, gamma):\n",
    "    clf = SeqClassifier(\n",
    "        emb_size, n_classes,\n",
    "        channels, kernel_size).to(device)\n",
    "    opt_clf = optim.Adam(clf.parameters(), lr)\n",
    "    sch_clf = optim.lr_scheduler.StepLR(opt_clf, step, gamma)\n",
    "    return clf, opt_clf, sch_clf\n",
    "\n",
    "# Globally defined variables of the function 'train_*'\n",
    "clf, opt_clf, sch_clf = reset_CLF_trainables(*args_for_CLF)\n",
    "criterion_clf = nn.CrossEntropyLoss()\n",
    "\n",
    "# training procedure\n",
    "def train_clf(X_train, y_train, num_epochs, mode, verbose=True):\n",
    "    pbar = tqdm(range(num_epochs), 'clf training')\n",
    "    for epoch in pbar:\n",
    "        train_loss = []\n",
    "        for bx,by in get_batches(X_train, y_train, mode=mode):\n",
    "            opt_clf.zero_grad()\n",
    "            y_pred = clf(bx)\n",
    "            loss = criterion_clf(y_pred, by)\n",
    "            loss.backward()\n",
    "            train_loss.append(loss.item())\n",
    "            opt_clf.step()\n",
    "        sch_clf.step()\n",
    "        train_history.append(np.mean(train_loss))\n",
    "        test_loss = criterion_clf(clf(X_test), y_test).item()\n",
    "        test_history.append(test_loss)\n",
    "        if verbose:\n",
    "            print(f'Epoch #{epoch}\\n------')\n",
    "            print(train_history[-1])\n",
    "            print(test_history[-1], '\\n')\n",
    "        if test_loss < best_score[0]:\n",
    "            best_score[0] = test_loss\n",
    "            best_weights = copy.deepcopy(clf.state_dict())"
   ]
  },
  {
   "cell_type": "markdown",
   "metadata": {
    "colab_type": "text",
    "id": "25t9-aks73O6"
   },
   "source": [
    "## Landscape Inverse's train function"
   ]
  },
  {
   "cell_type": "code",
   "execution_count": 0,
   "metadata": {
    "colab": {},
    "colab_type": "code",
    "id": "Z8lumEwt73O7"
   },
   "outputs": [],
   "source": [
    "# Landscape Inverse tunable hyperparameters\n",
    "channels = [8, 32, 32, 64]\n",
    "kernel_size = 46\n",
    "\n",
    "# Optimizer tunable hyperparameters\n",
    "lr = 5e-4\n",
    "step = 2\n",
    "gamma = .999\n",
    "\n",
    "args_for_PLI = (channels, kernel_size, lr, step, gamma)\n",
    "# Choose the loss function here\n",
    "MSE = nn.MSELoss()\n",
    "MAE = lambda X,Y: (X-Y).abs().mean()\n",
    "criterion_pli = MAE\n",
    "\n",
    "def reset_PLI_trainables(channels, kernel_size, lr, step, gamma):\n",
    "    pli = LandscapeInverse(\n",
    "        emb_size, land_shape,\n",
    "        seq_length, channels, kernel_size).to(device)\n",
    "    opt_pli = optim.Adam(pli.parameters(), lr)\n",
    "    sch_pli = optim.lr_scheduler.StepLR(opt_pli, step, gamma)\n",
    "    return pli, opt_pli, sch_pli\n",
    "\n",
    "# Globally defined variables of the function 'train_*'\n",
    "pli, opt_pli, sch_pli = reset_PLI_trainables(*args_for_PLI)\n",
    "\n",
    "# training procedure\n",
    "def train_pli(landscapes_train, num_epochs, mode, verbose=True):\n",
    "    train_ids = torch.arange(len(landscapes_train))\n",
    "    pbar = tqdm(range(num_epochs), 'pli training')\n",
    "    for epoch in pbar:\n",
    "        train_loss = []\n",
    "        for bx,ids in get_batches(landscapes_train, train_ids, mode=mode):\n",
    "            opt_pli.zero_grad()\n",
    "            bx_rec = pli(bx)\n",
    "            loss = criterion_pli(bx_rec, X_train[ids])\n",
    "            loss.backward()\n",
    "            train_loss.append(loss.item())\n",
    "            opt_pli.step()\n",
    "        sch_pli.step()\n",
    "        train_history.append(np.mean(train_loss))\n",
    "        test_loss = criterion_pli(pli(landscapes_test), X_test).item()\n",
    "        test_history.append(test_loss)\n",
    "        if verbose:\n",
    "            print(f'Epoch #{epoch}\\n------')\n",
    "            print(train_history[-1])\n",
    "            print(test_history[-1], '\\n')\n",
    "        if test_loss < best_score[0]:\n",
    "            best_score[0] = test_loss\n",
    "            best_weights = copy.deepcopy(pli.state_dict())"
   ]
  },
  {
   "cell_type": "markdown",
   "metadata": {
    "colab_type": "text",
    "id": "fSbluF9073O_"
   },
   "source": [
    "## SAE with persistence landscapes' train function"
   ]
  },
  {
   "cell_type": "code",
   "execution_count": 0,
   "metadata": {
    "colab": {},
    "colab_type": "code",
    "id": "BODLYMq573O_"
   },
   "outputs": [],
   "source": [
    "# PLSAE Tunable parameters\n",
    "channels = [8, 32, 32, 64]\n",
    "kernel_size = 46\n",
    "\n",
    "# Optimizer tunable parameters\n",
    "lr = 5e-4\n",
    "step = 2\n",
    "gamma = .999\n",
    "\n",
    "args_for_SLAE = (channels, kernel_size, lr, step, gamma)\n",
    "\n",
    "# Choose loss function here\n",
    "MSE = nn.MSELoss()\n",
    "MAE = lambda X,Y: (X-Y).abs().mean()\n",
    "criterion_slae = MAE\n",
    "\n",
    "def reset_SLAE_trainables(channels, kernel_size, lr, step, gamma):\n",
    "    slae = TDASAE(emb_size, code_size,\n",
    "                  seq_length, land_shape, channels, kernel_size).to(device)\n",
    "    opt_slae = optim.Adam(slae.parameters(), lr)\n",
    "    sch_slae = optim.lr_scheduler.StepLR(opt_slae, step, gamma)\n",
    "    return slae, opt_slae, sch_slae\n",
    "\n",
    "# Globally defined variables of the function 'train_*'\n",
    "slae, opt_slae, sch_slae = reset_SLAE_trainables(*args_for_SLAE)\n",
    "\n",
    "# training procedure\n",
    "def train_slae(X_train, num_epochs, mode, verbose=True):\n",
    "    train_ids = torch.arange(len(X_train))\n",
    "    pbar = tqdm(range(num_epochs), 'slae training')\n",
    "    for epoch in pbar:\n",
    "        train_loss = []\n",
    "        for bx,ids in get_batches(X_train, train_ids, mode=mode):\n",
    "            opt_slae.zero_grad()\n",
    "            bx_rec = slae(bx, landscapes_train[ids])\n",
    "            loss = criterion_slae(bx_rec, bx)\n",
    "            loss.backward()\n",
    "            train_loss.append(loss.item())\n",
    "            opt_slae.step()\n",
    "        sch_slae.step()\n",
    "        train_history.append(np.mean(train_loss))\n",
    "        test_loss = criterion_slae(slae(X_test, landscapes_test), X_test).item()\n",
    "        test_history.append(test_loss)\n",
    "        if verbose:\n",
    "            print(f'Epoch #{epoch}\\n------')\n",
    "            print(train_history[-1])\n",
    "            print(test_history[-1], '\\n')\n",
    "        if test_loss < best_score[0]:\n",
    "            best_score[0] = test_loss\n",
    "            best_weights = copy.deepcopy(slae.state_dict())"
   ]
  },
  {
   "cell_type": "markdown",
   "metadata": {
    "colab_type": "text",
    "id": "b9dd1uLY73PC"
   },
   "source": [
    "## Other tools"
   ]
  },
  {
   "cell_type": "code",
   "execution_count": 0,
   "metadata": {
    "colab": {},
    "colab_type": "code",
    "id": "9od_6tEo73PD"
   },
   "outputs": [],
   "source": [
    "def clear_buffers(best_score, list1, list2):\n",
    "    best_score[0] = float('inf')\n",
    "    list1.clear(); list2.clear()"
   ]
  },
  {
   "cell_type": "code",
   "execution_count": 0,
   "metadata": {
    "colab": {},
    "colab_type": "code",
    "id": "kHhIh1CSImri"
   },
   "outputs": [],
   "source": [
    "def oversampling(\n",
    "    X, y, augments, k=3, sign=-1,\n",
    "    lambda_lims=(.3, .7), replacement=False):\n",
    "    \"\"\"\n",
    "    Chooses randomly (num:)`augments[i]` objects from class `i`.\n",
    "    To every selected object chooses one from its `k` nearests in the class,\n",
    "    and makes interpolation or extrapolation between them\n",
    "    \n",
    "    Args:\n",
    "    ----\n",
    "    X   array of shape (batch_size, code_length);\n",
    "        to apply to persistence landscape, you must \n",
    "        reshape it first\n",
    "        \n",
    "    replacement    if replacement is False, then (num:)`augments[i]` samples\n",
    "                   are drawn without replacement. However, when `augments[i]`\n",
    "                   is less than the size of class `i` replacement is set\n",
    "                   to `True` for that class regardless of  what argument\n",
    "                   you provided\n",
    "    \n",
    "    sign = -1 -> intrapolation\n",
    "    sign = +1 -> extrapolation\n",
    "    \n",
    "    Interpolation/extrapolation coefficient is randomly chosen\n",
    "    from the interval `lambda_lims`\n",
    "    \"\"\"\n",
    "    new_X, new_y = [], []\n",
    "    for lbl, m in enumerate(augments):\n",
    "        if m == 0: continue\n",
    "        X_lbl = X[y==lbl]\n",
    "        n = len(X_lbl)\n",
    "        \n",
    "        if m > n: replacement = True\n",
    "        m_ids = torch.multinomial(\n",
    "            torch.ones(n), m, replacement)\n",
    "        mX_lbl = X_lbl[m_ids]\n",
    "            \n",
    "        if k > n:\n",
    "            print('Consider taking a different `k`.\\n'\n",
    "                  'The chosen one may be too big '\n",
    "                  'for the current dataset')\n",
    "            print(f'k: {k}\\t', f\"class #{lbl}'s size: {n}\")\n",
    "            k = min(k, n)\n",
    "            \n",
    "        dist_matrix = torch.norm(mX_lbl[:,None]-X_lbl, dim=2)\n",
    "        dist_matrix[torch.arange(m), m_ids] = float('inf')\n",
    "        \n",
    "        k_nearest = (-dist_matrix).topk(k, dim=1)[1]\n",
    "        k_ids = torch.multinomial(torch.ones(k_nearest.shape), 1)\n",
    "        mk_ids = k_nearest[torch.arange(m), k_ids.squeeze()]\n",
    "        \n",
    "        lambda_ = X.new(m).uniform_(*lambda_lims)[:, None]\n",
    "        new_X.append((lambda_*sign*(mX_lbl-X_lbl[mk_ids])+mX_lbl))\n",
    "        new_y.append(y.new_full((m,), lbl))\n",
    "        \n",
    "    return torch.cat(new_X), torch.cat(new_y)"
   ]
  },
  {
   "cell_type": "markdown",
   "metadata": {
    "colab_type": "text",
    "id": "GSLv4dJL73PI"
   },
   "source": [
    "# Results Reproduction of DeVries and etc "
   ]
  },
  {
   "cell_type": "markdown",
   "metadata": {
    "colab_type": "text",
    "id": "Hz4ayS4M73PI"
   },
   "source": [
    "## Training autoencoder"
   ]
  },
  {
   "cell_type": "code",
   "execution_count": 0,
   "metadata": {
    "colab": {},
    "colab_type": "code",
    "id": "Arc1apKU73PJ"
   },
   "outputs": [],
   "source": [
    "best_weights = clear_buffers(best_score, train_history, test_history)\n",
    "ae, opt_ae, sch_ae = reset_AE_trainables(*args_for_AE, mode)"
   ]
  },
  {
   "cell_type": "code",
   "execution_count": 1125,
   "metadata": {
    "colab": {
     "base_uri": "https://localhost:8080/",
     "height": 66,
     "referenced_widgets": [
      "bebf8e51bef54cec89ebd5c6b1d8d21a",
      "4698c433349b45498c94659f39968243",
      "c4eeb309827e46f9a4fef8bf403eb734",
      "c93513b6b07d4943b28662f8803b2f34",
      "81e0a1e4eb1c45cd92fb67cace01a52d",
      "c714c47b20c74111aa8b4ef43e732f8b",
      "490b93d718184796b1e5af6793b12fae",
      "74269a56d93f469abd89157a238fdf77"
     ]
    },
    "colab_type": "code",
    "id": "bPE3BQ_UDAFd",
    "outputId": "13e104e9-bb22-48fc-8acd-a7cc77aef44a"
   },
   "outputs": [
    {
     "data": {
      "application/vnd.jupyter.widget-view+json": {
       "model_id": "bebf8e51bef54cec89ebd5c6b1d8d21a",
       "version_major": 2,
       "version_minor": 0
      },
      "text/plain": [
       "HBox(children=(IntProgress(value=0, description='ae training', max=500, style=ProgressStyle(description_width=…"
      ]
     },
     "metadata": {
      "tags": []
     },
     "output_type": "display_data"
    },
    {
     "name": "stdout",
     "output_type": "stream",
     "text": [
      "\n"
     ]
    }
   ],
   "source": [
    "train_ae(X_red, 500, mode, verbose=False)"
   ]
  },
  {
   "cell_type": "code",
   "execution_count": 1126,
   "metadata": {
    "colab": {
     "base_uri": "https://localhost:8080/",
     "height": 298
    },
    "colab_type": "code",
    "id": "-AMDn-q6JDQf",
    "outputId": "c491f096-9038-4424-e323-5fb13e88c8ce"
   },
   "outputs": [
    {
     "name": "stdout",
     "output_type": "stream",
     "text": [
      "best score: 0.06944864988327026\n"
     ]
    },
    {
     "data": {
      "image/png": "[encoded data removed]",
      "text/plain": [
       "<Figure size 432x288 with 1 Axes>"
      ]
     },
     "metadata": {
      "needs_background": "light",
      "tags": []
     },
     "output_type": "display_data"
    }
   ],
   "source": [
    "plt.plot(train_history, label='train')\n",
    "plt.plot(test_history, label='test')\n",
    "plt.title(\"Autoencoder's losses\")\n",
    "print('best score:', best_score[0])\n",
    "plt.legend();"
   ]
  },
  {
   "cell_type": "code",
   "execution_count": 1127,
   "metadata": {
    "colab": {
     "base_uri": "https://localhost:8080/",
     "height": 286
    },
    "colab_type": "code",
    "id": "e_jhyWNdDAFk",
    "outputId": "23e9590f-cc4a-46f6-bf65-2956189ba804",
    "scrolled": true
   },
   "outputs": [
    {
     "data": {
      "text/plain": [
       "(tensor([[-0.4929, -0.5055, -0.5357,  ..., -1.8755, -1.8683, -1.8194],\n",
       "         [-0.4735, -0.4859, -0.5139,  ..., -1.9317, -1.9213, -1.8768],\n",
       "         [-0.4926, -0.5052, -0.5353,  ..., -1.8753, -1.8682, -1.8192],\n",
       "         ...,\n",
       "         [-0.4719, -0.4843, -0.5123,  ..., -1.9101, -1.9012, -1.8570],\n",
       "         [-0.4958, -0.5084, -0.5392,  ..., -1.8515, -1.8429, -1.7934],\n",
       "         [-0.4673, -0.4795, -0.5072,  ..., -1.9268, -1.9149, -1.8708]],\n",
       "        device='cuda:0', grad_fn=<SqueezeBackward0>),\n",
       " tensor([[-0.5197, -0.4779, -0.4927,  ..., -1.8664, -1.8679, -1.8686],\n",
       "         [-0.6185, -0.5852, -0.6320,  ..., -1.8666, -1.8682, -1.8699],\n",
       "         [-0.5918, -0.5710, -0.5900,  ..., -1.8737, -1.8753, -1.8771],\n",
       "         ...,\n",
       "         [-0.4964, -0.4657, -0.4158,  ..., -1.9043, -1.9059, -1.9068],\n",
       "         [-0.5598, -0.5152, -0.5049,  ..., -1.8048, -1.8058, -1.8073],\n",
       "         [-0.4726, -0.4155, -0.3599,  ..., -1.9891, -1.9907, -1.9923]],\n",
       "        device='cuda:0'))"
      ]
     },
     "execution_count": 1127,
     "metadata": {
      "tags": []
     },
     "output_type": "execute_result"
    }
   ],
   "source": [
    "# Load best weights\n",
    "if best_weights:\n",
    "    ae.load_state_dict(best_weights)\n",
    "    \n",
    "# And check the reconstruction\n",
    "perm_ids = torch.randperm(X_test.size(1))\n",
    "ae(X_red[:,perm_ids]).squeeze(), X_red[:,perm_ids].squeeze()"
   ]
  },
  {
   "cell_type": "markdown",
   "metadata": {
    "colab_type": "text",
    "id": "7MNlox0873PU"
   },
   "source": [
    "## Training classifier on reduced dataset"
   ]
  },
  {
   "cell_type": "code",
   "execution_count": 0,
   "metadata": {
    "colab": {},
    "colab_type": "code",
    "id": "a6_6lv2R73PV"
   },
   "outputs": [],
   "source": [
    "best_weights = clear_buffers(best_score, train_history, test_history)\n",
    "clf, opt_clf, sch_clf = reset_CLF_trainables(*args_for_CLF)"
   ]
  },
  {
   "cell_type": "code",
   "execution_count": 1129,
   "metadata": {
    "colab": {
     "base_uri": "https://localhost:8080/",
     "height": 66,
     "referenced_widgets": [
      "4c265869459343a3a5fa88e26079b81f",
      "beeebb24caf446de8ee8412fcab58ccd",
      "19a838b6489448cf9972db8e58c7b027",
      "935af5453ae74b2dbef58200f73facc1",
      "79df39ed30d8449cb5bc139de2c363ac",
      "d32db43ac6794125b4222a15bf8bd615",
      "88354da1fbda4eb1b0c868fb52034256",
      "68c3085526d44416862701e388feec63"
     ]
    },
    "colab_type": "code",
    "id": "f8z5OfaB73PX",
    "outputId": "2aa67e79-152e-4514-8959-9cf612cf3427"
   },
   "outputs": [
    {
     "data": {
      "application/vnd.jupyter.widget-view+json": {
       "model_id": "4c265869459343a3a5fa88e26079b81f",
       "version_major": 2,
       "version_minor": 0
      },
      "text/plain": [
       "HBox(children=(IntProgress(value=0, description='clf training', max=500, style=ProgressStyle(description_width…"
      ]
     },
     "metadata": {
      "tags": []
     },
     "output_type": "display_data"
    },
    {
     "name": "stdout",
     "output_type": "stream",
     "text": [
      "\n"
     ]
    }
   ],
   "source": [
    "train_clf(X_red, y_red, 500, mode, verbose=False)"
   ]
  },
  {
   "cell_type": "code",
   "execution_count": 1130,
   "metadata": {
    "colab": {
     "base_uri": "https://localhost:8080/",
     "height": 298
    },
    "colab_type": "code",
    "id": "RBL3uNlK73Pa",
    "outputId": "c331282f-cab6-405e-efe3-1a2a08574d6c"
   },
   "outputs": [
    {
     "name": "stdout",
     "output_type": "stream",
     "text": [
      "best score: 0.35549411177635193\n"
     ]
    },
    {
     "data": {
      "image/png": "[encoded data removed]",
      "text/plain": [
       "<Figure size 432x288 with 1 Axes>"
      ]
     },
     "metadata": {
      "needs_background": "light",
      "tags": []
     },
     "output_type": "display_data"
    }
   ],
   "source": [
    "plt.plot(train_history, label='train')\n",
    "plt.plot(test_history, label='test')\n",
    "plt.title(\"Classifier's losses on the reduced dataset\")\n",
    "print('best score:', best_score[0])\n",
    "plt.legend();"
   ]
  },
  {
   "cell_type": "code",
   "execution_count": 0,
   "metadata": {
    "colab": {},
    "colab_type": "code",
    "id": "ZTHfp_Uz73Pc"
   },
   "outputs": [],
   "source": [
    "# Load best weights\n",
    "if best_weights:\n",
    "    clf.load_state_dict(best_weights)"
   ]
  },
  {
   "cell_type": "code",
   "execution_count": 1132,
   "metadata": {
    "colab": {
     "base_uri": "https://localhost:8080/",
     "height": 101
    },
    "colab_type": "code",
    "id": "JgyQT_kp73Pg",
    "outputId": "caaaed1f-4b96-45fb-90d3-7ede4690776a"
   },
   "outputs": [
    {
     "name": "stdout",
     "output_type": "stream",
     "text": [
      "accuracy = 0.6428571428571429\n"
     ]
    },
    {
     "data": {
      "text/plain": [
       "(tensor([0, 0, 0, 0, 0, 0, 0, 0, 0, 0, 0, 0, 0, 0, 0, 1, 1, 1, 1, 1, 1, 1, 1, 1,\n",
       "         1, 1, 1, 1], device='cuda:0'),\n",
       " tensor([1, 0, 1, 1, 1, 1, 1, 0, 1, 1, 0, 1, 0, 1, 0, 1, 1, 1, 1, 1, 1, 1, 1, 1,\n",
       "         1, 1, 1, 1]))"
      ]
     },
     "execution_count": 1132,
     "metadata": {
      "tags": []
     },
     "output_type": "execute_result"
    }
   ],
   "source": [
    "y_pred = clf.predict(X_test)\n",
    "print('accuracy =', accuracy_score(y_test.cpu(), y_pred))\n",
    "y_test, y_pred"
   ]
  },
  {
   "cell_type": "markdown",
   "metadata": {
    "colab_type": "text",
    "id": "XXOAr2ii73Pi"
   },
   "source": [
    "## Applying transformations to extracted code"
   ]
  },
  {
   "cell_type": "code",
   "execution_count": 1133,
   "metadata": {
    "colab": {
     "base_uri": "https://localhost:8080/",
     "height": 34
    },
    "colab_type": "code",
    "id": "FnC8A8qJ73Pj",
    "outputId": "974ccd7b-133b-4da0-8f91-596310943ac2"
   },
   "outputs": [
    {
     "name": "stdout",
     "output_type": "stream",
     "text": [
      "# of samples in augmented dataset: 26\n"
     ]
    }
   ],
   "source": [
    "code = ae.enc(X_red).detach()\n",
    "X_augmented, y_augmented = [], []\n",
    "\n",
    "# Tunable hyperparameters\n",
    "k = 3\n",
    "M = 4  # chose M: <!! each class will grow by M in \"equal augm.\" !!>\n",
    "noise_aug = False\n",
    "sigma = .05\n",
    "\n",
    "# Balance the number of class representators\n",
    "cnts = y_red.bincount()\n",
    "augments = (cnts.max().item() - cnts).tolist()\n",
    "if any(augments):\n",
    "    new_code, new_y = oversampling(code, y_red, augments, k)\n",
    "    new_X = ae.dec(new_code).detach()\n",
    "    X_augmented.append(new_X)\n",
    "    y_augmented.append(new_y)\n",
    "\n",
    "# Equal augmentation\n",
    "augments = [M] * len(cnts)\n",
    "for sign in [-1, +1]:\n",
    "    new_code, new_y = oversampling(code, y_red, augments, k, sign)\n",
    "    new_X = ae.dec(new_code).detach()\n",
    "    X_augmented.append(new_X)\n",
    "    y_augmented.append(new_y)\n",
    "\n",
    "if noise_aug:\n",
    "    new_code = code + sigma*torch.randn_like(code)\n",
    "    X_augmented.append(ae.dec(new_code).detach())\n",
    "    y_augmented.append(y_red)\n",
    "\n",
    "X_augmented, y_augmented = map(torch.cat, (X_augmented, y_augmented))\n",
    "X_augmented = torch.cat((X_red, X_augmented))\n",
    "y_augmented = torch.cat((y_red, y_augmented))\n",
    "print('# of samples in augmented dataset:', len(y_augmented))"
   ]
  },
  {
   "cell_type": "markdown",
   "metadata": {
    "colab_type": "text",
    "id": "5TxpALu_73Po"
   },
   "source": [
    "## Training classifier on augmented dataset (DeVries)"
   ]
  },
  {
   "cell_type": "code",
   "execution_count": 0,
   "metadata": {
    "colab": {},
    "colab_type": "code",
    "id": "PYw6O_Qs73Po"
   },
   "outputs": [],
   "source": [
    "best_weights = clear_buffers(best_score, train_history, test_history)\n",
    "clf, opt_clf, sch_clf = reset_CLF_trainables(*args_for_CLF)"
   ]
  },
  {
   "cell_type": "code",
   "execution_count": 1135,
   "metadata": {
    "colab": {
     "base_uri": "https://localhost:8080/",
     "height": 66,
     "referenced_widgets": [
      "3d0453a636304dca9ea43d9c2ede6d0a",
      "c2d9c3d2bdee45808ef5a9e8e5fba35d",
      "c7a56307658240be944e40adab0b1ce6",
      "f6eb158d227041ca9eab597a02cf584b",
      "e3be7b351c8a40b496d11a9e364813d2",
      "6efd60b79b78479e82780dfba2884d37",
      "50972e48eeb64665ad7dfdba517af1bf",
      "b6a679aa51f14e19abb396f83bb4c484"
     ]
    },
    "colab_type": "code",
    "id": "b78opdyR73Pr",
    "outputId": "d4d2beac-25a5-42da-f7e6-bf1c8eaa14a1"
   },
   "outputs": [
    {
     "data": {
      "application/vnd.jupyter.widget-view+json": {
       "model_id": "3d0453a636304dca9ea43d9c2ede6d0a",
       "version_major": 2,
       "version_minor": 0
      },
      "text/plain": [
       "HBox(children=(IntProgress(value=0, description='clf training', max=1000, style=ProgressStyle(description_widt…"
      ]
     },
     "metadata": {
      "tags": []
     },
     "output_type": "display_data"
    },
    {
     "name": "stdout",
     "output_type": "stream",
     "text": [
      "\n"
     ]
    }
   ],
   "source": [
    "train_clf(X_augmented, y_augmented, 1000, mode, False)"
   ]
  },
  {
   "cell_type": "code",
   "execution_count": 1136,
   "metadata": {
    "colab": {
     "base_uri": "https://localhost:8080/",
     "height": 298
    },
    "colab_type": "code",
    "id": "4TS56tqB73Pt",
    "outputId": "86e02303-308f-4e1e-cca5-d5c363290e56"
   },
   "outputs": [
    {
     "name": "stdout",
     "output_type": "stream",
     "text": [
      "best score: 0.6386915445327759\n"
     ]
    },
    {
     "data": {
      "image/png": "[encoded data removed]",
      "text/plain": [
       "<Figure size 432x288 with 1 Axes>"
      ]
     },
     "metadata": {
      "needs_background": "light",
      "tags": []
     },
     "output_type": "display_data"
    }
   ],
   "source": [
    "plt.plot(train_history, label='train')\n",
    "plt.plot(test_history, label='test')\n",
    "plt.title(\"Classifier's losses on the augmented dataset\")\n",
    "print('best score:', best_score[0])\n",
    "plt.legend();"
   ]
  },
  {
   "cell_type": "code",
   "execution_count": 0,
   "metadata": {
    "colab": {},
    "colab_type": "code",
    "id": "xFKn8mMJ73Pw"
   },
   "outputs": [],
   "source": [
    "# Load best weights\n",
    "if best_weights:\n",
    "    clf.load_state_dict(best_weights)"
   ]
  },
  {
   "cell_type": "code",
   "execution_count": 1138,
   "metadata": {
    "colab": {
     "base_uri": "https://localhost:8080/",
     "height": 101
    },
    "colab_type": "code",
    "id": "51fqcfUi73Pz",
    "outputId": "ac4a3712-7521-476e-9a99-65dcbb39d7a7"
   },
   "outputs": [
    {
     "name": "stdout",
     "output_type": "stream",
     "text": [
      "accuracy = 0.6428571428571429\n"
     ]
    },
    {
     "data": {
      "text/plain": [
       "(tensor([0, 0, 0, 0, 0, 0, 0, 0, 0, 0, 0, 0, 0, 0, 0, 1, 1, 1, 1, 1, 1, 1, 1, 1,\n",
       "         1, 1, 1, 1], device='cuda:0'),\n",
       " tensor([0, 0, 0, 1, 0, 0, 0, 1, 1, 0, 1, 1, 1, 1, 0, 1, 1, 1, 0, 1, 1, 0, 1, 1,\n",
       "         1, 0, 1, 1]))"
      ]
     },
     "execution_count": 1138,
     "metadata": {
      "tags": []
     },
     "output_type": "execute_result"
    }
   ],
   "source": [
    "y_pred = clf.predict(X_test)\n",
    "print('accuracy =', accuracy_score(y_test.cpu(), y_pred))\n",
    "y_test, y_pred"
   ]
  },
  {
   "cell_type": "markdown",
   "metadata": {
    "colab_type": "text",
    "id": "q7wQJ8Ts73P1"
   },
   "source": [
    "# Augmentation with Persistence Landscapes"
   ]
  },
  {
   "cell_type": "markdown",
   "metadata": {
    "colab_type": "text",
    "id": "p6Wo97X073P2"
   },
   "source": [
    "## Scheme 1"
   ]
  },
  {
   "cell_type": "markdown",
   "metadata": {
    "colab_type": "text",
    "id": "kgYxIxnF73P2"
   },
   "source": [
    "### Training Landscape Inverse"
   ]
  },
  {
   "cell_type": "code",
   "execution_count": 0,
   "metadata": {
    "colab": {},
    "colab_type": "code",
    "id": "hGXUaGGv73P3"
   },
   "outputs": [],
   "source": [
    "best_weights = clear_buffers(best_score, train_history, test_history)\n",
    "pli, opt_pli, sch_pli = reset_PLI_trainables(*args_for_PLI)"
   ]
  },
  {
   "cell_type": "code",
   "execution_count": 1140,
   "metadata": {
    "colab": {
     "base_uri": "https://localhost:8080/",
     "height": 66,
     "referenced_widgets": [
      "8f33bc0b87d74289b8ab70d556afd4c8",
      "80e948030b144fb5bfe23f2cbfff5df9",
      "c377d0364232408199ab6fa008b10a76",
      "03e6b1daf47340dca4793ce2f5b35851",
      "d7e0ea30b48d4b6ab0ead15a3ecc9f50",
      "6b4f6df6dd93405ca384c46fc50f0a36",
      "5c0f7ba5acce49b2939d6f816b1a6d7c",
      "587f8204d5a040feaa445a523e5c4d8f"
     ]
    },
    "colab_type": "code",
    "id": "pbu4FhVF73P7",
    "outputId": "c4907fda-5e0f-4a1c-e7a5-405051120d53"
   },
   "outputs": [
    {
     "data": {
      "application/vnd.jupyter.widget-view+json": {
       "model_id": "8f33bc0b87d74289b8ab70d556afd4c8",
       "version_major": 2,
       "version_minor": 0
      },
      "text/plain": [
       "HBox(children=(IntProgress(value=0, description='pli training', max=1000, style=ProgressStyle(description_widt…"
      ]
     },
     "metadata": {
      "tags": []
     },
     "output_type": "display_data"
    },
    {
     "name": "stdout",
     "output_type": "stream",
     "text": [
      "\n"
     ]
    }
   ],
   "source": [
    "train_pli(landscapes_train, 1000, mode, verbose=False)"
   ]
  },
  {
   "cell_type": "code",
   "execution_count": 1141,
   "metadata": {
    "colab": {
     "base_uri": "https://localhost:8080/",
     "height": 298
    },
    "colab_type": "code",
    "id": "1jf-BCsx73P-",
    "outputId": "4f9fe197-4b81-41a1-e24e-d70ca54b0f1a"
   },
   "outputs": [
    {
     "name": "stdout",
     "output_type": "stream",
     "text": [
      "best score: 0.09859349578619003\n"
     ]
    },
    {
     "data": {
      "image/png": "[encoded data removed]",
      "text/plain": [
       "<Figure size 432x288 with 1 Axes>"
      ]
     },
     "metadata": {
      "needs_background": "light",
      "tags": []
     },
     "output_type": "display_data"
    }
   ],
   "source": [
    "plt.plot(train_history, label='train')\n",
    "plt.plot(test_history, label='test')\n",
    "plt.title(\"Landscape Inverse's losses\")\n",
    "print('best score:', best_score[0])\n",
    "plt.legend();"
   ]
  },
  {
   "cell_type": "code",
   "execution_count": 0,
   "metadata": {
    "colab": {},
    "colab_type": "code",
    "id": "wwaky68Q73QC"
   },
   "outputs": [],
   "source": [
    "# Load best weights\n",
    "if best_weights:\n",
    "    pli.load_state_dict(best_weights)"
   ]
  },
  {
   "cell_type": "markdown",
   "metadata": {
    "colab_type": "text",
    "id": "hSCIXH8p73QG"
   },
   "source": [
    "###  Applying transformations to persistence landscapes"
   ]
  },
  {
   "cell_type": "code",
   "execution_count": 1143,
   "metadata": {
    "colab": {
     "base_uri": "https://localhost:8080/",
     "height": 34
    },
    "colab_type": "code",
    "id": "SOIjzTfY73QG",
    "outputId": "6cf6bcd6-03ca-41ef-d5ed-afd7852740af"
   },
   "outputs": [
    {
     "name": "stdout",
     "output_type": "stream",
     "text": [
      "# of samples in augmented dataset: 26\n"
     ]
    }
   ],
   "source": [
    "code = landscapes_train.flatten(1)\n",
    "X_augmented, y_augmented = [], []\n",
    "\n",
    "# Tunable hyperparameters\n",
    "k = 3\n",
    "M = 4  # chose M: <!! each class will grow by M in \"equal augm.\" !!>\n",
    "noise_aug = False\n",
    "sigma  # noise std\n",
    "\n",
    "# Balance the number of class representators\n",
    "cnts = y_red.bincount()\n",
    "augments = (cnts.max().item() - cnts).tolist()\n",
    "if any(augments):\n",
    "    new_code, new_y = oversampling(code, y_red, augments, k)\n",
    "    new_X = pli(new_code.view(-1, *land_shape)).detach()\n",
    "    X_augmented.append(new_X)\n",
    "    y_augmented.append(new_y)\n",
    "\n",
    "# Equal augmentation\n",
    "augments = [M] * len(cnts)\n",
    "for sign in [-1, +1]:\n",
    "    new_code, new_y = oversampling(code, y_red, augments, k, sign)\n",
    "    new_X = pli(new_code.view(-1, *land_shape)).detach()\n",
    "    X_augmented.append(new_X)\n",
    "    y_augmented.append(new_y)\n",
    "\n",
    "if noise_aug:\n",
    "    new_code = code + sigma*torch.randn_like(code)\n",
    "    X_augmented.append(pli(new_code.view(-1, *land_shape)).detach())\n",
    "    y_augmented.append(y_red)\n",
    "\n",
    "X_augmented, y_augmented = map(torch.cat, (X_augmented, y_augmented))\n",
    "X_augmented = torch.cat((X_red, X_augmented))\n",
    "y_augmented = torch.cat((y_red, y_augmented))\n",
    "print('# of samples in augmented dataset:', len(y_augmented))"
   ]
  },
  {
   "cell_type": "markdown",
   "metadata": {
    "colab_type": "text",
    "id": "UjXEPoAv73QI"
   },
   "source": [
    "### Training classifier on augmented dataset (Landscape Inverse)"
   ]
  },
  {
   "cell_type": "code",
   "execution_count": 0,
   "metadata": {
    "colab": {},
    "colab_type": "code",
    "id": "aXX9HHwL73QJ"
   },
   "outputs": [],
   "source": [
    "best_weights = clear_buffers(best_score, train_history, test_history)\n",
    "clf, opt_clf, sch_clf = reset_CLF_trainables(*args_for_CLF)"
   ]
  },
  {
   "cell_type": "code",
   "execution_count": 1145,
   "metadata": {
    "colab": {
     "base_uri": "https://localhost:8080/",
     "height": 66,
     "referenced_widgets": [
      "e2d5fb3a86804c648caf12b5ad117738",
      "0ed9384643cc424ca352e56601ea48ed",
      "0f7cad0b62ee4a2db976aabf84e90b0d",
      "1ae6267b2ca249f8bb397ada89bd094a",
      "b747cdf58a4b4dcc8dba2f59b684589d",
      "8a18ffac3aed41de82a3c4967c59f49a",
      "86f86d4b89a641d8b6636e4e7d1ed6e9",
      "0c6014ed340a42c0a1c16ba92b6ab622"
     ]
    },
    "colab_type": "code",
    "id": "gfFmnDTy73QL",
    "outputId": "0c1c0219-a25b-47dc-9231-846db7da92e4"
   },
   "outputs": [
    {
     "data": {
      "application/vnd.jupyter.widget-view+json": {
       "model_id": "e2d5fb3a86804c648caf12b5ad117738",
       "version_major": 2,
       "version_minor": 0
      },
      "text/plain": [
       "HBox(children=(IntProgress(value=0, description='clf training', max=1200, style=ProgressStyle(description_widt…"
      ]
     },
     "metadata": {
      "tags": []
     },
     "output_type": "display_data"
    },
    {
     "name": "stdout",
     "output_type": "stream",
     "text": [
      "\n"
     ]
    }
   ],
   "source": [
    "train_clf(X_augmented, y_augmented, 1200, mode, False)"
   ]
  },
  {
   "cell_type": "code",
   "execution_count": 1146,
   "metadata": {
    "colab": {
     "base_uri": "https://localhost:8080/",
     "height": 298
    },
    "colab_type": "code",
    "id": "ba4tfBg673QO",
    "outputId": "ef4a3e0d-6dde-4e25-9e24-5762d47549b8"
   },
   "outputs": [
    {
     "name": "stdout",
     "output_type": "stream",
     "text": [
      "best score: 0.29944634437561035\n"
     ]
    },
    {
     "data": {
      "image/png": "[encoded data removed]",
      "text/plain": [
       "<Figure size 432x288 with 1 Axes>"
      ]
     },
     "metadata": {
      "needs_background": "light",
      "tags": []
     },
     "output_type": "display_data"
    }
   ],
   "source": [
    "plt.plot(train_history, label='train')\n",
    "plt.plot(test_history, label='test')\n",
    "plt.title(\"Classifier's losses on the augmented dataset\")\n",
    "print('best score:', best_score[0])\n",
    "plt.legend();"
   ]
  },
  {
   "cell_type": "code",
   "execution_count": 0,
   "metadata": {
    "colab": {},
    "colab_type": "code",
    "id": "p8ACehHc73QQ"
   },
   "outputs": [],
   "source": [
    "# Load best weights\n",
    "if best_weights:\n",
    "    clf.load_state_dict(best_weights)"
   ]
  },
  {
   "cell_type": "code",
   "execution_count": 1148,
   "metadata": {
    "colab": {
     "base_uri": "https://localhost:8080/",
     "height": 101
    },
    "colab_type": "code",
    "id": "2QNo5BFj73QS",
    "outputId": "ce307d41-f55e-4941-faa5-8ff185e311de"
   },
   "outputs": [
    {
     "name": "stdout",
     "output_type": "stream",
     "text": [
      "accuracy = 0.8571428571428571\n"
     ]
    },
    {
     "data": {
      "text/plain": [
       "(tensor([0, 0, 0, 0, 0, 0, 0, 0, 0, 0, 0, 0, 0, 0, 0, 1, 1, 1, 1, 1, 1, 1, 1, 1,\n",
       "         1, 1, 1, 1], device='cuda:0'),\n",
       " tensor([0, 0, 0, 0, 0, 0, 1, 0, 0, 0, 0, 1, 0, 1, 0, 1, 1, 1, 1, 1, 1, 0, 1, 1,\n",
       "         1, 1, 1, 1]))"
      ]
     },
     "execution_count": 1148,
     "metadata": {
      "tags": []
     },
     "output_type": "execute_result"
    }
   ],
   "source": [
    "y_pred = clf.predict(X_test) \n",
    "print('accuracy =', accuracy_score(y_test.cpu(), y_pred))\n",
    "y_test, y_pred"
   ]
  },
  {
   "cell_type": "markdown",
   "metadata": {
    "colab_type": "text",
    "id": "GPEs6eA273QU"
   },
   "source": [
    "## Scheme 2"
   ]
  },
  {
   "cell_type": "markdown",
   "metadata": {
    "colab_type": "text",
    "id": "rhWsZ_bm73QV"
   },
   "source": [
    "### Training SAE with code/persistence landscapes concatenation"
   ]
  },
  {
   "cell_type": "code",
   "execution_count": 0,
   "metadata": {
    "colab": {},
    "colab_type": "code",
    "id": "kvdKa70v73QV"
   },
   "outputs": [],
   "source": [
    "best_weights = clear_buffers(best_score, train_history, test_history)\n",
    "slae, opt_slae, sch_slae = reset_SLAE_trainables(*args_for_SLAE)"
   ]
  },
  {
   "cell_type": "code",
   "execution_count": 1150,
   "metadata": {
    "colab": {
     "base_uri": "https://localhost:8080/",
     "height": 66,
     "referenced_widgets": [
      "45d99811160e4d30ac0d28bfb23df02c",
      "572874ae8ea143bbae2daed6dbc44b1c",
      "ad702c933d1142efbfcbe2b7acf9be40",
      "2995217aaa6b4f2cb8a78ed492c8a016",
      "69a8260efd784391ac0c8bb34cade849",
      "440480fb9b0740a99dd52d642ba8604f",
      "56de5852898c4f7cab4777abe4e368b0",
      "6a904f52445c4f3a927a6bfbf181319d"
     ]
    },
    "colab_type": "code",
    "id": "dLOMM0Up73QY",
    "outputId": "7e18e6dc-b58d-456b-d66d-811b71fd2c21"
   },
   "outputs": [
    {
     "data": {
      "application/vnd.jupyter.widget-view+json": {
       "model_id": "45d99811160e4d30ac0d28bfb23df02c",
       "version_major": 2,
       "version_minor": 0
      },
      "text/plain": [
       "HBox(children=(IntProgress(value=0, description='slae training', max=1000, style=ProgressStyle(description_wid…"
      ]
     },
     "metadata": {
      "tags": []
     },
     "output_type": "display_data"
    },
    {
     "name": "stdout",
     "output_type": "stream",
     "text": [
      "\n"
     ]
    }
   ],
   "source": [
    "train_slae(X_red, 1000, mode, verbose=False)"
   ]
  },
  {
   "cell_type": "code",
   "execution_count": 1151,
   "metadata": {
    "colab": {
     "base_uri": "https://localhost:8080/",
     "height": 298
    },
    "colab_type": "code",
    "id": "cECaXKT-73Qb",
    "outputId": "0ef827d5-9407-4626-f7d0-bd7d9a4a20d5"
   },
   "outputs": [
    {
     "name": "stdout",
     "output_type": "stream",
     "text": [
      "best score: 0.11051333695650101\n"
     ]
    },
    {
     "data": {
      "image/png": "[encoded data removed]",
      "text/plain": [
       "<Figure size 432x288 with 1 Axes>"
      ]
     },
     "metadata": {
      "needs_background": "light",
      "tags": []
     },
     "output_type": "display_data"
    }
   ],
   "source": [
    "plt.plot(train_history, label='train')\n",
    "plt.plot(test_history, label='test')\n",
    "print('best score:', best_score[0])\n",
    "plt.title(\"PLSAE's losses\")\n",
    "plt.legend();"
   ]
  },
  {
   "cell_type": "code",
   "execution_count": 0,
   "metadata": {
    "colab": {},
    "colab_type": "code",
    "id": "MFb2YEGb73Qe"
   },
   "outputs": [],
   "source": [
    "# Load best weights\n",
    "if best_weights:\n",
    "    pli.load_state_dict(best_weights)"
   ]
  },
  {
   "cell_type": "markdown",
   "metadata": {
    "colab_type": "text",
    "id": "8dzZOs1Y73Qi"
   },
   "source": [
    "###  Applying transformations to stacked code and landscape"
   ]
  },
  {
   "cell_type": "code",
   "execution_count": 1153,
   "metadata": {
    "colab": {
     "base_uri": "https://localhost:8080/",
     "height": 34
    },
    "colab_type": "code",
    "id": "JM0XiG6c73Qi",
    "outputId": "1e49d137-24b7-4db7-80db-448779e14848"
   },
   "outputs": [
    {
     "name": "stdout",
     "output_type": "stream",
     "text": [
      "# of samples in augmented dataset: 26\n"
     ]
    }
   ],
   "source": [
    "code = slae.enc(X_red).detach()\n",
    "split_sizes = [code.size(1), np.prod(land_shape)]\n",
    "stacked_code = torch.cat([code, landscapes_train.flatten(1)], 1)\n",
    "\n",
    "X_augmented, y_augmented = [], []\n",
    "\n",
    "# Tunable hyperparameters\n",
    "k = 3\n",
    "M = 4  # chose M: <!! each class will grow by M in \"equal augm.\" !!>\n",
    "noise_aug = False\n",
    "\n",
    "# Balance the number of class representatives\n",
    "cnts = y_red.bincount()\n",
    "augments = (cnts.max().item() - cnts).tolist()\n",
    "if any(augments):\n",
    "    new_code, new_y = oversampling(stacked_code, y_red, augments, k)\n",
    "    new_code, new_landscapes = new_code.split(split_sizes, 1)\n",
    "    new_X = slae.dec(new_code, new_landscapes.view(-1,*land_shape)).detach()\n",
    "    X_augmented.append(new_X)\n",
    "    y_augmented.append(new_y)\n",
    "\n",
    "# Equal augmentation\n",
    "augments = [M] * len(cnts)\n",
    "for sign in [-1, +1]:\n",
    "    new_code, new_y = oversampling(stacked_code, y_red, augments, k, sign)\n",
    "    new_code, new_landscapes = new_code.split(split_sizes, 1)\n",
    "    new_X = slae.dec(new_code, new_landscapes.view(-1,*land_shape)).detach()\n",
    "    X_augmented.append(new_X)\n",
    "    y_augmented.append(new_y)\n",
    "\n",
    "if noise_aug:\n",
    "    new_code = code + sigma*torch.randn_like(code)\n",
    "    new_landscapes = (landscapes_train \n",
    "                      + sigma*torch.randn_like(landscapes_train))\n",
    "    X_augmented.append(\n",
    "        slae.dec(new_code, new_landscapes.view(-1,*land_shape)).detach())\n",
    "    y_augmented.append(y_red)\n",
    "\n",
    "X_augmented, y_augmented = map(torch.cat, (X_augmented, y_augmented))\n",
    "X_augmented = torch.cat((X_red, X_augmented))\n",
    "y_augmented = torch.cat((y_red, y_augmented))\n",
    "print('# of samples in augmented dataset:', len(y_augmented))"
   ]
  },
  {
   "cell_type": "markdown",
   "metadata": {
    "colab_type": "text",
    "id": "2biDbxg_73Qm"
   },
   "source": [
    "### Training classifier on augmented dataset (SAE + PL)"
   ]
  },
  {
   "cell_type": "code",
   "execution_count": 0,
   "metadata": {
    "colab": {},
    "colab_type": "code",
    "id": "OCN2xoPS73Qm"
   },
   "outputs": [],
   "source": [
    "best_weights = clear_buffers(best_score, train_history, test_history)\n",
    "clf, opt_clf, sch_clf = reset_CLF_trainables(*args_for_CLF)"
   ]
  },
  {
   "cell_type": "code",
   "execution_count": 1155,
   "metadata": {
    "colab": {
     "base_uri": "https://localhost:8080/",
     "height": 66,
     "referenced_widgets": [
      "d52c1568a00348698668bb1f13494966",
      "5060864c5fa849eda1ce343f2414ed3c",
      "b7ad17a10256484c9af7b921ee9433b2",
      "93be3163902b4cd4ab0bef09559e0233",
      "0b47262925614c0189f891c731016b12",
      "3fc5f075f9104787b2e8b1408e618247",
      "f35940b00c72477aa1b9a53fdc4f17ef",
      "7fd8005c845a4ee2ac392900d4621e8a"
     ]
    },
    "colab_type": "code",
    "id": "TYpCem-473Qo",
    "outputId": "45a7a061-d2ce-4758-b815-e7724e80b73e"
   },
   "outputs": [
    {
     "data": {
      "application/vnd.jupyter.widget-view+json": {
       "model_id": "d52c1568a00348698668bb1f13494966",
       "version_major": 2,
       "version_minor": 0
      },
      "text/plain": [
       "HBox(children=(IntProgress(value=0, description='clf training', max=1200, style=ProgressStyle(description_widt…"
      ]
     },
     "metadata": {
      "tags": []
     },
     "output_type": "display_data"
    },
    {
     "name": "stdout",
     "output_type": "stream",
     "text": [
      "\n"
     ]
    }
   ],
   "source": [
    "train_clf(X_augmented, y_augmented, 1200, mode, False)"
   ]
  },
  {
   "cell_type": "code",
   "execution_count": 1156,
   "metadata": {
    "colab": {
     "base_uri": "https://localhost:8080/",
     "height": 298
    },
    "colab_type": "code",
    "id": "kAim_FTX73Qq",
    "outputId": "636f6600-6ef0-4364-cc2d-ba346201c1d4"
   },
   "outputs": [
    {
     "name": "stdout",
     "output_type": "stream",
     "text": [
      "best score: 0.015170642174780369\n"
     ]
    },
    {
     "data": {
      "image/png": "[encoded data removed]",
      "text/plain": [
       "<Figure size 432x288 with 1 Axes>"
      ]
     },
     "metadata": {
      "needs_background": "light",
      "tags": []
     },
     "output_type": "display_data"
    }
   ],
   "source": [
    "plt.plot(train_history, label='train')\n",
    "plt.plot(test_history, label='test')\n",
    "print('best score:', best_score[0])\n",
    "plt.title(\"Classifier's losses on the augmented dataset\")\n",
    "plt.legend();"
   ]
  },
  {
   "cell_type": "code",
   "execution_count": 0,
   "metadata": {
    "colab": {},
    "colab_type": "code",
    "id": "BTfZaF2q73Qs"
   },
   "outputs": [],
   "source": [
    "# Load best weights\n",
    "if best_weights:\n",
    "    clf.load_state_dict(best_weights)"
   ]
  },
  {
   "cell_type": "code",
   "execution_count": 1158,
   "metadata": {
    "colab": {
     "base_uri": "https://localhost:8080/",
     "height": 101
    },
    "colab_type": "code",
    "id": "gsEgbLwL73Qv",
    "outputId": "f858cf50-4230-423f-ad32-c9ffd1892b81"
   },
   "outputs": [
    {
     "name": "stdout",
     "output_type": "stream",
     "text": [
      "accuracy = 1.0\n"
     ]
    },
    {
     "data": {
      "text/plain": [
       "(tensor([0, 0, 0, 0, 0, 0, 0, 0, 0, 0, 0, 0, 0, 0, 0, 1, 1, 1, 1, 1, 1, 1, 1, 1,\n",
       "         1, 1, 1, 1], device='cuda:0'),\n",
       " tensor([0, 0, 0, 0, 0, 0, 0, 0, 0, 0, 0, 0, 0, 0, 0, 1, 1, 1, 1, 1, 1, 1, 1, 1,\n",
       "         1, 1, 1, 1]))"
      ]
     },
     "execution_count": 1158,
     "metadata": {
      "tags": []
     },
     "output_type": "execute_result"
    }
   ],
   "source": [
    "y_pred = clf.predict(X_test) \n",
    "print('accuracy =', accuracy_score(y_test.cpu(), y_pred))\n",
    "y_test, y_pred"
   ]
  },
  {
   "cell_type": "markdown",
   "metadata": {
    "colab_type": "text",
    "id": "zdyG4Q3573Qy"
   },
   "source": [
    "---"
   ]
  }
 ],
 "metadata": {
  "accelerator": "GPU",
  "colab": {
   "collapsed_sections": [],
   "name": "Clean_colab.ipynb",
   "provenance": []
  },
  "kernelspec": {
   "display_name": "Python 3",
   "language": "python",
   "name": "python3"
  },
  "language_info": {
   "codemirror_mode": {
    "name": "ipython",
    "version": 3
   },
   "file_extension": ".py",
   "mimetype": "text/x-python",
   "name": "python",
   "nbconvert_exporter": "python",
   "pygments_lexer": "ipython3",
   "version": "3.7.7"
  },
  "toc": {
   "base_numbering": 1,
   "nav_menu": {},
   "number_sections": true,
   "sideBar": true,
   "skip_h1_title": false,
   "title_cell": "Table of Contents",
   "title_sidebar": "Contents",
   "toc_cell": false,
   "toc_position": {},
   "toc_section_display": true,
   "toc_window_display": false
  },
  "widgets": {
   "application/vnd.jupyter.widget-state+json": {
    "03e6b1daf47340dca4793ce2f5b35851": {
     "model_module": "@jupyter-widgets/controls",
     "model_name": "HTMLModel",
     "state": {
      "_dom_classes": [],
      "_model_module": "@jupyter-widgets/controls",
      "_model_module_version": "1.5.0",
      "_model_name": "HTMLModel",
      "_view_count": null,
      "_view_module": "@jupyter-widgets/controls",
      "_view_module_version": "1.5.0",
      "_view_name": "HTMLView",
      "description": "",
      "description_tooltip": null,
      "layout": "IPY_MODEL_587f8204d5a040feaa445a523e5c4d8f",
      "placeholder": "​",
      "style": "IPY_MODEL_5c0f7ba5acce49b2939d6f816b1a6d7c",
      "value": " 1000/1000 [00:53&lt;00:00, 18.69it/s]"
     }
    },
    "0b47262925614c0189f891c731016b12": {
     "model_module": "@jupyter-widgets/controls",
     "model_name": "ProgressStyleModel",
     "state": {
      "_model_module": "@jupyter-widgets/controls",
      "_model_module_version": "1.5.0",
      "_model_name": "ProgressStyleModel",
      "_view_count": null,
      "_view_module": "@jupyter-widgets/base",
      "_view_module_version": "1.2.0",
      "_view_name": "StyleView",
      "bar_color": null,
      "description_width": "initial"
     }
    },
    "0c6014ed340a42c0a1c16ba92b6ab622": {
     "model_module": "@jupyter-widgets/base",
     "model_name": "LayoutModel",
     "state": {
      "_model_module": "@jupyter-widgets/base",
      "_model_module_version": "1.2.0",
      "_model_name": "LayoutModel",
      "_view_count": null,
      "_view_module": "@jupyter-widgets/base",
      "_view_module_version": "1.2.0",
      "_view_name": "LayoutView",
      "align_content": null,
      "align_items": null,
      "align_self": null,
      "border": null,
      "bottom": null,
      "display": null,
      "flex": null,
      "flex_flow": null,
      "grid_area": null,
      "grid_auto_columns": null,
      "grid_auto_flow": null,
      "grid_auto_rows": null,
      "grid_column": null,
      "grid_gap": null,
      "grid_row": null,
      "grid_template_areas": null,
      "grid_template_columns": null,
      "grid_template_rows": null,
      "height": null,
      "justify_content": null,
      "justify_items": null,
      "left": null,
      "margin": null,
      "max_height": null,
      "max_width": null,
      "min_height": null,
      "min_width": null,
      "object_fit": null,
      "object_position": null,
      "order": null,
      "overflow": null,
      "overflow_x": null,
      "overflow_y": null,
      "padding": null,
      "right": null,
      "top": null,
      "visibility": null,
      "width": null
     }
    },
    "0ed9384643cc424ca352e56601ea48ed": {
     "model_module": "@jupyter-widgets/base",
     "model_name": "LayoutModel",
     "state": {
      "_model_module": "@jupyter-widgets/base",
      "_model_module_version": "1.2.0",
      "_model_name": "LayoutModel",
      "_view_count": null,
      "_view_module": "@jupyter-widgets/base",
      "_view_module_version": "1.2.0",
      "_view_name": "LayoutView",
      "align_content": null,
      "align_items": null,
      "align_self": null,
      "border": null,
      "bottom": null,
      "display": null,
      "flex": null,
      "flex_flow": null,
      "grid_area": null,
      "grid_auto_columns": null,
      "grid_auto_flow": null,
      "grid_auto_rows": null,
      "grid_column": null,
      "grid_gap": null,
      "grid_row": null,
      "grid_template_areas": null,
      "grid_template_columns": null,
      "grid_template_rows": null,
      "height": null,
      "justify_content": null,
      "justify_items": null,
      "left": null,
      "margin": null,
      "max_height": null,
      "max_width": null,
      "min_height": null,
      "min_width": null,
      "object_fit": null,
      "object_position": null,
      "order": null,
      "overflow": null,
      "overflow_x": null,
      "overflow_y": null,
      "padding": null,
      "right": null,
      "top": null,
      "visibility": null,
      "width": null
     }
    },
    "0f7cad0b62ee4a2db976aabf84e90b0d": {
     "model_module": "@jupyter-widgets/controls",
     "model_name": "IntProgressModel",
     "state": {
      "_dom_classes": [],
      "_model_module": "@jupyter-widgets/controls",
      "_model_module_version": "1.5.0",
      "_model_name": "IntProgressModel",
      "_view_count": null,
      "_view_module": "@jupyter-widgets/controls",
      "_view_module_version": "1.5.0",
      "_view_name": "ProgressView",
      "bar_style": "success",
      "description": "clf training: 100%",
      "description_tooltip": null,
      "layout": "IPY_MODEL_8a18ffac3aed41de82a3c4967c59f49a",
      "max": 1200,
      "min": 0,
      "orientation": "horizontal",
      "style": "IPY_MODEL_b747cdf58a4b4dcc8dba2f59b684589d",
      "value": 1200
     }
    },
    "19a838b6489448cf9972db8e58c7b027": {
     "model_module": "@jupyter-widgets/controls",
     "model_name": "IntProgressModel",
     "state": {
      "_dom_classes": [],
      "_model_module": "@jupyter-widgets/controls",
      "_model_module_version": "1.5.0",
      "_model_name": "IntProgressModel",
      "_view_count": null,
      "_view_module": "@jupyter-widgets/controls",
      "_view_module_version": "1.5.0",
      "_view_name": "ProgressView",
      "bar_style": "success",
      "description": "clf training: 100%",
      "description_tooltip": null,
      "layout": "IPY_MODEL_d32db43ac6794125b4222a15bf8bd615",
      "max": 500,
      "min": 0,
      "orientation": "horizontal",
      "style": "IPY_MODEL_79df39ed30d8449cb5bc139de2c363ac",
      "value": 500
     }
    },
    "1ae6267b2ca249f8bb397ada89bd094a": {
     "model_module": "@jupyter-widgets/controls",
     "model_name": "HTMLModel",
     "state": {
      "_dom_classes": [],
      "_model_module": "@jupyter-widgets/controls",
      "_model_module_version": "1.5.0",
      "_model_name": "HTMLModel",
      "_view_count": null,
      "_view_module": "@jupyter-widgets/controls",
      "_view_module_version": "1.5.0",
      "_view_name": "HTMLView",
      "description": "",
      "description_tooltip": null,
      "layout": "IPY_MODEL_0c6014ed340a42c0a1c16ba92b6ab622",
      "placeholder": "​",
      "style": "IPY_MODEL_86f86d4b89a641d8b6636e4e7d1ed6e9",
      "value": " 1200/1200 [00:11&lt;00:00, 103.54it/s]"
     }
    },
    "2995217aaa6b4f2cb8a78ed492c8a016": {
     "model_module": "@jupyter-widgets/controls",
     "model_name": "HTMLModel",
     "state": {
      "_dom_classes": [],
      "_model_module": "@jupyter-widgets/controls",
      "_model_module_version": "1.5.0",
      "_model_name": "HTMLModel",
      "_view_count": null,
      "_view_module": "@jupyter-widgets/controls",
      "_view_module_version": "1.5.0",
      "_view_name": "HTMLView",
      "description": "",
      "description_tooltip": null,
      "layout": "IPY_MODEL_6a904f52445c4f3a927a6bfbf181319d",
      "placeholder": "​",
      "style": "IPY_MODEL_56de5852898c4f7cab4777abe4e368b0",
      "value": " 1000/1000 [01:10&lt;00:00, 14.13it/s]"
     }
    },
    "3d0453a636304dca9ea43d9c2ede6d0a": {
     "model_module": "@jupyter-widgets/controls",
     "model_name": "HBoxModel",
     "state": {
      "_dom_classes": [],
      "_model_module": "@jupyter-widgets/controls",
      "_model_module_version": "1.5.0",
      "_model_name": "HBoxModel",
      "_view_count": null,
      "_view_module": "@jupyter-widgets/controls",
      "_view_module_version": "1.5.0",
      "_view_name": "HBoxView",
      "box_style": "",
      "children": [
       "IPY_MODEL_c7a56307658240be944e40adab0b1ce6",
       "IPY_MODEL_f6eb158d227041ca9eab597a02cf584b"
      ],
      "layout": "IPY_MODEL_c2d9c3d2bdee45808ef5a9e8e5fba35d"
     }
    },
    "3fc5f075f9104787b2e8b1408e618247": {
     "model_module": "@jupyter-widgets/base",
     "model_name": "LayoutModel",
     "state": {
      "_model_module": "@jupyter-widgets/base",
      "_model_module_version": "1.2.0",
      "_model_name": "LayoutModel",
      "_view_count": null,
      "_view_module": "@jupyter-widgets/base",
      "_view_module_version": "1.2.0",
      "_view_name": "LayoutView",
      "align_content": null,
      "align_items": null,
      "align_self": null,
      "border": null,
      "bottom": null,
      "display": null,
      "flex": null,
      "flex_flow": null,
      "grid_area": null,
      "grid_auto_columns": null,
      "grid_auto_flow": null,
      "grid_auto_rows": null,
      "grid_column": null,
      "grid_gap": null,
      "grid_row": null,
      "grid_template_areas": null,
      "grid_template_columns": null,
      "grid_template_rows": null,
      "height": null,
      "justify_content": null,
      "justify_items": null,
      "left": null,
      "margin": null,
      "max_height": null,
      "max_width": null,
      "min_height": null,
      "min_width": null,
      "object_fit": null,
      "object_position": null,
      "order": null,
      "overflow": null,
      "overflow_x": null,
      "overflow_y": null,
      "padding": null,
      "right": null,
      "top": null,
      "visibility": null,
      "width": null
     }
    },
    "440480fb9b0740a99dd52d642ba8604f": {
     "model_module": "@jupyter-widgets/base",
     "model_name": "LayoutModel",
     "state": {
      "_model_module": "@jupyter-widgets/base",
      "_model_module_version": "1.2.0",
      "_model_name": "LayoutModel",
      "_view_count": null,
      "_view_module": "@jupyter-widgets/base",
      "_view_module_version": "1.2.0",
      "_view_name": "LayoutView",
      "align_content": null,
      "align_items": null,
      "align_self": null,
      "border": null,
      "bottom": null,
      "display": null,
      "flex": null,
      "flex_flow": null,
      "grid_area": null,
      "grid_auto_columns": null,
      "grid_auto_flow": null,
      "grid_auto_rows": null,
      "grid_column": null,
      "grid_gap": null,
      "grid_row": null,
      "grid_template_areas": null,
      "grid_template_columns": null,
      "grid_template_rows": null,
      "height": null,
      "justify_content": null,
      "justify_items": null,
      "left": null,
      "margin": null,
      "max_height": null,
      "max_width": null,
      "min_height": null,
      "min_width": null,
      "object_fit": null,
      "object_position": null,
      "order": null,
      "overflow": null,
      "overflow_x": null,
      "overflow_y": null,
      "padding": null,
      "right": null,
      "top": null,
      "visibility": null,
      "width": null
     }
    },
    "45d99811160e4d30ac0d28bfb23df02c": {
     "model_module": "@jupyter-widgets/controls",
     "model_name": "HBoxModel",
     "state": {
      "_dom_classes": [],
      "_model_module": "@jupyter-widgets/controls",
      "_model_module_version": "1.5.0",
      "_model_name": "HBoxModel",
      "_view_count": null,
      "_view_module": "@jupyter-widgets/controls",
      "_view_module_version": "1.5.0",
      "_view_name": "HBoxView",
      "box_style": "",
      "children": [
       "IPY_MODEL_ad702c933d1142efbfcbe2b7acf9be40",
       "IPY_MODEL_2995217aaa6b4f2cb8a78ed492c8a016"
      ],
      "layout": "IPY_MODEL_572874ae8ea143bbae2daed6dbc44b1c"
     }
    },
    "4698c433349b45498c94659f39968243": {
     "model_module": "@jupyter-widgets/base",
     "model_name": "LayoutModel",
     "state": {
      "_model_module": "@jupyter-widgets/base",
      "_model_module_version": "1.2.0",
      "_model_name": "LayoutModel",
      "_view_count": null,
      "_view_module": "@jupyter-widgets/base",
      "_view_module_version": "1.2.0",
      "_view_name": "LayoutView",
      "align_content": null,
      "align_items": null,
      "align_self": null,
      "border": null,
      "bottom": null,
      "display": null,
      "flex": null,
      "flex_flow": null,
      "grid_area": null,
      "grid_auto_columns": null,
      "grid_auto_flow": null,
      "grid_auto_rows": null,
      "grid_column": null,
      "grid_gap": null,
      "grid_row": null,
      "grid_template_areas": null,
      "grid_template_columns": null,
      "grid_template_rows": null,
      "height": null,
      "justify_content": null,
      "justify_items": null,
      "left": null,
      "margin": null,
      "max_height": null,
      "max_width": null,
      "min_height": null,
      "min_width": null,
      "object_fit": null,
      "object_position": null,
      "order": null,
      "overflow": null,
      "overflow_x": null,
      "overflow_y": null,
      "padding": null,
      "right": null,
      "top": null,
      "visibility": null,
      "width": null
     }
    },
    "490b93d718184796b1e5af6793b12fae": {
     "model_module": "@jupyter-widgets/controls",
     "model_name": "DescriptionStyleModel",
     "state": {
      "_model_module": "@jupyter-widgets/controls",
      "_model_module_version": "1.5.0",
      "_model_name": "DescriptionStyleModel",
      "_view_count": null,
      "_view_module": "@jupyter-widgets/base",
      "_view_module_version": "1.2.0",
      "_view_name": "StyleView",
      "description_width": ""
     }
    },
    "4c265869459343a3a5fa88e26079b81f": {
     "model_module": "@jupyter-widgets/controls",
     "model_name": "HBoxModel",
     "state": {
      "_dom_classes": [],
      "_model_module": "@jupyter-widgets/controls",
      "_model_module_version": "1.5.0",
      "_model_name": "HBoxModel",
      "_view_count": null,
      "_view_module": "@jupyter-widgets/controls",
      "_view_module_version": "1.5.0",
      "_view_name": "HBoxView",
      "box_style": "",
      "children": [
       "IPY_MODEL_19a838b6489448cf9972db8e58c7b027",
       "IPY_MODEL_935af5453ae74b2dbef58200f73facc1"
      ],
      "layout": "IPY_MODEL_beeebb24caf446de8ee8412fcab58ccd"
     }
    },
    "5060864c5fa849eda1ce343f2414ed3c": {
     "model_module": "@jupyter-widgets/base",
     "model_name": "LayoutModel",
     "state": {
      "_model_module": "@jupyter-widgets/base",
      "_model_module_version": "1.2.0",
      "_model_name": "LayoutModel",
      "_view_count": null,
      "_view_module": "@jupyter-widgets/base",
      "_view_module_version": "1.2.0",
      "_view_name": "LayoutView",
      "align_content": null,
      "align_items": null,
      "align_self": null,
      "border": null,
      "bottom": null,
      "display": null,
      "flex": null,
      "flex_flow": null,
      "grid_area": null,
      "grid_auto_columns": null,
      "grid_auto_flow": null,
      "grid_auto_rows": null,
      "grid_column": null,
      "grid_gap": null,
      "grid_row": null,
      "grid_template_areas": null,
      "grid_template_columns": null,
      "grid_template_rows": null,
      "height": null,
      "justify_content": null,
      "justify_items": null,
      "left": null,
      "margin": null,
      "max_height": null,
      "max_width": null,
      "min_height": null,
      "min_width": null,
      "object_fit": null,
      "object_position": null,
      "order": null,
      "overflow": null,
      "overflow_x": null,
      "overflow_y": null,
      "padding": null,
      "right": null,
      "top": null,
      "visibility": null,
      "width": null
     }
    },
    "50972e48eeb64665ad7dfdba517af1bf": {
     "model_module": "@jupyter-widgets/controls",
     "model_name": "DescriptionStyleModel",
     "state": {
      "_model_module": "@jupyter-widgets/controls",
      "_model_module_version": "1.5.0",
      "_model_name": "DescriptionStyleModel",
      "_view_count": null,
      "_view_module": "@jupyter-widgets/base",
      "_view_module_version": "1.2.0",
      "_view_name": "StyleView",
      "description_width": ""
     }
    },
    "56de5852898c4f7cab4777abe4e368b0": {
     "model_module": "@jupyter-widgets/controls",
     "model_name": "DescriptionStyleModel",
     "state": {
      "_model_module": "@jupyter-widgets/controls",
      "_model_module_version": "1.5.0",
      "_model_name": "DescriptionStyleModel",
      "_view_count": null,
      "_view_module": "@jupyter-widgets/base",
      "_view_module_version": "1.2.0",
      "_view_name": "StyleView",
      "description_width": ""
     }
    },
    "572874ae8ea143bbae2daed6dbc44b1c": {
     "model_module": "@jupyter-widgets/base",
     "model_name": "LayoutModel",
     "state": {
      "_model_module": "@jupyter-widgets/base",
      "_model_module_version": "1.2.0",
      "_model_name": "LayoutModel",
      "_view_count": null,
      "_view_module": "@jupyter-widgets/base",
      "_view_module_version": "1.2.0",
      "_view_name": "LayoutView",
      "align_content": null,
      "align_items": null,
      "align_self": null,
      "border": null,
      "bottom": null,
      "display": null,
      "flex": null,
      "flex_flow": null,
      "grid_area": null,
      "grid_auto_columns": null,
      "grid_auto_flow": null,
      "grid_auto_rows": null,
      "grid_column": null,
      "grid_gap": null,
      "grid_row": null,
      "grid_template_areas": null,
      "grid_template_columns": null,
      "grid_template_rows": null,
      "height": null,
      "justify_content": null,
      "justify_items": null,
      "left": null,
      "margin": null,
      "max_height": null,
      "max_width": null,
      "min_height": null,
      "min_width": null,
      "object_fit": null,
      "object_position": null,
      "order": null,
      "overflow": null,
      "overflow_x": null,
      "overflow_y": null,
      "padding": null,
      "right": null,
      "top": null,
      "visibility": null,
      "width": null
     }
    },
    "587f8204d5a040feaa445a523e5c4d8f": {
     "model_module": "@jupyter-widgets/base",
     "model_name": "LayoutModel",
     "state": {
      "_model_module": "@jupyter-widgets/base",
      "_model_module_version": "1.2.0",
      "_model_name": "LayoutModel",
      "_view_count": null,
      "_view_module": "@jupyter-widgets/base",
      "_view_module_version": "1.2.0",
      "_view_name": "LayoutView",
      "align_content": null,
      "align_items": null,
      "align_self": null,
      "border": null,
      "bottom": null,
      "display": null,
      "flex": null,
      "flex_flow": null,
      "grid_area": null,
      "grid_auto_columns": null,
      "grid_auto_flow": null,
      "grid_auto_rows": null,
      "grid_column": null,
      "grid_gap": null,
      "grid_row": null,
      "grid_template_areas": null,
      "grid_template_columns": null,
      "grid_template_rows": null,
      "height": null,
      "justify_content": null,
      "justify_items": null,
      "left": null,
      "margin": null,
      "max_height": null,
      "max_width": null,
      "min_height": null,
      "min_width": null,
      "object_fit": null,
      "object_position": null,
      "order": null,
      "overflow": null,
      "overflow_x": null,
      "overflow_y": null,
      "padding": null,
      "right": null,
      "top": null,
      "visibility": null,
      "width": null
     }
    },
    "5c0f7ba5acce49b2939d6f816b1a6d7c": {
     "model_module": "@jupyter-widgets/controls",
     "model_name": "DescriptionStyleModel",
     "state": {
      "_model_module": "@jupyter-widgets/controls",
      "_model_module_version": "1.5.0",
      "_model_name": "DescriptionStyleModel",
      "_view_count": null,
      "_view_module": "@jupyter-widgets/base",
      "_view_module_version": "1.2.0",
      "_view_name": "StyleView",
      "description_width": ""
     }
    },
    "68c3085526d44416862701e388feec63": {
     "model_module": "@jupyter-widgets/base",
     "model_name": "LayoutModel",
     "state": {
      "_model_module": "@jupyter-widgets/base",
      "_model_module_version": "1.2.0",
      "_model_name": "LayoutModel",
      "_view_count": null,
      "_view_module": "@jupyter-widgets/base",
      "_view_module_version": "1.2.0",
      "_view_name": "LayoutView",
      "align_content": null,
      "align_items": null,
      "align_self": null,
      "border": null,
      "bottom": null,
      "display": null,
      "flex": null,
      "flex_flow": null,
      "grid_area": null,
      "grid_auto_columns": null,
      "grid_auto_flow": null,
      "grid_auto_rows": null,
      "grid_column": null,
      "grid_gap": null,
      "grid_row": null,
      "grid_template_areas": null,
      "grid_template_columns": null,
      "grid_template_rows": null,
      "height": null,
      "justify_content": null,
      "justify_items": null,
      "left": null,
      "margin": null,
      "max_height": null,
      "max_width": null,
      "min_height": null,
      "min_width": null,
      "object_fit": null,
      "object_position": null,
      "order": null,
      "overflow": null,
      "overflow_x": null,
      "overflow_y": null,
      "padding": null,
      "right": null,
      "top": null,
      "visibility": null,
      "width": null
     }
    },
    "69a8260efd784391ac0c8bb34cade849": {
     "model_module": "@jupyter-widgets/controls",
     "model_name": "ProgressStyleModel",
     "state": {
      "_model_module": "@jupyter-widgets/controls",
      "_model_module_version": "1.5.0",
      "_model_name": "ProgressStyleModel",
      "_view_count": null,
      "_view_module": "@jupyter-widgets/base",
      "_view_module_version": "1.2.0",
      "_view_name": "StyleView",
      "bar_color": null,
      "description_width": "initial"
     }
    },
    "6a904f52445c4f3a927a6bfbf181319d": {
     "model_module": "@jupyter-widgets/base",
     "model_name": "LayoutModel",
     "state": {
      "_model_module": "@jupyter-widgets/base",
      "_model_module_version": "1.2.0",
      "_model_name": "LayoutModel",
      "_view_count": null,
      "_view_module": "@jupyter-widgets/base",
      "_view_module_version": "1.2.0",
      "_view_name": "LayoutView",
      "align_content": null,
      "align_items": null,
      "align_self": null,
      "border": null,
      "bottom": null,
      "display": null,
      "flex": null,
      "flex_flow": null,
      "grid_area": null,
      "grid_auto_columns": null,
      "grid_auto_flow": null,
      "grid_auto_rows": null,
      "grid_column": null,
      "grid_gap": null,
      "grid_row": null,
      "grid_template_areas": null,
      "grid_template_columns": null,
      "grid_template_rows": null,
      "height": null,
      "justify_content": null,
      "justify_items": null,
      "left": null,
      "margin": null,
      "max_height": null,
      "max_width": null,
      "min_height": null,
      "min_width": null,
      "object_fit": null,
      "object_position": null,
      "order": null,
      "overflow": null,
      "overflow_x": null,
      "overflow_y": null,
      "padding": null,
      "right": null,
      "top": null,
      "visibility": null,
      "width": null
     }
    },
    "6b4f6df6dd93405ca384c46fc50f0a36": {
     "model_module": "@jupyter-widgets/base",
     "model_name": "LayoutModel",
     "state": {
      "_model_module": "@jupyter-widgets/base",
      "_model_module_version": "1.2.0",
      "_model_name": "LayoutModel",
      "_view_count": null,
      "_view_module": "@jupyter-widgets/base",
      "_view_module_version": "1.2.0",
      "_view_name": "LayoutView",
      "align_content": null,
      "align_items": null,
      "align_self": null,
      "border": null,
      "bottom": null,
      "display": null,
      "flex": null,
      "flex_flow": null,
      "grid_area": null,
      "grid_auto_columns": null,
      "grid_auto_flow": null,
      "grid_auto_rows": null,
      "grid_column": null,
      "grid_gap": null,
      "grid_row": null,
      "grid_template_areas": null,
      "grid_template_columns": null,
      "grid_template_rows": null,
      "height": null,
      "justify_content": null,
      "justify_items": null,
      "left": null,
      "margin": null,
      "max_height": null,
      "max_width": null,
      "min_height": null,
      "min_width": null,
      "object_fit": null,
      "object_position": null,
      "order": null,
      "overflow": null,
      "overflow_x": null,
      "overflow_y": null,
      "padding": null,
      "right": null,
      "top": null,
      "visibility": null,
      "width": null
     }
    },
    "6efd60b79b78479e82780dfba2884d37": {
     "model_module": "@jupyter-widgets/base",
     "model_name": "LayoutModel",
     "state": {
      "_model_module": "@jupyter-widgets/base",
      "_model_module_version": "1.2.0",
      "_model_name": "LayoutModel",
      "_view_count": null,
      "_view_module": "@jupyter-widgets/base",
      "_view_module_version": "1.2.0",
      "_view_name": "LayoutView",
      "align_content": null,
      "align_items": null,
      "align_self": null,
      "border": null,
      "bottom": null,
      "display": null,
      "flex": null,
      "flex_flow": null,
      "grid_area": null,
      "grid_auto_columns": null,
      "grid_auto_flow": null,
      "grid_auto_rows": null,
      "grid_column": null,
      "grid_gap": null,
      "grid_row": null,
      "grid_template_areas": null,
      "grid_template_columns": null,
      "grid_template_rows": null,
      "height": null,
      "justify_content": null,
      "justify_items": null,
      "left": null,
      "margin": null,
      "max_height": null,
      "max_width": null,
      "min_height": null,
      "min_width": null,
      "object_fit": null,
      "object_position": null,
      "order": null,
      "overflow": null,
      "overflow_x": null,
      "overflow_y": null,
      "padding": null,
      "right": null,
      "top": null,
      "visibility": null,
      "width": null
     }
    },
    "74269a56d93f469abd89157a238fdf77": {
     "model_module": "@jupyter-widgets/base",
     "model_name": "LayoutModel",
     "state": {
      "_model_module": "@jupyter-widgets/base",
      "_model_module_version": "1.2.0",
      "_model_name": "LayoutModel",
      "_view_count": null,
      "_view_module": "@jupyter-widgets/base",
      "_view_module_version": "1.2.0",
      "_view_name": "LayoutView",
      "align_content": null,
      "align_items": null,
      "align_self": null,
      "border": null,
      "bottom": null,
      "display": null,
      "flex": null,
      "flex_flow": null,
      "grid_area": null,
      "grid_auto_columns": null,
      "grid_auto_flow": null,
      "grid_auto_rows": null,
      "grid_column": null,
      "grid_gap": null,
      "grid_row": null,
      "grid_template_areas": null,
      "grid_template_columns": null,
      "grid_template_rows": null,
      "height": null,
      "justify_content": null,
      "justify_items": null,
      "left": null,
      "margin": null,
      "max_height": null,
      "max_width": null,
      "min_height": null,
      "min_width": null,
      "object_fit": null,
      "object_position": null,
      "order": null,
      "overflow": null,
      "overflow_x": null,
      "overflow_y": null,
      "padding": null,
      "right": null,
      "top": null,
      "visibility": null,
      "width": null
     }
    },
    "79df39ed30d8449cb5bc139de2c363ac": {
     "model_module": "@jupyter-widgets/controls",
     "model_name": "ProgressStyleModel",
     "state": {
      "_model_module": "@jupyter-widgets/controls",
      "_model_module_version": "1.5.0",
      "_model_name": "ProgressStyleModel",
      "_view_count": null,
      "_view_module": "@jupyter-widgets/base",
      "_view_module_version": "1.2.0",
      "_view_name": "StyleView",
      "bar_color": null,
      "description_width": "initial"
     }
    },
    "7fd8005c845a4ee2ac392900d4621e8a": {
     "model_module": "@jupyter-widgets/base",
     "model_name": "LayoutModel",
     "state": {
      "_model_module": "@jupyter-widgets/base",
      "_model_module_version": "1.2.0",
      "_model_name": "LayoutModel",
      "_view_count": null,
      "_view_module": "@jupyter-widgets/base",
      "_view_module_version": "1.2.0",
      "_view_name": "LayoutView",
      "align_content": null,
      "align_items": null,
      "align_self": null,
      "border": null,
      "bottom": null,
      "display": null,
      "flex": null,
      "flex_flow": null,
      "grid_area": null,
      "grid_auto_columns": null,
      "grid_auto_flow": null,
      "grid_auto_rows": null,
      "grid_column": null,
      "grid_gap": null,
      "grid_row": null,
      "grid_template_areas": null,
      "grid_template_columns": null,
      "grid_template_rows": null,
      "height": null,
      "justify_content": null,
      "justify_items": null,
      "left": null,
      "margin": null,
      "max_height": null,
      "max_width": null,
      "min_height": null,
      "min_width": null,
      "object_fit": null,
      "object_position": null,
      "order": null,
      "overflow": null,
      "overflow_x": null,
      "overflow_y": null,
      "padding": null,
      "right": null,
      "top": null,
      "visibility": null,
      "width": null
     }
    },
    "80e948030b144fb5bfe23f2cbfff5df9": {
     "model_module": "@jupyter-widgets/base",
     "model_name": "LayoutModel",
     "state": {
      "_model_module": "@jupyter-widgets/base",
      "_model_module_version": "1.2.0",
      "_model_name": "LayoutModel",
      "_view_count": null,
      "_view_module": "@jupyter-widgets/base",
      "_view_module_version": "1.2.0",
      "_view_name": "LayoutView",
      "align_content": null,
      "align_items": null,
      "align_self": null,
      "border": null,
      "bottom": null,
      "display": null,
      "flex": null,
      "flex_flow": null,
      "grid_area": null,
      "grid_auto_columns": null,
      "grid_auto_flow": null,
      "grid_auto_rows": null,
      "grid_column": null,
      "grid_gap": null,
      "grid_row": null,
      "grid_template_areas": null,
      "grid_template_columns": null,
      "grid_template_rows": null,
      "height": null,
      "justify_content": null,
      "justify_items": null,
      "left": null,
      "margin": null,
      "max_height": null,
      "max_width": null,
      "min_height": null,
      "min_width": null,
      "object_fit": null,
      "object_position": null,
      "order": null,
      "overflow": null,
      "overflow_x": null,
      "overflow_y": null,
      "padding": null,
      "right": null,
      "top": null,
      "visibility": null,
      "width": null
     }
    },
    "81e0a1e4eb1c45cd92fb67cace01a52d": {
     "model_module": "@jupyter-widgets/controls",
     "model_name": "ProgressStyleModel",
     "state": {
      "_model_module": "@jupyter-widgets/controls",
      "_model_module_version": "1.5.0",
      "_model_name": "ProgressStyleModel",
      "_view_count": null,
      "_view_module": "@jupyter-widgets/base",
      "_view_module_version": "1.2.0",
      "_view_name": "StyleView",
      "bar_color": null,
      "description_width": "initial"
     }
    },
    "86f86d4b89a641d8b6636e4e7d1ed6e9": {
     "model_module": "@jupyter-widgets/controls",
     "model_name": "DescriptionStyleModel",
     "state": {
      "_model_module": "@jupyter-widgets/controls",
      "_model_module_version": "1.5.0",
      "_model_name": "DescriptionStyleModel",
      "_view_count": null,
      "_view_module": "@jupyter-widgets/base",
      "_view_module_version": "1.2.0",
      "_view_name": "StyleView",
      "description_width": ""
     }
    },
    "88354da1fbda4eb1b0c868fb52034256": {
     "model_module": "@jupyter-widgets/controls",
     "model_name": "DescriptionStyleModel",
     "state": {
      "_model_module": "@jupyter-widgets/controls",
      "_model_module_version": "1.5.0",
      "_model_name": "DescriptionStyleModel",
      "_view_count": null,
      "_view_module": "@jupyter-widgets/base",
      "_view_module_version": "1.2.0",
      "_view_name": "StyleView",
      "description_width": ""
     }
    },
    "8a18ffac3aed41de82a3c4967c59f49a": {
     "model_module": "@jupyter-widgets/base",
     "model_name": "LayoutModel",
     "state": {
      "_model_module": "@jupyter-widgets/base",
      "_model_module_version": "1.2.0",
      "_model_name": "LayoutModel",
      "_view_count": null,
      "_view_module": "@jupyter-widgets/base",
      "_view_module_version": "1.2.0",
      "_view_name": "LayoutView",
      "align_content": null,
      "align_items": null,
      "align_self": null,
      "border": null,
      "bottom": null,
      "display": null,
      "flex": null,
      "flex_flow": null,
      "grid_area": null,
      "grid_auto_columns": null,
      "grid_auto_flow": null,
      "grid_auto_rows": null,
      "grid_column": null,
      "grid_gap": null,
      "grid_row": null,
      "grid_template_areas": null,
      "grid_template_columns": null,
      "grid_template_rows": null,
      "height": null,
      "justify_content": null,
      "justify_items": null,
      "left": null,
      "margin": null,
      "max_height": null,
      "max_width": null,
      "min_height": null,
      "min_width": null,
      "object_fit": null,
      "object_position": null,
      "order": null,
      "overflow": null,
      "overflow_x": null,
      "overflow_y": null,
      "padding": null,
      "right": null,
      "top": null,
      "visibility": null,
      "width": null
     }
    },
    "8f33bc0b87d74289b8ab70d556afd4c8": {
     "model_module": "@jupyter-widgets/controls",
     "model_name": "HBoxModel",
     "state": {
      "_dom_classes": [],
      "_model_module": "@jupyter-widgets/controls",
      "_model_module_version": "1.5.0",
      "_model_name": "HBoxModel",
      "_view_count": null,
      "_view_module": "@jupyter-widgets/controls",
      "_view_module_version": "1.5.0",
      "_view_name": "HBoxView",
      "box_style": "",
      "children": [
       "IPY_MODEL_c377d0364232408199ab6fa008b10a76",
       "IPY_MODEL_03e6b1daf47340dca4793ce2f5b35851"
      ],
      "layout": "IPY_MODEL_80e948030b144fb5bfe23f2cbfff5df9"
     }
    },
    "935af5453ae74b2dbef58200f73facc1": {
     "model_module": "@jupyter-widgets/controls",
     "model_name": "HTMLModel",
     "state": {
      "_dom_classes": [],
      "_model_module": "@jupyter-widgets/controls",
      "_model_module_version": "1.5.0",
      "_model_name": "HTMLModel",
      "_view_count": null,
      "_view_module": "@jupyter-widgets/controls",
      "_view_module_version": "1.5.0",
      "_view_name": "HTMLView",
      "description": "",
      "description_tooltip": null,
      "layout": "IPY_MODEL_68c3085526d44416862701e388feec63",
      "placeholder": "​",
      "style": "IPY_MODEL_88354da1fbda4eb1b0c868fb52034256",
      "value": " 500/500 [00:04&lt;00:00, 100.53it/s]"
     }
    },
    "93be3163902b4cd4ab0bef09559e0233": {
     "model_module": "@jupyter-widgets/controls",
     "model_name": "HTMLModel",
     "state": {
      "_dom_classes": [],
      "_model_module": "@jupyter-widgets/controls",
      "_model_module_version": "1.5.0",
      "_model_name": "HTMLModel",
      "_view_count": null,
      "_view_module": "@jupyter-widgets/controls",
      "_view_module_version": "1.5.0",
      "_view_name": "HTMLView",
      "description": "",
      "description_tooltip": null,
      "layout": "IPY_MODEL_7fd8005c845a4ee2ac392900d4621e8a",
      "placeholder": "​",
      "style": "IPY_MODEL_f35940b00c72477aa1b9a53fdc4f17ef",
      "value": " 1200/1200 [00:11&lt;00:00, 106.47it/s]"
     }
    },
    "ad702c933d1142efbfcbe2b7acf9be40": {
     "model_module": "@jupyter-widgets/controls",
     "model_name": "IntProgressModel",
     "state": {
      "_dom_classes": [],
      "_model_module": "@jupyter-widgets/controls",
      "_model_module_version": "1.5.0",
      "_model_name": "IntProgressModel",
      "_view_count": null,
      "_view_module": "@jupyter-widgets/controls",
      "_view_module_version": "1.5.0",
      "_view_name": "ProgressView",
      "bar_style": "success",
      "description": "slae training: 100%",
      "description_tooltip": null,
      "layout": "IPY_MODEL_440480fb9b0740a99dd52d642ba8604f",
      "max": 1000,
      "min": 0,
      "orientation": "horizontal",
      "style": "IPY_MODEL_69a8260efd784391ac0c8bb34cade849",
      "value": 1000
     }
    },
    "b6a679aa51f14e19abb396f83bb4c484": {
     "model_module": "@jupyter-widgets/base",
     "model_name": "LayoutModel",
     "state": {
      "_model_module": "@jupyter-widgets/base",
      "_model_module_version": "1.2.0",
      "_model_name": "LayoutModel",
      "_view_count": null,
      "_view_module": "@jupyter-widgets/base",
      "_view_module_version": "1.2.0",
      "_view_name": "LayoutView",
      "align_content": null,
      "align_items": null,
      "align_self": null,
      "border": null,
      "bottom": null,
      "display": null,
      "flex": null,
      "flex_flow": null,
      "grid_area": null,
      "grid_auto_columns": null,
      "grid_auto_flow": null,
      "grid_auto_rows": null,
      "grid_column": null,
      "grid_gap": null,
      "grid_row": null,
      "grid_template_areas": null,
      "grid_template_columns": null,
      "grid_template_rows": null,
      "height": null,
      "justify_content": null,
      "justify_items": null,
      "left": null,
      "margin": null,
      "max_height": null,
      "max_width": null,
      "min_height": null,
      "min_width": null,
      "object_fit": null,
      "object_position": null,
      "order": null,
      "overflow": null,
      "overflow_x": null,
      "overflow_y": null,
      "padding": null,
      "right": null,
      "top": null,
      "visibility": null,
      "width": null
     }
    },
    "b747cdf58a4b4dcc8dba2f59b684589d": {
     "model_module": "@jupyter-widgets/controls",
     "model_name": "ProgressStyleModel",
     "state": {
      "_model_module": "@jupyter-widgets/controls",
      "_model_module_version": "1.5.0",
      "_model_name": "ProgressStyleModel",
      "_view_count": null,
      "_view_module": "@jupyter-widgets/base",
      "_view_module_version": "1.2.0",
      "_view_name": "StyleView",
      "bar_color": null,
      "description_width": "initial"
     }
    },
    "b7ad17a10256484c9af7b921ee9433b2": {
     "model_module": "@jupyter-widgets/controls",
     "model_name": "IntProgressModel",
     "state": {
      "_dom_classes": [],
      "_model_module": "@jupyter-widgets/controls",
      "_model_module_version": "1.5.0",
      "_model_name": "IntProgressModel",
      "_view_count": null,
      "_view_module": "@jupyter-widgets/controls",
      "_view_module_version": "1.5.0",
      "_view_name": "ProgressView",
      "bar_style": "success",
      "description": "clf training: 100%",
      "description_tooltip": null,
      "layout": "IPY_MODEL_3fc5f075f9104787b2e8b1408e618247",
      "max": 1200,
      "min": 0,
      "orientation": "horizontal",
      "style": "IPY_MODEL_0b47262925614c0189f891c731016b12",
      "value": 1200
     }
    },
    "bebf8e51bef54cec89ebd5c6b1d8d21a": {
     "model_module": "@jupyter-widgets/controls",
     "model_name": "HBoxModel",
     "state": {
      "_dom_classes": [],
      "_model_module": "@jupyter-widgets/controls",
      "_model_module_version": "1.5.0",
      "_model_name": "HBoxModel",
      "_view_count": null,
      "_view_module": "@jupyter-widgets/controls",
      "_view_module_version": "1.5.0",
      "_view_name": "HBoxView",
      "box_style": "",
      "children": [
       "IPY_MODEL_c4eeb309827e46f9a4fef8bf403eb734",
       "IPY_MODEL_c93513b6b07d4943b28662f8803b2f34"
      ],
      "layout": "IPY_MODEL_4698c433349b45498c94659f39968243"
     }
    },
    "beeebb24caf446de8ee8412fcab58ccd": {
     "model_module": "@jupyter-widgets/base",
     "model_name": "LayoutModel",
     "state": {
      "_model_module": "@jupyter-widgets/base",
      "_model_module_version": "1.2.0",
      "_model_name": "LayoutModel",
      "_view_count": null,
      "_view_module": "@jupyter-widgets/base",
      "_view_module_version": "1.2.0",
      "_view_name": "LayoutView",
      "align_content": null,
      "align_items": null,
      "align_self": null,
      "border": null,
      "bottom": null,
      "display": null,
      "flex": null,
      "flex_flow": null,
      "grid_area": null,
      "grid_auto_columns": null,
      "grid_auto_flow": null,
      "grid_auto_rows": null,
      "grid_column": null,
      "grid_gap": null,
      "grid_row": null,
      "grid_template_areas": null,
      "grid_template_columns": null,
      "grid_template_rows": null,
      "height": null,
      "justify_content": null,
      "justify_items": null,
      "left": null,
      "margin": null,
      "max_height": null,
      "max_width": null,
      "min_height": null,
      "min_width": null,
      "object_fit": null,
      "object_position": null,
      "order": null,
      "overflow": null,
      "overflow_x": null,
      "overflow_y": null,
      "padding": null,
      "right": null,
      "top": null,
      "visibility": null,
      "width": null
     }
    },
    "c2d9c3d2bdee45808ef5a9e8e5fba35d": {
     "model_module": "@jupyter-widgets/base",
     "model_name": "LayoutModel",
     "state": {
      "_model_module": "@jupyter-widgets/base",
      "_model_module_version": "1.2.0",
      "_model_name": "LayoutModel",
      "_view_count": null,
      "_view_module": "@jupyter-widgets/base",
      "_view_module_version": "1.2.0",
      "_view_name": "LayoutView",
      "align_content": null,
      "align_items": null,
      "align_self": null,
      "border": null,
      "bottom": null,
      "display": null,
      "flex": null,
      "flex_flow": null,
      "grid_area": null,
      "grid_auto_columns": null,
      "grid_auto_flow": null,
      "grid_auto_rows": null,
      "grid_column": null,
      "grid_gap": null,
      "grid_row": null,
      "grid_template_areas": null,
      "grid_template_columns": null,
      "grid_template_rows": null,
      "height": null,
      "justify_content": null,
      "justify_items": null,
      "left": null,
      "margin": null,
      "max_height": null,
      "max_width": null,
      "min_height": null,
      "min_width": null,
      "object_fit": null,
      "object_position": null,
      "order": null,
      "overflow": null,
      "overflow_x": null,
      "overflow_y": null,
      "padding": null,
      "right": null,
      "top": null,
      "visibility": null,
      "width": null
     }
    },
    "c377d0364232408199ab6fa008b10a76": {
     "model_module": "@jupyter-widgets/controls",
     "model_name": "IntProgressModel",
     "state": {
      "_dom_classes": [],
      "_model_module": "@jupyter-widgets/controls",
      "_model_module_version": "1.5.0",
      "_model_name": "IntProgressModel",
      "_view_count": null,
      "_view_module": "@jupyter-widgets/controls",
      "_view_module_version": "1.5.0",
      "_view_name": "ProgressView",
      "bar_style": "success",
      "description": "pli training: 100%",
      "description_tooltip": null,
      "layout": "IPY_MODEL_6b4f6df6dd93405ca384c46fc50f0a36",
      "max": 1000,
      "min": 0,
      "orientation": "horizontal",
      "style": "IPY_MODEL_d7e0ea30b48d4b6ab0ead15a3ecc9f50",
      "value": 1000
     }
    },
    "c4eeb309827e46f9a4fef8bf403eb734": {
     "model_module": "@jupyter-widgets/controls",
     "model_name": "IntProgressModel",
     "state": {
      "_dom_classes": [],
      "_model_module": "@jupyter-widgets/controls",
      "_model_module_version": "1.5.0",
      "_model_name": "IntProgressModel",
      "_view_count": null,
      "_view_module": "@jupyter-widgets/controls",
      "_view_module_version": "1.5.0",
      "_view_name": "ProgressView",
      "bar_style": "success",
      "description": "ae training: 100%",
      "description_tooltip": null,
      "layout": "IPY_MODEL_c714c47b20c74111aa8b4ef43e732f8b",
      "max": 500,
      "min": 0,
      "orientation": "horizontal",
      "style": "IPY_MODEL_81e0a1e4eb1c45cd92fb67cace01a52d",
      "value": 500
     }
    },
    "c714c47b20c74111aa8b4ef43e732f8b": {
     "model_module": "@jupyter-widgets/base",
     "model_name": "LayoutModel",
     "state": {
      "_model_module": "@jupyter-widgets/base",
      "_model_module_version": "1.2.0",
      "_model_name": "LayoutModel",
      "_view_count": null,
      "_view_module": "@jupyter-widgets/base",
      "_view_module_version": "1.2.0",
      "_view_name": "LayoutView",
      "align_content": null,
      "align_items": null,
      "align_self": null,
      "border": null,
      "bottom": null,
      "display": null,
      "flex": null,
      "flex_flow": null,
      "grid_area": null,
      "grid_auto_columns": null,
      "grid_auto_flow": null,
      "grid_auto_rows": null,
      "grid_column": null,
      "grid_gap": null,
      "grid_row": null,
      "grid_template_areas": null,
      "grid_template_columns": null,
      "grid_template_rows": null,
      "height": null,
      "justify_content": null,
      "justify_items": null,
      "left": null,
      "margin": null,
      "max_height": null,
      "max_width": null,
      "min_height": null,
      "min_width": null,
      "object_fit": null,
      "object_position": null,
      "order": null,
      "overflow": null,
      "overflow_x": null,
      "overflow_y": null,
      "padding": null,
      "right": null,
      "top": null,
      "visibility": null,
      "width": null
     }
    },
    "c7a56307658240be944e40adab0b1ce6": {
     "model_module": "@jupyter-widgets/controls",
     "model_name": "IntProgressModel",
     "state": {
      "_dom_classes": [],
      "_model_module": "@jupyter-widgets/controls",
      "_model_module_version": "1.5.0",
      "_model_name": "IntProgressModel",
      "_view_count": null,
      "_view_module": "@jupyter-widgets/controls",
      "_view_module_version": "1.5.0",
      "_view_name": "ProgressView",
      "bar_style": "success",
      "description": "clf training: 100%",
      "description_tooltip": null,
      "layout": "IPY_MODEL_6efd60b79b78479e82780dfba2884d37",
      "max": 1000,
      "min": 0,
      "orientation": "horizontal",
      "style": "IPY_MODEL_e3be7b351c8a40b496d11a9e364813d2",
      "value": 1000
     }
    },
    "c93513b6b07d4943b28662f8803b2f34": {
     "model_module": "@jupyter-widgets/controls",
     "model_name": "HTMLModel",
     "state": {
      "_dom_classes": [],
      "_model_module": "@jupyter-widgets/controls",
      "_model_module_version": "1.5.0",
      "_model_name": "HTMLModel",
      "_view_count": null,
      "_view_module": "@jupyter-widgets/controls",
      "_view_module_version": "1.5.0",
      "_view_name": "HTMLView",
      "description": "",
      "description_tooltip": null,
      "layout": "IPY_MODEL_74269a56d93f469abd89157a238fdf77",
      "placeholder": "​",
      "style": "IPY_MODEL_490b93d718184796b1e5af6793b12fae",
      "value": " 500/500 [00:23&lt;00:00, 21.16it/s]"
     }
    },
    "d32db43ac6794125b4222a15bf8bd615": {
     "model_module": "@jupyter-widgets/base",
     "model_name": "LayoutModel",
     "state": {
      "_model_module": "@jupyter-widgets/base",
      "_model_module_version": "1.2.0",
      "_model_name": "LayoutModel",
      "_view_count": null,
      "_view_module": "@jupyter-widgets/base",
      "_view_module_version": "1.2.0",
      "_view_name": "LayoutView",
      "align_content": null,
      "align_items": null,
      "align_self": null,
      "border": null,
      "bottom": null,
      "display": null,
      "flex": null,
      "flex_flow": null,
      "grid_area": null,
      "grid_auto_columns": null,
      "grid_auto_flow": null,
      "grid_auto_rows": null,
      "grid_column": null,
      "grid_gap": null,
      "grid_row": null,
      "grid_template_areas": null,
      "grid_template_columns": null,
      "grid_template_rows": null,
      "height": null,
      "justify_content": null,
      "justify_items": null,
      "left": null,
      "margin": null,
      "max_height": null,
      "max_width": null,
      "min_height": null,
      "min_width": null,
      "object_fit": null,
      "object_position": null,
      "order": null,
      "overflow": null,
      "overflow_x": null,
      "overflow_y": null,
      "padding": null,
      "right": null,
      "top": null,
      "visibility": null,
      "width": null
     }
    },
    "d52c1568a00348698668bb1f13494966": {
     "model_module": "@jupyter-widgets/controls",
     "model_name": "HBoxModel",
     "state": {
      "_dom_classes": [],
      "_model_module": "@jupyter-widgets/controls",
      "_model_module_version": "1.5.0",
      "_model_name": "HBoxModel",
      "_view_count": null,
      "_view_module": "@jupyter-widgets/controls",
      "_view_module_version": "1.5.0",
      "_view_name": "HBoxView",
      "box_style": "",
      "children": [
       "IPY_MODEL_b7ad17a10256484c9af7b921ee9433b2",
       "IPY_MODEL_93be3163902b4cd4ab0bef09559e0233"
      ],
      "layout": "IPY_MODEL_5060864c5fa849eda1ce343f2414ed3c"
     }
    },
    "d7e0ea30b48d4b6ab0ead15a3ecc9f50": {
     "model_module": "@jupyter-widgets/controls",
     "model_name": "ProgressStyleModel",
     "state": {
      "_model_module": "@jupyter-widgets/controls",
      "_model_module_version": "1.5.0",
      "_model_name": "ProgressStyleModel",
      "_view_count": null,
      "_view_module": "@jupyter-widgets/base",
      "_view_module_version": "1.2.0",
      "_view_name": "StyleView",
      "bar_color": null,
      "description_width": "initial"
     }
    },
    "e2d5fb3a86804c648caf12b5ad117738": {
     "model_module": "@jupyter-widgets/controls",
     "model_name": "HBoxModel",
     "state": {
      "_dom_classes": [],
      "_model_module": "@jupyter-widgets/controls",
      "_model_module_version": "1.5.0",
      "_model_name": "HBoxModel",
      "_view_count": null,
      "_view_module": "@jupyter-widgets/controls",
      "_view_module_version": "1.5.0",
      "_view_name": "HBoxView",
      "box_style": "",
      "children": [
       "IPY_MODEL_0f7cad0b62ee4a2db976aabf84e90b0d",
       "IPY_MODEL_1ae6267b2ca249f8bb397ada89bd094a"
      ],
      "layout": "IPY_MODEL_0ed9384643cc424ca352e56601ea48ed"
     }
    },
    "e3be7b351c8a40b496d11a9e364813d2": {
     "model_module": "@jupyter-widgets/controls",
     "model_name": "ProgressStyleModel",
     "state": {
      "_model_module": "@jupyter-widgets/controls",
      "_model_module_version": "1.5.0",
      "_model_name": "ProgressStyleModel",
      "_view_count": null,
      "_view_module": "@jupyter-widgets/base",
      "_view_module_version": "1.2.0",
      "_view_name": "StyleView",
      "bar_color": null,
      "description_width": "initial"
     }
    },
    "f35940b00c72477aa1b9a53fdc4f17ef": {
     "model_module": "@jupyter-widgets/controls",
     "model_name": "DescriptionStyleModel",
     "state": {
      "_model_module": "@jupyter-widgets/controls",
      "_model_module_version": "1.5.0",
      "_model_name": "DescriptionStyleModel",
      "_view_count": null,
      "_view_module": "@jupyter-widgets/base",
      "_view_module_version": "1.2.0",
      "_view_name": "StyleView",
      "description_width": ""
     }
    },
    "f6eb158d227041ca9eab597a02cf584b": {
     "model_module": "@jupyter-widgets/controls",
     "model_name": "HTMLModel",
     "state": {
      "_dom_classes": [],
      "_model_module": "@jupyter-widgets/controls",
      "_model_module_version": "1.5.0",
      "_model_name": "HTMLModel",
      "_view_count": null,
      "_view_module": "@jupyter-widgets/controls",
      "_view_module_version": "1.5.0",
      "_view_name": "HTMLView",
      "description": "",
      "description_tooltip": null,
      "layout": "IPY_MODEL_b6a679aa51f14e19abb396f83bb4c484",
      "placeholder": "​",
      "style": "IPY_MODEL_50972e48eeb64665ad7dfdba517af1bf",
      "value": " 1000/1000 [00:09&lt;00:00, 104.72it/s]"
     }
    }
   }
  }
 },
 "nbformat": 4,
 "nbformat_minor": 1
}
