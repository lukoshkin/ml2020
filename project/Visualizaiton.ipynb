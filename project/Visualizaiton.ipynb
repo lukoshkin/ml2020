{
 "cells": [
  {
   "cell_type": "code",
   "execution_count": 1,
   "metadata": {
    "colab": {},
    "colab_type": "code",
    "id": "TG4rfYAODADx"
   },
   "outputs": [],
   "source": [
    "import copy\n",
    "import numpy as np\n",
    "import pandas as pd\n",
    "from pathlib import Path\n",
    "\n",
    "import torch\n",
    "import torch.nn as nn\n",
    "import torch.optim as optim\n",
    "from torch.utils.data import Dataset, DataLoader\n",
    "\n",
    "%matplotlib inline\n",
    "import matplotlib.pyplot as plt\n",
    "\n",
    "from causal_convolution import DCConvStack\n",
    "from sktime.utils.load_data import load_from_arff_to_dataframe"
   ]
  },
  {
   "cell_type": "markdown",
   "metadata": {
    "colab_type": "text",
    "id": "xiUw1FPnDAD5"
   },
   "source": [
    "# Augmentation in Time Series"
   ]
  },
  {
   "cell_type": "markdown",
   "metadata": {
    "colab_type": "text",
    "id": "7xA4bpK3DAD8"
   },
   "source": [
    "## Data Loading"
   ]
  },
  {
   "cell_type": "code",
   "execution_count": 5,
   "metadata": {
    "colab": {
     "base_uri": "https://localhost:8080/",
     "height": 34
    },
    "colab_type": "code",
    "id": "aUSTon1UDAD9",
    "outputId": "ca1e5b0c-f86d-41e1-8afe-15c6e48d13e4"
   },
   "outputs": [
    {
     "name": "stdout",
     "output_type": "stream",
     "text": [
      "env: UEA_UCR_DATA_DIR=/home/lukoshkin/Dropbox/iprog/Skoltech/ml_2020/project/data\n"
     ]
    }
   ],
   "source": [
    "# Install and import of https://pypi.org/project/uea-ucr-datasets/\n",
    "![ -z \"$(pip list | grep 'Cython')\" ] && pip install Cython\n",
    "![ -z \"$(pip list | grep 'uea-ucr-datasets')\" ] && pip install uea-ucr-datasets\n",
    "\n",
    "Path('./data').mkdir(exist_ok=True)\n",
    "%env UEA_UCR_DATA_DIR={Path.cwd()}/data\n",
    "import uea_ucr_datasets as ucr_ds"
   ]
  },
  {
   "cell_type": "code",
   "execution_count": 6,
   "metadata": {
    "colab": {},
    "colab_type": "code",
    "id": "4pDE_N45DAED"
   },
   "outputs": [],
   "source": [
    "# Download univariate dataset (preprocessed by sktime)\n",
    "url = ('http://www.timeseriesclassification.com/'\n",
    "       'Downloads/Archives/Univariate2018_ts.zip')\n",
    "try:\n",
    "    is_empty = not any(Path('./data').iterdir())\n",
    "except FileNotFoundError:\n",
    "    is_empty = True\n",
    "if is_empty:\n",
    "    !wget -O data/archive.zip {url}"
   ]
  },
  {
   "cell_type": "code",
   "execution_count": 7,
   "metadata": {
    "colab": {
     "base_uri": "https://localhost:8080/",
     "height": 187
    },
    "colab_type": "code",
    "id": "hwCLqev5DAEJ",
    "outputId": "0ec8efab-2e95-4686-8936-298f371b3892"
   },
   "outputs": [
    {
     "name": "stdout",
     "output_type": "stream",
     "text": [
      "ACSF1\r\n",
      "Adiac\r\n",
      "AllGestureWiimoteX\r\n",
      "AllGestureWiimoteY\r\n",
      "AllGestureWiimoteZ\r\n",
      "archive.zip\r\n",
      "ArrowHead\r\n",
      "Beef\r\n",
      "BeetleFly\r\n",
      "BirdChicken\r\n"
     ]
    }
   ],
   "source": [
    "# Extract files from the archive\n",
    "!unzip -qn ./data/archive.zip -d data\n",
    "!mv -n data/Univariate_ts/* data\n",
    "!rmdir data/Univariate_ts 2> /dev/null\n",
    "# Output some folder names below\n",
    "!ls ./data | head -10"
   ]
  },
  {
   "cell_type": "code",
   "execution_count": 8,
   "metadata": {
    "colab": {
     "base_uri": "https://localhost:8080/",
     "height": 666
    },
    "colab_type": "code",
    "id": "Nkp-JevlDAEO",
    "outputId": "6b54c36c-4f39-4c0c-a266-230edce91caf"
   },
   "outputs": [
    {
     "name": "stdout",
     "output_type": "stream",
     "text": [
      "#\"FoodFood spectrographs are used in chemometrics to classify food types, a task that has obvious applications in food safety and quality assurance. The coffee data set is a two class problem to distinguish between Robusta and Aribica coffee beans. Further information can be found in the original paper Briandet et al. Discrimination of Arabica and Robusta in Instant Coffee by Fourier Transform Infrared Spectroscopy and Chemometrics J. Agricultural and Food Chemistry, 44 (1), 1996. The data was first used in the time series classification literature in Bagnall et al. Transformation Based Ensembles for Time Series Classification, SDM 2012.\r\n",
      "@problemName Coffee\r\n",
      "@timeStamps false\r\n",
      "@missing false\r\n",
      "@univariate true\r\n",
      "@equalLength true\r\n",
      "@seriesLength 286\r\n",
      "@classLabel true 0 1\r\n"
     ]
    }
   ],
   "source": [
    "# Data Description\n",
    "!head -8 data/Coffee/Coffee_TRAIN.ts"
   ]
  },
  {
   "cell_type": "code",
   "execution_count": 9,
   "metadata": {
    "colab": {},
    "colab_type": "code",
    "id": "MNalKluvDAET"
   },
   "outputs": [],
   "source": [
    "train_ds = ucr_ds.Dataset('Coffee', train=True)\n",
    "test_ds = ucr_ds.Dataset('Coffee', train=False)"
   ]
  },
  {
   "cell_type": "code",
   "execution_count": 10,
   "metadata": {
    "colab": {
     "base_uri": "https://localhost:8080/",
     "height": 204
    },
    "colab_type": "code",
    "id": "z6UyT9BKDAEY",
    "outputId": "37673e5e-77c6-4341-ac00-dbc4f16ddd83"
   },
   "outputs": [
    {
     "data": {
      "text/html": [
       "<div>\n",
       "<style scoped>\n",
       "    .dataframe tbody tr th:only-of-type {\n",
       "        vertical-align: middle;\n",
       "    }\n",
       "\n",
       "    .dataframe tbody tr th {\n",
       "        vertical-align: top;\n",
       "    }\n",
       "\n",
       "    .dataframe thead th {\n",
       "        text-align: right;\n",
       "    }\n",
       "</style>\n",
       "<table border=\"1\" class=\"dataframe\">\n",
       "  <thead>\n",
       "    <tr style=\"text-align: right;\">\n",
       "      <th></th>\n",
       "      <th>dim_0</th>\n",
       "    </tr>\n",
       "  </thead>\n",
       "  <tbody>\n",
       "    <tr>\n",
       "      <th>0</th>\n",
       "      <td>0     -0.518419\n",
       "1     -0.485884\n",
       "2     -0.50500...</td>\n",
       "    </tr>\n",
       "    <tr>\n",
       "      <th>1</th>\n",
       "      <td>0     -0.548462\n",
       "1     -0.533681\n",
       "2     -0.51472...</td>\n",
       "    </tr>\n",
       "    <tr>\n",
       "      <th>2</th>\n",
       "      <td>0     -0.472634\n",
       "1     -0.415546\n",
       "2     -0.35992...</td>\n",
       "    </tr>\n",
       "    <tr>\n",
       "      <th>3</th>\n",
       "      <td>0     -0.509521\n",
       "1     -0.484218\n",
       "2     -0.47795...</td>\n",
       "    </tr>\n",
       "    <tr>\n",
       "      <th>4</th>\n",
       "      <td>0     -0.563427\n",
       "1     -0.533896\n",
       "2     -0.54382...</td>\n",
       "    </tr>\n",
       "  </tbody>\n",
       "</table>\n",
       "</div>"
      ],
      "text/plain": [
       "                                               dim_0\n",
       "0  0     -0.518419\n",
       "1     -0.485884\n",
       "2     -0.50500...\n",
       "1  0     -0.548462\n",
       "1     -0.533681\n",
       "2     -0.51472...\n",
       "2  0     -0.472634\n",
       "1     -0.415546\n",
       "2     -0.35992...\n",
       "3  0     -0.509521\n",
       "1     -0.484218\n",
       "2     -0.47795...\n",
       "4  0     -0.563427\n",
       "1     -0.533896\n",
       "2     -0.54382..."
      ]
     },
     "execution_count": 10,
     "metadata": {},
     "output_type": "execute_result"
    }
   ],
   "source": [
    "train_ds.data_x.head()"
   ]
  },
  {
   "cell_type": "code",
   "execution_count": 11,
   "metadata": {
    "colab": {
     "base_uri": "https://localhost:8080/",
     "height": 68
    },
    "colab_type": "code",
    "id": "8S_EqnJwDAEd",
    "outputId": "50477a98-afda-401d-d7fd-03f36f34a645",
    "scrolled": true
   },
   "outputs": [
    {
     "data": {
      "text/plain": [
       "array(['0', '0', '0', '0', '0', '0', '0', '0', '0', '0', '0', '0', '0',\n",
       "       '0', '1', '1', '1', '1', '1', '1', '1', '1', '1', '1', '1', '1',\n",
       "       '1', '1'], dtype='<U1')"
      ]
     },
     "execution_count": 11,
     "metadata": {},
     "output_type": "execute_result"
    }
   ],
   "source": [
    "train_ds.data_y"
   ]
  },
  {
   "cell_type": "markdown",
   "metadata": {
    "colab_type": "text",
    "id": "6QzuVTpcDAEh"
   },
   "source": [
    "## Writing a DataLoader"
   ]
  },
  {
   "cell_type": "code",
   "execution_count": 11,
   "metadata": {
    "colab": {},
    "colab_type": "code",
    "id": "I_ihsJ8-DAEi"
   },
   "outputs": [],
   "source": [
    "class SimpleTSDataset(Dataset):\n",
    "    def __init__(self, sktime_ds):\n",
    "        super().__init__()\n",
    "        self.data = sktime_ds\n",
    "        \n",
    "    def __len__(self):\n",
    "        return len(self.data.data_y)\n",
    "    \n",
    "    def __getitem__(self, index):\n",
    "        return self.data[index]"
   ]
  },
  {
   "cell_type": "code",
   "execution_count": 12,
   "metadata": {
    "colab": {},
    "colab_type": "code",
    "id": "5qbwhiDCDAEn"
   },
   "outputs": [],
   "source": [
    "ts_ds = SimpleTSDataset(train_ds)\n",
    "dl = DataLoader(ts_ds, 10, shuffle=True)"
   ]
  },
  {
   "cell_type": "markdown",
   "metadata": {
    "colab_type": "text",
    "id": "wOgbIH9pDAEs"
   },
   "source": [
    "Pytorch DataLoader can make many things for you.  \n",
    "Still, low-scripted datasets lead to slowing the net training "
   ]
  },
  {
   "cell_type": "code",
   "execution_count": 11,
   "metadata": {
    "colab": {
     "base_uri": "https://localhost:8080/",
     "height": 34
    },
    "colab_type": "code",
    "id": "phc9vj73DAEt",
    "outputId": "5d2e6900-3447-4aed-c361-131e4ac66cec"
   },
   "outputs": [
    {
     "name": "stdout",
     "output_type": "stream",
     "text": [
      "2.12 s ± 414 ms per loop (mean ± std. dev. of 7 runs, 1 loop each)\n"
     ]
    }
   ],
   "source": [
    "%%timeit\n",
    "for _ in range(100):\n",
    "    for b in dl:\n",
    "        X,y = b"
   ]
  },
  {
   "cell_type": "code",
   "execution_count": 12,
   "metadata": {
    "colab": {},
    "colab_type": "code",
    "id": "9vrZ4EagDAEy"
   },
   "outputs": [],
   "source": [
    "class TimeSeriesDataset(Dataset):\n",
    "    def __init__(self, sktime_ds):\n",
    "        super().__init__()\n",
    "        data_x = []\n",
    "        for wtf in sktime_ds.data_x.values:\n",
    "            data_x.append(wtf[0])\n",
    "        self.X = np.array(data_x, 'f4').transpose(1,0)[...,None]\n",
    "        self.y,_ = pd.factorize(sktime_ds.data_y)\n",
    "        \n",
    "    def __len__(self):\n",
    "        return len(self.y)\n",
    "    \n",
    "    def __getitem__(self, index):\n",
    "        return self.X[index], self.y[index]"
   ]
  },
  {
   "cell_type": "code",
   "execution_count": 13,
   "metadata": {
    "colab": {},
    "colab_type": "code",
    "id": "_dikoU3fDAE2"
   },
   "outputs": [],
   "source": [
    "ts_ds = TimeSeriesDataset(train_ds)\n",
    "dl = DataLoader(ts_ds, 10, shuffle=True)"
   ]
  },
  {
   "cell_type": "code",
   "execution_count": 14,
   "metadata": {
    "colab": {
     "base_uri": "https://localhost:8080/",
     "height": 34
    },
    "colab_type": "code",
    "id": "TpLGSXn1DAE6",
    "outputId": "658bc3a2-4726-4b63-c327-36349ffb60ef"
   },
   "outputs": [
    {
     "name": "stdout",
     "output_type": "stream",
     "text": [
      "29.1 ms ± 1.21 ms per loop (mean ± std. dev. of 7 runs, 10 loops each)\n"
     ]
    }
   ],
   "source": [
    "%%timeit\n",
    "for _ in range(100):\n",
    "    for b in dl:\n",
    "        X,y = b"
   ]
  },
  {
   "cell_type": "markdown",
   "metadata": {
    "colab_type": "text",
    "id": "lBi-3xHeDAE-"
   },
   "source": [
    "Since the dataset is small, we can load the whole data and slice it into chunks"
   ]
  },
  {
   "cell_type": "code",
   "execution_count": 12,
   "metadata": {
    "colab": {},
    "colab_type": "code",
    "id": "ny2iCBxeDAE_"
   },
   "outputs": [],
   "source": [
    "mode = 'cnn'\n",
    "device = torch.device(\n",
    "    'cuda' if torch.cuda.is_available() else 'cpu')"
   ]
  },
  {
   "cell_type": "code",
   "execution_count": 13,
   "metadata": {
    "colab": {},
    "colab_type": "code",
    "id": "ny2iCBxeDAE_"
   },
   "outputs": [],
   "source": [
    "# for rnn SAE\n",
    "X = []\n",
    "for v in train_ds.data_x.values: X.append(v[0])\n",
    "if mode == 'rnn':\n",
    "    X_train = torch.Tensor(X).permute(1,0)[...,None]\n",
    "    y_train = torch.LongTensor(train_ds.data_y.astype(int))\n",
    "else:\n",
    "    X_train = torch.Tensor(X)[:,None]\n",
    "    y_train = torch.LongTensor(train_ds.data_y.astype(int))\n",
    "X_train, y_train = X_train.to(device), y_train.to(device)\n",
    "\n",
    "X = []\n",
    "for v in test_ds.data_x.values: X.append(v[0])\n",
    "if mode == 'rnn':\n",
    "    X_test = torch.Tensor(X).permute(1,0)[...,None]\n",
    "    y_test = torch.LongTensor(test_ds.data_y.astype(int))\n",
    "else:\n",
    "    X_test = torch.Tensor(X)[:,None]\n",
    "    y_test = torch.LongTensor(test_ds.data_y.astype(int))\n",
    "X_test, y_test = X_test.to(device), y_test.to(device)"
   ]
  },
  {
   "cell_type": "code",
   "execution_count": 17,
   "metadata": {
    "colab": {
     "base_uri": "https://localhost:8080/",
     "height": 34
    },
    "colab_type": "code",
    "id": "v7UVf_I7DAFD",
    "outputId": "a6fd80c1-2098-4b53-e020-ff057d763cff"
   },
   "outputs": [
    {
     "name": "stdout",
     "output_type": "stream",
     "text": [
      "9.45 ms ± 572 µs per loop (mean ± std. dev. of 7 runs, 100 loops each)\n"
     ]
    }
   ],
   "source": [
    "%%timeit\n",
    "for _ in range(100):\n",
    "    ids = torch.randperm(X_train.size(1))\n",
    "    for b_x, b_y in zip(X_train[:,ids].chunk(3, 1), y_train[ids].chunk(3)):\n",
    "        pass"
   ]
  },
  {
   "cell_type": "code",
   "execution_count": 14,
   "metadata": {},
   "outputs": [],
   "source": [
    "def get_batches(X_train, y_train=None, mode='rnn'):\n",
    "    if mode == 'rnn':\n",
    "        ids = torch.randperm(X_train.size(1))\n",
    "        if y_train is None:\n",
    "            for bx in X_train[:,ids].chunk(3, 1):\n",
    "                yield bx\n",
    "        else:\n",
    "            for bx,by in zip(\n",
    "                X_train[:,ids].chunk(3, 1),\n",
    "                y_train[ids].chunk(3)):\n",
    "                yield bx,by\n",
    "    elif mode == 'cnn':\n",
    "        ids = torch.randperm(len(X_train))\n",
    "        if y_train is None:\n",
    "            for bx in X_train[ids].chunk(3):\n",
    "                yield bx\n",
    "        else:\n",
    "            for bx,by in zip(\n",
    "                X_train[ids].chunk(3),\n",
    "                y_train[ids].chunk(3)):\n",
    "                yield bx,by\n",
    "    else:\n",
    "        raise TypeError(\"arg type must be 'cnn' or 'rnn'\")"
   ]
  },
  {
   "cell_type": "markdown",
   "metadata": {
    "colab_type": "text",
    "id": "_3z0PD5jDAFI"
   },
   "source": [
    "## Autoencoders"
   ]
  },
  {
   "cell_type": "code",
   "execution_count": 19,
   "metadata": {
    "colab": {},
    "colab_type": "code",
    "id": "8coTp_dODAFU"
   },
   "outputs": [],
   "source": [
    "class SimpleSeqAE(nn.Module):\n",
    "    def __init__(self, input_dim, latent_dim, num_layers):\n",
    "        super().__init__()\n",
    "        self.encoder = nn.GRU(input_dim, latent_dim, num_layers)\n",
    "        self.decoder = nn.GRU(latent_dim, input_dim, num_layers)\n",
    "\n",
    "    def forward(self, input):\n",
    "        _, last = self.encoder(input)\n",
    "        encoded = last[-1].expand(len(input), *last.shape[1:])\n",
    "        y, _ = self.decoder(encoded)\n",
    "        return y"
   ]
  },
  {
   "cell_type": "code",
   "execution_count": 20,
   "metadata": {
    "colab": {},
    "colab_type": "code",
    "id": "nxC__qjkLYGI"
   },
   "outputs": [],
   "source": [
    "class RNNSeqEncoder(nn.Module):\n",
    "    def __init__(self, emb_size, code_size):\n",
    "        super().__init__()\n",
    "        self.gru1 = nn.GRU(emb_size, code_size)\n",
    "        self.gru2 = nn.GRU(code_size, code_size)\n",
    "        self.proj = nn.Sequential(\n",
    "            nn.Linear(code_size, code_size),\n",
    "            nn.LeakyReLU(.2))\n",
    "        \n",
    "    def forward(self, X):\n",
    "        H,res_h = self.gru1(X)\n",
    "        H,last= self.gru2(H, self.proj(res_h))\n",
    "        code = last + res_h\n",
    "        return code\n",
    "        \n",
    "class RNNSeqDecoder(nn.Module):\n",
    "    def __init__(self, emb_size, code_size, seq_length):\n",
    "        super().__init__()\n",
    "        self.gru1 = nn.GRU(code_size, code_size)\n",
    "        self.gru2 = nn.GRU(code_size, emb_size)\n",
    "        self.proj1 = nn.Sequential(\n",
    "            nn.Linear(code_size, code_size),\n",
    "            nn.LeakyReLU(.2, inplace=True))\n",
    "        self.proj2 = nn.Sequential(\n",
    "            nn.Linear(code_size, emb_size),\n",
    "            nn.LeakyReLU(.2, inplace=True))\n",
    "        self.proj3 = nn.Sequential(\n",
    "            nn.Linear(code_size, emb_size))\n",
    "        self._shape = (seq_length, -1, code_size)\n",
    "        \n",
    "    def forward(self, code):\n",
    "        H = code.expand(self._shape)\n",
    "        H,last = self.gru1(H, self.proj1(code))\n",
    "        X,_ = self.gru2(H, self.proj2(last))\n",
    "        return X + self.proj3(H)\n",
    "\n",
    "class RNNSeqAE(nn.Module):\n",
    "    def __init__(self, emb_size, code_size, seq_length):\n",
    "        super().__init__()\n",
    "        self.enc = RNNSeqEncoder(emb_size, code_size)\n",
    "        self.dec = RNNSeqDecoder(emb_size, code_size, seq_length)\n",
    "    \n",
    "    def forward(self, X):\n",
    "        return self.dec(self.enc(X))"
   ]
  },
  {
   "cell_type": "code",
   "execution_count": 21,
   "metadata": {
    "colab": {},
    "colab_type": "code",
    "id": "nxC__qjkLYGI"
   },
   "outputs": [],
   "source": [
    "# CRAZY IMPLEMENTATION (CLOSE TO MEMORIZATION ?)\n",
    "class CrazyRNNSeqEncoder(nn.Module):\n",
    "    def __init__(self, emb_size, code_size):\n",
    "        super().__init__()\n",
    "        self.gru1 = nn.GRU(emb_size, code_size)\n",
    "        self.gru2 = nn.GRU(code_size, code_size)\n",
    "        self.proj = nn.Sequential(\n",
    "            nn.Linear(code_size, code_size),\n",
    "            nn.LeakyReLU(.2))\n",
    "        \n",
    "    def forward(self, X):\n",
    "        H,res_h = self.gru1(X)\n",
    "        H,last= self.gru2(H, self.proj(res_h))\n",
    "        code = last + res_h\n",
    "        return code\n",
    "        \n",
    "class CrazyRNNSeqDecoder(nn.Module):\n",
    "    def __init__(self, emb_size, code_size, seq_length):\n",
    "        super().__init__()\n",
    "        self.gru1 = nn.GRU(code_size, code_size)\n",
    "        self.gru2 = nn.GRU(code_size, emb_size)\n",
    "        self.proj1 = nn.Sequential(\n",
    "            nn.Linear(code_size, code_size),\n",
    "            nn.LeakyReLU(.2, inplace=True))\n",
    "        self.proj2 = nn.Sequential(\n",
    "            nn.Linear(code_size, emb_size),\n",
    "            nn.LeakyReLU(.2, inplace=True))\n",
    "        self.proj3 = nn.Sequential(\n",
    "            nn.Linear(seq_length*code_size, seq_length*emb_size)\n",
    "        )\n",
    "        self._shape = (seq_length, -1, code_size)\n",
    "        self.new_size = code_size*seq_length\n",
    "        self.new_shape = (-1, seq_length, emb_size)\n",
    "        \n",
    "    def forward(self, code):\n",
    "        H = code.expand(self._shape)\n",
    "        H,last = self.gru1(H, self.proj1(code))\n",
    "        X,_ = self.gru2(H, self.proj2(last))\n",
    "        H = H.permute(1,0,2).reshape(-1, self.new_size)\n",
    "        H = self.proj3(H).reshape(self.new_shape)\n",
    "        return X + H.permute(1,0,2)\n",
    "\n",
    "class CrazyRNNSeqAE(nn.Module):\n",
    "    def __init__(self, emb_size, code_size, seq_length):\n",
    "        super().__init__()\n",
    "        self.enc = CrazyRNNSeqEncoder(emb_size, code_size)\n",
    "        self.dec = CrazyRNNSeqDecoder(emb_size, code_size, seq_length)\n",
    "    \n",
    "    def forward(self, X):\n",
    "        return self.dec(self.enc(X))"
   ]
  },
  {
   "cell_type": "code",
   "execution_count": 53,
   "metadata": {},
   "outputs": [],
   "source": [
    "class ConvEncoder(nn.Module):\n",
    "    def __init__(self, emb_size, code_size, channels, kernel_size=32):\n",
    "        super().__init__()\n",
    "        channels.insert(0, emb_size)\n",
    "        \n",
    "        self.tb = DCConvStack(channels, kernel_size, len(channels)-1)\n",
    "        self.fc = nn.Linear(channels[-1], code_size)\n",
    "    \n",
    "    def forward(self, X):\n",
    "        H,_ = self.tb(X).max(axis=-1)\n",
    "        return self.fc(H)\n",
    "    \n",
    "class ConvDecoder(nn.Module):\n",
    "    def __init__(\n",
    "        self, emb_size, code_size,\n",
    "        seq_length, channels, kernel_size=32):\n",
    "        super().__init__()\n",
    "        channels.append(emb_size)\n",
    "        \n",
    "        self.tb = DCConvStack(channels, kernel_size, len(channels)-1)\n",
    "        self.fc = nn.Linear(code_size, channels[0])\n",
    "        self.leaky = nn.LeakyReLU(.2, inplace=True)\n",
    "        self._shape = (channels[0], seq_length)\n",
    "    \n",
    "    def forward(self, code):\n",
    "        H = self.leaky(self.fc(code))\n",
    "        H = H[...,None].expand(-1, *self._shape)\n",
    "        return self.tb(H).flip(-1)\n",
    "    \n",
    "class ConvSeqAE(nn.Module):\n",
    "    def __init__(\n",
    "        self, emb_size, code_size,\n",
    "        seq_length, channels, kernel_size=32):\n",
    "        super().__init__()\n",
    "        \n",
    "        self.enc = ConvEncoder(\n",
    "            emb_size, code_size, channels, kernel_size)\n",
    "        self.dec = ConvDecoder(\n",
    "            emb_size, code_size,\n",
    "            seq_length, channels[::-1], kernel_size)\n",
    "        \n",
    "    def forward(self, X):\n",
    "        return self.dec(self.enc(X))"
   ]
  },
  {
   "cell_type": "code",
   "execution_count": 16,
   "metadata": {
    "colab": {},
    "colab_type": "code",
    "id": "9oXqtx_YDAFX"
   },
   "outputs": [],
   "source": [
    "if mode == 'rnn':\n",
    "    #sae = SimpleSeqAE(1, 100, 2)\n",
    "    #sae = RNNSeqAE(1, 100, 286)\n",
    "    sae = CrazyRNNSeqAE(1, 100, 286)\n",
    "elif mode == 'cnn':\n",
    "    sae = ConvSeqAE(1, 100, 286, [32, 64, 128, 256])\n",
    "\n",
    "sae = sae.to(device)\n",
    "opt = optim.Adam(sae.parameters(), 1e-4)\n",
    "sch = optim.lr_scheduler.StepLR(opt, 2, .999)\n",
    "\n",
    "MSE = nn.MSELoss()\n",
    "MAE = lambda X,Y: (X-Y).abs().mean()\n",
    "criterion = MAE\n",
    "\n",
    "# training procedure\n",
    "best_weights = None\n",
    "best_score = [float('inf')]\n",
    "train_history, test_history = [], []\n",
    "def train_ae(num_epochs, mode, verbose=True):\n",
    "    for epoch in range(num_epochs):\n",
    "        train_loss = []\n",
    "        for bx in get_batches(X_train, mode=mode):\n",
    "            opt.zero_grad()\n",
    "            bx_rec = sae(bx)\n",
    "            loss = criterion(bx_rec, bx)\n",
    "            loss.backward()\n",
    "            train_loss.append(loss.item())\n",
    "            opt.step()\n",
    "        sch.step()\n",
    "        train_history.append(np.mean(train_loss))\n",
    "        test_loss = criterion(sae(X_test), X_test).item()\n",
    "        test_history.append(test_loss)\n",
    "        if verbose:\n",
    "            print(f'Epoch #{epoch}\\n------')\n",
    "            print(train_history[-1])\n",
    "            print(test_history[-1], '\\n')\n",
    "        if test_loss < best_score[0]:\n",
    "            best_score[0] = test_loss\n",
    "            best_weights = copy.deepcopy(sae.state_dict())"
   ]
  },
  {
   "cell_type": "code",
   "execution_count": 17,
   "metadata": {
    "colab": {
     "base_uri": "https://localhost:8080/",
     "height": 442
    },
    "colab_type": "code",
    "id": "97agFyzOOL2-",
    "outputId": "d01ece03-75dd-4c1d-d0cf-40dcac4ef2ab",
    "scrolled": false
   },
   "outputs": [
    {
     "data": {
      "text/plain": [
       "<bound method Module.modules of ConvSeqAE(\n",
       "  (enc): ConvEncoder(\n",
       "    (tb): DCConvStack(\n",
       "      (main): Sequential(\n",
       "        (0): TemporalBlock(\n",
       "          (conv1): Conv1d(1, 32, kernel_size=(32,), stride=(1,), padding=(31,))\n",
       "          (conv2): Conv1d(32, 32, kernel_size=(32,), stride=(1,), padding=(31,))\n",
       "          (resample): Conv1d(1, 32, kernel_size=(1,), stride=(1,))\n",
       "          (leaky): LeakyReLU(negative_slope=0.2, inplace=True)\n",
       "        )\n",
       "        (1): TemporalBlock(\n",
       "          (conv1): Conv1d(32, 64, kernel_size=(32,), stride=(1,), padding=(31,))\n",
       "          (conv2): Conv1d(64, 64, kernel_size=(32,), stride=(1,), padding=(31,))\n",
       "          (resample): Conv1d(32, 64, kernel_size=(1,), stride=(1,))\n",
       "          (leaky): LeakyReLU(negative_slope=0.2, inplace=True)\n",
       "        )\n",
       "        (2): TemporalBlock(\n",
       "          (conv1): Conv1d(64, 128, kernel_size=(32,), stride=(1,), padding=(31,))\n",
       "          (conv2): Conv1d(128, 128, kernel_size=(32,), stride=(1,), padding=(31,))\n",
       "          (resample): Conv1d(64, 128, kernel_size=(1,), stride=(1,))\n",
       "          (leaky): LeakyReLU(negative_slope=0.2, inplace=True)\n",
       "        )\n",
       "        (3): TemporalBlock(\n",
       "          (conv1): Conv1d(128, 256, kernel_size=(32,), stride=(1,), padding=(31,))\n",
       "          (conv2): Conv1d(256, 256, kernel_size=(32,), stride=(1,), padding=(31,))\n",
       "          (resample): Conv1d(128, 256, kernel_size=(1,), stride=(1,))\n",
       "          (leaky): LeakyReLU(negative_slope=0.2, inplace=True)\n",
       "        )\n",
       "      )\n",
       "    )\n",
       "    (fc): Linear(in_features=256, out_features=100, bias=True)\n",
       "  )\n",
       "  (dec): ConvDecoder(\n",
       "    (tb): DCConvStack(\n",
       "      (main): Sequential(\n",
       "        (0): TemporalBlock(\n",
       "          (conv1): Conv1d(256, 128, kernel_size=(32,), stride=(1,), padding=(31,))\n",
       "          (conv2): Conv1d(128, 128, kernel_size=(32,), stride=(1,), padding=(31,))\n",
       "          (resample): Conv1d(256, 128, kernel_size=(1,), stride=(1,))\n",
       "          (leaky): LeakyReLU(negative_slope=0.2, inplace=True)\n",
       "        )\n",
       "        (1): TemporalBlock(\n",
       "          (conv1): Conv1d(128, 64, kernel_size=(32,), stride=(1,), padding=(31,))\n",
       "          (conv2): Conv1d(64, 64, kernel_size=(32,), stride=(1,), padding=(31,))\n",
       "          (resample): Conv1d(128, 64, kernel_size=(1,), stride=(1,))\n",
       "          (leaky): LeakyReLU(negative_slope=0.2, inplace=True)\n",
       "        )\n",
       "        (2): TemporalBlock(\n",
       "          (conv1): Conv1d(64, 32, kernel_size=(32,), stride=(1,), padding=(31,))\n",
       "          (conv2): Conv1d(32, 32, kernel_size=(32,), stride=(1,), padding=(31,))\n",
       "          (resample): Conv1d(64, 32, kernel_size=(1,), stride=(1,))\n",
       "          (leaky): LeakyReLU(negative_slope=0.2, inplace=True)\n",
       "        )\n",
       "        (3): TemporalBlock(\n",
       "          (conv1): Conv1d(32, 1, kernel_size=(32,), stride=(1,), padding=(31,))\n",
       "          (conv2): Conv1d(1, 1, kernel_size=(32,), stride=(1,), padding=(31,))\n",
       "          (resample): Conv1d(32, 1, kernel_size=(1,), stride=(1,))\n",
       "          (leaky): LeakyReLU(negative_slope=0.2, inplace=True)\n",
       "        )\n",
       "        (4): TemporalBlock(\n",
       "          (conv1): Conv1d(1, 1, kernel_size=(32,), stride=(1,), padding=(31,))\n",
       "          (conv2): Conv1d(1, 1, kernel_size=(32,), stride=(1,), padding=(31,))\n",
       "          (resample): Sequential()\n",
       "          (leaky): LeakyReLU(negative_slope=0.2, inplace=True)\n",
       "        )\n",
       "      )\n",
       "    )\n",
       "    (fc): Linear(in_features=100, out_features=256, bias=True)\n",
       "    (leaky): LeakyReLU(negative_slope=0.2, inplace=True)\n",
       "  )\n",
       ")>"
      ]
     },
     "execution_count": 17,
     "metadata": {},
     "output_type": "execute_result"
    }
   ],
   "source": [
    "sae.modules"
   ]
  },
  {
   "cell_type": "code",
   "execution_count": null,
   "metadata": {
    "colab": {
     "base_uri": "https://localhost:8080/",
     "height": 1000
    },
    "colab_type": "code",
    "id": "bPE3BQ_UDAFd",
    "outputId": "c3a5b0ef-6172-4bac-a683-87c32ecee97a"
   },
   "outputs": [],
   "source": [
    "train_ae(30, mode, False)"
   ]
  },
  {
   "cell_type": "code",
   "execution_count": 160,
   "metadata": {
    "colab": {
     "base_uri": "https://localhost:8080/",
     "height": 265
    },
    "colab_type": "code",
    "id": "-AMDn-q6JDQf",
    "outputId": "6bb2221c-3b20-4c6b-8de8-ecca8a5dbee5"
   },
   "outputs": [
    {
     "data": {
      "image/png": "[encoded data removed]",
      "text/plain": [
       "<Figure size 432x288 with 1 Axes>"
      ]
     },
     "metadata": {
      "needs_background": "light"
     },
     "output_type": "display_data"
    }
   ],
   "source": [
    "plt.plot(train_history)\n",
    "plt.plot(test_history);"
   ]
  },
  {
   "cell_type": "code",
   "execution_count": 27,
   "metadata": {
    "colab": {
     "base_uri": "https://localhost:8080/",
     "height": 289
    },
    "colab_type": "code",
    "id": "e_jhyWNdDAFk",
    "outputId": "3354e3a9-e217-4c5a-9d13-2e915df7f8b8",
    "scrolled": true
   },
   "outputs": [
    {
     "data": {
      "text/plain": [
       "(tensor([[-0.5871, -0.5939, -0.6055,  ..., -0.5989, -0.5627, -0.5252],\n",
       "         [-0.5540, -0.5606, -0.5718,  ..., -0.5654, -0.5305, -0.4943],\n",
       "         [-0.5494, -0.5570, -0.5701,  ..., -0.5626, -0.5221, -0.4801],\n",
       "         ...,\n",
       "         [-1.8614, -1.8478, -1.8245,  ..., -1.8378, -1.9100, -1.9847],\n",
       "         [-1.8533, -1.8388, -1.8140,  ..., -1.8282, -1.9050, -1.9846],\n",
       "         [-1.8330, -1.8193, -1.7956,  ..., -1.8091, -1.8822, -1.9580]],\n",
       "        grad_fn=<SqueezeBackward0>),\n",
       " tensor([[-0.5723, -0.6629, -0.6653,  ..., -0.5213, -0.5985, -0.6303],\n",
       "         [-0.5737, -0.6550, -0.6368,  ..., -0.4891, -0.5762, -0.5871],\n",
       "         [-0.6026, -0.6347, -0.6397,  ..., -0.5139, -0.6023, -0.5301],\n",
       "         ...,\n",
       "         [-1.8439, -1.8251, -1.7937,  ..., -1.8122, -1.9104, -2.0121],\n",
       "         [-1.8455, -1.8269, -1.7953,  ..., -1.8136, -1.9118, -2.0148],\n",
       "         [-1.8467, -1.8284, -1.7969,  ..., -1.8147, -1.9125, -2.0159]]))"
      ]
     },
     "execution_count": 27,
     "metadata": {},
     "output_type": "execute_result"
    }
   ],
   "source": [
    "if best_weights:\n",
    "    sae.load_state_dict(best_weights)\n",
    "ids = torch.randperm(X_test.size(1))\n",
    "sae(X_test[:,ids]).squeeze(), X_test[:,ids].squeeze()"
   ]
  },
  {
   "cell_type": "markdown",
   "metadata": {},
   "source": [
    "## Classifier for Time Series"
   ]
  },
  {
   "cell_type": "code",
   "execution_count": 31,
   "metadata": {},
   "outputs": [],
   "source": [
    "class SeqClassifier(ConvEncoder):\n",
    "    def __init__(self, emb_size, n_classes, channels, kernel_size=7):\n",
    "        super().__init__(emb_size, n_classes, channels, kernel_size)\n",
    "\n",
    "    def forward(self, X):\n",
    "        return super().forward(X)\n",
    "    \n",
    "    def predict_probs(self, X):\n",
    "        return super().forward(X).softmax(1)\n",
    "    \n",
    "    def predict(self, X):\n",
    "        return super().forward(X).argmax(1)"
   ]
  },
  {
   "cell_type": "code",
   "execution_count": 36,
   "metadata": {},
   "outputs": [],
   "source": [
    "net = SeqClassifier(1, 2, [2, 4, 8], kernel_size=7).to(device)\n",
    "opt = optim.Adam(net.parameters(), 1e-2)\n",
    "sch = optim.lr_scheduler.StepLR(opt, 2, .999)\n",
    "\n",
    "criterion = nn.CrossEntropyLoss()\n",
    "\n",
    "# training procedure\n",
    "best_weights = None\n",
    "best_score = [float('inf')]\n",
    "train_history, test_history = [], []\n",
    "def train_clf(num_epochs, mode, verbose=True):\n",
    "    for epoch in range(num_epochs):\n",
    "        train_loss = []\n",
    "        for bx,by in get_batches(X_train, y_train, mode=mode):\n",
    "            opt.zero_grad()\n",
    "            y_pred = net(bx)\n",
    "            loss = criterion(y_pred, by)\n",
    "            loss.backward()\n",
    "            train_loss.append(loss.item())\n",
    "            opt.step()\n",
    "        sch.step()\n",
    "        train_history.append(np.mean(train_loss))\n",
    "        test_loss = criterion(net(X_test), y_test).item()\n",
    "        test_history.append(test_loss)\n",
    "        if verbose:\n",
    "            print(f'Epoch #{epoch}\\n------')\n",
    "            print(train_history[-1])\n",
    "            print(test_history[-1], '\\n')\n",
    "        if test_loss < best_score[0]:\n",
    "            best_score[0] = test_loss\n",
    "            best_weights = copy.deepcopy(net.state_dict())"
   ]
  },
  {
   "cell_type": "code",
   "execution_count": null,
   "metadata": {},
   "outputs": [],
   "source": [
    "train_clf(100, mode, False)"
   ]
  },
  {
   "cell_type": "code",
   "execution_count": 39,
   "metadata": {
    "scrolled": true
   },
   "outputs": [
    {
     "data": {
      "image/png": "[encoded data removed]",
      "text/plain": [
       "<Figure size 432x288 with 1 Axes>"
      ]
     },
     "metadata": {
      "needs_background": "light"
     },
     "output_type": "display_data"
    }
   ],
   "source": [
    "plt.plot(train_history);\n",
    "plt.plot(test_history);"
   ]
  },
  {
   "cell_type": "code",
   "execution_count": 40,
   "metadata": {},
   "outputs": [
    {
     "data": {
      "text/plain": [
       "(tensor([0, 0, 0, 0, 0, 0, 1, 0, 0, 0, 0, 0, 0, 0, 0, 1, 1, 1, 1, 1, 1, 1, 1, 1,\n",
       "         1, 1, 1, 1]),\n",
       " tensor([0, 0, 0, 0, 0, 0, 0, 0, 0, 0, 0, 0, 0, 0, 0, 1, 1, 1, 1, 1, 1, 1, 1, 1,\n",
       "         1, 1, 1, 1]))"
      ]
     },
     "execution_count": 40,
     "metadata": {},
     "output_type": "execute_result"
    }
   ],
   "source": [
    "net.predict(X_test), y_test"
   ]
  },
  {
   "cell_type": "markdown",
   "metadata": {},
   "source": [
    "## Augmentation"
   ]
  },
  {
   "cell_type": "code",
   "execution_count": 154,
   "metadata": {},
   "outputs": [],
   "source": [
    "def oversampling(X, y, augments, k=3, sign=-1):\n",
    "    \"\"\"\n",
    "    sign = -1 -> intrapolation\n",
    "    sign = +1 -> extrapolation\n",
    "    \"\"\"\n",
    "    new_X, new_y = [], []\n",
    "    for lbl, m in enumerate(augments):\n",
    "        X_lbl = X[y==lbl]\n",
    "        m_ids = torch.multinomial(\n",
    "            torch.ones(len(X_lbl)), m, replacement=True)\n",
    "        lambda_ = X.new(m).uniform_(.3, .7)[:, None, None]\n",
    "        \n",
    "        mX_lbl = X_lbl[m_ids]\n",
    "        mk_ids = torch.norm(\n",
    "            X_lbl - mX_lbl[:,None], dim=2\n",
    "        ).topk(k, dim=1)[1]\n",
    "        \n",
    "        new_X.append(\n",
    "            (lambda_*sign*(mX_lbl[:,None]-X_lbl[mk_ids])\n",
    "             + mX_lbl[:,None]).flatten(0,1))\n",
    "        new_y.append(torch.tensor([lbl]*m*k))\n",
    "    return torch.cat(new_X), torch.cat(new_y)"
   ]
  },
  {
   "cell_type": "code",
   "execution_count": null,
   "metadata": {},
   "outputs": [],
   "source": [
    "code = sae.enc(X_train).detach()\n",
    "\n",
    "augmented_X, augmented_y = [], []\n",
    "\n",
    "# Balance the number of class representators\n",
    "cnts = y_train.bincount()\n",
    "augments = cnts.max().item() - cnts\n",
    "if any(augments):\n",
    "    new_code, new_y = oversampling(code, y_train, augments)\n",
    "    new_X = sae.dec(new_code).detach()\n",
    "    augmented_X.append(new_X)\n",
    "    augmented_y.append(new_y)\n",
    "    \n",
    "M = 10  # chose M: <!! each class will grow by M !!>\n",
    "# Equal augmentation\n",
    "augments = [M] * len(cnts)\n",
    "new_code, new_y = oversampling(code, y_train, augments)\n",
    "new_X = sae.dec(new_code).detach()\n",
    "augmented_X.append(new_X)\n",
    "augmented_y.append(new_y)\n",
    "\n",
    "augmented_X, augmented_y = map(torch.cat, (augmented_X, augmented_y))"
   ]
  },
  {
   "cell_type": "code",
   "execution_count": 159,
   "metadata": {},
   "outputs": [],
   "source": [
    "# Data augmentation by adding gaussian noise\n",
    "\n",
    "# !! Take into consideration that noise here is being applied\n",
    "# to balanced and already augmented by inter/extra-polation dataset !!\n",
    "\n",
    "code = sae.enc(augmented_X).detach()\n",
    "new_code = code + .05*torch.randn_like(code)\n",
    "augmented_X = torch.cat([augmented_X, sae.dec(new_code).detach()])\n",
    "augmented_y = torch.cat([augmented_y, augmented_y])"
   ]
  },
  {
   "cell_type": "markdown",
   "metadata": {},
   "source": [
    "## Multivariate Data"
   ]
  },
  {
   "cell_type": "code",
   "execution_count": 2,
   "metadata": {},
   "outputs": [
    {
     "name": "stdout",
     "output_type": "stream",
     "text": [
      "\n",
      "Shape of the training dataset: (160, 10)\n"
     ]
    },
    {
     "data": {
      "text/html": [
       "<div>\n",
       "<style scoped>\n",
       "    .dataframe tbody tr th:only-of-type {\n",
       "        vertical-align: middle;\n",
       "    }\n",
       "\n",
       "    .dataframe tbody tr th {\n",
       "        vertical-align: top;\n",
       "    }\n",
       "\n",
       "    .dataframe thead th {\n",
       "        text-align: right;\n",
       "    }\n",
       "</style>\n",
       "<table border=\"1\" class=\"dataframe\">\n",
       "  <thead>\n",
       "    <tr style=\"text-align: right;\">\n",
       "      <th></th>\n",
       "      <th>dim_0</th>\n",
       "      <th>dim_1</th>\n",
       "      <th>dim_2</th>\n",
       "      <th>dim_3</th>\n",
       "      <th>dim_4</th>\n",
       "      <th>dim_5</th>\n",
       "      <th>dim_6</th>\n",
       "      <th>dim_7</th>\n",
       "      <th>dim_8</th>\n",
       "      <th>dim_9</th>\n",
       "    </tr>\n",
       "  </thead>\n",
       "  <tbody>\n",
       "    <tr>\n",
       "      <th>0</th>\n",
       "      <td>0      152.472131\n",
       "1      151.149948\n",
       "2      133...</td>\n",
       "      <td>0      12.392351\n",
       "1      77.166998\n",
       "2      75.53...</td>\n",
       "      <td>0       18.801367\n",
       "1        7.669297\n",
       "2       20...</td>\n",
       "      <td>0      119.067984\n",
       "1       92.378960\n",
       "2       50...</td>\n",
       "      <td>0        9.371185\n",
       "1       28.596053\n",
       "2       33...</td>\n",
       "      <td>0      176.878290\n",
       "1      134.774572\n",
       "2       77...</td>\n",
       "      <td>0      187.217536\n",
       "1      181.612639\n",
       "2      143...</td>\n",
       "      <td>0      148.597142\n",
       "1       -7.859846\n",
       "2      -75...</td>\n",
       "      <td>0      192.406885\n",
       "1      123.777559\n",
       "2       37...</td>\n",
       "      <td>0      125.757108\n",
       "1      -38.720199\n",
       "2      -86...</td>\n",
       "    </tr>\n",
       "    <tr>\n",
       "      <th>1</th>\n",
       "      <td>0      -13.040644\n",
       "1       12.830811\n",
       "2       -3...</td>\n",
       "      <td>0       19.233769\n",
       "1       -4.991483\n",
       "2      -16...</td>\n",
       "      <td>0       66.933527\n",
       "1      124.618288\n",
       "2       98...</td>\n",
       "      <td>0      -35.137874\n",
       "1        1.701522\n",
       "2       25...</td>\n",
       "      <td>0       50.791490\n",
       "1      221.224243\n",
       "2      252...</td>\n",
       "      <td>0     -154.184133\n",
       "1      -26.774156\n",
       "2       45...</td>\n",
       "      <td>0       30.970773\n",
       "1      148.602671\n",
       "2      160...</td>\n",
       "      <td>0     -208.111167\n",
       "1     -192.617816\n",
       "2     -181...</td>\n",
       "      <td>0     -130.664900\n",
       "1      -63.905838\n",
       "2      -15...</td>\n",
       "      <td>0     -195.935521\n",
       "1      -19.472038\n",
       "2       56...</td>\n",
       "    </tr>\n",
       "    <tr>\n",
       "      <th>2</th>\n",
       "      <td>0      347.753571\n",
       "1      283.267749\n",
       "2      242...</td>\n",
       "      <td>0      197.774774\n",
       "1      150.099303\n",
       "2      117...</td>\n",
       "      <td>0       63.838660\n",
       "1       63.824220\n",
       "2       84...</td>\n",
       "      <td>0      245.984713\n",
       "1      162.896918\n",
       "2      108...</td>\n",
       "      <td>0      210.905239\n",
       "1      144.768204\n",
       "2       94...</td>\n",
       "      <td>0      280.506386\n",
       "1      206.246174\n",
       "2      170...</td>\n",
       "      <td>0      354.705629\n",
       "1      262.012640\n",
       "2      168...</td>\n",
       "      <td>0      223.814706\n",
       "1      122.452679\n",
       "2       65...</td>\n",
       "      <td>0      207.523094\n",
       "1      182.589754\n",
       "2      126...</td>\n",
       "      <td>0      303.975308\n",
       "1      168.434157\n",
       "2       65...</td>\n",
       "    </tr>\n",
       "    <tr>\n",
       "      <th>3</th>\n",
       "      <td>0     -233.910173\n",
       "1     -263.752715\n",
       "2     -250...</td>\n",
       "      <td>0     -187.467394\n",
       "1     -142.395013\n",
       "2     -135...</td>\n",
       "      <td>0      -86.571985\n",
       "1      -47.182563\n",
       "2       -6...</td>\n",
       "      <td>0     -184.676555\n",
       "1     -195.306612\n",
       "2     -141...</td>\n",
       "      <td>0     -108.266154\n",
       "1      124.377494\n",
       "2      200...</td>\n",
       "      <td>0     -231.688096\n",
       "1     -179.703892\n",
       "2      -97...</td>\n",
       "      <td>0     -262.399832\n",
       "1      -32.974744\n",
       "2       89...</td>\n",
       "      <td>0     -105.677538\n",
       "1       42.209137\n",
       "2      118...</td>\n",
       "      <td>0      -82.033333\n",
       "1      -67.506163\n",
       "2      -82...</td>\n",
       "      <td>0     -140.012384\n",
       "1        0.278821\n",
       "2       71...</td>\n",
       "    </tr>\n",
       "    <tr>\n",
       "      <th>4</th>\n",
       "      <td>0      109.304340\n",
       "1       64.749574\n",
       "2       25...</td>\n",
       "      <td>0      201.260745\n",
       "1       50.199130\n",
       "2      -39...</td>\n",
       "      <td>0       14.521665\n",
       "1      -88.523783\n",
       "2     -152...</td>\n",
       "      <td>0      195.652441\n",
       "1      196.864336\n",
       "2      165...</td>\n",
       "      <td>0      125.077312\n",
       "1        4.943108\n",
       "2      -43...</td>\n",
       "      <td>0      211.538165\n",
       "1      184.857103\n",
       "2      152...</td>\n",
       "      <td>0      238.791210\n",
       "1      170.498851\n",
       "2      137...</td>\n",
       "      <td>0       66.915634\n",
       "1      147.337646\n",
       "2      126...</td>\n",
       "      <td>0       69.283736\n",
       "1       88.357515\n",
       "2       67...</td>\n",
       "      <td>0      160.787868\n",
       "1      239.187795\n",
       "2      229...</td>\n",
       "    </tr>\n",
       "  </tbody>\n",
       "</table>\n",
       "</div>"
      ],
      "text/plain": [
       "                                               dim_0  \\\n",
       "0  0      152.472131\n",
       "1      151.149948\n",
       "2      133...   \n",
       "1  0      -13.040644\n",
       "1       12.830811\n",
       "2       -3...   \n",
       "2  0      347.753571\n",
       "1      283.267749\n",
       "2      242...   \n",
       "3  0     -233.910173\n",
       "1     -263.752715\n",
       "2     -250...   \n",
       "4  0      109.304340\n",
       "1       64.749574\n",
       "2       25...   \n",
       "\n",
       "                                               dim_1  \\\n",
       "0  0      12.392351\n",
       "1      77.166998\n",
       "2      75.53...   \n",
       "1  0       19.233769\n",
       "1       -4.991483\n",
       "2      -16...   \n",
       "2  0      197.774774\n",
       "1      150.099303\n",
       "2      117...   \n",
       "3  0     -187.467394\n",
       "1     -142.395013\n",
       "2     -135...   \n",
       "4  0      201.260745\n",
       "1       50.199130\n",
       "2      -39...   \n",
       "\n",
       "                                               dim_2  \\\n",
       "0  0       18.801367\n",
       "1        7.669297\n",
       "2       20...   \n",
       "1  0       66.933527\n",
       "1      124.618288\n",
       "2       98...   \n",
       "2  0       63.838660\n",
       "1       63.824220\n",
       "2       84...   \n",
       "3  0      -86.571985\n",
       "1      -47.182563\n",
       "2       -6...   \n",
       "4  0       14.521665\n",
       "1      -88.523783\n",
       "2     -152...   \n",
       "\n",
       "                                               dim_3  \\\n",
       "0  0      119.067984\n",
       "1       92.378960\n",
       "2       50...   \n",
       "1  0      -35.137874\n",
       "1        1.701522\n",
       "2       25...   \n",
       "2  0      245.984713\n",
       "1      162.896918\n",
       "2      108...   \n",
       "3  0     -184.676555\n",
       "1     -195.306612\n",
       "2     -141...   \n",
       "4  0      195.652441\n",
       "1      196.864336\n",
       "2      165...   \n",
       "\n",
       "                                               dim_4  \\\n",
       "0  0        9.371185\n",
       "1       28.596053\n",
       "2       33...   \n",
       "1  0       50.791490\n",
       "1      221.224243\n",
       "2      252...   \n",
       "2  0      210.905239\n",
       "1      144.768204\n",
       "2       94...   \n",
       "3  0     -108.266154\n",
       "1      124.377494\n",
       "2      200...   \n",
       "4  0      125.077312\n",
       "1        4.943108\n",
       "2      -43...   \n",
       "\n",
       "                                               dim_5  \\\n",
       "0  0      176.878290\n",
       "1      134.774572\n",
       "2       77...   \n",
       "1  0     -154.184133\n",
       "1      -26.774156\n",
       "2       45...   \n",
       "2  0      280.506386\n",
       "1      206.246174\n",
       "2      170...   \n",
       "3  0     -231.688096\n",
       "1     -179.703892\n",
       "2      -97...   \n",
       "4  0      211.538165\n",
       "1      184.857103\n",
       "2      152...   \n",
       "\n",
       "                                               dim_6  \\\n",
       "0  0      187.217536\n",
       "1      181.612639\n",
       "2      143...   \n",
       "1  0       30.970773\n",
       "1      148.602671\n",
       "2      160...   \n",
       "2  0      354.705629\n",
       "1      262.012640\n",
       "2      168...   \n",
       "3  0     -262.399832\n",
       "1      -32.974744\n",
       "2       89...   \n",
       "4  0      238.791210\n",
       "1      170.498851\n",
       "2      137...   \n",
       "\n",
       "                                               dim_7  \\\n",
       "0  0      148.597142\n",
       "1       -7.859846\n",
       "2      -75...   \n",
       "1  0     -208.111167\n",
       "1     -192.617816\n",
       "2     -181...   \n",
       "2  0      223.814706\n",
       "1      122.452679\n",
       "2       65...   \n",
       "3  0     -105.677538\n",
       "1       42.209137\n",
       "2      118...   \n",
       "4  0       66.915634\n",
       "1      147.337646\n",
       "2      126...   \n",
       "\n",
       "                                               dim_8  \\\n",
       "0  0      192.406885\n",
       "1      123.777559\n",
       "2       37...   \n",
       "1  0     -130.664900\n",
       "1      -63.905838\n",
       "2      -15...   \n",
       "2  0      207.523094\n",
       "1      182.589754\n",
       "2      126...   \n",
       "3  0      -82.033333\n",
       "1      -67.506163\n",
       "2      -82...   \n",
       "4  0       69.283736\n",
       "1       88.357515\n",
       "2       67...   \n",
       "\n",
       "                                               dim_9  \n",
       "0  0      125.757108\n",
       "1      -38.720199\n",
       "2      -86...  \n",
       "1  0     -195.935521\n",
       "1      -19.472038\n",
       "2       56...  \n",
       "2  0      303.975308\n",
       "1      168.434157\n",
       "2       65...  \n",
       "3  0     -140.012384\n",
       "1        0.278821\n",
       "2       71...  \n",
       "4  0      160.787868\n",
       "1      239.187795\n",
       "2      229...  "
      ]
     },
     "execution_count": 2,
     "metadata": {},
     "output_type": "execute_result"
    }
   ],
   "source": [
    "set_id = 1\n",
    "mode = 'cnn'\n",
    "device = torch.device(\n",
    "    'cuda' if torch.cuda.is_available() else 'cpu')\n",
    "\n",
    "sets = ['Libras', 'HandMovementDirection']\n",
    "name = sets[set_id]\n",
    "\n",
    "folder = Path('multivar_times_series')\n",
    "X_train_raw, y_train_raw = load_from_arff_to_dataframe(\n",
    "    folder/name/f'{name}_TRAIN.arff')\n",
    "X_test_raw, y_test_raw = load_from_arff_to_dataframe(\n",
    "    folder/name/f'{name}_TEST.arff')\n",
    "\n",
    "print(f'\\nShape of the training dataset: {X_train_raw.shape}')\n",
    "X_train_raw.head()"
   ]
  },
  {
   "cell_type": "code",
   "execution_count": 3,
   "metadata": {
    "colab": {},
    "colab_type": "code",
    "id": "ny2iCBxeDAE_"
   },
   "outputs": [],
   "source": [
    "# for rnn SAE\n",
    "X = []\n",
    "for v in X_train_raw.values: X.append(v[0])\n",
    "if mode == 'rnn':\n",
    "    X_train = torch.Tensor(X).permute(1,0)[...,None]\n",
    "    y_train = torch.LongTensor(pd.factorize(y_train_raw)[0])\n",
    "else:\n",
    "    X_train = torch.Tensor(X)[:,None]\n",
    "    y_train = torch.LongTensor(pd.factorize(y_train_raw)[0])\n",
    "X_train, y_train = X_train.to(device), y_train.to(device)\n",
    "\n",
    "X = []\n",
    "for v in X_test_raw.values: X.append(v[0])\n",
    "if mode == 'rnn':\n",
    "    X_test = torch.Tensor(X).permute(1,0)[...,None]\n",
    "    y_test = torch.LongTensor(pd.factorize(y_test_raw)[0])\n",
    "else:\n",
    "    X_test = torch.Tensor(X)[:,None]\n",
    "    y_test = torch.LongTensor(pd.factorize(y_test_raw)[0])\n",
    "X_test, y_test = X_test.to(device), y_test.to(device)"
   ]
  },
  {
   "cell_type": "markdown",
   "metadata": {},
   "source": [
    "## Taking into Account Persistence Landscapes"
   ]
  },
  {
   "cell_type": "markdown",
   "metadata": {},
   "source": [
    "1st option"
   ]
  },
  {
   "cell_type": "code",
   "execution_count": 25,
   "metadata": {},
   "outputs": [],
   "source": [
    "# Input: (batch_size, feature_level, num_layers, n_bins)\n",
    "# The last 3 form 'shape' 3-tuple \n",
    "\n",
    "# TEST WITH AND WITHOUT BATCH NORM LAYER\n",
    "\n",
    "class LandscapeInverse(nn.Module):\n",
    "    def __init__(\n",
    "        self, emb_size, shape,\n",
    "        seq_length, channels, kernel_size=28):\n",
    "        super().__init__()\n",
    "        \n",
    "        channels.append(emb_size)\n",
    "        channels.insert(0, shape[0]*shape[1])\n",
    "        self.tb = DCConvStack(channels, kernel_size, len(channels)-1)\n",
    "        self.proj = nn.Sequential(\n",
    "                    nn.Linear(shape[2], seq_length),\n",
    "                    nn.BatchNorm1d(shape[0]*shape[1]),\n",
    "                    nn.LeakyReLU(.2, inplace=True))\n",
    "    \n",
    "    def forward(self, landscape):\n",
    "        return self.tb(self.proj(landscape.flatten(1,2)))\n",
    "    \n",
    "    # if landscapy is not a torch.Tensor, substitute `.flatten(1,2)`\n",
    "    # with `torch.flatten(<>, 1, 2)`"
   ]
  },
  {
   "cell_type": "code",
   "execution_count": 30,
   "metadata": {},
   "outputs": [
    {
     "data": {
      "text/plain": [
       "torch.Size([28, 2, 286])"
      ]
     },
     "execution_count": 30,
     "metadata": {},
     "output_type": "execute_result"
    }
   ],
   "source": [
    "pli = LandscapeInverse(2, (2, 1, 50), 286, [32, 64])\n",
    "x = torch.rand(28, 2, 1, 50)\n",
    "pli(x).shape"
   ]
  },
  {
   "cell_type": "markdown",
   "metadata": {},
   "source": [
    "2nd option"
   ]
  },
  {
   "attachments": {
    "image.png": {
     "image/png": "[encoded data removed]"
    }
   },
   "cell_type": "markdown",
   "metadata": {},
   "source": [
    "![image.png](attachment:image.png)"
   ]
  },
  {
   "cell_type": "code",
   "execution_count": 35,
   "metadata": {},
   "outputs": [],
   "source": [
    "# forward's input: \n",
    "#    @param landscape (batch_size, feature_level, num_layers, n_bins)\n",
    "#    The last 3 form 'shape' 3-tuple \n",
    "\n",
    "#    @param code (batch_size, code_size)\n",
    "\n",
    "class StackDecoder(nn.Module):\n",
    "    def __init__(\n",
    "        self, emb_size, code_size, shape,\n",
    "        seq_length, channels, kernel_size=28):\n",
    "        super().__init__()\n",
    "        \n",
    "        channels.append(emb_size)\n",
    "        self._shape = (channels[0], seq_length)\n",
    "        self.tb = DCConvStack(channels, kernel_size, len(channels)-1)\n",
    "        self.proj1 = nn.Sequential(\n",
    "                    nn.Linear(np.prod(shape), code_size),\n",
    "                    nn.BatchNorm1d(code_size),\n",
    "                    nn.LeakyReLU(.2, inplace=True))\n",
    "        self.proj2 = nn.Sequential(\n",
    "                    nn.Linear(code_size*2, channels[0]),\n",
    "                    nn.BatchNorm1d(channels[0]),\n",
    "                    nn.LeakyReLU(.2, inplace=True))\n",
    "    \n",
    "    def forward(self, code, landscape):\n",
    "        H = torch.cat([code, self.proj1(landscape.flatten(1))], 1)\n",
    "        H = self.proj2(H)[...,None].expand(-1, *self._shape)\n",
    "        return self.tb(H)\n",
    "    \n",
    "    # if landscapy is not a torch.Tensor, substitute `.flatten(1,2)`\n",
    "    # with `torch.flatten(<>, 1, 2)`"
   ]
  },
  {
   "cell_type": "code",
   "execution_count": 36,
   "metadata": {},
   "outputs": [
    {
     "data": {
      "text/plain": [
       "torch.Size([28, 2, 286])"
      ]
     },
     "execution_count": 36,
     "metadata": {},
     "output_type": "execute_result"
    }
   ],
   "source": [
    "sdec = StackDecoder(2, 100, (2, 1, 50), 286, [32, 64])\n",
    "pl = torch.rand(28, 2, 1, 50)\n",
    "code = torch.rand(28, 100)\n",
    "sdec(code, pl).shape"
   ]
  },
  {
   "cell_type": "markdown",
   "metadata": {},
   "source": [
    "---"
   ]
  },
  {
   "cell_type": "markdown",
   "metadata": {},
   "source": [
    "## Draft (functions related to other parts)"
   ]
  },
  {
   "cell_type": "code",
   "execution_count": 150,
   "metadata": {},
   "outputs": [],
   "source": [
    "def triangle_hat(x, a, b):\n",
    "    out = torch.zeros_like(x)\n",
    "    left_slope = (x > a) & (x < .5*(a+b))\n",
    "    right_slope = (x >= .5*(a+b)) & (x < b)\n",
    "    out[left_slope] = (x - a)[left_slope]\n",
    "    out[right_slope] = (b - x)[right_slope]\n",
    "    return out\n",
    "\n",
    "def discretize(data, lims, n_bins=100):\n",
    "    sh = data.shape[:-1]\n",
    "    a = data[..., 0][..., None].expand(*sh, n_bins)\n",
    "    b = data[..., 1][..., None].expand(*sh, n_bins)\n",
    "    x = torch.linspace(*lims, n_bins)\n",
    "    return x, triangle_hat(x.expand(*sh, -1), a, b)"
   ]
  },
  {
   "cell_type": "code",
   "execution_count": 153,
   "metadata": {},
   "outputs": [
    {
     "name": "stdout",
     "output_type": "stream",
     "text": [
      "tensor([0.2563, 0.5506])\n"
     ]
    },
    {
     "data": {
      "image/png": "[encoded data removed]",
      "text/plain": [
       "<Figure size 432x288 with 1 Axes>"
      ]
     },
     "metadata": {
      "needs_background": "light"
     },
     "output_type": "display_data"
    }
   ],
   "source": [
    "data = torch.rand(3, 4, 2)\n",
    "print(data[0, 0])\n",
    "x, hats = discretize(data, (0, 1), 200)\n",
    "plt.plot(x, hats[0, 0]);"
   ]
  }
 ],
 "metadata": {
  "accelerator": "GPU",
  "colab": {
   "name": "Visualizaiton.ipynb",
   "provenance": []
  },
  "kernelspec": {
   "display_name": "Python 3",
   "language": "python",
   "name": "python3"
  },
  "language_info": {
   "codemirror_mode": {
    "name": "ipython",
    "version": 3
   },
   "file_extension": ".py",
   "mimetype": "text/x-python",
   "name": "python",
   "nbconvert_exporter": "python",
   "pygments_lexer": "ipython3",
   "version": "3.8.1"
  }
 },
 "nbformat": 4,
 "nbformat_minor": 1
}
