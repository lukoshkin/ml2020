{
  "nbformat": 4,
  "nbformat_minor": 0,
  "metadata": {
    "kernelspec": {
      "name": "python3",
      "display_name": "Python 3"
    },
    "language_info": {
      "codemirror_mode": {
        "name": "ipython",
        "version": 3
      },
      "file_extension": ".py",
      "mimetype": "text/x-python",
      "name": "python",
      "nbconvert_exporter": "python",
      "pygments_lexer": "ipython3",
      "version": "3.8.1"
    },
    "colab": {
      "name": "ML2020HW03-part2.ipynb",
      "provenance": []
    },
    "accelerator": "GPU"
  },
  "cells": [
    {
      "cell_type": "code",
      "metadata": {
        "id": "DM-mpwAnnIjr",
        "colab_type": "code",
        "colab": {}
      },
      "source": [
        "import numpy as np\n",
        "import pandas as pd\n",
        "\n",
        "# task 1.1\n",
        "import torch\n",
        "import torch.nn.functional as F\n",
        "from torch import autograd\n",
        "\n",
        "# task 1.2\n",
        "from sklearn.datasets import load_digits\n",
        "from sklearn.metrics import confusion_matrix, accuracy_score\n",
        "from sklearn.model_selection import train_test_split\n",
        "\n",
        "\n",
        "import matplotlib.pyplot as plt\n",
        "%matplotlib inline\n",
        "\n",
        "# task 2 \n",
        "import sklearn.datasets as sk_data\n",
        "from sklearn.linear_model import LogisticRegression\n",
        "from sklearn.preprocessing import StandardScaler\n",
        "from sklearn.neighbors import KNeighborsClassifier\n",
        "\n",
        "import torch.nn as nn\n",
        "import torch.utils.data as torch_data\n",
        "import torch.optim as optim\n",
        "from torch.distributions.multivariate_normal import MultivariateNormal"
      ],
      "execution_count": 0,
      "outputs": []
    },
    {
      "cell_type": "code",
      "metadata": {
        "id": "hqPo_DyQnSKa",
        "colab_type": "code",
        "colab": {
          "base_uri": "https://localhost:8080/",
          "height": 190
        },
        "outputId": "2b47cb8d-a1c7-4393-a473-d26b06316679"
      },
      "source": [
        "from google.colab import drive\n",
        "drive.mount('/content/gdrive')\n",
        "!ls \"/content/gdrive/My Drive\""
      ],
      "execution_count": 2,
      "outputs": [
        {
          "output_type": "stream",
          "text": [
            "Go to this URL in a browser: https://accounts.google.com/o/oauth2/auth?client_id=947318989803-6bn6qk8qdgf4n4g3pfee6491hc0brc4i.apps.googleusercontent.com&redirect_uri=urn%3aietf%3awg%3aoauth%3a2.0%3aoob&response_type=code&scope=email%20https%3a%2f%2fwww.googleapis.com%2fauth%2fdocs.test%20https%3a%2f%2fwww.googleapis.com%2fauth%2fdrive%20https%3a%2f%2fwww.googleapis.com%2fauth%2fdrive.photos.readonly%20https%3a%2f%2fwww.googleapis.com%2fauth%2fpeopleapi.readonly\n",
            "\n",
            "Enter your authorization code:\n",
            "··········\n",
            "Mounted at /content/gdrive\n",
            " astrophysics\t\t    mipt_lukoshkin.pdf\t\t     uploads\n",
            "'Colab Notebooks'\t   'Scanbot 18 Dec 2019 19.18.pdf'   weights.pth\n",
            "'Colab Notebooks_trashed'   Train_rev1.zip\n",
            " GKE.gslides\t\t   'Untitled document.gdoc'\n"
          ],
          "name": "stdout"
        }
      ]
    },
    {
      "cell_type": "code",
      "metadata": {
        "id": "qWp7i7g_ncmh",
        "colab_type": "code",
        "colab": {
          "base_uri": "https://localhost:8080/",
          "height": 51
        },
        "outputId": "d042e7fb-8987-44cb-c564-9c7f4afe10b8"
      },
      "source": [
        "!mkdir -p data/kmnist\n",
        "!cp /content/gdrive/My\\ Drive/uploads/ml_hw3/* data/kmnist\n",
        "!ls data/kmnist"
      ],
      "execution_count": 5,
      "outputs": [
        {
          "output_type": "stream",
          "text": [
            "kmnist-test-imgs.npz\tkmnist-train-imgs.npz\n",
            "kmnist-test-labels.npz\tkmnist-train-labels.npz\n"
          ],
          "name": "stdout"
        }
      ]
    },
    {
      "cell_type": "markdown",
      "metadata": {
        "id": "dFhTrShBnIj0",
        "colab_type": "text"
      },
      "source": [
        "# Home Assignment No. 2: Part 2 (Practice)\n",
        "To solve this task, you will write a lot of code to try several deep learning methods.\n",
        "* You are **HIGHLY RECOMMENDED** to read relevant documentation, e.g. for [python](https://docs.python.org/3/), [numpy](https://docs.scipy.org/doc/numpy/reference/), [matlpotlib](https://matplotlib.org/) and [pytorch](https://pytorch.org/). Also remember that seminars, lecture slides, [Google](http://google.com) and [StackOverflow](https://stackoverflow.com/) are your close friends during this course (and, probably, whole life?).\n",
        "\n",
        "* To do this part of homework, you have to write **CODE** directly inside specified places inside notebook **CELLS**.\n",
        "\n",
        "* In some problems you may be asked to provide short discussion of the results. In this cases you have to create **MARKDOWN** cell with your comments right after the your code cell.\n",
        "\n",
        "* For every separate (sub)problem you can get only 0 points or maximal points for this (sub)problem. There are **NO INTERMEDIATE scores**. So make sure that you did everything required in the task\n",
        "\n",
        "* Your **SOLUTION** notebook **MUST BE REPRODUCIBLE**, i.e. if the reviewer decides to execute `Kernel` -> `Restart Kernel and Run All Cells`, after all the computation he will obtain exactly the same solution (with all the corresponding plots) as in your uploaded notebook. For this purpose, we suggest to fix random `seed` or (better) define `random_state=` inside every algorithm that uses some pseudorandomness.\n",
        "\n",
        "* Your code must be clear to the reviewer. For this purpose, try to include neccessary comments inside the code. But remember: **GOOD CODE MUST BE SELF-EXPLANATORY** without any additional comments."
      ]
    },
    {
      "cell_type": "markdown",
      "metadata": {
        "id": "hpgPs5_wnIj2",
        "colab_type": "text"
      },
      "source": [
        "## Task 1. Deep ANNs. (5 points)\n",
        "\n",
        "### Task 1.1.  Activation functions. (1 point)\n",
        "Plot the following [activation functions](https://pytorch.org/docs/master/nn.html#non-linear-activation-functions) using their PyTorch realizations and their derivatives using [autograd](https://pytorch.org/docs/stable/autograd.html) functionality `grad()`:\n",
        "   \n",
        "1. **(1 pt.)** Plot `ReLU`, `ELU` ($\\alpha = 1$), `Softplus` ($\\beta = 1$) and `Sign`, `Sigmoid`, `Softsign`, `Tanh`.\n",
        "Which of these functions may be, and which - definitely, are a poor choise as an activation function in a neural network? Why?"
      ]
    },
    {
      "cell_type": "code",
      "metadata": {
        "id": "wDq3wIfPnIj4",
        "colab_type": "code",
        "colab": {},
        "outputId": "be7f8c50-05fd-4cda-dcaf-7c381e659c2b"
      },
      "source": [
        "### BEGIN Solution\n",
        "# >>> your solution here <<<\n",
        "def D(y, x):\n",
        "    grad = autograd.grad(\n",
        "        outputs=y, inputs=x,\n",
        "        grad_outputs=torch.ones_like(y))\n",
        "\n",
        "    if len(grad) == 1:\n",
        "        return grad[0]\n",
        "    return grad.detach()\n",
        "\n",
        "x = torch.linspace(-2, 2, 300, requires_grad=True)\n",
        "x_data = x.detach().cpu()\n",
        "\n",
        "fig, ax = plt.subplots(2, 2, sharex=True, figsize=(14, 6))\n",
        "ax[0, 0].set_title('Values')\n",
        "ax[0, 1].set_title('Derivatives')\n",
        "\n",
        "relu_like = (torch.relu, F.elu, F.softplus)\n",
        "sign_like = (torch.sign, torch.sigmoid, F.softsign, torch.tanh)\n",
        "\n",
        "for i, fn_set in enumerate((relu_like, sign_like)):\n",
        "    for fn in fn_set:\n",
        "        ax[i, 0].plot(x_data, fn(x).detach(), label=fn.__name__, alpha=.5)\n",
        "        ax[i, 1].plot(x_data, D(fn(x), x), label=fn.__name__, alpha=.5)\n",
        "\n",
        "    ax[i, 0].legend()\n",
        "    ax[i, 1].legend()\n",
        "\n",
        "plt.tight_layout();\n",
        "### END Solution"
      ],
      "execution_count": 0,
      "outputs": [
        {
          "output_type": "display_data",
          "data": {
            "image/png": "[encoded data removed]",
            "text/plain": [
              "<Figure size 1008x432 with 4 Axes>"
            ]
          },
          "metadata": {
            "tags": [],
            "needs_background": "light"
          }
        }
      ]
    },
    {
      "cell_type": "markdown",
      "metadata": {
        "id": "FzPYioUbnIj_",
        "colab_type": "text"
      },
      "source": [
        "***Definitely not a good choice is `sign`, since it has zero derivative, and thus, a network containing this activation is untrainable***\n",
        "\n",
        "What about the rest:\n",
        "On the figure there are 2 groups of functions presented : relu- and sign-like (the contemplations below, on sign-like functions, do not apply to `sign` itself).\n",
        "\n",
        "The former can suffer from gradient explosion, the latter from its vanishing. Moreover, neurons of high abs. value of input have close to zero derivatives, and are slowly being updated.\n",
        "\n",
        "In the group of relu-like activations, relu is a poor choice. For ReLU, \"*neurons arriving at large negative values cannot recover from being stuck at 0*\" - this is called \"*dying ReLU problem*\"\n",
        "\n",
        "When choosing an activation, one may also take into account such characteristics as continuity. Sometimes it matters, even for derivative of activation to be continuous (e.g. calculating grad penalties) "
      ]
    },
    {
      "cell_type": "code",
      "metadata": {
        "id": "rQ3Qag0wnIkB",
        "colab_type": "code",
        "colab": {}
      },
      "source": [
        ""
      ],
      "execution_count": 0,
      "outputs": []
    },
    {
      "cell_type": "markdown",
      "metadata": {
        "id": "zZrF0l-FnIkG",
        "colab_type": "text"
      },
      "source": [
        "### Task 1.2. MNIST classification. (4 points)\n",
        "\n",
        "At the **[Seminar 13](https://github.com/adasegroup/ML2020_seminars/tree/master/seminar12)** on neural networks, we designed an MLP (Multilayer perceptron) with one hidden layer using our numpy implementations of linear layer, logistic and softmax activation functions. In this task, you are to\n",
        "\n",
        "1. **(1 pt.)** Implement the MLP modules, including the Softmax cross entropy between `logits` and `labels`.\n",
        "2. **(2 pt.)** Train our numpy realization of MLP to classify the MNIST from `sklearn.datasets()`. The required accuracy on validation is `> 90%`.\n",
        "3. **(1 pt.)** Compare the acccuracy of classification to your scores from `Part 1` with and without dimensionality reduction. Is this comparison fair? :) Derive the confusion matrix for all digits classes. Which digits are predicted better or worse than others?"
      ]
    },
    {
      "cell_type": "code",
      "metadata": {
        "id": "vZiTTFfBnIkI",
        "colab_type": "code",
        "colab": {}
      },
      "source": [
        "# fetch the dataset.\n",
        "X, y = load_digits(return_X_y=True)\n",
        "X = X.astype(np.float32) / 255\n",
        "\n",
        "X_train, X_test, y_train, y_test = train_test_split(\n",
        "    X, y, random_state=0)"
      ],
      "execution_count": 0,
      "outputs": []
    },
    {
      "cell_type": "markdown",
      "metadata": {
        "id": "WbsGNqy-nIkO",
        "colab_type": "text"
      },
      "source": [
        "$\\newcommand{\\mat}[1]{\\mathrm{mat}\\left(#1\\right)}$\n",
        "$\\newcommand{\\vect}[1]{\\mathrm{vec}\\left(#1\\right)}$\n",
        "\n",
        "$$L = L(\\hat Y, Y)$$\n",
        "$$\\hat Y = XW + b$$ \n",
        "\n",
        "$$\\begin{array}{l}\n",
        "    &X &\\text{is of size} & m\\times d\\\\\n",
        "    &W &- &d\\times p\\\\\n",
        "    &b &- &p\\\\\n",
        "    &Y &- &m \\times p\n",
        "\\end{array}$$\n",
        "\n",
        "---\n",
        "$$\n",
        "    \\underset{m\\times d}{\\frac{\\partial L}{\\partial X}}\n",
        "    = \\underset{m\\times p}{\\frac{\\partial L}{\\partial\\hat Y}}\n",
        "    \\;\\;\\circ\\underbrace{\\underset{mp\\times md}{\\frac{\\partial\\hat Y}{\\partial X}}}\n",
        "    _{\\;\\text{jacobian}\\\\\\text{of Y wrt X}}\n",
        "$$\n",
        "\n",
        "Define the operation $\\circ$ in such a way that it preserves dimensions\n",
        "\n",
        "$$\n",
        "    \\underset{m\\times d}{\\frac{\\partial L}{\\partial X}}\n",
        "    = \\mat{\\underset{md\\times mp}{\\left(\\frac{\\partial\\hat Y}{\\partial X}\\right)^\\top}\n",
        "    \\underset{mp}{\\vect{\\frac{\\partial L}{\\partial\\hat Y}}}} \\qquad (*)\n",
        "$$\n",
        "\n",
        "Take derivative of $\\hat Y$ wrt X (applying the $\\alpha$-derivative rule as stated [here](https://www.sciencedirect.com/science/article/pii/S0047259X10001120)):\n",
        "\n",
        "$$\n",
        "    \\frac{\\partial\\hat Y}{\\partial X} = \\frac{\\partial\\vect{XW}}{\\partial\\vect{X}}\n",
        "$$\n",
        "\n",
        "Here we have thrown out the bias term since it does not depend on X\n",
        "\n",
        "Consider the numerator:\n",
        "\n",
        "$$\n",
        "   \\vect{I_mXW} = (W^\\top\\otimes I_m)\\vect{X} \n",
        "$$\n",
        "\n",
        "That is:\n",
        "\n",
        "$$\n",
        "    \\frac{\\partial\\hat Y}{\\partial X} = (W^\\top\\otimes I_m)^\\top = W\\otimes I_m\n",
        "$$\n",
        "\n",
        "Substituting the last expression into $(*)$, we obtain:\n",
        "\n",
        "$$\n",
        "    \\frac{\\partial L}{\\partial X} = \\mat{(W\\otimes I_m)\\vect{\\frac{\\partial L}{\\partial\\hat Y}}}\n",
        "    = \\mat{\\vect{\\frac{\\partial L}{\\partial\\hat Y}W^\\top}}\n",
        "$$\n",
        "\n",
        "$$\n",
        "    \\boxed{\\frac{\\partial L}{\\partial X} = \\frac{\\partial L}{\\partial\\hat Y}W^\\top}\n",
        "$$\n",
        "\n",
        "(See the [properties of Kronecker product](https://en.wikipedia.org/wiki/Kronecker_product) I used for the derivation)"
      ]
    },
    {
      "cell_type": "markdown",
      "metadata": {
        "id": "ueZYyzYfnIkP",
        "colab_type": "text"
      },
      "source": [
        "---\n",
        "Similarly for $\\frac{\\partial L}{\\partial W}$:\n",
        "$$\n",
        "    \\underset{d\\times p}{\\frac{\\partial L}{\\partial W}}\n",
        "    = \\underset{m\\times p}{\\frac{\\partial L}{\\partial\\hat Y}}\n",
        "    \\;\\;\\circ\\underbrace{\\underset{mp\\times dp}{\\frac{\\partial\\hat Y}{\\partial W}}}\n",
        "    _{\\;\\text{jacobian}\\\\\\text{of Y wrt W}}\n",
        "$$\n",
        "\n",
        "$$\n",
        "    \\underset{d\\times p}{\\frac{\\partial L}{\\partial W}}\n",
        "    = \\mat{\\underset{dp\\times mp}{\\left(\\frac{\\partial\\hat Y}{\\partial W}\\right)^\\top}\n",
        "    \\underset{mp}{\\vect{\\frac{\\partial L}{\\partial\\hat Y}}}}\n",
        "$$\n",
        "\n",
        "$$\n",
        "    \\vect{XWI_p} = (I_p\\otimes X)\\vect{W}\n",
        "$$\n",
        "\n",
        "$$\n",
        "    \\frac{\\partial L}{\\partial W}\n",
        "    = \\mat{(I_p\\otimes X^\\top)\\vect{\\frac{\\partial L}{\\partial\\hat Y}}}\n",
        "    = \\mat{\\vect{X^\\top\\frac{\\partial L}{\\partial\\hat Y}}}\n",
        "$$\n",
        "\n",
        "$$\n",
        "    \\boxed{\\frac{\\partial L}{\\partial W}\n",
        "    = {X^\\top\\frac{\\partial L}{\\partial\\hat Y}}}\n",
        "$$"
      ]
    },
    {
      "cell_type": "markdown",
      "metadata": {
        "id": "Q0baonh5nIkR",
        "colab_type": "text"
      },
      "source": [
        "---\n",
        "An easier way (this is not the case in general) to calculate the target derivatives is $\\omega$-differentiation:\n",
        "\n",
        "$$\n",
        "    \\frac{\\partial L}{\\partial X_{pq}} = \\frac{\\partial L}{\\partial\\hat Y_{ij}}\n",
        "    \\frac{\\partial\\hat Y_{ij}}{\\partial X_{pq}}\n",
        "$$\n",
        "\n",
        "$$\n",
        "    \\frac{\\partial\\hat Y_{ij}}{\\partial X_{pq}}\n",
        "    = \\frac{\\partial X_{ik}}{\\partial X_{pq}}W_{kj}\n",
        "    = \\delta_{ip}\\delta_{kq} W_{kj}\n",
        "$$\n",
        "\n",
        "Substituting back:\n",
        "\n",
        "$$\n",
        "    \\frac{\\partial L}{\\partial X_{pq}}\n",
        "    = \\frac{\\partial L}{\\partial\\hat Y_{pj}}W_{qj}\n",
        "    = \\frac{\\partial L}{\\partial\\hat Y_{pj}}W_{jq}^\\top\n",
        "$$\n",
        "\n",
        "Hence\n",
        "$$\n",
        "    \\boxed{\\frac{\\partial L}{\\partial X}\n",
        "    = \\frac{\\partial L}{\\partial\\hat Y}W^\\top}\n",
        "$$"
      ]
    },
    {
      "cell_type": "markdown",
      "metadata": {
        "id": "VF79DCN_nIkT",
        "colab_type": "text"
      },
      "source": [
        "$$\n",
        "    \\frac{\\partial L}{\\partial W_{pq}} = \\frac{\\partial L}{\\partial\\hat Y_{ij}}\n",
        "    \\frac{\\partial\\hat Y_{ij}}{\\partial W_{pq}}\n",
        "$$\n",
        "\n",
        "$$\n",
        "    \\frac{\\partial\\hat Y_{ij}}{\\partial W_{pq}}\n",
        "    = X_{ik}\\frac{\\partial W_{kj}}{\\partial W_{pq}}\n",
        "    = X_{ik}\\delta_{kp}\\delta_{jq}\n",
        "$$\n",
        "\n",
        "\n",
        "$$\n",
        "    \\frac{\\partial L}{\\partial W_{pq}}\n",
        "    = \\frac{\\partial L}{\\partial\\hat Y_{iq}}X_{ip}\n",
        "    = X_{pi}^\\top\\frac{\\partial L}{\\partial\\hat Y_{iq}}\n",
        "$$\n",
        "\n",
        "$$\n",
        "    \\boxed{\\frac{\\partial L}{\\partial X}\n",
        "    = X^\\top\\frac{\\partial L}{\\partial\\hat Y}}\n",
        "$$"
      ]
    },
    {
      "cell_type": "markdown",
      "metadata": {
        "id": "73VQ_-KknIkV",
        "colab_type": "text"
      },
      "source": [
        "---\n",
        "$$\n",
        "    \\frac{\\partial L}{\\partial b_k}\n",
        "    = \\frac{\\partial L}{\\partial Y_{ij}}\\frac{\\partial Y_{ij}}{\\partial b_k}\n",
        "$$\n",
        "\n",
        "$$\n",
        "    \\frac{\\partial Y_{ij}}{\\partial b_k}\n",
        "    = \\frac{\\partial b_j}{\\partial b_k} = \\delta_{jk}\n",
        "$$\n",
        "\n",
        "$$\n",
        "    \\frac{\\partial L}{\\partial b_k}\n",
        "    = \\sum_i\\frac{\\partial L}{\\partial Y_{ik}}\n",
        "$$\n",
        "\n",
        "$$\n",
        "    \\frac{\\partial L}{\\partial b}\n",
        "    = \\mathrm{sum}(\\frac{\\partial L}{\\partial\\hat Y}, \\;\\text{axis}=0)\n",
        "$$"
      ]
    },
    {
      "cell_type": "markdown",
      "metadata": {
        "id": "GduHj6xgnIkX",
        "colab_type": "text"
      },
      "source": [
        "**Implement the MLP with backprop.**"
      ]
    },
    {
      "cell_type": "code",
      "metadata": {
        "id": "Ux1Qrt0_nIkY",
        "colab_type": "code",
        "colab": {}
      },
      "source": [
        "# Here you should implement by yourself MLP class and its constituents\n",
        "# including forward and backward propagation methods\n",
        "\n",
        "class Linear:\n",
        "    def __init__(self, input_size, output_size):\n",
        "        self.W = np.random.randn(input_size, output_size)\n",
        "        self.gradW = np.empty_like(self.W)\n",
        "        self.b = np.random.randn(output_size)\n",
        "        self.gradb = np.empty_like(self.b)\n",
        "        \n",
        "    def zeroGrad(self):\n",
        "        self.gradW.fill(0.)\n",
        "        self.gradb.fill(0.)\n",
        "        \n",
        "    def updateWeights(self, lr):\n",
        "        self.W -= lr*self.gradW\n",
        "        self.b -= lr*self.gradb\n",
        "\n",
        "    def forward(self, X): \n",
        "        output = X @ self.W + self.b\n",
        "        return output\n",
        "    \n",
        "    def backward(self, X, output_grad):\n",
        "        \"\"\"\n",
        "        Returns gradient of the loss w.r.t. the input of linear layer\n",
        "        Also updates gradients of layer parameters.\n",
        "        \"\"\"\n",
        "        ### BEGIN Solution\n",
        "        # ... calculate grads\n",
        "        # >>> your solution here <<<\n",
        "        self.gradW += X.T @ output_grad\n",
        "        self.gradb += output_grad.sum(0)\n",
        "        input_grad = output_grad @ self.W.T\n",
        "        ### END Solution\n",
        "        return input_grad\n",
        "    \n",
        "\n",
        "class LogisticActivation:\n",
        "    def forward(self, x):\n",
        "        output = 1/(1 + np.exp(-x))\n",
        "        return output\n",
        "\n",
        "    def backward(self, x, output_grad):\n",
        "        \"\"\"\n",
        "        Returns the gradient of the loss w.r.t. the input\n",
        "        \"\"\"\n",
        "        ### BEGIN Solution\n",
        "        # >>> your solution here <<<\n",
        "        input_grad = output_grad * self.forward(x)*(1-self.forward(x))\n",
        "        ### END Solution\n",
        "        return input_grad\n",
        "\n",
        "\n",
        "class MLP:\n",
        "    def __init__(self, input_size, hidden_layer_size, output_size):\n",
        "        self.linear1 = Linear(input_size, hidden_layer_size)\n",
        "        self.activation1 = LogisticActivation()\n",
        "        self.linear2 = Linear(hidden_layer_size, output_size)\n",
        "        self.attr_seq = ['linear1', 'activation1', 'linear2']\n",
        "        self.inputs = []\n",
        "        \n",
        "    def zeroGrad(self):\n",
        "        for attr in self.attr_seq:\n",
        "            layer = getattr(self, attr)\n",
        "            if getattr(layer, 'zeroGrad', None):\n",
        "                layer.zeroGrad()\n",
        "                \n",
        "    def updateWeights(self, lr=1e-3):\n",
        "        self.linear1.updateWeights(lr)\n",
        "        self.linear2.updateWeights(lr)\n",
        "        \n",
        "    def forward(self, x):\n",
        "        del self.inputs[:]\n",
        "        for attr in self.attr_seq:\n",
        "            self.inputs.append(x)\n",
        "            layer = getattr(self, attr)\n",
        "            x = layer.forward(x)\n",
        "        return x\n",
        "\n",
        "    def backward(self, output_grad):\n",
        "        \"\"\"\n",
        "        Returns the gradient of the loss w.r.t. the input of MLP\n",
        "        given the input and the gradient  w.r.t. output of MLP\n",
        "        \"\"\"\n",
        "        ### BEGIN Solution\n",
        "        # >>> your solution here <<<\n",
        "        for attr, x in zip(self.attr_seq[::-1], self.inputs[::-1]):\n",
        "            layer = getattr(self, attr)\n",
        "            output_grad = layer.backward(x, output_grad)\n",
        "        ### END Solution\n",
        "        return output_grad"
      ],
      "execution_count": 0,
      "outputs": []
    },
    {
      "cell_type": "markdown",
      "metadata": {
        "id": "hBgiC2QmnIkd",
        "colab_type": "text"
      },
      "source": [
        "In derivation of the formulae below, we take into account, that $\\mathbf t$-s are one-hot encoded true labels\n",
        "$$\\begin{gather}\n",
        "    \\mathrm{CE} = -\\sum_i^C t_i \\log\\left(\\frac{e^{s_i}}{\\sum_j^C e^{s_j}}\\right)\n",
        "    = -\\sum_i^C t_i \\left(s_i - \\log\\sum_j^C e^{s_j}\\right)\\\\\n",
        "    = -\\sum_{p\\in P}\\left(s_p - \\log\\sum_j^C e^{s_j}\\right)\n",
        "    = -\\sum_{p\\in P}\\mathrm{logsoftmax}(s)[\\text{slice}(p\\in P)]\n",
        "\\end{gather}$$\n",
        "\n",
        "\n",
        "$$\\begin{gather}\n",
        "    \\frac{\\partial \\mathrm{CE}}{\\partial s_k}\n",
        "    = -\\sum_i^C t_i \\left(\\delta_{ik} - \\frac{e^{s_j}}{\\sum_j^C e^{s_j}}\\delta_{jk}\\right)\n",
        "    = -t_k + \\frac{e^{s_k}}{\\sum_j^C e^{s_j}}\\underbrace{\\sum_i^C t_i}_{=1}\n",
        "    = -t_k + \\mathrm{softmax}(s)_k\\\\\n",
        "    \\frac{\\partial \\mathrm{CE}}{\\partial s} = \\mathrm{softmax}(s) - t\n",
        "\\end{gather}$$"
      ]
    },
    {
      "cell_type": "code",
      "metadata": {
        "id": "xyXdrqL5nIkf",
        "colab_type": "code",
        "colab": {}
      },
      "source": [
        "### BEGIN Solution\n",
        "# Implement Cross Entropy Loss\n",
        "def softmax(logits):\n",
        "    out = logits - logits.max(axis=1, keepdims=True)\n",
        "    np.exp(out, out=out)\n",
        "    np.divide(out, out.sum(1, keepdims=True), out=out)\n",
        "    return out\n",
        "\n",
        "def logsoftmax(logits):\n",
        "    out = logits - logits.max(axis=1, keepdims=True)\n",
        "    out -= np.log(np.sum(np.exp(out), 1, keepdims=True))\n",
        "    return out \n",
        "\n",
        "class CrossEntropyLoss:\n",
        "    def __call__(self, logits, target):\n",
        "        logprobs = logsoftmax(logits)\n",
        "        return -logprobs[np.arange(len(target)), target.argmax(1)].mean()\n",
        "    \n",
        "    def backward(self, logits, target):\n",
        "        return (softmax(logits) - target)/len(target)\n",
        "### END Solution"
      ],
      "execution_count": 0,
      "outputs": []
    },
    {
      "cell_type": "code",
      "metadata": {
        "id": "_2OS1cxXnIkk",
        "colab_type": "code",
        "colab": {}
      },
      "source": [
        "def one_hot_encode(targets, n_classes):\n",
        "    code = np.zeros((len(targets), n_classes), dtype='int8')\n",
        "    code[np.arange(len(targets)), targets] = 1\n",
        "    return code\n",
        "\n",
        "y_train_1hot = one_hot_encode(y_train, 10)\n",
        "y_test_1hot = one_hot_encode(y_test, 10)\n",
        "\n",
        "def get_batches(n_samples, batch_size):\n",
        "    indices = np.arange(n_samples)\n",
        "    np.random.shuffle(indices)\n",
        "    \n",
        "    for i in range(0, n_samples, batch_size):\n",
        "        yield indices[i:i+batch_size]"
      ],
      "execution_count": 0,
      "outputs": []
    },
    {
      "cell_type": "code",
      "metadata": {
        "id": "Ld-L5DiZnIkp",
        "colab_type": "code",
        "colab": {},
        "outputId": "267735b0-bd91-4686-e38b-7b726c0fcc6d"
      },
      "source": [
        "np.random.seed(42)\n",
        "\n",
        "mlp = MLP(input_size=8*8, hidden_layer_size=100, output_size=10)\n",
        "CE = CrossEntropyLoss()\n",
        "\n",
        "n_epochs = 100\n",
        "pp = n_epochs // 10\n",
        "learning_curve = [0] * n_epochs\n",
        "test_curve = [0] * n_epochs\n",
        "\n",
        "lr = 1e-1\n",
        "N = len(y_train)\n",
        "for epoch in range(n_epochs):\n",
        "    epoch_loss = 0\n",
        "    for k, ids in enumerate(get_batches(N, 10), 1):\n",
        "        b_x, b_y = X_train[ids], y_train_1hot[ids]\n",
        "        ### BEGIN Solution\n",
        "        # ... zero the gradients of the model\n",
        "        # ... perform forward pass and compute the loss\n",
        "        # >>> your solution here <<<\n",
        "        mlp.zeroGrad()\n",
        "        logits = mlp.forward(b_x)\n",
        "        \n",
        "        # ... compute the gradients w.r.t. the input of softmax layer\n",
        "        # ... and update the weights with weight -= grad * learning_rate\n",
        "        # >>> your solution here <<<\n",
        "        epoch_loss += CE(logits, b_y) * len(b_y)/N\n",
        "        grad_output = CE.backward(logits, b_y)\n",
        "        mlp.backward(grad_output)\n",
        "        mlp.updateWeights(lr)\n",
        "    learning_curve[epoch] = epoch_loss\n",
        "    \n",
        "    # Validation\n",
        "    logits = mlp.forward(X_test)\n",
        "    test_curve[epoch] = CE(logits, y_test_1hot).mean()\n",
        "    y_pred = logits.argmax(axis=1)\n",
        "    acc = accuracy_score(y_test, y_pred)\n",
        "\n",
        "    if epoch % pp == 0:\n",
        "        print(f'Starting epoch {epoch}.\\nAccuracy on test: {acc}')\n",
        "        print()\n",
        "        \n",
        "    ### END Solution"
      ],
      "execution_count": 0,
      "outputs": [
        {
          "output_type": "stream",
          "text": [
            "Starting epoch 0.\n",
            "Accuracy on test: 0.10444444444444445\n",
            "\n",
            "Starting epoch 10.\n",
            "Accuracy on test: 0.5822222222222222\n",
            "\n",
            "Starting epoch 20.\n",
            "Accuracy on test: 0.8111111111111111\n",
            "\n",
            "Starting epoch 30.\n",
            "Accuracy on test: 0.8422222222222222\n",
            "\n",
            "Starting epoch 40.\n",
            "Accuracy on test: 0.9044444444444445\n",
            "\n",
            "Starting epoch 50.\n",
            "Accuracy on test: 0.86\n",
            "\n",
            "Starting epoch 60.\n",
            "Accuracy on test: 0.9022222222222223\n",
            "\n",
            "Starting epoch 70.\n",
            "Accuracy on test: 0.9311111111111111\n",
            "\n",
            "Starting epoch 80.\n",
            "Accuracy on test: 0.9333333333333333\n",
            "\n",
            "Starting epoch 90.\n",
            "Accuracy on test: 0.9266666666666666\n",
            "\n"
          ],
          "name": "stdout"
        }
      ]
    },
    {
      "cell_type": "code",
      "metadata": {
        "id": "_vTCgANqnIku",
        "colab_type": "code",
        "colab": {},
        "outputId": "69d24960-9cb3-4f8d-a300-1e76dd5bae24"
      },
      "source": [
        "plt.figure(figsize=(10,6))\n",
        "plt.plot(learning_curve, label='train')\n",
        "plt.plot(test_curve, label='test')\n",
        "plt.ylabel('Loss', size=16)\n",
        "plt.xlabel('Epoch', size=14)\n",
        "plt.legend(fontsize=14);"
      ],
      "execution_count": 0,
      "outputs": [
        {
          "output_type": "display_data",
          "data": {
            "image/png": "[encoded data removed]",
            "text/plain": [
              "<Figure size 720x432 with 1 Axes>"
            ]
          },
          "metadata": {
            "tags": [],
            "needs_background": "light"
          }
        }
      ]
    },
    {
      "cell_type": "code",
      "metadata": {
        "id": "AZk97QTLnIkz",
        "colab_type": "code",
        "colab": {},
        "outputId": "19fc0c35-3f83-41b7-bcec-85a613f3196f"
      },
      "source": [
        "# confusion matrix\n",
        "# >>> your solution here <<<\n",
        "y_pred = mlp.forward(X).argmax(1)\n",
        "pd.DataFrame(confusion_matrix(y, y_pred))"
      ],
      "execution_count": 0,
      "outputs": [
        {
          "output_type": "execute_result",
          "data": {
            "text/html": [
              "<div>\n",
              "<style scoped>\n",
              "    .dataframe tbody tr th:only-of-type {\n",
              "        vertical-align: middle;\n",
              "    }\n",
              "\n",
              "    .dataframe tbody tr th {\n",
              "        vertical-align: top;\n",
              "    }\n",
              "\n",
              "    .dataframe thead th {\n",
              "        text-align: right;\n",
              "    }\n",
              "</style>\n",
              "<table border=\"1\" class=\"dataframe\">\n",
              "  <thead>\n",
              "    <tr style=\"text-align: right;\">\n",
              "      <th></th>\n",
              "      <th>0</th>\n",
              "      <th>1</th>\n",
              "      <th>2</th>\n",
              "      <th>3</th>\n",
              "      <th>4</th>\n",
              "      <th>5</th>\n",
              "      <th>6</th>\n",
              "      <th>7</th>\n",
              "      <th>8</th>\n",
              "      <th>9</th>\n",
              "    </tr>\n",
              "  </thead>\n",
              "  <tbody>\n",
              "    <tr>\n",
              "      <th>0</th>\n",
              "      <td>177</td>\n",
              "      <td>0</td>\n",
              "      <td>0</td>\n",
              "      <td>0</td>\n",
              "      <td>1</td>\n",
              "      <td>0</td>\n",
              "      <td>0</td>\n",
              "      <td>0</td>\n",
              "      <td>0</td>\n",
              "      <td>0</td>\n",
              "    </tr>\n",
              "    <tr>\n",
              "      <th>1</th>\n",
              "      <td>0</td>\n",
              "      <td>154</td>\n",
              "      <td>2</td>\n",
              "      <td>0</td>\n",
              "      <td>2</td>\n",
              "      <td>0</td>\n",
              "      <td>3</td>\n",
              "      <td>0</td>\n",
              "      <td>4</td>\n",
              "      <td>17</td>\n",
              "    </tr>\n",
              "    <tr>\n",
              "      <th>2</th>\n",
              "      <td>0</td>\n",
              "      <td>2</td>\n",
              "      <td>172</td>\n",
              "      <td>1</td>\n",
              "      <td>0</td>\n",
              "      <td>0</td>\n",
              "      <td>0</td>\n",
              "      <td>0</td>\n",
              "      <td>0</td>\n",
              "      <td>2</td>\n",
              "    </tr>\n",
              "    <tr>\n",
              "      <th>3</th>\n",
              "      <td>0</td>\n",
              "      <td>1</td>\n",
              "      <td>2</td>\n",
              "      <td>165</td>\n",
              "      <td>0</td>\n",
              "      <td>2</td>\n",
              "      <td>0</td>\n",
              "      <td>3</td>\n",
              "      <td>3</td>\n",
              "      <td>7</td>\n",
              "    </tr>\n",
              "    <tr>\n",
              "      <th>4</th>\n",
              "      <td>0</td>\n",
              "      <td>0</td>\n",
              "      <td>0</td>\n",
              "      <td>0</td>\n",
              "      <td>176</td>\n",
              "      <td>0</td>\n",
              "      <td>0</td>\n",
              "      <td>1</td>\n",
              "      <td>0</td>\n",
              "      <td>4</td>\n",
              "    </tr>\n",
              "    <tr>\n",
              "      <th>5</th>\n",
              "      <td>0</td>\n",
              "      <td>0</td>\n",
              "      <td>0</td>\n",
              "      <td>0</td>\n",
              "      <td>1</td>\n",
              "      <td>166</td>\n",
              "      <td>1</td>\n",
              "      <td>0</td>\n",
              "      <td>0</td>\n",
              "      <td>14</td>\n",
              "    </tr>\n",
              "    <tr>\n",
              "      <th>6</th>\n",
              "      <td>1</td>\n",
              "      <td>2</td>\n",
              "      <td>0</td>\n",
              "      <td>0</td>\n",
              "      <td>1</td>\n",
              "      <td>0</td>\n",
              "      <td>177</td>\n",
              "      <td>0</td>\n",
              "      <td>0</td>\n",
              "      <td>0</td>\n",
              "    </tr>\n",
              "    <tr>\n",
              "      <th>7</th>\n",
              "      <td>0</td>\n",
              "      <td>0</td>\n",
              "      <td>0</td>\n",
              "      <td>0</td>\n",
              "      <td>2</td>\n",
              "      <td>0</td>\n",
              "      <td>0</td>\n",
              "      <td>174</td>\n",
              "      <td>0</td>\n",
              "      <td>3</td>\n",
              "    </tr>\n",
              "    <tr>\n",
              "      <th>8</th>\n",
              "      <td>0</td>\n",
              "      <td>11</td>\n",
              "      <td>1</td>\n",
              "      <td>0</td>\n",
              "      <td>2</td>\n",
              "      <td>3</td>\n",
              "      <td>1</td>\n",
              "      <td>0</td>\n",
              "      <td>147</td>\n",
              "      <td>9</td>\n",
              "    </tr>\n",
              "    <tr>\n",
              "      <th>9</th>\n",
              "      <td>0</td>\n",
              "      <td>0</td>\n",
              "      <td>0</td>\n",
              "      <td>1</td>\n",
              "      <td>1</td>\n",
              "      <td>2</td>\n",
              "      <td>0</td>\n",
              "      <td>0</td>\n",
              "      <td>0</td>\n",
              "      <td>176</td>\n",
              "    </tr>\n",
              "  </tbody>\n",
              "</table>\n",
              "</div>"
            ],
            "text/plain": [
              "     0    1    2    3    4    5    6    7    8    9\n",
              "0  177    0    0    0    1    0    0    0    0    0\n",
              "1    0  154    2    0    2    0    3    0    4   17\n",
              "2    0    2  172    1    0    0    0    0    0    2\n",
              "3    0    1    2  165    0    2    0    3    3    7\n",
              "4    0    0    0    0  176    0    0    1    0    4\n",
              "5    0    0    0    0    1  166    1    0    0   14\n",
              "6    1    2    0    0    1    0  177    0    0    0\n",
              "7    0    0    0    0    2    0    0  174    0    3\n",
              "8    0   11    1    0    2    3    1    0  147    9\n",
              "9    0    0    0    1    1    2    0    0    0  176"
            ]
          },
          "metadata": {
            "tags": []
          },
          "execution_count": 70
        }
      ]
    },
    {
      "cell_type": "markdown",
      "metadata": {
        "id": "GCHVAndenIk3",
        "colab_type": "text"
      },
      "source": [
        "## Task 2. Autoencoders. (7 points)\n",
        "\n",
        "### Task 2.1.  Autoencoder on the tabular data. (3 points)\n",
        "\n",
        "\n",
        "We will build a latent representation for tabular data with simple Autoencoder (AE). We are going to work with the cancer dataset from scikit-learn package. You are to follow the instructions `1.0 - 1.6`.  \n",
        "\n",
        "1. **(1 pt.)** Implement AE modules;\n",
        "2. **(2 pt.)** Train AE to get latent representation of the cancer dataset from `sklearn.datasets()`. Use `MSE` loss and get < $0.28$ on validation, with AE \"bottleneck\" = $2$;\n",
        "3. **(1 pt.)** Plot the latent representation of whole dataset in 2D, use colors to show object of differneet classes;"
      ]
    },
    {
      "cell_type": "markdown",
      "metadata": {
        "id": "9Lk3M1UznIk5",
        "colab_type": "text"
      },
      "source": [
        "#### 1.0 Featch the data. Scale it and split on train and test."
      ]
    },
    {
      "cell_type": "code",
      "metadata": {
        "id": "Utqa7Nk1nIk6",
        "colab_type": "code",
        "colab": {},
        "outputId": "a4a258e1-0efa-4639-8969-cf8121b5b047"
      },
      "source": [
        "cancer_dset = sk_data.load_breast_cancer()\n",
        "\n",
        "X = StandardScaler().fit_transform(cancer_dset['data'])\n",
        "\n",
        "print('Features: ', list(cancer_dset['feature_names']))\n",
        "print('\\nShape:', X.shape)\n",
        "\n",
        "X_train, X_val, y_train, y_val = train_test_split(X, cancer_dset['target'], test_size=0.2, random_state=42)\n",
        "print('\\nTrain size: ', len(X_train))\n",
        "print('Validation size: ', len(X_val))"
      ],
      "execution_count": 0,
      "outputs": [
        {
          "output_type": "stream",
          "text": [
            "Features:  ['mean radius', 'mean texture', 'mean perimeter', 'mean area', 'mean smoothness', 'mean compactness', 'mean concavity', 'mean concave points', 'mean symmetry', 'mean fractal dimension', 'radius error', 'texture error', 'perimeter error', 'area error', 'smoothness error', 'compactness error', 'concavity error', 'concave points error', 'symmetry error', 'fractal dimension error', 'worst radius', 'worst texture', 'worst perimeter', 'worst area', 'worst smoothness', 'worst compactness', 'worst concavity', 'worst concave points', 'worst symmetry', 'worst fractal dimension']\n",
            "\n",
            "Shape: (569, 30)\n",
            "\n",
            "Train size:  455\n",
            "Validation size:  114\n"
          ],
          "name": "stdout"
        }
      ]
    },
    {
      "cell_type": "markdown",
      "metadata": {
        "id": "sT0gtH_ZnIk_",
        "colab_type": "text"
      },
      "source": [
        "#### 1.1 Let us firtly create the dataset, which we'll be able to use with pytorch dataloader. \n",
        "Implement `__len__` and `__getitem__` methods."
      ]
    },
    {
      "cell_type": "code",
      "metadata": {
        "id": "sf6R1qC1nIlB",
        "colab_type": "code",
        "colab": {}
      },
      "source": [
        "class CancerData(torch_data.Dataset):\n",
        "    def __init__(self, X, y):\n",
        "        super(CancerData, self).__init__()\n",
        "        self.X = torch.tensor(X, dtype=torch.float32)\n",
        "        self.y = torch.tensor(y, dtype=torch.float32)\n",
        "    \n",
        "    def __len__(self):\n",
        "        # >>> your solution here <<<\n",
        "        return len(self.y) \n",
        "    \n",
        "    def __getitem__(self, idx):\n",
        "        # >>> your solution here <<<\n",
        "        return self.X[idx], self.y[idx]"
      ],
      "execution_count": 0,
      "outputs": []
    },
    {
      "cell_type": "code",
      "metadata": {
        "id": "oawoDR9CnIlF",
        "colab_type": "code",
        "colab": {},
        "outputId": "d1744f2d-6a7a-4105-c599-806e3a63ee69"
      },
      "source": [
        "train_dset = CancerData(X_train, y_train) \n",
        "val_dset = CancerData(X_val, y_val) \n",
        "\n",
        "print(train_dset[5])"
      ],
      "execution_count": 0,
      "outputs": [
        {
          "output_type": "stream",
          "text": [
            "(tensor([ 0.1172,  1.9199,  0.1961,  0.0111,  1.2482,  1.0453,  0.9429,  0.6376,\n",
            "         1.7940,  1.1302, -0.1269, -0.3336,  0.0064, -0.1713, -0.4780,  0.9458,\n",
            "         0.5145, -0.1454, -0.2388,  0.6321,  0.2466,  1.8650,  0.5016,  0.1101,\n",
            "         1.5532,  2.5664,  2.0649,  0.8617,  2.1310,  2.7793]), tensor(0.))\n"
          ],
          "name": "stdout"
        }
      ]
    },
    {
      "cell_type": "markdown",
      "metadata": {
        "id": "Ky7kApAFnIlJ",
        "colab_type": "text"
      },
      "source": [
        "#### 1.2 Now, we'll make a base class for our autoencoder. \n",
        "AE takes as input encoder and decoder (it will be two neural networks). Your task is to implement the forward pass."
      ]
    },
    {
      "cell_type": "code",
      "metadata": {
        "id": "2nTJ4X0onIlK",
        "colab_type": "code",
        "colab": {}
      },
      "source": [
        "class MyFirstAE(nn.Module):\n",
        "    def __init__(self, encoder, decoder):\n",
        "        super(MyFirstAE, self).__init__()\n",
        "        self.encoder = encoder\n",
        "        self.decoder = decoder\n",
        "    \n",
        "    def forward(self, x):\n",
        "        \"\"\"\n",
        "        Take a mini-batch as an input,\n",
        "        encode it to the latent space \n",
        "        and decode back to the original space\n",
        "        \n",
        "        x_out = decoder(encoder(x))\n",
        "        :param x: torch.tensor, (MB, x_dim)\n",
        "        :return: torch.tensor, (MB, x_dim)\n",
        "        \"\"\"\n",
        "        # >>> your solution here <<<\n",
        "        return self.decoder(self.encoder(x))"
      ],
      "execution_count": 0,
      "outputs": []
    },
    {
      "cell_type": "markdown",
      "metadata": {
        "id": "7NJxaS1enIlN",
        "colab_type": "text"
      },
      "source": [
        "#### 1.3 It is high time to create encoder an decoder neural networks!\n",
        "Make hidden size of the network to be equal to `2`.\n",
        "\n",
        "**Hint.** You can use `nn.Sequential` to create your own archtectures."
      ]
    },
    {
      "cell_type": "code",
      "metadata": {
        "id": "ImltouOznIlP",
        "colab_type": "code",
        "colab": {}
      },
      "source": [
        "# >>> your solution here <<<\n",
        "class Encoder(nn.Module):\n",
        "    def __init__(self, code_size):\n",
        "        super().__init__()\n",
        "        bw = 16\n",
        "        self.conv1 = nn.Conv1d(1,bw,9,3, bias=False)\n",
        "        # (30 - 9) / 3 + 1 = 8\n",
        "        self.conv2 = nn.Conv1d(bw,2*bw,4,2, bias=False)\n",
        "        # (8 - 4) / 2 + 1 = 3\n",
        "        self.conv3 = nn.Conv1d(2*bw,4*bw,3, bias=False)\n",
        "        # 3 - 3 + 1 = 1\n",
        "        \n",
        "        self.leaky = nn.LeakyReLU(inplace=True)\n",
        "        self.fc = nn.Linear(4*bw, code_size)\n",
        "        self.drop = nn.Dropout(.15)\n",
        "        \n",
        "        self.bn1 = nn.BatchNorm1d(bw)\n",
        "        self.bn2 = nn.BatchNorm1d(bw*2)\n",
        "        self.bn3 = nn.BatchNorm1d(bw*4)\n",
        "        \n",
        "    def forward(self, X):\n",
        "        H = X[:, None]\n",
        "        H = self.leaky(self.bn1(self.conv1(H)))\n",
        "        H = self.drop(H)\n",
        "        H = self.leaky(self.bn2(self.conv2(H)))\n",
        "        H = self.drop(H)\n",
        "        H = self.leaky(self.bn3(self.conv3(H)))\n",
        "        H = self.drop(H)\n",
        "        return self.fc(H.squeeze(-1))\n",
        "\n",
        "# >>> your solution here <<<\n",
        "decoder = lambda n: nn.Sequential(\n",
        "    nn.Linear(n, 11),\n",
        "    nn.LeakyReLU(inplace=True),\n",
        "    nn.Linear(11, X.shape[1]))"
      ],
      "execution_count": 0,
      "outputs": []
    },
    {
      "cell_type": "code",
      "metadata": {
        "id": "DUSFPgGonIlS",
        "colab_type": "code",
        "colab": {}
      },
      "source": [
        "# >>> your solution here <<<\n",
        "device = 'cpu'\n",
        "\n",
        "net = MyFirstAE(Encoder(2), decoder(2))\n",
        "net = net.to(device)\n",
        "\n",
        "criterion = nn.MSELoss()\n",
        "# >>> your solution here <<<\n",
        "optimizer = optim.Adam(net.parameters(), lr=3e-2)\n",
        "# >>> your solution here <<<\n",
        "scheduler = optim.lr_scheduler.StepLR(optimizer, 3, 0.994)\n",
        "\n",
        "train_loader = torch_data.DataLoader(train_dset, batch_size=140, shuffle=True) \n",
        "val_loader = torch_data.DataLoader(val_dset, batch_size=200, shuffle=False) "
      ],
      "execution_count": 0,
      "outputs": []
    },
    {
      "cell_type": "markdown",
      "metadata": {
        "id": "lGf7LMG7nIlW",
        "colab_type": "text"
      },
      "source": [
        "#### 1.4 Implement the missing parts of the `train` function"
      ]
    },
    {
      "cell_type": "code",
      "metadata": {
        "id": "ZsJrVqVEnIlX",
        "colab_type": "code",
        "colab": {}
      },
      "source": [
        "def train(\n",
        "    epochs, net, criterion, optimizer, train_loader, val_loader,\n",
        "    scheduler=None, verbose=True, save_dir=None):\n",
        "    \n",
        "    for epoch in range(1, epochs+1):\n",
        "        net.train()\n",
        "        train_loss = val_loss = 0\n",
        "        for X, _ in train_loader:\n",
        "            # Perform one step of minibatch stochastic GD\n",
        "            # >>> your solution here <<<\n",
        "            optimizer.zero_grad()\n",
        "            \n",
        "            X = X.to(device)\n",
        "            loss = criterion(net(X), X)\n",
        "            loss.backward()\n",
        "            train_loss += loss.item() * len(X)/len(train_loader.dataset)\n",
        "            \n",
        "            optimizer.step()\n",
        "        \n",
        "        # define NN evaluation, i.e. turn off dropouts, batchnorms, etc.\n",
        "        net.eval()\n",
        "        for X, _ in val_loader:\n",
        "            # Compute the validation loss\n",
        "            # >>> your solution here <<<\n",
        "            X = X.to(device)\n",
        "            loss = criterion(net(X), X)\n",
        "            val_loss += loss.item() * len(X)/len(val_loader.dataset)\n",
        "         \n",
        "        if scheduler is not None:\n",
        "            scheduler.step()\n",
        "        freq = max(epochs//20,1)\n",
        "        if verbose and epoch%freq==0:\n",
        "            print(\n",
        "                f'Epoch {epoch}/{epochs} || Loss:'\n",
        "                f'Train {train_loss:.4} | Validation {val_loss:.4f}')"
      ],
      "execution_count": 0,
      "outputs": []
    },
    {
      "cell_type": "markdown",
      "metadata": {
        "id": "b9GVSI8jnIla",
        "colab_type": "text"
      },
      "source": [
        "#### 1.5 Train your AE on breast cancer dataset. \n",
        "Your goal is to get validation error < 0.3.\n",
        "\n",
        "Some features that may help you to improve the performance:\n",
        "* `Dropout`\n",
        "* `Batchnorm`\n",
        "* lr scheduler\n",
        "* Batch size increase/decrease"
      ]
    },
    {
      "cell_type": "code",
      "metadata": {
        "scrolled": true,
        "id": "JV0kIJ2ZnIlb",
        "colab_type": "code",
        "colab": {},
        "outputId": "d7f39bd3-cc7b-452e-e88c-a540350919b1"
      },
      "source": [
        "# for `MSE` loss get < 0.28 on validation, with AE \"bottleneck\" = 2\n",
        "torch.manual_seed(3)\n",
        "train(800, net, criterion, optimizer, train_loader, val_loader, scheduler) "
      ],
      "execution_count": 0,
      "outputs": [
        {
          "output_type": "stream",
          "text": [
            "Epoch 40/800 || Loss:Train 0.3594 | Validation 0.3291\n",
            "Epoch 80/800 || Loss:Train 0.3416 | Validation 0.3118\n",
            "Epoch 120/800 || Loss:Train 0.3259 | Validation 0.3105\n",
            "Epoch 160/800 || Loss:Train 0.3288 | Validation 0.2927\n",
            "Epoch 200/800 || Loss:Train 0.3208 | Validation 0.2878\n",
            "Epoch 240/800 || Loss:Train 0.3069 | Validation 0.2877\n",
            "Epoch 280/800 || Loss:Train 0.3055 | Validation 0.2864\n",
            "Epoch 320/800 || Loss:Train 0.303 | Validation 0.2818\n",
            "Epoch 360/800 || Loss:Train 0.2968 | Validation 0.2968\n",
            "Epoch 400/800 || Loss:Train 0.3109 | Validation 0.2861\n",
            "Epoch 440/800 || Loss:Train 0.2945 | Validation 0.2870\n",
            "Epoch 480/800 || Loss:Train 0.2863 | Validation 0.2813\n",
            "Epoch 520/800 || Loss:Train 0.2819 | Validation 0.2832\n",
            "Epoch 560/800 || Loss:Train 0.283 | Validation 0.2858\n",
            "Epoch 600/800 || Loss:Train 0.2928 | Validation 0.2780\n",
            "Epoch 640/800 || Loss:Train 0.2899 | Validation 0.2861\n",
            "Epoch 680/800 || Loss:Train 0.2844 | Validation 0.2812\n",
            "Epoch 720/800 || Loss:Train 0.2834 | Validation 0.2791\n",
            "Epoch 760/800 || Loss:Train 0.2836 | Validation 0.2798\n",
            "Epoch 800/800 || Loss:Train 0.2872 | Validation 0.2776\n"
          ],
          "name": "stdout"
        }
      ]
    },
    {
      "cell_type": "markdown",
      "metadata": {
        "id": "5rvHk3vznIlg",
        "colab_type": "text"
      },
      "source": [
        "#### 1.6 Let us take a look at the latent space. \n",
        "Encode the whole dataset, using your AE, plot it in 2D and use colors to indicate objects of differrent classes"
      ]
    },
    {
      "cell_type": "code",
      "metadata": {
        "id": "hyHQZdkvnIlh",
        "colab_type": "code",
        "colab": {},
        "outputId": "57706a34-ddec-43e9-d6c4-02ed7a62241d"
      },
      "source": [
        " ### BEGIN Solution\n",
        "plt.figure(figsize=(14, 5))\n",
        "net.eval()\n",
        "enc = net.encoder(torch.Tensor(X)).detach()\n",
        "plt.scatter(enc[:,0], enc[:,1], c=cancer_dset['target'], alpha=0.7);\n",
        "plt.title('Latent space from the Autoencoder bottle neck, purple dots go for malignant samples. ');\n",
        " ### END Solution"
      ],
      "execution_count": 0,
      "outputs": [
        {
          "output_type": "display_data",
          "data": {
            "image/png": "[encoded data removed]",
            "text/plain": [
              "<Figure size 1008x360 with 1 Axes>"
            ]
          },
          "metadata": {
            "tags": [],
            "needs_background": "light"
          }
        }
      ]
    },
    {
      "cell_type": "markdown",
      "metadata": {
        "id": "nKe0HV5GnIll",
        "colab_type": "text"
      },
      "source": [
        "### Task 2.2.  Autoencoder on kMNIST. (4 points)\n",
        "\n",
        "\n",
        "We will build a latent representation for `kMRIST` dataset by using our AE. We will work with the data from `Part 1`.\n",
        "\n",
        "1. **(2 pt.)** Train AE to get latent representation of the `kMNIST` dataset from `sklearn.datasets()`. Follow the instructions `2.0 - 2.4`. Use `MSE` loss and obtain < $0.035$ on validation, with AE \"bottleneck\"  $\\leq 40$;\n",
        "2. **(1 pt.)** Plot 10 images and their reconstructions. Plot the latent representation of the whole dataset in 3D, compare visually to your manifold from `Part 1` and upload (pictures) screenshots to this notebook.\n",
        "3. **(1 pt.)** Get the classification accuracy for the latent features. Use the `KNN` classifier with any hyperparameters you like. Write a couple of sentences about the differences of `manifold learning` and ` AE` results. \n",
        "3. **(BONUS 3 pt.)** Sampling from latent representation."
      ]
    },
    {
      "cell_type": "code",
      "metadata": {
        "id": "BzNd0P9tnIlm",
        "colab_type": "code",
        "colab": {}
      },
      "source": [
        "def load(f):\n",
        "    return np.load(f)['arr_0']\n",
        "\n",
        "# Load the data\n",
        "x_train = load('data/kmnist/kmnist-train-imgs.npz')\n",
        "x_test = load('data/kmnist/kmnist-test-imgs.npz')\n",
        "y_train = load('data/kmnist/kmnist-train-labels.npz')\n",
        "y_test = load('data/kmnist/kmnist-test-labels.npz')\n",
        "\n",
        "# Reshape the data and scale\n",
        "x_train = x_train.astype('f4') / 255\n",
        "x_test = x_test.astype('f4') / 255"
      ],
      "execution_count": 0,
      "outputs": []
    },
    {
      "cell_type": "code",
      "metadata": {
        "id": "dtMxnGUXnIlq",
        "colab_type": "code",
        "colab": {
          "base_uri": "https://localhost:8080/",
          "height": 145
        },
        "outputId": "f7490fd4-91f5-4148-d685-13b4ba44b03e"
      },
      "source": [
        "fig, ax = plt.subplots(ncols=10, figsize=(20, 5))\n",
        "for i in range(10):\n",
        "    ax[i].imshow(x_train[i]);\n",
        "    ax[i].axis('off')"
      ],
      "execution_count": 5,
      "outputs": [
        {
          "output_type": "display_data",
          "data": {
            "image/png": "[encoded data removed]",
            "text/plain": [
              "<Figure size 1440x360 with 10 Axes>"
            ]
          },
          "metadata": {
            "tags": []
          }
        }
      ]
    },
    {
      "cell_type": "code",
      "metadata": {
        "id": "0oc1KkZdnIlu",
        "colab_type": "code",
        "colab": {}
      },
      "source": [
        "class kMNISTData(torch_data.Dataset):\n",
        "    def __init__(self, X, y):\n",
        "        super().__init__()\n",
        "        self.X = X\n",
        "        self.y = y\n",
        "    \n",
        "    def __len__(self):\n",
        "        return len(self.y)\n",
        "    \n",
        "    def __getitem__(self, idx):\n",
        "        return self.X[idx], self.y[idx]"
      ],
      "execution_count": 0,
      "outputs": []
    },
    {
      "cell_type": "code",
      "metadata": {
        "id": "Ym2BZv9hnIlz",
        "colab_type": "code",
        "colab": {}
      },
      "source": [
        "train_kmnist = kMNISTData(x_train, y_train)\n",
        "test_kmnist = kMNISTData(x_test, y_test)"
      ],
      "execution_count": 0,
      "outputs": []
    },
    {
      "cell_type": "markdown",
      "metadata": {
        "id": "a5QM9eXUnIl6",
        "colab_type": "text"
      },
      "source": [
        "#### 2.0 Create encoder and decoder network for kMNIST. \n",
        "You can either use convolutions or flatten the images and use linear layers. You can choose hidden size (not larger than 40) and any architecture you like."
      ]
    },
    {
      "cell_type": "code",
      "metadata": {
        "id": "mmFVHHt2nIl8",
        "colab_type": "code",
        "colab": {}
      },
      "source": [
        "# >>> your solution here <<<\n",
        "bw = 32\n",
        "class Encoder(nn.Module):\n",
        "    def __init__(self, code_size):\n",
        "        super().__init__()\n",
        "        # image size 28 x 28\n",
        "        self.conv1 = nn.Conv2d(1, bw, 3, 2, 1, bias=False)\n",
        "        self.conv2 = nn.Conv2d(bw, 2*bw, 3, 2, 1, bias=False)\n",
        "        self.conv3 = nn.Conv2d(2*bw, 4*bw, 3, 2, 1, bias=False)\n",
        "        \n",
        "        self.elu = nn.ELU(inplace=True)\n",
        "        self.leaky = nn.LeakyReLU(inplace=True)\n",
        "        self.fc = nn.Linear(4*bw*4*4, code_size)\n",
        "        self.drop = nn.Dropout2d(.15)\n",
        "        \n",
        "        self.bn1 = nn.BatchNorm2d(bw)\n",
        "        self.bn2 = nn.BatchNorm2d(bw*2)\n",
        "        self.bn3 = nn.BatchNorm2d(bw*4)\n",
        "        \n",
        "    def forward(self, X):\n",
        "        H = X[:, None]\n",
        "        H = self.leaky(self.bn1(self.conv1(H)))\n",
        "        H = self.drop(H)\n",
        "        H = self.leaky(self.bn2(self.conv2(H)))\n",
        "        H = self.drop(H)\n",
        "        H = self.leaky(self.bn3(self.conv3(H)))\n",
        "        H = self.drop(H)\n",
        "        return self.fc(H.view(-1, 4*bw*4*4))\n",
        "\n",
        "# >>> your solution here <<<\n",
        "class Decoder(nn.Module):\n",
        "    def __init__(self, code_size):\n",
        "        super().__init__()\n",
        "        self.fc = nn.Linear(code_size, 4*bw*4*4)\n",
        "        self.leaky = nn.LeakyReLU(inplace=True)\n",
        "        self.up1 = nn.ConvTranspose2d(4*bw, 2*bw, 3, 2, 1)\n",
        "        self.up2 = nn.ConvTranspose2d(2*bw, bw, 4, 2, 1)\n",
        "        self.up3 = nn.ConvTranspose2d(bw, 1, 4, 2, 1)\n",
        "        \n",
        "    def forward(self, X):\n",
        "        H = self.leaky(self.fc(X))\n",
        "        H = self.leaky(self.up1(H.view(-1, 4*bw, 4, 4)))\n",
        "        H = self.leaky(self.up2(H))\n",
        "        return torch.sigmoid(self.up3(H)).squeeze(1)"
      ],
      "execution_count": 0,
      "outputs": []
    },
    {
      "cell_type": "markdown",
      "metadata": {
        "id": "ERpnrUdmnImB",
        "colab_type": "text"
      },
      "source": [
        "#### 2.1 Train AE on the kMNIST. \n",
        "Your goal is to obtain MSE on the test set < $0.035$ on `MyFirstAE(encoder(40), decoder(40))`."
      ]
    },
    {
      "cell_type": "code",
      "metadata": {
        "id": "j6MUh5yznImD",
        "colab_type": "code",
        "colab": {}
      },
      "source": [
        "device = torch.device('cuda' if torch.cuda.is_available() else 'cpu')\n",
        "\n",
        "net = MyFirstAE(Encoder(40), Decoder(40)).to(device)\n",
        "criterion = nn.MSELoss()\n",
        "optimizer = optim.Adam(net.parameters(), lr=1e-2)\n",
        "scheduler = optim.lr_scheduler.StepLR(optimizer, 3, 0.99)\n",
        "\n",
        "train_loader = torch_data.DataLoader(train_kmnist, batch_size=500, shuffle=True) \n",
        "val_loader = torch_data.DataLoader(test_kmnist, batch_size=500, shuffle=False) "
      ],
      "execution_count": 0,
      "outputs": []
    },
    {
      "cell_type": "code",
      "metadata": {
        "id": "uHVr3IA7nImI",
        "colab_type": "code",
        "colab": {
          "base_uri": "https://localhost:8080/",
          "height": 442
        },
        "outputId": "9a702a59-a98e-4087-f3ec-e4a875ef0237"
      },
      "source": [
        "# If losses are not decreasing reload this cell and the one above\n",
        "epochs = 50\n",
        "train(epochs, net, criterion, optimizer, train_loader, val_loader, scheduler)"
      ],
      "execution_count": 35,
      "outputs": [
        {
          "output_type": "stream",
          "text": [
            "Epoch 2/50 || Loss:Train 0.032 | Validation 0.0282\n",
            "Epoch 4/50 || Loss:Train 0.02222 | Validation 0.0229\n",
            "Epoch 6/50 || Loss:Train 0.01992 | Validation 0.0217\n",
            "Epoch 8/50 || Loss:Train 0.01875 | Validation 0.0208\n",
            "Epoch 10/50 || Loss:Train 0.01807 | Validation 0.0207\n",
            "Epoch 12/50 || Loss:Train 0.01778 | Validation 0.0193\n",
            "Epoch 14/50 || Loss:Train 0.01729 | Validation 0.0191\n",
            "Epoch 16/50 || Loss:Train 0.01703 | Validation 0.0189\n",
            "Epoch 18/50 || Loss:Train 0.01672 | Validation 0.0187\n",
            "Epoch 20/50 || Loss:Train 0.01658 | Validation 0.0200\n",
            "Epoch 22/50 || Loss:Train 0.01635 | Validation 0.0183\n",
            "Epoch 24/50 || Loss:Train 0.01616 | Validation 0.0181\n",
            "Epoch 26/50 || Loss:Train 0.01615 | Validation 0.0181\n",
            "Epoch 28/50 || Loss:Train 0.01588 | Validation 0.0180\n",
            "Epoch 30/50 || Loss:Train 0.01583 | Validation 0.0180\n",
            "Epoch 32/50 || Loss:Train 0.0157 | Validation 0.0178\n",
            "Epoch 34/50 || Loss:Train 0.0155 | Validation 0.0179\n",
            "Epoch 36/50 || Loss:Train 0.01551 | Validation 0.0177\n",
            "Epoch 38/50 || Loss:Train 0.0154 | Validation 0.0175\n",
            "Epoch 40/50 || Loss:Train 0.01536 | Validation 0.0175\n",
            "Epoch 42/50 || Loss:Train 0.01534 | Validation 0.0174\n",
            "Epoch 44/50 || Loss:Train 0.01516 | Validation 0.0175\n",
            "Epoch 46/50 || Loss:Train 0.01517 | Validation 0.0174\n",
            "Epoch 48/50 || Loss:Train 0.01501 | Validation 0.0173\n",
            "Epoch 50/50 || Loss:Train 0.01499 | Validation 0.0176\n"
          ],
          "name": "stdout"
        }
      ]
    },
    {
      "cell_type": "markdown",
      "metadata": {
        "id": "VeMTyef7nImN",
        "colab_type": "text"
      },
      "source": [
        "#### 2.2 Plot any 10 images and their reconstructions."
      ]
    },
    {
      "cell_type": "code",
      "metadata": {
        "id": "w4SqEoSKuW3s",
        "colab_type": "code",
        "colab": {
          "base_uri": "https://localhost:8080/",
          "height": 294
        },
        "outputId": "dced4638-bab7-43d5-fa9c-2fdc741ce51f"
      },
      "source": [
        "fig, ax = plt.subplots(ncols=10, nrows=2, figsize=(20, 5))\n",
        "for i in range(10):\n",
        "    im = train_kmnist[i][0]\n",
        "    rec = net(torch.Tensor(im)[None].to(device)).squeeze(0).detach().cpu()\n",
        "    ax[0, i].imshow(im);\n",
        "    ax[1, i].imshow(rec);\n",
        "    ax[0, i].axis('off')\n",
        "    ax[1, i].axis('off')"
      ],
      "execution_count": 83,
      "outputs": [
        {
          "output_type": "display_data",
          "data": {
            "image/png": "[encoded data removed]",
            "text/plain": [
              "<Figure size 1440x360 with 20 Axes>"
            ]
          },
          "metadata": {
            "tags": []
          }
        }
      ]
    },
    {
      "cell_type": "markdown",
      "metadata": {
        "id": "i1Uh9tOynImT",
        "colab_type": "text"
      },
      "source": [
        "#### 2.3 Plot the latent representation of whole dataset in 3D, compare visually to your manifold from `Part 1` and upload (pictures) screenshoots to this notebook."
      ]
    },
    {
      "cell_type": "code",
      "metadata": {
        "id": "gkaidr1-nImU",
        "colab_type": "code",
        "colab": {}
      },
      "source": [
        "### BEGIN Solution\n",
        "# >>> your solution here <<<\n",
        "# I didn't do the related task from Part 1\n",
        "### END Solution"
      ],
      "execution_count": 0,
      "outputs": []
    },
    {
      "cell_type": "markdown",
      "metadata": {
        "id": "7Ey6f11qnIme",
        "colab_type": "text"
      },
      "source": [
        "#### 2.4 Get the classification accuracy for the latest features. Use the `KNN` classifier with any hyperparameters you'll choose. Write a couple of sentences comparing the results of `manifold learning` and ` AE`. "
      ]
    },
    {
      "cell_type": "code",
      "metadata": {
        "id": "eBc5hQJQnImg",
        "colab_type": "code",
        "colab": {
          "base_uri": "https://localhost:8080/",
          "height": 34
        },
        "outputId": "b290905d-ad95-4d59-d474-f0b6d3e1fe3b"
      },
      "source": [
        "### BEGIN Solution\n",
        "# >>> your solution here <<<\n",
        "reduced_features_train = net.encoder(torch.Tensor(x_train).to(device)).detach()\n",
        "reduced_features_test = net.encoder(torch.Tensor(x_test).to(device)).detach()\n",
        "knn = KNeighborsClassifier(n_jobs=-1)\n",
        "knn.fit(reduced_features_train.cpu(), y_train)\n",
        "print(accuracy_score(y_test, knn.predict(reduced_features_test.cpu())))\n",
        "### END Solution"
      ],
      "execution_count": 14,
      "outputs": [
        {
          "output_type": "stream",
          "text": [
            "0.9429\n"
          ],
          "name": "stdout"
        }
      ]
    },
    {
      "cell_type": "markdown",
      "metadata": {
        "id": "CkeCzLyXySOG",
        "colab_type": "text"
      },
      "source": [
        "***Don't lower the score for not comparing the current result with the one from the Part 1. Tasks from different parts should be independent! I didn't do the related task from Part 1***"
      ]
    },
    {
      "cell_type": "markdown",
      "metadata": {
        "id": "6YEGf_ofnIml",
        "colab_type": "text"
      },
      "source": [
        "### BONUS: Sampling from latent space. (3 points)\n",
        "\n",
        "Imagine, that you want to generate images, using you AE. To do that, you need to sample from the latent space and then decode the result. Of course, we do not know the exact distribution of the latent space. Therefore, let us assume that latent space distribution is Gaussian:\n",
        "\n",
        "* Encode all the training images into the latent space\n",
        "* Calculate mean and covariance matrix ($\\mu$ and $\\Sigma$)\n",
        "* Sample  $z$ from the $\\mathcal{N}(\\mu, \\Sigma)$\n",
        "* Decode $z$ from the previous step to obtain an image\n",
        "\n",
        "Using the procedure described above, sample 10 images and plot them (they should be similar to those of the initial dataset)"
      ]
    },
    {
      "cell_type": "code",
      "metadata": {
        "id": "IjNb3ZpqnImn",
        "colab_type": "code",
        "colab": {}
      },
      "source": [
        "### BEGIN Solution\n",
        "# >>> your solution here <<<\n",
        "mu = reduced_features_train.mean(0)\n",
        "std = reduced_features_train.std(0)\n",
        "\n",
        "#cov_mat = torch.Tensor(np.cov(reduced_features_train.cpu())).to(device)\n",
        "#dist = MultivariateNormal(mu, cov)\n",
        "# <<< this is a wrong way, since it leads to RAM-explosion\n",
        "\n",
        "mgauss = MultivariateNormal(mu, torch.diag(std))\n",
        "codes = mgauss.sample([10])\n",
        "images = net.decoder(codes).detach().cpu()\n",
        "### END Solution"
      ],
      "execution_count": 0,
      "outputs": []
    },
    {
      "cell_type": "code",
      "metadata": {
        "id": "YWHmz3-r19fZ",
        "colab_type": "code",
        "colab": {
          "base_uri": "https://localhost:8080/",
          "height": 165
        },
        "outputId": "8ebeb55e-3541-4a41-ae59-fb506122ce28"
      },
      "source": [
        "fig, ax = plt.subplots(ncols=10, nrows=1, figsize=(20, 5))\n",
        "for i in range(10):\n",
        "    ax[i].imshow(images[i])"
      ],
      "execution_count": 29,
      "outputs": [
        {
          "output_type": "display_data",
          "data": {
            "image/png": "[encoded data removed]",
            "text/plain": [
              "<Figure size 1440x360 with 10 Axes>"
            ]
          },
          "metadata": {
            "tags": []
          }
        }
      ]
    },
    {
      "cell_type": "markdown",
      "metadata": {
        "id": "WrYZBIUbnImq",
        "colab_type": "text"
      },
      "source": [
        "**Yeah, so you can get more than `100%` for the homework, good luck!**"
      ]
    }
  ]
}